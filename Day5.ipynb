{
  "nbformat": 4,
  "nbformat_minor": 0,
  "metadata": {
    "colab": {
      "provenance": [],
      "include_colab_link": true
    },
    "kernelspec": {
      "name": "python3",
      "display_name": "Python 3"
    },
    "language_info": {
      "name": "python"
    }
  },
  "cells": [
    {
      "cell_type": "markdown",
      "metadata": {
        "id": "view-in-github",
        "colab_type": "text"
      },
      "source": [
        "<a href=\"https://colab.research.google.com/github/fortune-max/M4-python-refresher-ml/blob/main/Day5.ipynb\" target=\"_parent\"><img src=\"https://colab.research.google.com/assets/colab-badge.svg\" alt=\"Open In Colab\"/></a>"
      ]
    },
    {
      "cell_type": "markdown",
      "source": [],
      "metadata": {
        "id": "jzJK_IY4KvIr"
      }
    },
    {
      "cell_type": "markdown",
      "source": [
        "## Working with numpy\n",
        "https://education.yandex.ru/handbook/python/article/moduli-math-i-numpy"
      ],
      "metadata": {
        "id": "6r2BR3e0F9am"
      }
    },
    {
      "cell_type": "markdown",
      "source": [
        "### Array Creation:\n",
        "\n",
        "- np.array(): Create an array.\n",
        "- np.zeros(), np.ones(), np.empty(): Create arrays filled with zeros, ones, or uninitialized values.\n",
        "- np.arange(), np.linspace(): Create arrays with regularly spaced values.\n",
        "Array Operations:\n",
        "\n",
        "### Mathematical operations:\n",
        "- +, -, *, /, ** for element-wise addition, subtraction, multiplication, division, and exponentiation.\n",
        "- np.dot(), np.matmul(): Matrix multiplication.\n",
        "- np.sum(), np.mean(), np.median(), np.std(): Basic statistical operations.\n",
        "- np.min(), np.max(): Minimum and maximum values in an array.\n",
        "- np.unique(): Find unique elements in an array.\n",
        "\n",
        "### Array Manipulation:\n",
        "- np.reshape(): Reshape an array.\n",
        "- np.concatenate(), np.vstack(), np.hstack(): Join arrays.\n",
        "- np.split(): Split an array into multiple sub-arrays.\n",
        "- np.transpose(), array.T: Transpose an array.\n",
        "\n",
        "### Indexing and Slicing:\n",
        "Indexing and slicing for accessing elements or subarrays.\n",
        "Boolean indexing: Select elements based on conditions.\n",
        "\n",
        "### Random:\n",
        "- np.random.rand(), np.random.randn(): Generate random numbers.\n",
        "- np.random.randint(): Generate random integers.\n",
        "- np.random.shuffle(), np.random.choice(): Shuffle and make random selections.\n",
        "\n",
        "### Linear Algebra:\n",
        "- np.linalg.inv(): Compute the inverse of a matrix.\n",
        "- np.linalg.det(): Compute the determinant of a matrix.\n",
        "- np.linalg.eig(): Compute the eigenvalues and eigenvectors of a matrix.\n",
        "- np.linalg.solve(): Solve a system of linear equations.\n",
        "\n",
        "### Statistical Functions:\n",
        "- np.percentile(): Calculate the q-th percentile of the data.\n",
        "- np.corrcoef(): Compute the correlation matrix.\n",
        "- np.cov(): Compute the covariance matrix.\n",
        "\n",
        "### Trigonometric and Other Functions:\n",
        "- np.sin(), np.cos(), np.tan(): Trigonometric functions.\n",
        "- np.exp(), np.log(), np.sqrt(): Exponential, logarithmic, and square root functions.\n",
        "\n",
        "### Aggregation Functions:\n",
        "- np.sum(), np.prod(): Compute the sum and product of array elements.\n",
        "- np.cumsum(), np.cumprod(): Compute the cumulative sum and product.\n"
      ],
      "metadata": {
        "id": "WjLCOdO8G6Y5"
      }
    },
    {
      "cell_type": "markdown",
      "source": [
        "## Exersices"
      ],
      "metadata": {
        "id": "umFijP4FHuW-"
      }
    },
    {
      "cell_type": "code",
      "source": [
        "import numpy as np"
      ],
      "metadata": {
        "id": "kqrfSsUKIalM"
      },
      "execution_count": null,
      "outputs": []
    },
    {
      "cell_type": "code",
      "source": [
        "arr_1d = np.array([1, 2, 3, 4, 5])\n",
        "print(arr_1d)\n"
      ],
      "metadata": {
        "colab": {
          "base_uri": "https://localhost:8080/"
        },
        "id": "up1Cz6k9LDhT",
        "outputId": "d091fdbd-5ee2-48cf-c1ef-52f2819ad3f2"
      },
      "execution_count": null,
      "outputs": [
        {
          "output_type": "stream",
          "name": "stdout",
          "text": [
            "[1 2 3 4 5]\n"
          ]
        }
      ]
    },
    {
      "cell_type": "code",
      "source": [
        "import numpy as np\n",
        "\n",
        "a = np.zeros((4, 3), dtype=\"uint8\")\n",
        "print(a)\n",
        "print()\n",
        "a = a.reshape((-1, -1, -1))\n",
        "a"
      ],
      "metadata": {
        "colab": {
          "base_uri": "https://localhost:8080/",
          "height": 314
        },
        "id": "5n86ZGgEfsZB",
        "outputId": "30f9843d-f74a-4dce-8b3b-fd2d14963bde"
      },
      "execution_count": null,
      "outputs": [
        {
          "output_type": "stream",
          "name": "stdout",
          "text": [
            "[[0 0 0]\n",
            " [0 0 0]\n",
            " [0 0 0]\n",
            " [0 0 0]]\n",
            "\n"
          ]
        },
        {
          "output_type": "error",
          "ename": "ValueError",
          "evalue": "ignored",
          "traceback": [
            "\u001b[0;31m---------------------------------------------------------------------------\u001b[0m",
            "\u001b[0;31mValueError\u001b[0m                                Traceback (most recent call last)",
            "\u001b[0;32m<ipython-input-4-048fb5c426fd>\u001b[0m in \u001b[0;36m<cell line: 6>\u001b[0;34m()\u001b[0m\n\u001b[1;32m      4\u001b[0m \u001b[0mprint\u001b[0m\u001b[0;34m(\u001b[0m\u001b[0ma\u001b[0m\u001b[0;34m)\u001b[0m\u001b[0;34m\u001b[0m\u001b[0;34m\u001b[0m\u001b[0m\n\u001b[1;32m      5\u001b[0m \u001b[0mprint\u001b[0m\u001b[0;34m(\u001b[0m\u001b[0;34m)\u001b[0m\u001b[0;34m\u001b[0m\u001b[0;34m\u001b[0m\u001b[0m\n\u001b[0;32m----> 6\u001b[0;31m \u001b[0ma\u001b[0m \u001b[0;34m=\u001b[0m \u001b[0ma\u001b[0m\u001b[0;34m.\u001b[0m\u001b[0mreshape\u001b[0m\u001b[0;34m(\u001b[0m\u001b[0;34m(\u001b[0m\u001b[0;34m-\u001b[0m\u001b[0;36m1\u001b[0m\u001b[0;34m,\u001b[0m \u001b[0;34m-\u001b[0m\u001b[0;36m1\u001b[0m\u001b[0;34m,\u001b[0m \u001b[0;34m-\u001b[0m\u001b[0;36m1\u001b[0m\u001b[0;34m)\u001b[0m\u001b[0;34m)\u001b[0m\u001b[0;34m\u001b[0m\u001b[0;34m\u001b[0m\u001b[0m\n\u001b[0m\u001b[1;32m      7\u001b[0m \u001b[0ma\u001b[0m\u001b[0;34m\u001b[0m\u001b[0;34m\u001b[0m\u001b[0m\n",
            "\u001b[0;31mValueError\u001b[0m: can only specify one unknown dimension"
          ]
        }
      ]
    },
    {
      "cell_type": "code",
      "source": [
        "# Creating a 2D array\n",
        "arr_2d = np.array([[1, 2, 3], [4, 5, 6]])\n",
        "print(arr_2d.shape)\n",
        "a = arr_2d.reshape((2, 1, -1))\n",
        "a\n",
        "\n",
        "\n",
        "import numpy as np\n",
        "\n",
        "a = np.array([9, 8, 7])\n",
        "b = np.array([1, 2, 3])\n",
        "print(a + b)\n",
        "print(a - b)\n",
        "print(a * b)\n",
        "print(a / b)"
      ],
      "metadata": {
        "colab": {
          "base_uri": "https://localhost:8080/"
        },
        "id": "OZCMpUIfLCSx",
        "outputId": "8b1c5bf2-0c6e-4152-9a59-2dec85a79729"
      },
      "execution_count": null,
      "outputs": [
        {
          "output_type": "stream",
          "name": "stdout",
          "text": [
            "(2, 3)\n"
          ]
        },
        {
          "output_type": "execute_result",
          "data": {
            "text/plain": [
              "array([[[1, 2, 3]],\n",
              "\n",
              "       [[4, 5, 6]]])"
            ]
          },
          "metadata": {},
          "execution_count": 11
        }
      ]
    },
    {
      "cell_type": "code",
      "source": [
        "import numpy as np\n",
        "\n",
        "a = np.array([9, 8, 7])\n",
        "b = np.array([1, 2, 3])\n",
        "print(a + b)\n",
        "print(a - b)\n",
        "print(a * b)\n",
        "print(a / b)"
      ],
      "metadata": {
        "colab": {
          "base_uri": "https://localhost:8080/",
          "height": 245
        },
        "id": "F1esJwjGhMOA",
        "outputId": "06396b0d-bb59-4c28-8e78-43b113cbc239"
      },
      "execution_count": null,
      "outputs": [
        {
          "output_type": "error",
          "ename": "ValueError",
          "evalue": "ignored",
          "traceback": [
            "\u001b[0;31m---------------------------------------------------------------------------\u001b[0m",
            "\u001b[0;31mValueError\u001b[0m                                Traceback (most recent call last)",
            "\u001b[0;32m<ipython-input-12-e43f65627710>\u001b[0m in \u001b[0;36m<cell line: 5>\u001b[0;34m()\u001b[0m\n\u001b[1;32m      3\u001b[0m \u001b[0ma\u001b[0m \u001b[0;34m=\u001b[0m \u001b[0mnp\u001b[0m\u001b[0;34m.\u001b[0m\u001b[0marray\u001b[0m\u001b[0;34m(\u001b[0m\u001b[0;34m[\u001b[0m\u001b[0;36m9\u001b[0m\u001b[0;34m,\u001b[0m \u001b[0;36m8\u001b[0m\u001b[0;34m,\u001b[0m \u001b[0;36m7\u001b[0m\u001b[0;34m,\u001b[0m \u001b[0;36m5\u001b[0m\u001b[0;34m]\u001b[0m\u001b[0;34m)\u001b[0m\u001b[0;34m\u001b[0m\u001b[0;34m\u001b[0m\u001b[0m\n\u001b[1;32m      4\u001b[0m \u001b[0mb\u001b[0m \u001b[0;34m=\u001b[0m \u001b[0mnp\u001b[0m\u001b[0;34m.\u001b[0m\u001b[0marray\u001b[0m\u001b[0;34m(\u001b[0m\u001b[0;34m[\u001b[0m\u001b[0;36m1\u001b[0m\u001b[0;34m,\u001b[0m \u001b[0;36m2\u001b[0m\u001b[0;34m,\u001b[0m \u001b[0;36m3\u001b[0m\u001b[0;34m]\u001b[0m\u001b[0;34m)\u001b[0m\u001b[0;34m\u001b[0m\u001b[0;34m\u001b[0m\u001b[0m\n\u001b[0;32m----> 5\u001b[0;31m \u001b[0mprint\u001b[0m\u001b[0;34m(\u001b[0m\u001b[0ma\u001b[0m \u001b[0;34m+\u001b[0m \u001b[0mb\u001b[0m\u001b[0;34m)\u001b[0m\u001b[0;34m\u001b[0m\u001b[0;34m\u001b[0m\u001b[0m\n\u001b[0m\u001b[1;32m      6\u001b[0m \u001b[0mprint\u001b[0m\u001b[0;34m(\u001b[0m\u001b[0ma\u001b[0m \u001b[0;34m-\u001b[0m \u001b[0mb\u001b[0m\u001b[0;34m)\u001b[0m\u001b[0;34m\u001b[0m\u001b[0;34m\u001b[0m\u001b[0m\n\u001b[1;32m      7\u001b[0m \u001b[0mprint\u001b[0m\u001b[0;34m(\u001b[0m\u001b[0ma\u001b[0m \u001b[0;34m*\u001b[0m \u001b[0mb\u001b[0m\u001b[0;34m)\u001b[0m\u001b[0;34m\u001b[0m\u001b[0;34m\u001b[0m\u001b[0m\n",
            "\u001b[0;31mValueError\u001b[0m: operands could not be broadcast together with shapes (4,) (3,) "
          ]
        }
      ]
    },
    {
      "cell_type": "code",
      "source": [
        "# Array shape\n",
        "shape = arr_2d.shape\n",
        "\n",
        "# Array dimensions\n",
        "dimensions = arr_2d.ndim\n",
        "\n",
        "# Array data type\n",
        "dtype = arr_2d.dtype\n",
        "\n",
        "# Array size\n",
        "size = arr_2d.size\n",
        "\n",
        "# Array reshape\n",
        "reshaped_arr = arr_1d.reshape(5, 1)\n",
        "\n",
        "# Slicing a 1D array\n",
        "sliced_arr_1d = arr_1d[1:4]\n",
        "\n",
        "# Slicing a 2D array\n",
        "sliced_arr_2d = arr_2d[0:2, 1:3]\n",
        "\n",
        "# Array indexing\n",
        "element = arr_2d[1, 2]\n",
        "\n",
        "# Array operations (addition)\n",
        "arr_add = arr_1d + 5\n",
        "\n",
        "# Array operations (multiplication)\n",
        "arr_mult = arr_1d * 2\n",
        "\n",
        "# Element-wise operations\n",
        "arr_squared = np.square(arr_1d)\n",
        "\n",
        "# Array concatenation\n",
        "arr_concat = np.concatenate((arr_1d, arr_add))\n",
        "\n",
        "# Array stacking\n",
        "arr_stack = np.vstack((arr_1d, arr_add))\n",
        "\n",
        "#  Array transposition\n",
        "arr_transposed = arr_2d.T\n",
        "\n",
        "#  Random number generation\n",
        "rand_arr = np.random.rand(3, 3)\n",
        "\n",
        "#  Finding unique elements and counts\n",
        "unique_elements, counts = np.unique(arr_1d, return_counts=True)\n",
        "\n",
        "# Reshaping and flattening\n",
        "reshaped_flattened = arr_2d.reshape(-1)\n",
        "\n",
        "#  Matrix multiplication\n",
        "matrix_mult = np.dot(arr_2d, arr_transposed)\n",
        "\n",
        "# Element-wise comparison\n",
        "arr_comparison = (arr_1d > 3)\n",
        "\n",
        "# Extracting elements based on a condition\n",
        "arr_condition = arr_1d[arr_1d > 2]\n",
        "\n",
        "# Sorting an array\n",
        "sorted_arr = np.sort(arr_1d)\n",
        "\n",
        "# Finding maximum and minimum\n",
        "max_val = np.max(arr_1d)\n",
        "min_val = np.min(arr_1d)\n",
        "\n",
        "# Calculating mean and standard deviation\n",
        "mean_val = np.mean(arr_1d)\n",
        "std_dev = np.std(arr_1d)\n",
        "\n",
        "# Creating an identity matrix\n",
        "identity_matrix = np.eye(3)\n",
        "\n",
        "# Solving a system of linear equations\n",
        "coefficients = np.array([[2, 1], [1, 1]])\n",
        "constants = np.array([8, 5])\n",
        "solution = np.linalg.solve(coefficients, constants)\n"
      ],
      "metadata": {
        "id": "5NEIiNF-LKBO"
      },
      "execution_count": null,
      "outputs": []
    },
    {
      "cell_type": "markdown",
      "source": [
        "## Exercises:\n"
      ],
      "metadata": {
        "id": "_xoETfO-Mdys"
      }
    },
    {
      "cell_type": "markdown",
      "source": [
        "### 1D Arrays:\n",
        "Create a NumPy array with values from 1 to 10.\n",
        "\n"
      ],
      "metadata": {
        "id": "QWiFyqLLM8Bo"
      }
    },
    {
      "cell_type": "markdown",
      "source": [
        "Calculate the square of each element in the array.\n"
      ],
      "metadata": {
        "id": "oWQL2JzCMqcw"
      }
    },
    {
      "cell_type": "markdown",
      "source": [
        "Find the sum, mean, and standard deviation of the array.\n"
      ],
      "metadata": {
        "id": "PIK6RFI5Msa3"
      }
    },
    {
      "cell_type": "markdown",
      "source": [
        "\n",
        "### 2D Arrays:\n",
        "Create a 3x3 matrix with random values between 0 and 1.\n"
      ],
      "metadata": {
        "id": "ucMN_eQVMwdY"
      }
    },
    {
      "cell_type": "markdown",
      "source": [
        "Reshape the matrix from exercise 4 into a 1D array.\n"
      ],
      "metadata": {
        "id": "n5AoAPorMy50"
      }
    },
    {
      "cell_type": "markdown",
      "source": [
        "Calculate the row-wise and column-wise sums of the matrix.\n"
      ],
      "metadata": {
        "id": "OtUamSd0M0cp"
      }
    },
    {
      "cell_type": "markdown",
      "source": [
        "\n",
        "#### Advanced 2D Operations:\n",
        "Create a 3x3 matrix with values 1, 2, 3 on the diagonal and zeros elsewhere.\n"
      ],
      "metadata": {
        "id": "yWDw1-rvM_IK"
      }
    },
    {
      "cell_type": "markdown",
      "source": [
        "Replace all zeros in the matrix from exercise 7 with the corresponding row number.\n"
      ],
      "metadata": {
        "id": "9zDtKn_4NAng"
      }
    },
    {
      "cell_type": "markdown",
      "source": [
        "### 3D Arrays:\n"
      ],
      "metadata": {
        "id": "vvIVNpMbNCQV"
      }
    },
    {
      "cell_type": "markdown",
      "source": [
        "Create a 3x3x3 array with random integers between 1 and 100.\n"
      ],
      "metadata": {
        "id": "EfreymU7NF18"
      }
    },
    {
      "cell_type": "markdown",
      "source": [
        "Sum along the third axis of the array from exercise 9.\n"
      ],
      "metadata": {
        "id": "IXK_XK1HNHI0"
      }
    },
    {
      "cell_type": "markdown",
      "source": [
        "\n",
        "### Slicing and Indexing:\n"
      ],
      "metadata": {
        "id": "NOOKtEnMNJVd"
      }
    },
    {
      "cell_type": "markdown",
      "source": [
        "Create a 1D array with values from 0 to 9.\n"
      ],
      "metadata": {
        "id": "WPCnBw6GNPKA"
      }
    },
    {
      "cell_type": "markdown",
      "source": [
        "Select all odd-indexed elements from the array from exercise 11.\n"
      ],
      "metadata": {
        "id": "yIf4_uabNQSF"
      }
    },
    {
      "cell_type": "markdown",
      "source": [
        "### Confusing Methods:\n"
      ],
      "metadata": {
        "id": "91WX4mCwNRYe"
      }
    },
    {
      "cell_type": "markdown",
      "source": [
        "Create a 2D array with values from 1 to 9 and transpose it.\n"
      ],
      "metadata": {
        "id": "iBLBQHk1NUVR"
      }
    },
    {
      "cell_type": "markdown",
      "source": [
        "Use np.concatenate() to join two 1D arrays.\n"
      ],
      "metadata": {
        "id": "HB11IVkcNYov"
      }
    },
    {
      "cell_type": "markdown",
      "source": [
        "### Advanced Indexing:\n"
      ],
      "metadata": {
        "id": "VmXPZiJINZ2D"
      }
    },
    {
      "cell_type": "markdown",
      "source": [
        "Create a 2D array and set all elements in the first row to zero.\n"
      ],
      "metadata": {
        "id": "67OpeKFDNblL"
      }
    },
    {
      "cell_type": "markdown",
      "source": [
        "Use boolean indexing to replace all negative values in a random array with zero.\n"
      ],
      "metadata": {
        "id": "jT6qborGNcul"
      }
    },
    {
      "cell_type": "markdown",
      "source": [
        "### Statistical Operations:\n"
      ],
      "metadata": {
        "id": "OObXrfTVNeGw"
      }
    },
    {
      "cell_type": "markdown",
      "source": [
        "Create a random 1D array and find the index of its maximum value.\n",
        "Compute the correlation matrix for a 3x3 matrix of random values.\n"
      ],
      "metadata": {
        "id": "zWoZMytYNgaa"
      }
    },
    {
      "cell_type": "code",
      "source": [],
      "metadata": {
        "id": "jmFZHTXZNioj"
      },
      "execution_count": null,
      "outputs": []
    },
    {
      "cell_type": "markdown",
      "source": [
        "*"
      ],
      "metadata": {
        "id": "ZZdxtxoaIYRh"
      }
    },
    {
      "cell_type": "markdown",
      "source": [
        "1. Write a NumPy program to find the dot product of two arrays of different dimensions.\n"
      ],
      "metadata": {
        "id": "XT2-9OXAGCV1"
      }
    },
    {
      "cell_type": "markdown",
      "source": [
        "\n",
        "2. Write a NumPy program to create a 3x3 identity matrix and stack it vertically and horizontally.\n"
      ],
      "metadata": {
        "id": "CukCQnSWHnNc"
      }
    },
    {
      "cell_type": "markdown",
      "source": [
        "\n",
        "3. Write a NumPy program to create a 4x4 array with random values and find the sum of each row.\n"
      ],
      "metadata": {
        "id": "wRmJcmG0HrI3"
      }
    },
    {
      "cell_type": "markdown",
      "source": [
        "4. Write a NumPy program to create a 3x3 array with random values and subtract the mean of each row from each element.\n"
      ],
      "metadata": {
        "id": "3MqMO-xTH1u2"
      }
    },
    {
      "cell_type": "markdown",
      "source": [
        "\n",
        "5. Write a NumPy program to create a 3x3 array with random values and subtract the mean of each column from each element."
      ],
      "metadata": {
        "id": "06FoMvIjIH3C"
      }
    },
    {
      "cell_type": "markdown",
      "source": [
        "\n",
        "6. Write a NumPy program to create a 5x5 array with random values and normalize it row-wise.\n"
      ],
      "metadata": {
        "id": "DWR3cij5IG0J"
      }
    },
    {
      "cell_type": "markdown",
      "source": [
        "\n",
        "7. Write a NumPy program to create a 5x5 array with random values and normalize it column-wise."
      ],
      "metadata": {
        "id": "rwBi3hKSIFq1"
      }
    },
    {
      "cell_type": "markdown",
      "source": [
        "\n",
        "8. Write a NumPy program to create a 3x3x3 array with random values and find the sum along the last axis.\n"
      ],
      "metadata": {
        "id": "tpWkOImFIEKa"
      }
    },
    {
      "cell_type": "markdown",
      "source": [
        "\n",
        "9. Write a NumPy program to create a 5x5 array with random values and sort each row.\n"
      ],
      "metadata": {
        "id": "xp_KvZ3aIDC5"
      }
    },
    {
      "cell_type": "markdown",
      "source": [
        "\n",
        "10. Write a NumPy program to create a 5x5 array with random values and sort each column."
      ],
      "metadata": {
        "id": "1c3uewP-IB-l"
      }
    },
    {
      "cell_type": "markdown",
      "source": [
        "\n",
        "11. Write a NumPy program to create a 5x5 array with random values and find the second-largest value in each row.\n"
      ],
      "metadata": {
        "id": "BgjbwdPSIAm6"
      }
    },
    {
      "cell_type": "markdown",
      "source": [
        "\n",
        "12. Write a NumPy program to create a 5x5 array with random values and find the second-largest value in each column.\n"
      ],
      "metadata": {
        "id": "ET06En5qH-4n"
      }
    },
    {
      "cell_type": "markdown",
      "source": [
        "\n",
        "13. Write a NumPy program to create a 5x5 array with random values and replace the maximum value with 0.\n"
      ],
      "metadata": {
        "id": "qlz7CUIkH8Zl"
      }
    },
    {
      "cell_type": "markdown",
      "source": [
        "\n",
        "14. Write a NumPy program to create a 5x5 array with random values and replace the minimum value with 0.\n",
        "\n"
      ],
      "metadata": {
        "id": "K6U47uIpH62w"
      }
    },
    {
      "cell_type": "markdown",
      "source": [
        "\n",
        "15. Write a NumPy program to create a 5x5 array with random values and calculate the exponential of each element.\n",
        "\n",
        "\n"
      ],
      "metadata": {
        "id": "y5Jq5OzpH4HY"
      }
    },
    {
      "cell_type": "markdown",
      "source": [
        "## Additional info\n",
        "https://www.simplilearn.com/keras-vs-tensorflow-vs-pytorch-article"
      ],
      "metadata": {
        "id": "_RLRZe87GDZI"
      }
    },
    {
      "cell_type": "code",
      "source": [],
      "metadata": {
        "id": "D2hmY27EGTwo"
      },
      "execution_count": null,
      "outputs": []
    }
  ]
}