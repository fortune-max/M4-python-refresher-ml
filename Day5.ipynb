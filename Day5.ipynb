{
  "cells": [
    {
      "cell_type": "markdown",
      "metadata": {
        "colab_type": "text",
        "id": "view-in-github"
      },
      "source": [
        "<a href=\"https://colab.research.google.com/github/fortune-max/M4-python-refresher-ml/blob/main/Day5.ipynb\" target=\"_parent\"><img src=\"https://colab.research.google.com/assets/colab-badge.svg\" alt=\"Open In Colab\"/></a>"
      ]
    },
    {
      "cell_type": "markdown",
      "metadata": {
        "id": "jzJK_IY4KvIr"
      },
      "source": []
    },
    {
      "cell_type": "markdown",
      "metadata": {
        "id": "6r2BR3e0F9am"
      },
      "source": [
        "## Working with numpy\n",
        "https://education.yandex.ru/handbook/python/article/moduli-math-i-numpy"
      ]
    },
    {
      "cell_type": "markdown",
      "metadata": {
        "id": "WjLCOdO8G6Y5"
      },
      "source": [
        "### Array Creation:\n",
        "\n",
        "- np.array(): Create an array.\n",
        "- np.zeros(), np.ones(), np.empty(): Create arrays filled with zeros, ones, or uninitialized values.\n",
        "- np.arange(), np.linspace(): Create arrays with regularly spaced values.\n",
        "Array Operations:\n",
        "\n",
        "### Mathematical operations:\n",
        "- +, -, *, /, ** for element-wise addition, subtraction, multiplication, division, and exponentiation.\n",
        "- np.dot(), np.matmul(): Matrix multiplication.\n",
        "- np.sum(), np.mean(), np.median(), np.std(): Basic statistical operations.\n",
        "- np.min(), np.max(): Minimum and maximum values in an array.\n",
        "- np.unique(): Find unique elements in an array.\n",
        "\n",
        "### Array Manipulation:\n",
        "- np.reshape(): Reshape an array.\n",
        "- np.concatenate(), np.vstack(), np.hstack(): Join arrays.\n",
        "- np.split(): Split an array into multiple sub-arrays.\n",
        "- np.transpose(), array.T: Transpose an array.\n",
        "\n",
        "### Indexing and Slicing:\n",
        "Indexing and slicing for accessing elements or subarrays.\n",
        "Boolean indexing: Select elements based on conditions.\n",
        "\n",
        "### Random:\n",
        "- np.random.rand(), np.random.randn(): Generate random numbers.\n",
        "- np.random.randint(): Generate random integers.\n",
        "- np.random.shuffle(), np.random.choice(): Shuffle and make random selections.\n",
        "\n",
        "### Linear Algebra:\n",
        "- np.linalg.inv(): Compute the inverse of a matrix.\n",
        "- np.linalg.det(): Compute the determinant of a matrix.\n",
        "- np.linalg.eig(): Compute the eigenvalues and eigenvectors of a matrix.\n",
        "- np.linalg.solve(): Solve a system of linear equations.\n",
        "\n",
        "### Statistical Functions:\n",
        "- np.percentile(): Calculate the q-th percentile of the data.\n",
        "- np.corrcoef(): Compute the correlation matrix.\n",
        "- np.cov(): Compute the covariance matrix.\n",
        "\n",
        "### Trigonometric and Other Functions:\n",
        "- np.sin(), np.cos(), np.tan(): Trigonometric functions.\n",
        "- np.exp(), np.log(), np.sqrt(): Exponential, logarithmic, and square root functions.\n",
        "\n",
        "### Aggregation Functions:\n",
        "- np.sum(), np.prod(): Compute the sum and product of array elements.\n",
        "- np.cumsum(), np.cumprod(): Compute the cumulative sum and product.\n"
      ]
    },
    {
      "cell_type": "markdown",
      "metadata": {
        "id": "umFijP4FHuW-"
      },
      "source": [
        "## Exersices"
      ]
    },
    {
      "cell_type": "code",
      "execution_count": 1,
      "metadata": {
        "id": "kqrfSsUKIalM"
      },
      "outputs": [],
      "source": [
        "import numpy as np"
      ]
    },
    {
      "cell_type": "code",
      "execution_count": 2,
      "metadata": {
        "colab": {
          "base_uri": "https://localhost:8080/"
        },
        "id": "up1Cz6k9LDhT",
        "outputId": "d091fdbd-5ee2-48cf-c1ef-52f2819ad3f2"
      },
      "outputs": [
        {
          "name": "stdout",
          "output_type": "stream",
          "text": [
            "[1 2 3 4 5]\n"
          ]
        }
      ],
      "source": [
        "arr_1d = np.array([1, 2, 3, 4, 5])\n",
        "print(arr_1d)\n"
      ]
    },
    {
      "cell_type": "code",
      "execution_count": 3,
      "metadata": {
        "colab": {
          "base_uri": "https://localhost:8080/",
          "height": 314
        },
        "id": "5n86ZGgEfsZB",
        "outputId": "30f9843d-f74a-4dce-8b3b-fd2d14963bde"
      },
      "outputs": [
        {
          "name": "stdout",
          "output_type": "stream",
          "text": [
            "[[0 0 0]\n",
            " [0 0 0]\n",
            " [0 0 0]\n",
            " [0 0 0]]\n",
            "\n"
          ]
        },
        {
          "data": {
            "text/plain": [
              "array([[[0, 0, 0],\n",
              "        [0, 0, 0]],\n",
              "\n",
              "       [[0, 0, 0],\n",
              "        [0, 0, 0]]], dtype=uint8)"
            ]
          },
          "execution_count": 3,
          "metadata": {},
          "output_type": "execute_result"
        }
      ],
      "source": [
        "a = np.zeros((4, 3), dtype=\"uint8\")\n",
        "print(a)\n",
        "print()\n",
        "a = a.reshape((2, 2, -1))\n",
        "a"
      ]
    },
    {
      "cell_type": "code",
      "execution_count": 7,
      "metadata": {
        "colab": {
          "base_uri": "https://localhost:8080/"
        },
        "id": "OZCMpUIfLCSx",
        "outputId": "8b1c5bf2-0c6e-4152-9a59-2dec85a79729"
      },
      "outputs": [
        {
          "name": "stdout",
          "output_type": "stream",
          "text": [
            "(2, 3)\n"
          ]
        },
        {
          "data": {
            "text/plain": [
              "array([[[1, 2, 3]],\n",
              "\n",
              "       [[4, 5, 6]]])"
            ]
          },
          "execution_count": 7,
          "metadata": {},
          "output_type": "execute_result"
        }
      ],
      "source": [
        "# Creating a 2D array\n",
        "arr_2d = np.array([[1, 2, 3], [4, 5, 6]])\n",
        "print(arr_2d.shape)\n",
        "a = arr_2d.reshape((2, 1, -1))\n",
        "a"
      ]
    },
    {
      "cell_type": "code",
      "execution_count": 6,
      "metadata": {
        "colab": {
          "base_uri": "https://localhost:8080/",
          "height": 245
        },
        "id": "F1esJwjGhMOA",
        "outputId": "06396b0d-bb59-4c28-8e78-43b113cbc239"
      },
      "outputs": [
        {
          "name": "stdout",
          "output_type": "stream",
          "text": [
            "[10 10 10]\n",
            "[8 6 4]\n",
            "[ 9 16 21]\n",
            "[9.         4.         2.33333333]\n"
          ]
        }
      ],
      "source": [
        "a = np.array([9, 8, 7])\n",
        "b = np.array([1, 2, 3])\n",
        "print(a + b)\n",
        "print(a - b)\n",
        "print(a * b)\n",
        "print(a / b)"
      ]
    },
    {
      "cell_type": "code",
      "execution_count": null,
      "metadata": {
        "id": "5NEIiNF-LKBO"
      },
      "outputs": [],
      "source": [
        "# Array shape\n",
        "shape = arr_2d.shape\n",
        "\n",
        "# Array dimensions\n",
        "dimensions = arr_2d.ndim\n",
        "\n",
        "# Array data type\n",
        "dtype = arr_2d.dtype\n",
        "\n",
        "# Array size\n",
        "size = arr_2d.size\n",
        "\n",
        "# Array reshape\n",
        "reshaped_arr = arr_1d.reshape(5, 1)\n",
        "\n",
        "# Slicing a 1D array\n",
        "sliced_arr_1d = arr_1d[1:4]\n",
        "\n",
        "# Slicing a 2D array\n",
        "sliced_arr_2d = arr_2d[0:2, 1:3]\n",
        "\n",
        "# Array indexing\n",
        "element = arr_2d[1, 2]\n",
        "\n",
        "# Array operations (addition)\n",
        "arr_add = arr_1d + 5\n",
        "\n",
        "# Array operations (multiplication)\n",
        "arr_mult = arr_1d * 2\n",
        "\n",
        "# Element-wise operations\n",
        "arr_squared = np.square(arr_1d)\n",
        "\n",
        "# Array concatenation\n",
        "arr_concat = np.concatenate((arr_1d, arr_add))\n",
        "\n",
        "# Array stacking\n",
        "arr_stack = np.vstack((arr_1d, arr_add))\n",
        "\n",
        "#  Array transposition\n",
        "arr_transposed = arr_2d.T\n",
        "\n",
        "#  Random number generation\n",
        "rand_arr = np.random.rand(3, 3)\n",
        "\n",
        "#  Finding unique elements and counts\n",
        "unique_elements, counts = np.unique(arr_1d, return_counts=True)\n",
        "\n",
        "# Reshaping and flattening\n",
        "reshaped_flattened = arr_2d.reshape(-1)\n",
        "\n",
        "#  Matrix multiplication\n",
        "matrix_mult = np.dot(arr_2d, arr_transposed)\n",
        "\n",
        "# Element-wise comparison\n",
        "arr_comparison = (arr_1d > 3)\n",
        "\n",
        "# Extracting elements based on a condition\n",
        "arr_condition = arr_1d[arr_1d > 2]\n",
        "\n",
        "# Sorting an array\n",
        "sorted_arr = np.sort(arr_1d)\n",
        "\n",
        "# Finding maximum and minimum\n",
        "max_val = np.max(arr_1d)\n",
        "min_val = np.min(arr_1d)\n",
        "\n",
        "# Calculating mean and standard deviation\n",
        "mean_val = np.mean(arr_1d)\n",
        "std_dev = np.std(arr_1d)\n",
        "\n",
        "# Creating an identity matrix\n",
        "identity_matrix = np.eye(3)\n",
        "\n",
        "# Solving a system of linear equations\n",
        "coefficients = np.array([[2, 1], [1, 1]])\n",
        "constants = np.array([8, 5])\n",
        "solution = np.linalg.solve(coefficients, constants)\n"
      ]
    },
    {
      "cell_type": "markdown",
      "metadata": {
        "id": "_xoETfO-Mdys"
      },
      "source": [
        "## Exercises:\n"
      ]
    },
    {
      "cell_type": "markdown",
      "metadata": {
        "id": "QWiFyqLLM8Bo"
      },
      "source": [
        "### 1D Arrays:\n",
        "Create a NumPy array with values from 1 to 10.\n",
        "\n"
      ]
    },
    {
      "cell_type": "code",
      "execution_count": 8,
      "metadata": {},
      "outputs": [
        {
          "data": {
            "text/plain": [
              "array([ 1.,  2.,  3.,  4.,  5.,  6.,  7.,  8.,  9., 10.])"
            ]
          },
          "execution_count": 8,
          "metadata": {},
          "output_type": "execute_result"
        }
      ],
      "source": [
        "vct = np.linspace(1, 10, 10)"
      ]
    },
    {
      "cell_type": "markdown",
      "metadata": {
        "id": "oWQL2JzCMqcw"
      },
      "source": [
        "Calculate the square of each element in the array.\n"
      ]
    },
    {
      "cell_type": "code",
      "execution_count": 13,
      "metadata": {},
      "outputs": [
        {
          "data": {
            "text/plain": [
              "array([  1.,   4.,   9.,  16.,  25.,  36.,  49.,  64.,  81., 100.])"
            ]
          },
          "execution_count": 13,
          "metadata": {},
          "output_type": "execute_result"
        }
      ],
      "source": [
        "vct = np.linspace(1, 10, 10)\n",
        "np.power(vct, 2)"
      ]
    },
    {
      "cell_type": "markdown",
      "metadata": {
        "id": "PIK6RFI5Msa3"
      },
      "source": [
        "Find the sum, mean, and standard deviation of the array.\n"
      ]
    },
    {
      "cell_type": "code",
      "execution_count": 18,
      "metadata": {},
      "outputs": [
        {
          "name": "stdout",
          "output_type": "stream",
          "text": [
            "mean = 5.5\n",
            "sum = 55.0\n",
            "std = 2.8722813232690143\n"
          ]
        }
      ],
      "source": [
        "print(f\"mean = {np.mean(vct)}\")\n",
        "print(f\"sum = {np.sum(vct)}\")\n",
        "print(f\"std = {np.std(vct)}\")"
      ]
    },
    {
      "cell_type": "markdown",
      "metadata": {
        "id": "ucMN_eQVMwdY"
      },
      "source": [
        "\n",
        "### 2D Arrays:\n",
        "Create a 3x3 matrix with random values between 0 and 1.\n"
      ]
    },
    {
      "cell_type": "code",
      "execution_count": 29,
      "metadata": {},
      "outputs": [
        {
          "name": "stdout",
          "output_type": "stream",
          "text": [
            "[[0.61209572 0.616934   0.94374808]\n",
            " [0.6818203  0.3595079  0.43703195]\n",
            " [0.6976312  0.06022547 0.66676672]]\n"
          ]
        }
      ],
      "source": [
        "arr_2d = np.random.rand(3, 3)\n",
        "print(arr_2d)"
      ]
    },
    {
      "cell_type": "markdown",
      "metadata": {
        "id": "n5AoAPorMy50"
      },
      "source": [
        "Reshape the matrix from exercise 4 into a 1D array.\n"
      ]
    },
    {
      "cell_type": "code",
      "execution_count": 39,
      "metadata": {},
      "outputs": [
        {
          "name": "stdout",
          "output_type": "stream",
          "text": [
            "[[0.61209572 0.616934   0.94374808]\n",
            " [0.6818203  0.3595079  0.43703195]\n",
            " [0.6976312  0.06022547 0.66676672]]\n",
            "rows only [[0.61209572]\n",
            " [0.616934  ]\n",
            " [0.94374808]\n",
            " [0.6818203 ]\n",
            " [0.3595079 ]\n",
            " [0.43703195]\n",
            " [0.6976312 ]\n",
            " [0.06022547]\n",
            " [0.66676672]]\n",
            "True\n",
            "cols only [[0.61209572 0.616934   0.94374808 0.6818203  0.3595079  0.43703195\n",
            "  0.6976312  0.06022547 0.66676672]]\n",
            "True\n"
          ]
        }
      ],
      "source": [
        "print(arr_2d)\n",
        "print('rows only', arr_2d.reshape((9, 1)))\n",
        "print(np.array_equal(arr_2d.reshape((-1, 1)), arr_2d.reshape((9, 1))))\n",
        "print('cols only', arr_2d.reshape((1, 9)))\n",
        "print(np.array_equal(arr_2d.reshape((1, -1)), arr_2d.reshape((1, 9))))\n"
      ]
    },
    {
      "cell_type": "markdown",
      "metadata": {
        "id": "OtUamSd0M0cp"
      },
      "source": [
        "Calculate the row-wise and column-wise sums of the matrix.\n"
      ]
    },
    {
      "cell_type": "code",
      "execution_count": 44,
      "metadata": {},
      "outputs": [
        {
          "name": "stdout",
          "output_type": "stream",
          "text": [
            "Column sum: [12 15 18]\n",
            "Row sum: [ 6 15 24]\n",
            "\n",
            "Column sum: [12 15 18]\n",
            "Row sum: [ 6 15 24]\n"
          ]
        }
      ],
      "source": [
        "arr = np.array([[1, 2, 3], [4, 5, 6], [7, 8, 9]])\n",
        "col_sum = np.sum(arr, axis=0)\n",
        "row_sum = np.sum(arr, axis=1)\n",
        "print('Column sum:', col_sum)\n",
        "print('Row sum:', row_sum)\n",
        "\n",
        "# OR\n",
        "print()\n",
        "print('Column sum:', arr.sum(axis=0))\n",
        "print('Row sum:', arr.sum(axis=1))"
      ]
    },
    {
      "cell_type": "markdown",
      "metadata": {
        "id": "yWDw1-rvM_IK"
      },
      "source": [
        "\n",
        "#### Advanced 2D Operations:\n",
        "Create a 3x3 matrix with values 1, 2, 3 on the diagonal and zeros elsewhere.\n"
      ]
    },
    {
      "cell_type": "code",
      "execution_count": 48,
      "metadata": {},
      "outputs": [
        {
          "name": "stdout",
          "output_type": "stream",
          "text": [
            "[[1. 0. 0.]\n",
            " [0. 2. 0.]\n",
            " [0. 0. 3.]]\n",
            "[[1 0 0]\n",
            " [0 2 0]\n",
            " [0 0 3]]\n"
          ]
        }
      ],
      "source": [
        "diag = np.eye(3) * [1, 2, 3]\n",
        "print(diag)\n",
        "diag_2 = np.diag([1, 2, 3])\n",
        "print(diag_2)"
      ]
    },
    {
      "cell_type": "markdown",
      "metadata": {
        "id": "9zDtKn_4NAng"
      },
      "source": [
        "Replace all zeros in the matrix from exercise 7 with the corresponding row number.\n"
      ]
    },
    {
      "cell_type": "code",
      "execution_count": 72,
      "metadata": {},
      "outputs": [
        {
          "name": "stdout",
          "output_type": "stream",
          "text": [
            "[[1 1 1]\n",
            " [2 2 2]\n",
            " [3 3 3]]\n",
            "[[0. 0. 0.]\n",
            " [1. 1. 1.]\n",
            " [2. 2. 2.]]\n",
            "[[1 1 1]\n",
            " [2 2 2]\n",
            " [3 3 3]]\n"
          ]
        }
      ],
      "source": [
        "diag_2_upd = diag_2.copy()\n",
        "for (row, col), val in np.ndenumerate(diag_2_upd):\n",
        "    if val == 0:\n",
        "        diag_2_upd[row][col] = row + 1\n",
        "print(diag_2_upd)\n",
        "\n",
        "# OR\n",
        "\n",
        "# np.arange(0, 3).reshape((3, 1)) + np.arange(1, 4).reshape((1, 3))\n",
        "diag_2_upd_2 = np.arange(0, 3).reshape(3, 1) * np.ones(3).reshape(1, 3)\n",
        "print(diag_2_upd_2)\n",
        "\n",
        "# OR\n",
        "\n",
        "diag_2_upd_3 = diag_2.copy()\n",
        "zero_rows, zero_cols = np.where(diag_2_upd_3 == 0)\n",
        "diag_2_upd_3[zero_rows, zero_cols] = zero_rows + 1\n",
        "print(diag_2_upd_3)"
      ]
    },
    {
      "cell_type": "markdown",
      "metadata": {
        "id": "vvIVNpMbNCQV"
      },
      "source": [
        "### 3D Arrays:\n"
      ]
    },
    {
      "cell_type": "markdown",
      "metadata": {
        "id": "EfreymU7NF18"
      },
      "source": [
        "Create a 3x3x3 array with random integers between 1 and 100.\n"
      ]
    },
    {
      "cell_type": "code",
      "execution_count": 68,
      "metadata": {},
      "outputs": [
        {
          "name": "stdout",
          "output_type": "stream",
          "text": [
            "[[[3 8 6]\n",
            "  [3 1 3]\n",
            "  [5 3 1]]\n",
            "\n",
            " [[5 7 7]\n",
            "  [9 3 7]\n",
            "  [1 4 4]]\n",
            "\n",
            " [[5 7 7]\n",
            "  [4 7 3]\n",
            "  [6 2 9]]]\n"
          ]
        }
      ],
      "source": [
        "# create a 3x3x3 array with random values between 1 and 10\n",
        "arr_3d = np.random.randint(1, 10, (3, 3, 3))\n",
        "print(arr_3d)"
      ]
    },
    {
      "cell_type": "markdown",
      "metadata": {
        "id": "IXK_XK1HNHI0"
      },
      "source": [
        "Sum along the third axis of the array from exercise 9.\n"
      ]
    },
    {
      "cell_type": "code",
      "execution_count": 69,
      "metadata": {},
      "outputs": [
        {
          "name": "stdout",
          "output_type": "stream",
          "text": [
            "[[17  7  9]\n",
            " [19 19  9]\n",
            " [19 14 17]]\n"
          ]
        }
      ],
      "source": [
        "sum_of_axis_3 = np.sum(arr_3d, axis=2)\n",
        "print(sum_of_axis_3)"
      ]
    },
    {
      "cell_type": "markdown",
      "metadata": {
        "id": "NOOKtEnMNJVd"
      },
      "source": [
        "\n",
        "### Slicing and Indexing:\n"
      ]
    },
    {
      "cell_type": "markdown",
      "metadata": {
        "id": "WPCnBw6GNPKA"
      },
      "source": [
        "Create a 1D array with values from 0 to 9.\n"
      ]
    },
    {
      "cell_type": "code",
      "execution_count": 73,
      "metadata": {},
      "outputs": [
        {
          "name": "stdout",
          "output_type": "stream",
          "text": [
            "[1. 2. 3. 4. 5. 6. 7. 8. 9.]\n"
          ]
        }
      ],
      "source": [
        "arr_1d = np.linspace(1, 9, 9)\n",
        "print(arr_1d)"
      ]
    },
    {
      "cell_type": "markdown",
      "metadata": {
        "id": "yIf4_uabNQSF"
      },
      "source": [
        "Select all odd-indexed elements from the array from exercise 11.\n"
      ]
    },
    {
      "cell_type": "code",
      "execution_count": 79,
      "metadata": {},
      "outputs": [
        {
          "name": "stdout",
          "output_type": "stream",
          "text": [
            "[1. 3. 5. 7. 9.]\n",
            "[1. 3. 5. 7. 9.]\n",
            "[1. 3. 5. 7. 9.]\n"
          ]
        }
      ],
      "source": [
        "# print all odd-indexed elements\n",
        "print(arr_1d[::2])\n",
        "# OR\n",
        "print(arr_1d[arr_1d % 2 == 1])\n",
        "# OR\n",
        "print(arr_1d[np.arange(0, 9, 2)])\n",
        "# OR\n",
        "print(arr_1d[np.where(arr_1d % 2)])"
      ]
    },
    {
      "cell_type": "markdown",
      "metadata": {
        "id": "91WX4mCwNRYe"
      },
      "source": [
        "### Confusing Methods:\n"
      ]
    },
    {
      "cell_type": "markdown",
      "metadata": {
        "id": "iBLBQHk1NUVR"
      },
      "source": [
        "Create a 2D array with values from 1 to 9 and transpose it.\n"
      ]
    },
    {
      "cell_type": "code",
      "execution_count": 84,
      "metadata": {},
      "outputs": [
        {
          "name": "stdout",
          "output_type": "stream",
          "text": [
            "[[0 1 2]\n",
            " [3 4 5]\n",
            " [6 7 8]]\n",
            "[[0 3 6]\n",
            " [1 4 7]\n",
            " [2 5 8]]\n"
          ]
        }
      ],
      "source": [
        "arr_2d = np.arange(9).reshape(3, 3)\n",
        "print(arr_2d)\n",
        "arr_2d_transpose = arr_2d.T\n",
        "print(arr_2d_transpose)"
      ]
    },
    {
      "cell_type": "markdown",
      "metadata": {
        "id": "HB11IVkcNYov"
      },
      "source": [
        "Use np.concatenate() to join two 1D arrays.\n"
      ]
    },
    {
      "cell_type": "code",
      "execution_count": 86,
      "metadata": {},
      "outputs": [
        {
          "name": "stdout",
          "output_type": "stream",
          "text": [
            "[[0 1 2 0 3 6]\n",
            " [3 4 5 1 4 7]\n",
            " [6 7 8 2 5 8]]\n"
          ]
        }
      ],
      "source": [
        "arr_cat = np.concatenate((arr_2d, arr_2d_transpose), axis=1)\n",
        "print(arr_cat)"
      ]
    },
    {
      "cell_type": "markdown",
      "metadata": {
        "id": "VmXPZiJINZ2D"
      },
      "source": [
        "### Advanced Indexing:\n"
      ]
    },
    {
      "cell_type": "markdown",
      "metadata": {
        "id": "67OpeKFDNblL"
      },
      "source": [
        "Create a 2D array and set all elements in the first row to zero.\n"
      ]
    },
    {
      "cell_type": "code",
      "execution_count": 90,
      "metadata": {},
      "outputs": [
        {
          "name": "stdout",
          "output_type": "stream",
          "text": [
            "[[0 1 2]\n",
            " [3 4 5]\n",
            " [6 7 8]]\n",
            "[[0 0 0]\n",
            " [3 4 5]\n",
            " [6 7 8]]\n"
          ]
        }
      ],
      "source": [
        "arr_2d_to_set = np.arange(9).reshape([3, 3]) # or reshape(3, 3)\n",
        "print(arr_2d_to_set)\n",
        "arr_2d_to_set[[0]] = 0\n",
        "print(arr_2d_to_set)"
      ]
    },
    {
      "cell_type": "markdown",
      "metadata": {
        "id": "jT6qborGNcul"
      },
      "source": [
        "Use boolean indexing to replace all negative values in a random array with zero.\n"
      ]
    },
    {
      "cell_type": "code",
      "execution_count": 105,
      "metadata": {},
      "outputs": [
        {
          "name": "stdout",
          "output_type": "stream",
          "text": [
            "[[ -1  -8  -4]\n",
            " [  5   5   9]\n",
            " [  6  -9 -10]]\n",
            "[[0 0 0]\n",
            " [5 5 9]\n",
            " [6 0 0]]\n"
          ]
        }
      ],
      "source": [
        "matrix_w_negs = np.random.randint(-10, 10, (3, 3))\n",
        "print(matrix_w_negs)\n",
        "matrix_w_negs[matrix_w_negs < 0] = 0\n",
        "print(matrix_w_negs)"
      ]
    },
    {
      "cell_type": "markdown",
      "metadata": {
        "id": "OObXrfTVNeGw"
      },
      "source": [
        "### Statistical Operations:\n"
      ]
    },
    {
      "cell_type": "markdown",
      "metadata": {
        "id": "zWoZMytYNgaa"
      },
      "source": [
        "Create a random 1D array and find the index of its maximum value.\n",
        "Compute the correlation matrix for a 3x3 matrix of random values.\n"
      ]
    },
    {
      "cell_type": "code",
      "execution_count": 99,
      "metadata": {
        "id": "jmFZHTXZNioj"
      },
      "outputs": [
        {
          "name": "stdout",
          "output_type": "stream",
          "text": [
            "[1 1 4 7 2 3]\n",
            "3\n"
          ]
        }
      ],
      "source": [
        "my_arr = np.random.randint(1, 10, 6)\n",
        "print(my_arr)\n",
        "max_idx = np.argmax(my_arr)\n",
        "print(max_idx)"
      ]
    },
    {
      "cell_type": "code",
      "execution_count": 104,
      "metadata": {},
      "outputs": [
        {
          "name": "stdout",
          "output_type": "stream",
          "text": [
            "[[8 7 2]\n",
            " [8 1 9]\n",
            " [9 2 7]]\n",
            "[[ 1.         -0.3592106   0.24019223]\n",
            " [-0.3592106   1.         -0.99221536]\n",
            " [ 0.24019223 -0.99221536  1.        ]]\n"
          ]
        }
      ],
      "source": [
        "matrix = np.random.randint(1, 10, (3, 3))\n",
        "print(matrix)\n",
        "corr_matrix = np.corrcoef(matrix, rowvar=False)\n",
        "print(corr_matrix)"
      ]
    },
    {
      "cell_type": "markdown",
      "metadata": {
        "id": "ZZdxtxoaIYRh"
      },
      "source": [
        "*"
      ]
    },
    {
      "cell_type": "markdown",
      "metadata": {
        "id": "XT2-9OXAGCV1"
      },
      "source": [
        "1. Write a NumPy program to find the dot product of two arrays of different dimensions.\n"
      ]
    },
    {
      "cell_type": "markdown",
      "metadata": {
        "id": "CukCQnSWHnNc"
      },
      "source": [
        "\n",
        "2. Write a NumPy program to create a 3x3 identity matrix and stack it vertically and horizontally.\n"
      ]
    },
    {
      "cell_type": "code",
      "execution_count": 108,
      "metadata": {},
      "outputs": [
        {
          "name": "stdout",
          "output_type": "stream",
          "text": [
            "[[1. 0. 0.]\n",
            " [0. 1. 0.]\n",
            " [0. 0. 1.]\n",
            " [1. 0. 0.]\n",
            " [0. 1. 0.]\n",
            " [0. 0. 1.]]\n",
            "[[1. 0. 0. 1. 0. 0.]\n",
            " [0. 1. 0. 0. 1. 0.]\n",
            " [0. 0. 1. 0. 0. 1.]]\n"
          ]
        }
      ],
      "source": [
        "my_mat = np.eye(3)\n",
        "print(np.concatenate((my_mat, my_mat), axis=0))\n",
        "print(np.concatenate((my_mat, my_mat), axis=1))"
      ]
    },
    {
      "cell_type": "markdown",
      "metadata": {
        "id": "wRmJcmG0HrI3"
      },
      "source": [
        "\n",
        "3. Write a NumPy program to create a 4x4 array with random values and find the sum of each row.\n"
      ]
    },
    {
      "cell_type": "markdown",
      "metadata": {
        "id": "3MqMO-xTH1u2"
      },
      "source": [
        "4. Write a NumPy program to create a 3x3 array with random values and subtract the mean of each row from each element.\n"
      ]
    },
    {
      "cell_type": "markdown",
      "metadata": {
        "id": "06FoMvIjIH3C"
      },
      "source": [
        "\n",
        "5. Write a NumPy program to create a 3x3 array with random values and subtract the mean of each column from each element."
      ]
    },
    {
      "cell_type": "markdown",
      "metadata": {
        "id": "DWR3cij5IG0J"
      },
      "source": [
        "\n",
        "6. Write a NumPy program to create a 5x5 array with random values and normalize it row-wise.\n"
      ]
    },
    {
      "cell_type": "markdown",
      "metadata": {
        "id": "rwBi3hKSIFq1"
      },
      "source": [
        "\n",
        "7. Write a NumPy program to create a 5x5 array with random values and normalize it column-wise."
      ]
    },
    {
      "cell_type": "markdown",
      "metadata": {
        "id": "tpWkOImFIEKa"
      },
      "source": [
        "\n",
        "8. Write a NumPy program to create a 3x3x3 array with random values and find the sum along the last axis.\n"
      ]
    },
    {
      "cell_type": "markdown",
      "metadata": {
        "id": "xp_KvZ3aIDC5"
      },
      "source": [
        "\n",
        "9. Write a NumPy program to create a 5x5 array with random values and sort each row.\n"
      ]
    },
    {
      "cell_type": "markdown",
      "metadata": {
        "id": "1c3uewP-IB-l"
      },
      "source": [
        "\n",
        "10. Write a NumPy program to create a 5x5 array with random values and sort each column."
      ]
    },
    {
      "cell_type": "markdown",
      "metadata": {
        "id": "BgjbwdPSIAm6"
      },
      "source": [
        "\n",
        "11. Write a NumPy program to create a 5x5 array with random values and find the second-largest value in each row.\n"
      ]
    },
    {
      "cell_type": "markdown",
      "metadata": {
        "id": "ET06En5qH-4n"
      },
      "source": [
        "\n",
        "12. Write a NumPy program to create a 5x5 array with random values and find the second-largest value in each column.\n"
      ]
    },
    {
      "cell_type": "markdown",
      "metadata": {
        "id": "qlz7CUIkH8Zl"
      },
      "source": [
        "\n",
        "13. Write a NumPy program to create a 5x5 array with random values and replace the maximum value with 0.\n"
      ]
    },
    {
      "cell_type": "markdown",
      "metadata": {
        "id": "K6U47uIpH62w"
      },
      "source": [
        "\n",
        "14. Write a NumPy program to create a 5x5 array with random values and replace the minimum value with 0.\n",
        "\n"
      ]
    },
    {
      "cell_type": "markdown",
      "metadata": {
        "id": "y5Jq5OzpH4HY"
      },
      "source": [
        "\n",
        "15. Write a NumPy program to create a 5x5 array with random values and calculate the exponential of each element.\n",
        "\n",
        "\n"
      ]
    },
    {
      "cell_type": "markdown",
      "metadata": {
        "id": "_RLRZe87GDZI"
      },
      "source": [
        "## Additional info\n",
        "https://www.simplilearn.com/keras-vs-tensorflow-vs-pytorch-article"
      ]
    },
    {
      "cell_type": "code",
      "execution_count": null,
      "metadata": {
        "id": "D2hmY27EGTwo"
      },
      "outputs": [],
      "source": []
    }
  ],
  "metadata": {
    "colab": {
      "include_colab_link": true,
      "provenance": []
    },
    "kernelspec": {
      "display_name": "Python 3",
      "name": "python3"
    },
    "language_info": {
      "codemirror_mode": {
        "name": "ipython",
        "version": 3
      },
      "file_extension": ".py",
      "mimetype": "text/x-python",
      "name": "python",
      "nbconvert_exporter": "python",
      "pygments_lexer": "ipython3",
      "version": "3.11.5"
    }
  },
  "nbformat": 4,
  "nbformat_minor": 0
}
