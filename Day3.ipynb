{
  "nbformat": 4,
  "nbformat_minor": 0,
  "metadata": {
    "colab": {
      "provenance": [],
      "include_colab_link": true
    },
    "kernelspec": {
      "name": "python3",
      "display_name": "Python 3"
    },
    "language_info": {
      "name": "python"
    }
  },
  "cells": [
    {
      "cell_type": "markdown",
      "metadata": {
        "id": "view-in-github",
        "colab_type": "text"
      },
      "source": [
        "<a href=\"https://colab.research.google.com/github/fortune-max/M4-python-refresher-ml/blob/main/Day3.ipynb\" target=\"_parent\"><img src=\"https://colab.research.google.com/assets/colab-badge.svg\" alt=\"Open In Colab\"/></a>"
      ]
    },
    {
      "cell_type": "code",
      "execution_count": 22,
      "metadata": {
        "colab": {
          "base_uri": "https://localhost:8080/"
        },
        "id": "6BOH-q9-7CGn",
        "outputId": "d4deb698-da29-4575-e11c-c62d706bbe43"
      },
      "outputs": [
        {
          "output_type": "stream",
          "name": "stdout",
          "text": [
            "Mounted at /content/gdrive\n"
          ]
        }
      ],
      "source": [
        "from google.colab import drive\n",
        "\n",
        "drive.mount('/content/gdrive', force_remount=True)"
      ]
    },
    {
      "cell_type": "code",
      "source": [
        "!cp gdrive/MyDrive/DS404/DS404_Classwork/Day_3_Materials/Pokemon_m.csv ."
      ],
      "metadata": {
        "id": "ybidDgRQSFMa"
      },
      "execution_count": 36,
      "outputs": []
    },
    {
      "cell_type": "code",
      "execution_count": 31,
      "metadata": {
        "id": "1-kG3BHa6ng1",
        "colab": {
          "base_uri": "https://localhost:8080/"
        },
        "outputId": "9787b480-7395-4785-a10e-5c444e5c6475"
      },
      "outputs": [
        {
          "output_type": "stream",
          "name": "stdout",
          "text": [
            "-r-------- 1 root root 7997 Nov 29 09:00 Pokemon_m.csv\n"
          ]
        }
      ],
      "source": [
        "!ls -l Pokemon_m.csv"
      ]
    },
    {
      "cell_type": "markdown",
      "metadata": {
        "id": "H6jOhIpL6ng4"
      },
      "source": [
        "#### Excercise 1: Perfom all imports"
      ]
    },
    {
      "cell_type": "code",
      "source": [
        "!pip install bokeh==2.4.0"
      ],
      "metadata": {
        "colab": {
          "base_uri": "https://localhost:8080/"
        },
        "id": "j6bX9MD3UjJU",
        "outputId": "367a3b24-0477-4788-dadd-9950085549d5"
      },
      "execution_count": 32,
      "outputs": [
        {
          "output_type": "stream",
          "name": "stdout",
          "text": [
            "Collecting bokeh==2.4.0\n",
            "  Downloading bokeh-2.4.0-py3-none-any.whl (18.4 MB)\n",
            "\u001b[2K     \u001b[90m━━━━━━━━━━━━━━━━━━━━━━━━━━━━━━━━━━━━━━━━\u001b[0m \u001b[32m18.4/18.4 MB\u001b[0m \u001b[31m34.9 MB/s\u001b[0m eta \u001b[36m0:00:00\u001b[0m\n",
            "\u001b[?25hRequirement already satisfied: Jinja2>=2.9 in /usr/local/lib/python3.10/dist-packages (from bokeh==2.4.0) (3.1.2)\n",
            "Requirement already satisfied: numpy>=1.11.3 in /usr/local/lib/python3.10/dist-packages (from bokeh==2.4.0) (1.23.5)\n",
            "Requirement already satisfied: packaging>=16.8 in /usr/local/lib/python3.10/dist-packages (from bokeh==2.4.0) (23.2)\n",
            "Requirement already satisfied: pillow>=7.1.0 in /usr/local/lib/python3.10/dist-packages (from bokeh==2.4.0) (9.4.0)\n",
            "Requirement already satisfied: PyYAML>=3.10 in /usr/local/lib/python3.10/dist-packages (from bokeh==2.4.0) (6.0.1)\n",
            "Requirement already satisfied: tornado>=5.1 in /usr/local/lib/python3.10/dist-packages (from bokeh==2.4.0) (6.3.2)\n",
            "Requirement already satisfied: typing-extensions>=3.10.0 in /usr/local/lib/python3.10/dist-packages (from bokeh==2.4.0) (4.5.0)\n",
            "Requirement already satisfied: MarkupSafe>=2.0 in /usr/local/lib/python3.10/dist-packages (from Jinja2>=2.9->bokeh==2.4.0) (2.1.3)\n",
            "Installing collected packages: bokeh\n",
            "  Attempting uninstall: bokeh\n",
            "    Found existing installation: bokeh 3.3.1\n",
            "    Uninstalling bokeh-3.3.1:\n",
            "      Successfully uninstalled bokeh-3.3.1\n",
            "\u001b[31mERROR: pip's dependency resolver does not currently take into account all the packages that are installed. This behaviour is the source of the following dependency conflicts.\n",
            "panel 1.3.1 requires bokeh<3.4.0,>=3.2.0, but you have bokeh 2.4.0 which is incompatible.\u001b[0m\u001b[31m\n",
            "\u001b[0mSuccessfully installed bokeh-2.4.0\n"
          ]
        }
      ]
    },
    {
      "cell_type": "code",
      "execution_count": 33,
      "metadata": {
        "id": "O8Wcl4jn6ng6"
      },
      "outputs": [],
      "source": [
        "import matplotlib.pyplot as plt"
      ]
    },
    {
      "cell_type": "code",
      "execution_count": 34,
      "metadata": {
        "id": "KZbIGFCA6ng6"
      },
      "outputs": [],
      "source": [
        "import seaborn as sns"
      ]
    },
    {
      "cell_type": "code",
      "source": [
        "import pandas as pd\n",
        "import numpy as np\n",
        "\n",
        "import os"
      ],
      "metadata": {
        "id": "bUt5rp8kWXCI"
      },
      "execution_count": 38,
      "outputs": []
    },
    {
      "cell_type": "code",
      "execution_count": 35,
      "metadata": {
        "id": "1LrKSKk56ng7"
      },
      "outputs": [],
      "source": [
        "from bokeh.io import output_file, output_notebook\n",
        "from bokeh.plotting import figure, show\n",
        "from bokeh.models import ColumnDataSource\n",
        "from bokeh.layouts import row, column, gridplot\n",
        "from bokeh.models.widgets import Tabs, Panel\n",
        "# from bokeh.models.layouts import TabPanel, Tabs"
      ]
    },
    {
      "cell_type": "markdown",
      "metadata": {
        "id": "gIEkBRRL6ng7"
      },
      "source": [
        "#### Excercise 2: Read Pokemon_m"
      ]
    },
    {
      "cell_type": "code",
      "execution_count": 39,
      "metadata": {
        "id": "qarMTnS96ng8",
        "scrolled": true
      },
      "outputs": [],
      "source": [
        "pokemon_df = pd.read_csv(\"Pokemon_m.csv\")"
      ]
    },
    {
      "cell_type": "code",
      "execution_count": 50,
      "metadata": {
        "id": "F7b3G65c6ng-",
        "colab": {
          "base_uri": "https://localhost:8080/",
          "height": 424
        },
        "outputId": "02cea183-4c28-46b7-a163-2507fa16554f"
      },
      "outputs": [
        {
          "output_type": "execute_result",
          "data": {
            "text/plain": [
              "       #        Name   Type_1  Type_2  Total   HP  Attack  Defense  Sp_Atk  \\\n",
              "0      1   Bulbasaur    Grass  Poison    318   45      49       49      65   \n",
              "1      2     Ivysaur    Grass  Poison    405   60      62       63      80   \n",
              "2      3    Venusaur    Grass  Poison    525   80      82       83     100   \n",
              "3      4  Charmander     Fire     NaN    309   39      52       43      60   \n",
              "4      5  Charmeleon     Fire     NaN    405   58      64       58      80   \n",
              "..   ...         ...      ...     ...    ...  ...     ...      ...     ...   \n",
              "146  147     Dratini   Dragon     NaN    300   41      64       45      50   \n",
              "147  148   Dragonair   Dragon     NaN    420   61      84       65      70   \n",
              "148  149   Dragonite   Dragon  Flying    600   91     134       95     100   \n",
              "149  150      Mewtwo  Psychic     NaN    680  106     110       90     154   \n",
              "150  151         Mew  Psychic     NaN    600  100     100      100     100   \n",
              "\n",
              "     Sp_Def  Speed  Stage  Legendary  \n",
              "0        65     45      1      False  \n",
              "1        80     60      2      False  \n",
              "2       100     80      3      False  \n",
              "3        50     65      1      False  \n",
              "4        65     80      2      False  \n",
              "..      ...    ...    ...        ...  \n",
              "146      50     50      1      False  \n",
              "147      70     70      2      False  \n",
              "148     100     80      3      False  \n",
              "149      90    130      1       True  \n",
              "150     100    100      1      False  \n",
              "\n",
              "[151 rows x 13 columns]"
            ],
            "text/html": [
              "\n",
              "  <div id=\"df-9af85ae9-3f01-4839-a859-374e895e0587\" class=\"colab-df-container\">\n",
              "    <div>\n",
              "<style scoped>\n",
              "    .dataframe tbody tr th:only-of-type {\n",
              "        vertical-align: middle;\n",
              "    }\n",
              "\n",
              "    .dataframe tbody tr th {\n",
              "        vertical-align: top;\n",
              "    }\n",
              "\n",
              "    .dataframe thead th {\n",
              "        text-align: right;\n",
              "    }\n",
              "</style>\n",
              "<table border=\"1\" class=\"dataframe\">\n",
              "  <thead>\n",
              "    <tr style=\"text-align: right;\">\n",
              "      <th></th>\n",
              "      <th>#</th>\n",
              "      <th>Name</th>\n",
              "      <th>Type_1</th>\n",
              "      <th>Type_2</th>\n",
              "      <th>Total</th>\n",
              "      <th>HP</th>\n",
              "      <th>Attack</th>\n",
              "      <th>Defense</th>\n",
              "      <th>Sp_Atk</th>\n",
              "      <th>Sp_Def</th>\n",
              "      <th>Speed</th>\n",
              "      <th>Stage</th>\n",
              "      <th>Legendary</th>\n",
              "    </tr>\n",
              "  </thead>\n",
              "  <tbody>\n",
              "    <tr>\n",
              "      <th>0</th>\n",
              "      <td>1</td>\n",
              "      <td>Bulbasaur</td>\n",
              "      <td>Grass</td>\n",
              "      <td>Poison</td>\n",
              "      <td>318</td>\n",
              "      <td>45</td>\n",
              "      <td>49</td>\n",
              "      <td>49</td>\n",
              "      <td>65</td>\n",
              "      <td>65</td>\n",
              "      <td>45</td>\n",
              "      <td>1</td>\n",
              "      <td>False</td>\n",
              "    </tr>\n",
              "    <tr>\n",
              "      <th>1</th>\n",
              "      <td>2</td>\n",
              "      <td>Ivysaur</td>\n",
              "      <td>Grass</td>\n",
              "      <td>Poison</td>\n",
              "      <td>405</td>\n",
              "      <td>60</td>\n",
              "      <td>62</td>\n",
              "      <td>63</td>\n",
              "      <td>80</td>\n",
              "      <td>80</td>\n",
              "      <td>60</td>\n",
              "      <td>2</td>\n",
              "      <td>False</td>\n",
              "    </tr>\n",
              "    <tr>\n",
              "      <th>2</th>\n",
              "      <td>3</td>\n",
              "      <td>Venusaur</td>\n",
              "      <td>Grass</td>\n",
              "      <td>Poison</td>\n",
              "      <td>525</td>\n",
              "      <td>80</td>\n",
              "      <td>82</td>\n",
              "      <td>83</td>\n",
              "      <td>100</td>\n",
              "      <td>100</td>\n",
              "      <td>80</td>\n",
              "      <td>3</td>\n",
              "      <td>False</td>\n",
              "    </tr>\n",
              "    <tr>\n",
              "      <th>3</th>\n",
              "      <td>4</td>\n",
              "      <td>Charmander</td>\n",
              "      <td>Fire</td>\n",
              "      <td>NaN</td>\n",
              "      <td>309</td>\n",
              "      <td>39</td>\n",
              "      <td>52</td>\n",
              "      <td>43</td>\n",
              "      <td>60</td>\n",
              "      <td>50</td>\n",
              "      <td>65</td>\n",
              "      <td>1</td>\n",
              "      <td>False</td>\n",
              "    </tr>\n",
              "    <tr>\n",
              "      <th>4</th>\n",
              "      <td>5</td>\n",
              "      <td>Charmeleon</td>\n",
              "      <td>Fire</td>\n",
              "      <td>NaN</td>\n",
              "      <td>405</td>\n",
              "      <td>58</td>\n",
              "      <td>64</td>\n",
              "      <td>58</td>\n",
              "      <td>80</td>\n",
              "      <td>65</td>\n",
              "      <td>80</td>\n",
              "      <td>2</td>\n",
              "      <td>False</td>\n",
              "    </tr>\n",
              "    <tr>\n",
              "      <th>...</th>\n",
              "      <td>...</td>\n",
              "      <td>...</td>\n",
              "      <td>...</td>\n",
              "      <td>...</td>\n",
              "      <td>...</td>\n",
              "      <td>...</td>\n",
              "      <td>...</td>\n",
              "      <td>...</td>\n",
              "      <td>...</td>\n",
              "      <td>...</td>\n",
              "      <td>...</td>\n",
              "      <td>...</td>\n",
              "      <td>...</td>\n",
              "    </tr>\n",
              "    <tr>\n",
              "      <th>146</th>\n",
              "      <td>147</td>\n",
              "      <td>Dratini</td>\n",
              "      <td>Dragon</td>\n",
              "      <td>NaN</td>\n",
              "      <td>300</td>\n",
              "      <td>41</td>\n",
              "      <td>64</td>\n",
              "      <td>45</td>\n",
              "      <td>50</td>\n",
              "      <td>50</td>\n",
              "      <td>50</td>\n",
              "      <td>1</td>\n",
              "      <td>False</td>\n",
              "    </tr>\n",
              "    <tr>\n",
              "      <th>147</th>\n",
              "      <td>148</td>\n",
              "      <td>Dragonair</td>\n",
              "      <td>Dragon</td>\n",
              "      <td>NaN</td>\n",
              "      <td>420</td>\n",
              "      <td>61</td>\n",
              "      <td>84</td>\n",
              "      <td>65</td>\n",
              "      <td>70</td>\n",
              "      <td>70</td>\n",
              "      <td>70</td>\n",
              "      <td>2</td>\n",
              "      <td>False</td>\n",
              "    </tr>\n",
              "    <tr>\n",
              "      <th>148</th>\n",
              "      <td>149</td>\n",
              "      <td>Dragonite</td>\n",
              "      <td>Dragon</td>\n",
              "      <td>Flying</td>\n",
              "      <td>600</td>\n",
              "      <td>91</td>\n",
              "      <td>134</td>\n",
              "      <td>95</td>\n",
              "      <td>100</td>\n",
              "      <td>100</td>\n",
              "      <td>80</td>\n",
              "      <td>3</td>\n",
              "      <td>False</td>\n",
              "    </tr>\n",
              "    <tr>\n",
              "      <th>149</th>\n",
              "      <td>150</td>\n",
              "      <td>Mewtwo</td>\n",
              "      <td>Psychic</td>\n",
              "      <td>NaN</td>\n",
              "      <td>680</td>\n",
              "      <td>106</td>\n",
              "      <td>110</td>\n",
              "      <td>90</td>\n",
              "      <td>154</td>\n",
              "      <td>90</td>\n",
              "      <td>130</td>\n",
              "      <td>1</td>\n",
              "      <td>True</td>\n",
              "    </tr>\n",
              "    <tr>\n",
              "      <th>150</th>\n",
              "      <td>151</td>\n",
              "      <td>Mew</td>\n",
              "      <td>Psychic</td>\n",
              "      <td>NaN</td>\n",
              "      <td>600</td>\n",
              "      <td>100</td>\n",
              "      <td>100</td>\n",
              "      <td>100</td>\n",
              "      <td>100</td>\n",
              "      <td>100</td>\n",
              "      <td>100</td>\n",
              "      <td>1</td>\n",
              "      <td>False</td>\n",
              "    </tr>\n",
              "  </tbody>\n",
              "</table>\n",
              "<p>151 rows × 13 columns</p>\n",
              "</div>\n",
              "    <div class=\"colab-df-buttons\">\n",
              "\n",
              "  <div class=\"colab-df-container\">\n",
              "    <button class=\"colab-df-convert\" onclick=\"convertToInteractive('df-9af85ae9-3f01-4839-a859-374e895e0587')\"\n",
              "            title=\"Convert this dataframe to an interactive table.\"\n",
              "            style=\"display:none;\">\n",
              "\n",
              "  <svg xmlns=\"http://www.w3.org/2000/svg\" height=\"24px\" viewBox=\"0 -960 960 960\">\n",
              "    <path d=\"M120-120v-720h720v720H120Zm60-500h600v-160H180v160Zm220 220h160v-160H400v160Zm0 220h160v-160H400v160ZM180-400h160v-160H180v160Zm440 0h160v-160H620v160ZM180-180h160v-160H180v160Zm440 0h160v-160H620v160Z\"/>\n",
              "  </svg>\n",
              "    </button>\n",
              "\n",
              "  <style>\n",
              "    .colab-df-container {\n",
              "      display:flex;\n",
              "      gap: 12px;\n",
              "    }\n",
              "\n",
              "    .colab-df-convert {\n",
              "      background-color: #E8F0FE;\n",
              "      border: none;\n",
              "      border-radius: 50%;\n",
              "      cursor: pointer;\n",
              "      display: none;\n",
              "      fill: #1967D2;\n",
              "      height: 32px;\n",
              "      padding: 0 0 0 0;\n",
              "      width: 32px;\n",
              "    }\n",
              "\n",
              "    .colab-df-convert:hover {\n",
              "      background-color: #E2EBFA;\n",
              "      box-shadow: 0px 1px 2px rgba(60, 64, 67, 0.3), 0px 1px 3px 1px rgba(60, 64, 67, 0.15);\n",
              "      fill: #174EA6;\n",
              "    }\n",
              "\n",
              "    .colab-df-buttons div {\n",
              "      margin-bottom: 4px;\n",
              "    }\n",
              "\n",
              "    [theme=dark] .colab-df-convert {\n",
              "      background-color: #3B4455;\n",
              "      fill: #D2E3FC;\n",
              "    }\n",
              "\n",
              "    [theme=dark] .colab-df-convert:hover {\n",
              "      background-color: #434B5C;\n",
              "      box-shadow: 0px 1px 3px 1px rgba(0, 0, 0, 0.15);\n",
              "      filter: drop-shadow(0px 1px 2px rgba(0, 0, 0, 0.3));\n",
              "      fill: #FFFFFF;\n",
              "    }\n",
              "  </style>\n",
              "\n",
              "    <script>\n",
              "      const buttonEl =\n",
              "        document.querySelector('#df-9af85ae9-3f01-4839-a859-374e895e0587 button.colab-df-convert');\n",
              "      buttonEl.style.display =\n",
              "        google.colab.kernel.accessAllowed ? 'block' : 'none';\n",
              "\n",
              "      async function convertToInteractive(key) {\n",
              "        const element = document.querySelector('#df-9af85ae9-3f01-4839-a859-374e895e0587');\n",
              "        const dataTable =\n",
              "          await google.colab.kernel.invokeFunction('convertToInteractive',\n",
              "                                                    [key], {});\n",
              "        if (!dataTable) return;\n",
              "\n",
              "        const docLinkHtml = 'Like what you see? Visit the ' +\n",
              "          '<a target=\"_blank\" href=https://colab.research.google.com/notebooks/data_table.ipynb>data table notebook</a>'\n",
              "          + ' to learn more about interactive tables.';\n",
              "        element.innerHTML = '';\n",
              "        dataTable['output_type'] = 'display_data';\n",
              "        await google.colab.output.renderOutput(dataTable, element);\n",
              "        const docLink = document.createElement('div');\n",
              "        docLink.innerHTML = docLinkHtml;\n",
              "        element.appendChild(docLink);\n",
              "      }\n",
              "    </script>\n",
              "  </div>\n",
              "\n",
              "\n",
              "<div id=\"df-b40fa067-62c9-4ce6-a631-dc19bf553a86\">\n",
              "  <button class=\"colab-df-quickchart\" onclick=\"quickchart('df-b40fa067-62c9-4ce6-a631-dc19bf553a86')\"\n",
              "            title=\"Suggest charts\"\n",
              "            style=\"display:none;\">\n",
              "\n",
              "<svg xmlns=\"http://www.w3.org/2000/svg\" height=\"24px\"viewBox=\"0 0 24 24\"\n",
              "     width=\"24px\">\n",
              "    <g>\n",
              "        <path d=\"M19 3H5c-1.1 0-2 .9-2 2v14c0 1.1.9 2 2 2h14c1.1 0 2-.9 2-2V5c0-1.1-.9-2-2-2zM9 17H7v-7h2v7zm4 0h-2V7h2v10zm4 0h-2v-4h2v4z\"/>\n",
              "    </g>\n",
              "</svg>\n",
              "  </button>\n",
              "\n",
              "<style>\n",
              "  .colab-df-quickchart {\n",
              "      --bg-color: #E8F0FE;\n",
              "      --fill-color: #1967D2;\n",
              "      --hover-bg-color: #E2EBFA;\n",
              "      --hover-fill-color: #174EA6;\n",
              "      --disabled-fill-color: #AAA;\n",
              "      --disabled-bg-color: #DDD;\n",
              "  }\n",
              "\n",
              "  [theme=dark] .colab-df-quickchart {\n",
              "      --bg-color: #3B4455;\n",
              "      --fill-color: #D2E3FC;\n",
              "      --hover-bg-color: #434B5C;\n",
              "      --hover-fill-color: #FFFFFF;\n",
              "      --disabled-bg-color: #3B4455;\n",
              "      --disabled-fill-color: #666;\n",
              "  }\n",
              "\n",
              "  .colab-df-quickchart {\n",
              "    background-color: var(--bg-color);\n",
              "    border: none;\n",
              "    border-radius: 50%;\n",
              "    cursor: pointer;\n",
              "    display: none;\n",
              "    fill: var(--fill-color);\n",
              "    height: 32px;\n",
              "    padding: 0;\n",
              "    width: 32px;\n",
              "  }\n",
              "\n",
              "  .colab-df-quickchart:hover {\n",
              "    background-color: var(--hover-bg-color);\n",
              "    box-shadow: 0 1px 2px rgba(60, 64, 67, 0.3), 0 1px 3px 1px rgba(60, 64, 67, 0.15);\n",
              "    fill: var(--button-hover-fill-color);\n",
              "  }\n",
              "\n",
              "  .colab-df-quickchart-complete:disabled,\n",
              "  .colab-df-quickchart-complete:disabled:hover {\n",
              "    background-color: var(--disabled-bg-color);\n",
              "    fill: var(--disabled-fill-color);\n",
              "    box-shadow: none;\n",
              "  }\n",
              "\n",
              "  .colab-df-spinner {\n",
              "    border: 2px solid var(--fill-color);\n",
              "    border-color: transparent;\n",
              "    border-bottom-color: var(--fill-color);\n",
              "    animation:\n",
              "      spin 1s steps(1) infinite;\n",
              "  }\n",
              "\n",
              "  @keyframes spin {\n",
              "    0% {\n",
              "      border-color: transparent;\n",
              "      border-bottom-color: var(--fill-color);\n",
              "      border-left-color: var(--fill-color);\n",
              "    }\n",
              "    20% {\n",
              "      border-color: transparent;\n",
              "      border-left-color: var(--fill-color);\n",
              "      border-top-color: var(--fill-color);\n",
              "    }\n",
              "    30% {\n",
              "      border-color: transparent;\n",
              "      border-left-color: var(--fill-color);\n",
              "      border-top-color: var(--fill-color);\n",
              "      border-right-color: var(--fill-color);\n",
              "    }\n",
              "    40% {\n",
              "      border-color: transparent;\n",
              "      border-right-color: var(--fill-color);\n",
              "      border-top-color: var(--fill-color);\n",
              "    }\n",
              "    60% {\n",
              "      border-color: transparent;\n",
              "      border-right-color: var(--fill-color);\n",
              "    }\n",
              "    80% {\n",
              "      border-color: transparent;\n",
              "      border-right-color: var(--fill-color);\n",
              "      border-bottom-color: var(--fill-color);\n",
              "    }\n",
              "    90% {\n",
              "      border-color: transparent;\n",
              "      border-bottom-color: var(--fill-color);\n",
              "    }\n",
              "  }\n",
              "</style>\n",
              "\n",
              "  <script>\n",
              "    async function quickchart(key) {\n",
              "      const quickchartButtonEl =\n",
              "        document.querySelector('#' + key + ' button');\n",
              "      quickchartButtonEl.disabled = true;  // To prevent multiple clicks.\n",
              "      quickchartButtonEl.classList.add('colab-df-spinner');\n",
              "      try {\n",
              "        const charts = await google.colab.kernel.invokeFunction(\n",
              "            'suggestCharts', [key], {});\n",
              "      } catch (error) {\n",
              "        console.error('Error during call to suggestCharts:', error);\n",
              "      }\n",
              "      quickchartButtonEl.classList.remove('colab-df-spinner');\n",
              "      quickchartButtonEl.classList.add('colab-df-quickchart-complete');\n",
              "    }\n",
              "    (() => {\n",
              "      let quickchartButtonEl =\n",
              "        document.querySelector('#df-b40fa067-62c9-4ce6-a631-dc19bf553a86 button');\n",
              "      quickchartButtonEl.style.display =\n",
              "        google.colab.kernel.accessAllowed ? 'block' : 'none';\n",
              "    })();\n",
              "  </script>\n",
              "</div>\n",
              "    </div>\n",
              "  </div>\n"
            ]
          },
          "metadata": {},
          "execution_count": 50
        }
      ],
      "source": [
        "pokemon_df"
      ]
    },
    {
      "cell_type": "markdown",
      "metadata": {
        "id": "4dEmCHmR6ng-"
      },
      "source": [
        "#### Excercise 2: Draw scatterplots"
      ]
    },
    {
      "cell_type": "code",
      "execution_count": 40,
      "metadata": {
        "id": "D-hZUetF6ng_",
        "colab": {
          "base_uri": "https://localhost:8080/",
          "height": 468
        },
        "outputId": "37734474-81e5-4f31-a5e9-a33aa09fb6d1"
      },
      "outputs": [
        {
          "output_type": "execute_result",
          "data": {
            "text/plain": [
              "<Axes: xlabel='Sp_Atk', ylabel='Sp_Def'>"
            ]
          },
          "metadata": {},
          "execution_count": 40
        },
        {
          "output_type": "display_data",
          "data": {
            "text/plain": [
              "<Figure size 640x480 with 1 Axes>"
            ],
            "image/png": "[encoded data removed]"
          },
          "metadata": {}
        }
      ],
      "source": [
        "# x = 'Attack',\n",
        "# y = 'Defense'\n",
        "# df\n",
        "pokemon_df.plot(kind=\"scatter\", x=\"Sp_Atk\", y=\"Sp_Def\")"
      ]
    },
    {
      "cell_type": "code",
      "execution_count": 41,
      "metadata": {
        "id": "irl7a6Dr6ng_",
        "colab": {
          "base_uri": "https://localhost:8080/",
          "height": 448
        },
        "outputId": "d50dddf3-c037-4408-9bb7-5d82ff461ac7"
      },
      "outputs": [
        {
          "output_type": "execute_result",
          "data": {
            "text/plain": [
              "<matplotlib.collections.PathCollection at 0x7cc4971dcc40>"
            ]
          },
          "metadata": {},
          "execution_count": 41
        },
        {
          "output_type": "display_data",
          "data": {
            "text/plain": [
              "<Figure size 640x480 with 1 Axes>"
            ],
            "image/png": "[encoded data removed]"
          },
          "metadata": {}
        }
      ],
      "source": [
        "# x = 'Attack',\n",
        "# y = 'Defense'\n",
        "#scatter\n",
        "plt.scatter('Attack', 'Defense', data=pokemon_df, )"
      ]
    },
    {
      "cell_type": "code",
      "source": [
        "plt.scatter(pokemon_df['Sp_Atk'], pokemon_df['Sp_Def'], c='r', marker='s', s=1) #s = size, c = color"
      ],
      "metadata": {
        "id": "rTRaMiQYYPxm",
        "outputId": "2d7b9911-3be8-4959-ba91-253d289411b3",
        "colab": {
          "base_uri": "https://localhost:8080/",
          "height": 448
        }
      },
      "execution_count": 43,
      "outputs": [
        {
          "output_type": "execute_result",
          "data": {
            "text/plain": [
              "<matplotlib.collections.PathCollection at 0x7cc496e712d0>"
            ]
          },
          "metadata": {},
          "execution_count": 43
        },
        {
          "output_type": "display_data",
          "data": {
            "text/plain": [
              "<Figure size 640x480 with 1 Axes>"
            ],
            "image/png": "[encoded data removed]"
          },
          "metadata": {}
        }
      ]
    },
    {
      "cell_type": "code",
      "execution_count": 44,
      "metadata": {
        "colab": {
          "base_uri": "https://localhost:8080/",
          "height": 467
        },
        "id": "TS6oWIC16nhA",
        "outputId": "074ef03d-e863-45e7-e7c5-ac1fd3e6190c"
      },
      "outputs": [
        {
          "output_type": "execute_result",
          "data": {
            "text/plain": [
              "<Axes: xlabel='Attack', ylabel='Defense'>"
            ]
          },
          "metadata": {},
          "execution_count": 44
        },
        {
          "output_type": "display_data",
          "data": {
            "text/plain": [
              "<Figure size 640x480 with 1 Axes>"
            ],
            "image/png": "[encoded data removed]"
          },
          "metadata": {}
        }
      ],
      "source": [
        "# x = 'Attack',\n",
        "# y = 'Defense'\n",
        "# sns\n",
        "sns.scatterplot(x='Attack', y='Defense', data=pokemon_df)"
      ]
    },
    {
      "cell_type": "code",
      "execution_count": 45,
      "metadata": {
        "id": "0RinS0z86nhA",
        "colab": {
          "base_uri": "https://localhost:8080/",
          "height": 524
        },
        "outputId": "85e880a0-fc83-41eb-d644-b84cbda6f2ad"
      },
      "outputs": [
        {
          "output_type": "execute_result",
          "data": {
            "text/plain": [
              "<seaborn.axisgrid.FacetGrid at 0x7cc499d004f0>"
            ]
          },
          "metadata": {},
          "execution_count": 45
        },
        {
          "output_type": "display_data",
          "data": {
            "text/plain": [
              "<Figure size 500x500 with 1 Axes>"
            ],
            "image/png": "[encoded data removed]"
          },
          "metadata": {}
        }
      ],
      "source": [
        "#sns.lmplot\n",
        "sns.lmplot(x='Attack', y='Defense', data=pokemon_df)"
      ]
    },
    {
      "cell_type": "code",
      "execution_count": null,
      "metadata": {
        "id": "71qXH71Jo_w8"
      },
      "outputs": [],
      "source": []
    },
    {
      "cell_type": "markdown",
      "metadata": {
        "id": "pWnTSDec6nhA"
      },
      "source": [
        "#### Excercise 3: Draw a scatterplots for  Sp_Atk vs Sp_Def in matplotlib, sns"
      ]
    },
    {
      "cell_type": "code",
      "execution_count": null,
      "metadata": {
        "id": "xX6VEscM6nhB"
      },
      "outputs": [],
      "source": []
    },
    {
      "cell_type": "code",
      "execution_count": null,
      "metadata": {
        "id": "HbyGMuMi6nhB"
      },
      "outputs": [],
      "source": []
    },
    {
      "cell_type": "code",
      "execution_count": null,
      "metadata": {
        "id": "Tuaj5hkO6nhB"
      },
      "outputs": [],
      "source": []
    },
    {
      "cell_type": "code",
      "execution_count": null,
      "metadata": {
        "id": "0bsusj4DphLV"
      },
      "outputs": [],
      "source": []
    },
    {
      "cell_type": "markdown",
      "metadata": {
        "id": "qA3No6XG6nhB"
      },
      "source": [
        "#### Excercise 4: Compute agregated statistics file and draw histograms (Type_1)"
      ]
    },
    {
      "cell_type": "code",
      "execution_count": 49,
      "metadata": {
        "id": "6Vt-xIih6nhC",
        "colab": {
          "base_uri": "https://localhost:8080/",
          "height": 575
        },
        "outputId": "cd1ab094-3b45-411c-f3ab-fe71b2c0c249"
      },
      "outputs": [
        {
          "output_type": "stream",
          "name": "stderr",
          "text": [
            "<ipython-input-49-f1a628ab0abe>:1: FutureWarning: The default value of numeric_only in DataFrameGroupBy.mean is deprecated. In a future version, numeric_only will default to False. Either specify numeric_only or select only columns which should be valid for the function.\n",
            "  pokemon_type1_stat = pokemon_df.groupby('Type_1').mean().reset_index()\n"
          ]
        },
        {
          "output_type": "execute_result",
          "data": {
            "text/plain": [
              "      Type_1           #       Total         HP      Attack     Defense  \\\n",
              "0        Bug   42.916667  336.250000  55.416667   63.750000   57.083333   \n",
              "1     Dragon  148.000000  440.000000  64.333333   94.000000   68.333333   \n",
              "2   Electric   91.111111  444.444444  54.444444   62.000000   64.666667   \n",
              "3      Fairy   35.500000  403.000000  82.500000   57.500000   60.500000   \n",
              "4   Fighting   75.285714  412.142857  63.571429  102.857143   61.000000   \n",
              "5       Fire   64.166667  455.583333  63.833333   83.916667   62.583333   \n",
              "6      Ghost   93.000000  405.000000  45.000000   50.000000   45.000000   \n",
              "7      Grass   55.583333  409.416667  65.000000   70.666667   69.583333   \n",
              "8     Ground   73.500000  374.375000  58.125000   81.875000   86.250000   \n",
              "9        Ice  134.000000  517.500000  77.500000   67.500000   67.500000   \n",
              "10    Normal   71.727273  380.409091  78.681818   67.727273   53.545455   \n",
              "11    Poison   51.071429  383.500000  64.500000   74.428571   67.000000   \n",
              "12   Psychic  101.000000  470.125000  63.875000   60.125000   57.500000   \n",
              "13      Rock  113.333333  420.555556  53.888889   82.222222  110.000000   \n",
              "14     Water   85.928571  411.214286  64.535714   70.250000   77.500000   \n",
              "\n",
              "        Sp_Atk      Sp_Def      Speed     Stage  Legendary  \n",
              "0    47.500000   55.416667  57.083333  1.666667   0.000000  \n",
              "1    73.333333   73.333333  66.666667  2.000000   0.000000  \n",
              "2    91.111111   73.333333  98.888889  1.444444   0.111111  \n",
              "3    77.500000   77.500000  47.500000  1.500000   0.000000  \n",
              "4    45.000000   73.571429  66.142857  1.571429   0.000000  \n",
              "5    84.583333   76.666667  84.000000  1.583333   0.083333  \n",
              "6   115.000000   55.000000  95.000000  2.000000   0.000000  \n",
              "7    87.916667   64.166667  52.083333  1.833333   0.000000  \n",
              "8    39.375000   50.625000  58.125000  1.500000   0.000000  \n",
              "9   105.000000  110.000000  90.000000  1.000000   0.500000  \n",
              "10   51.272727   59.863636  69.318182  1.363636   0.000000  \n",
              "11   57.142857   61.642857  58.785714  1.714286   0.000000  \n",
              "12  103.750000   91.875000  93.000000  1.500000   0.125000  \n",
              "13   60.555556   55.555556  58.333333  1.555556   0.000000  \n",
              "14   64.821429   66.392857  67.714286  1.607143   0.000000  "
            ],
            "text/html": [
              "\n",
              "  <div id=\"df-d1bd0705-5aaa-4356-b101-2cb0bc8da121\" class=\"colab-df-container\">\n",
              "    <div>\n",
              "<style scoped>\n",
              "    .dataframe tbody tr th:only-of-type {\n",
              "        vertical-align: middle;\n",
              "    }\n",
              "\n",
              "    .dataframe tbody tr th {\n",
              "        vertical-align: top;\n",
              "    }\n",
              "\n",
              "    .dataframe thead th {\n",
              "        text-align: right;\n",
              "    }\n",
              "</style>\n",
              "<table border=\"1\" class=\"dataframe\">\n",
              "  <thead>\n",
              "    <tr style=\"text-align: right;\">\n",
              "      <th></th>\n",
              "      <th>Type_1</th>\n",
              "      <th>#</th>\n",
              "      <th>Total</th>\n",
              "      <th>HP</th>\n",
              "      <th>Attack</th>\n",
              "      <th>Defense</th>\n",
              "      <th>Sp_Atk</th>\n",
              "      <th>Sp_Def</th>\n",
              "      <th>Speed</th>\n",
              "      <th>Stage</th>\n",
              "      <th>Legendary</th>\n",
              "    </tr>\n",
              "  </thead>\n",
              "  <tbody>\n",
              "    <tr>\n",
              "      <th>0</th>\n",
              "      <td>Bug</td>\n",
              "      <td>42.916667</td>\n",
              "      <td>336.250000</td>\n",
              "      <td>55.416667</td>\n",
              "      <td>63.750000</td>\n",
              "      <td>57.083333</td>\n",
              "      <td>47.500000</td>\n",
              "      <td>55.416667</td>\n",
              "      <td>57.083333</td>\n",
              "      <td>1.666667</td>\n",
              "      <td>0.000000</td>\n",
              "    </tr>\n",
              "    <tr>\n",
              "      <th>1</th>\n",
              "      <td>Dragon</td>\n",
              "      <td>148.000000</td>\n",
              "      <td>440.000000</td>\n",
              "      <td>64.333333</td>\n",
              "      <td>94.000000</td>\n",
              "      <td>68.333333</td>\n",
              "      <td>73.333333</td>\n",
              "      <td>73.333333</td>\n",
              "      <td>66.666667</td>\n",
              "      <td>2.000000</td>\n",
              "      <td>0.000000</td>\n",
              "    </tr>\n",
              "    <tr>\n",
              "      <th>2</th>\n",
              "      <td>Electric</td>\n",
              "      <td>91.111111</td>\n",
              "      <td>444.444444</td>\n",
              "      <td>54.444444</td>\n",
              "      <td>62.000000</td>\n",
              "      <td>64.666667</td>\n",
              "      <td>91.111111</td>\n",
              "      <td>73.333333</td>\n",
              "      <td>98.888889</td>\n",
              "      <td>1.444444</td>\n",
              "      <td>0.111111</td>\n",
              "    </tr>\n",
              "    <tr>\n",
              "      <th>3</th>\n",
              "      <td>Fairy</td>\n",
              "      <td>35.500000</td>\n",
              "      <td>403.000000</td>\n",
              "      <td>82.500000</td>\n",
              "      <td>57.500000</td>\n",
              "      <td>60.500000</td>\n",
              "      <td>77.500000</td>\n",
              "      <td>77.500000</td>\n",
              "      <td>47.500000</td>\n",
              "      <td>1.500000</td>\n",
              "      <td>0.000000</td>\n",
              "    </tr>\n",
              "    <tr>\n",
              "      <th>4</th>\n",
              "      <td>Fighting</td>\n",
              "      <td>75.285714</td>\n",
              "      <td>412.142857</td>\n",
              "      <td>63.571429</td>\n",
              "      <td>102.857143</td>\n",
              "      <td>61.000000</td>\n",
              "      <td>45.000000</td>\n",
              "      <td>73.571429</td>\n",
              "      <td>66.142857</td>\n",
              "      <td>1.571429</td>\n",
              "      <td>0.000000</td>\n",
              "    </tr>\n",
              "    <tr>\n",
              "      <th>5</th>\n",
              "      <td>Fire</td>\n",
              "      <td>64.166667</td>\n",
              "      <td>455.583333</td>\n",
              "      <td>63.833333</td>\n",
              "      <td>83.916667</td>\n",
              "      <td>62.583333</td>\n",
              "      <td>84.583333</td>\n",
              "      <td>76.666667</td>\n",
              "      <td>84.000000</td>\n",
              "      <td>1.583333</td>\n",
              "      <td>0.083333</td>\n",
              "    </tr>\n",
              "    <tr>\n",
              "      <th>6</th>\n",
              "      <td>Ghost</td>\n",
              "      <td>93.000000</td>\n",
              "      <td>405.000000</td>\n",
              "      <td>45.000000</td>\n",
              "      <td>50.000000</td>\n",
              "      <td>45.000000</td>\n",
              "      <td>115.000000</td>\n",
              "      <td>55.000000</td>\n",
              "      <td>95.000000</td>\n",
              "      <td>2.000000</td>\n",
              "      <td>0.000000</td>\n",
              "    </tr>\n",
              "    <tr>\n",
              "      <th>7</th>\n",
              "      <td>Grass</td>\n",
              "      <td>55.583333</td>\n",
              "      <td>409.416667</td>\n",
              "      <td>65.000000</td>\n",
              "      <td>70.666667</td>\n",
              "      <td>69.583333</td>\n",
              "      <td>87.916667</td>\n",
              "      <td>64.166667</td>\n",
              "      <td>52.083333</td>\n",
              "      <td>1.833333</td>\n",
              "      <td>0.000000</td>\n",
              "    </tr>\n",
              "    <tr>\n",
              "      <th>8</th>\n",
              "      <td>Ground</td>\n",
              "      <td>73.500000</td>\n",
              "      <td>374.375000</td>\n",
              "      <td>58.125000</td>\n",
              "      <td>81.875000</td>\n",
              "      <td>86.250000</td>\n",
              "      <td>39.375000</td>\n",
              "      <td>50.625000</td>\n",
              "      <td>58.125000</td>\n",
              "      <td>1.500000</td>\n",
              "      <td>0.000000</td>\n",
              "    </tr>\n",
              "    <tr>\n",
              "      <th>9</th>\n",
              "      <td>Ice</td>\n",
              "      <td>134.000000</td>\n",
              "      <td>517.500000</td>\n",
              "      <td>77.500000</td>\n",
              "      <td>67.500000</td>\n",
              "      <td>67.500000</td>\n",
              "      <td>105.000000</td>\n",
              "      <td>110.000000</td>\n",
              "      <td>90.000000</td>\n",
              "      <td>1.000000</td>\n",
              "      <td>0.500000</td>\n",
              "    </tr>\n",
              "    <tr>\n",
              "      <th>10</th>\n",
              "      <td>Normal</td>\n",
              "      <td>71.727273</td>\n",
              "      <td>380.409091</td>\n",
              "      <td>78.681818</td>\n",
              "      <td>67.727273</td>\n",
              "      <td>53.545455</td>\n",
              "      <td>51.272727</td>\n",
              "      <td>59.863636</td>\n",
              "      <td>69.318182</td>\n",
              "      <td>1.363636</td>\n",
              "      <td>0.000000</td>\n",
              "    </tr>\n",
              "    <tr>\n",
              "      <th>11</th>\n",
              "      <td>Poison</td>\n",
              "      <td>51.071429</td>\n",
              "      <td>383.500000</td>\n",
              "      <td>64.500000</td>\n",
              "      <td>74.428571</td>\n",
              "      <td>67.000000</td>\n",
              "      <td>57.142857</td>\n",
              "      <td>61.642857</td>\n",
              "      <td>58.785714</td>\n",
              "      <td>1.714286</td>\n",
              "      <td>0.000000</td>\n",
              "    </tr>\n",
              "    <tr>\n",
              "      <th>12</th>\n",
              "      <td>Psychic</td>\n",
              "      <td>101.000000</td>\n",
              "      <td>470.125000</td>\n",
              "      <td>63.875000</td>\n",
              "      <td>60.125000</td>\n",
              "      <td>57.500000</td>\n",
              "      <td>103.750000</td>\n",
              "      <td>91.875000</td>\n",
              "      <td>93.000000</td>\n",
              "      <td>1.500000</td>\n",
              "      <td>0.125000</td>\n",
              "    </tr>\n",
              "    <tr>\n",
              "      <th>13</th>\n",
              "      <td>Rock</td>\n",
              "      <td>113.333333</td>\n",
              "      <td>420.555556</td>\n",
              "      <td>53.888889</td>\n",
              "      <td>82.222222</td>\n",
              "      <td>110.000000</td>\n",
              "      <td>60.555556</td>\n",
              "      <td>55.555556</td>\n",
              "      <td>58.333333</td>\n",
              "      <td>1.555556</td>\n",
              "      <td>0.000000</td>\n",
              "    </tr>\n",
              "    <tr>\n",
              "      <th>14</th>\n",
              "      <td>Water</td>\n",
              "      <td>85.928571</td>\n",
              "      <td>411.214286</td>\n",
              "      <td>64.535714</td>\n",
              "      <td>70.250000</td>\n",
              "      <td>77.500000</td>\n",
              "      <td>64.821429</td>\n",
              "      <td>66.392857</td>\n",
              "      <td>67.714286</td>\n",
              "      <td>1.607143</td>\n",
              "      <td>0.000000</td>\n",
              "    </tr>\n",
              "  </tbody>\n",
              "</table>\n",
              "</div>\n",
              "    <div class=\"colab-df-buttons\">\n",
              "\n",
              "  <div class=\"colab-df-container\">\n",
              "    <button class=\"colab-df-convert\" onclick=\"convertToInteractive('df-d1bd0705-5aaa-4356-b101-2cb0bc8da121')\"\n",
              "            title=\"Convert this dataframe to an interactive table.\"\n",
              "            style=\"display:none;\">\n",
              "\n",
              "  <svg xmlns=\"http://www.w3.org/2000/svg\" height=\"24px\" viewBox=\"0 -960 960 960\">\n",
              "    <path d=\"M120-120v-720h720v720H120Zm60-500h600v-160H180v160Zm220 220h160v-160H400v160Zm0 220h160v-160H400v160ZM180-400h160v-160H180v160Zm440 0h160v-160H620v160ZM180-180h160v-160H180v160Zm440 0h160v-160H620v160Z\"/>\n",
              "  </svg>\n",
              "    </button>\n",
              "\n",
              "  <style>\n",
              "    .colab-df-container {\n",
              "      display:flex;\n",
              "      gap: 12px;\n",
              "    }\n",
              "\n",
              "    .colab-df-convert {\n",
              "      background-color: #E8F0FE;\n",
              "      border: none;\n",
              "      border-radius: 50%;\n",
              "      cursor: pointer;\n",
              "      display: none;\n",
              "      fill: #1967D2;\n",
              "      height: 32px;\n",
              "      padding: 0 0 0 0;\n",
              "      width: 32px;\n",
              "    }\n",
              "\n",
              "    .colab-df-convert:hover {\n",
              "      background-color: #E2EBFA;\n",
              "      box-shadow: 0px 1px 2px rgba(60, 64, 67, 0.3), 0px 1px 3px 1px rgba(60, 64, 67, 0.15);\n",
              "      fill: #174EA6;\n",
              "    }\n",
              "\n",
              "    .colab-df-buttons div {\n",
              "      margin-bottom: 4px;\n",
              "    }\n",
              "\n",
              "    [theme=dark] .colab-df-convert {\n",
              "      background-color: #3B4455;\n",
              "      fill: #D2E3FC;\n",
              "    }\n",
              "\n",
              "    [theme=dark] .colab-df-convert:hover {\n",
              "      background-color: #434B5C;\n",
              "      box-shadow: 0px 1px 3px 1px rgba(0, 0, 0, 0.15);\n",
              "      filter: drop-shadow(0px 1px 2px rgba(0, 0, 0, 0.3));\n",
              "      fill: #FFFFFF;\n",
              "    }\n",
              "  </style>\n",
              "\n",
              "    <script>\n",
              "      const buttonEl =\n",
              "        document.querySelector('#df-d1bd0705-5aaa-4356-b101-2cb0bc8da121 button.colab-df-convert');\n",
              "      buttonEl.style.display =\n",
              "        google.colab.kernel.accessAllowed ? 'block' : 'none';\n",
              "\n",
              "      async function convertToInteractive(key) {\n",
              "        const element = document.querySelector('#df-d1bd0705-5aaa-4356-b101-2cb0bc8da121');\n",
              "        const dataTable =\n",
              "          await google.colab.kernel.invokeFunction('convertToInteractive',\n",
              "                                                    [key], {});\n",
              "        if (!dataTable) return;\n",
              "\n",
              "        const docLinkHtml = 'Like what you see? Visit the ' +\n",
              "          '<a target=\"_blank\" href=https://colab.research.google.com/notebooks/data_table.ipynb>data table notebook</a>'\n",
              "          + ' to learn more about interactive tables.';\n",
              "        element.innerHTML = '';\n",
              "        dataTable['output_type'] = 'display_data';\n",
              "        await google.colab.output.renderOutput(dataTable, element);\n",
              "        const docLink = document.createElement('div');\n",
              "        docLink.innerHTML = docLinkHtml;\n",
              "        element.appendChild(docLink);\n",
              "      }\n",
              "    </script>\n",
              "  </div>\n",
              "\n",
              "\n",
              "<div id=\"df-38695716-e5f4-46f8-a633-53723632181b\">\n",
              "  <button class=\"colab-df-quickchart\" onclick=\"quickchart('df-38695716-e5f4-46f8-a633-53723632181b')\"\n",
              "            title=\"Suggest charts\"\n",
              "            style=\"display:none;\">\n",
              "\n",
              "<svg xmlns=\"http://www.w3.org/2000/svg\" height=\"24px\"viewBox=\"0 0 24 24\"\n",
              "     width=\"24px\">\n",
              "    <g>\n",
              "        <path d=\"M19 3H5c-1.1 0-2 .9-2 2v14c0 1.1.9 2 2 2h14c1.1 0 2-.9 2-2V5c0-1.1-.9-2-2-2zM9 17H7v-7h2v7zm4 0h-2V7h2v10zm4 0h-2v-4h2v4z\"/>\n",
              "    </g>\n",
              "</svg>\n",
              "  </button>\n",
              "\n",
              "<style>\n",
              "  .colab-df-quickchart {\n",
              "      --bg-color: #E8F0FE;\n",
              "      --fill-color: #1967D2;\n",
              "      --hover-bg-color: #E2EBFA;\n",
              "      --hover-fill-color: #174EA6;\n",
              "      --disabled-fill-color: #AAA;\n",
              "      --disabled-bg-color: #DDD;\n",
              "  }\n",
              "\n",
              "  [theme=dark] .colab-df-quickchart {\n",
              "      --bg-color: #3B4455;\n",
              "      --fill-color: #D2E3FC;\n",
              "      --hover-bg-color: #434B5C;\n",
              "      --hover-fill-color: #FFFFFF;\n",
              "      --disabled-bg-color: #3B4455;\n",
              "      --disabled-fill-color: #666;\n",
              "  }\n",
              "\n",
              "  .colab-df-quickchart {\n",
              "    background-color: var(--bg-color);\n",
              "    border: none;\n",
              "    border-radius: 50%;\n",
              "    cursor: pointer;\n",
              "    display: none;\n",
              "    fill: var(--fill-color);\n",
              "    height: 32px;\n",
              "    padding: 0;\n",
              "    width: 32px;\n",
              "  }\n",
              "\n",
              "  .colab-df-quickchart:hover {\n",
              "    background-color: var(--hover-bg-color);\n",
              "    box-shadow: 0 1px 2px rgba(60, 64, 67, 0.3), 0 1px 3px 1px rgba(60, 64, 67, 0.15);\n",
              "    fill: var(--button-hover-fill-color);\n",
              "  }\n",
              "\n",
              "  .colab-df-quickchart-complete:disabled,\n",
              "  .colab-df-quickchart-complete:disabled:hover {\n",
              "    background-color: var(--disabled-bg-color);\n",
              "    fill: var(--disabled-fill-color);\n",
              "    box-shadow: none;\n",
              "  }\n",
              "\n",
              "  .colab-df-spinner {\n",
              "    border: 2px solid var(--fill-color);\n",
              "    border-color: transparent;\n",
              "    border-bottom-color: var(--fill-color);\n",
              "    animation:\n",
              "      spin 1s steps(1) infinite;\n",
              "  }\n",
              "\n",
              "  @keyframes spin {\n",
              "    0% {\n",
              "      border-color: transparent;\n",
              "      border-bottom-color: var(--fill-color);\n",
              "      border-left-color: var(--fill-color);\n",
              "    }\n",
              "    20% {\n",
              "      border-color: transparent;\n",
              "      border-left-color: var(--fill-color);\n",
              "      border-top-color: var(--fill-color);\n",
              "    }\n",
              "    30% {\n",
              "      border-color: transparent;\n",
              "      border-left-color: var(--fill-color);\n",
              "      border-top-color: var(--fill-color);\n",
              "      border-right-color: var(--fill-color);\n",
              "    }\n",
              "    40% {\n",
              "      border-color: transparent;\n",
              "      border-right-color: var(--fill-color);\n",
              "      border-top-color: var(--fill-color);\n",
              "    }\n",
              "    60% {\n",
              "      border-color: transparent;\n",
              "      border-right-color: var(--fill-color);\n",
              "    }\n",
              "    80% {\n",
              "      border-color: transparent;\n",
              "      border-right-color: var(--fill-color);\n",
              "      border-bottom-color: var(--fill-color);\n",
              "    }\n",
              "    90% {\n",
              "      border-color: transparent;\n",
              "      border-bottom-color: var(--fill-color);\n",
              "    }\n",
              "  }\n",
              "</style>\n",
              "\n",
              "  <script>\n",
              "    async function quickchart(key) {\n",
              "      const quickchartButtonEl =\n",
              "        document.querySelector('#' + key + ' button');\n",
              "      quickchartButtonEl.disabled = true;  // To prevent multiple clicks.\n",
              "      quickchartButtonEl.classList.add('colab-df-spinner');\n",
              "      try {\n",
              "        const charts = await google.colab.kernel.invokeFunction(\n",
              "            'suggestCharts', [key], {});\n",
              "      } catch (error) {\n",
              "        console.error('Error during call to suggestCharts:', error);\n",
              "      }\n",
              "      quickchartButtonEl.classList.remove('colab-df-spinner');\n",
              "      quickchartButtonEl.classList.add('colab-df-quickchart-complete');\n",
              "    }\n",
              "    (() => {\n",
              "      let quickchartButtonEl =\n",
              "        document.querySelector('#df-38695716-e5f4-46f8-a633-53723632181b button');\n",
              "      quickchartButtonEl.style.display =\n",
              "        google.colab.kernel.accessAllowed ? 'block' : 'none';\n",
              "    })();\n",
              "  </script>\n",
              "</div>\n",
              "    </div>\n",
              "  </div>\n"
            ]
          },
          "metadata": {},
          "execution_count": 49
        }
      ],
      "source": [
        "pokemon_type1_stat = pokemon_df.groupby('Type_1').mean().reset_index()\n",
        "pokemon_type1_stat"
      ]
    },
    {
      "cell_type": "code",
      "execution_count": null,
      "metadata": {
        "id": "Fk4dOquO6nhC"
      },
      "outputs": [],
      "source": [
        "#hist"
      ]
    },
    {
      "cell_type": "code",
      "execution_count": null,
      "metadata": {
        "id": "8N82c8La6nhC",
        "scrolled": true
      },
      "outputs": [],
      "source": [
        "#hist"
      ]
    },
    {
      "cell_type": "code",
      "execution_count": null,
      "metadata": {
        "id": "SKwDQvz1rM4c"
      },
      "outputs": [],
      "source": []
    },
    {
      "cell_type": "markdown",
      "metadata": {
        "id": "cQMe8egL6nhC"
      },
      "source": [
        "#### Excercise 5: Draw a histogram for unaggregated pokemon df HP in matplotlib, sns"
      ]
    },
    {
      "cell_type": "code",
      "execution_count": 57,
      "metadata": {
        "id": "iztCIxo86nhC",
        "scrolled": true,
        "colab": {
          "base_uri": "https://localhost:8080/",
          "height": 501
        },
        "outputId": "80467c0c-7a5f-4e84-f10d-1d94a42cf5c7"
      },
      "outputs": [
        {
          "output_type": "execute_result",
          "data": {
            "text/plain": [
              "(array([3., 6., 1., 3., 2.]),\n",
              " array([ 50.        ,  60.57142857,  71.14285714,  81.71428571,\n",
              "         92.28571429, 102.85714286]),\n",
              " <BarContainer object of 5 artists>)"
            ]
          },
          "metadata": {},
          "execution_count": 57
        },
        {
          "output_type": "display_data",
          "data": {
            "text/plain": [
              "<Figure size 640x480 with 1 Axes>"
            ],
            "image/png": "[encoded data removed]"
          },
          "metadata": {}
        }
      ],
      "source": [
        "#hist\n",
        "plt.hist(pokemon_type1_stat['Attack'], bins=5, color='g')"
      ]
    },
    {
      "cell_type": "code",
      "execution_count": null,
      "metadata": {
        "id": "qa7gQ28r6nhD",
        "scrolled": true
      },
      "outputs": [],
      "source": [
        "#hist"
      ]
    },
    {
      "cell_type": "code",
      "execution_count": null,
      "metadata": {
        "id": "PLwkmtoH6nhD"
      },
      "outputs": [],
      "source": [
        "#sns hist"
      ]
    },
    {
      "cell_type": "code",
      "execution_count": null,
      "metadata": {
        "id": "R_VIPa6gqXBA"
      },
      "outputs": [],
      "source": []
    },
    {
      "cell_type": "markdown",
      "metadata": {
        "id": "VZf_kiKa6nhD"
      },
      "source": [
        "#### Excercise 6: Draw line plot"
      ]
    },
    {
      "cell_type": "code",
      "execution_count": null,
      "metadata": {
        "id": "PQuXU9rf6nhD"
      },
      "outputs": [],
      "source": [
        "# plot df"
      ]
    },
    {
      "cell_type": "code",
      "execution_count": null,
      "metadata": {
        "id": "R-c8QNZarw18"
      },
      "outputs": [],
      "source": []
    },
    {
      "cell_type": "code",
      "execution_count": null,
      "metadata": {
        "id": "1dQCJzmbs-Cf"
      },
      "outputs": [],
      "source": []
    },
    {
      "cell_type": "code",
      "execution_count": null,
      "metadata": {
        "id": "51EE5AxrtXhb"
      },
      "outputs": [],
      "source": []
    },
    {
      "cell_type": "markdown",
      "metadata": {
        "id": "q-YDUdmW6nhD"
      },
      "source": [
        "#### Excercise 7: Draw a line plot for Attack, Defense in matplotlib, sns"
      ]
    },
    {
      "cell_type": "code",
      "execution_count": null,
      "metadata": {
        "id": "wa8Uqgao6nhE",
        "scrolled": true
      },
      "outputs": [],
      "source": []
    },
    {
      "cell_type": "code",
      "execution_count": null,
      "metadata": {
        "id": "2nzJKeiu6nhE",
        "scrolled": true
      },
      "outputs": [],
      "source": []
    },
    {
      "cell_type": "code",
      "execution_count": null,
      "metadata": {
        "id": "szJcurXM6nhE"
      },
      "outputs": [],
      "source": []
    },
    {
      "cell_type": "markdown",
      "metadata": {
        "id": "TZdhIEaP6nhE"
      },
      "source": [
        "#### Excercise 8: Draw box plot"
      ]
    },
    {
      "cell_type": "code",
      "execution_count": null,
      "metadata": {
        "id": "TiL0L69-6nhE",
        "scrolled": true
      },
      "outputs": [],
      "source": []
    },
    {
      "cell_type": "code",
      "execution_count": null,
      "metadata": {
        "colab": {
          "base_uri": "https://localhost:8080/"
        },
        "id": "A4mVD3SivWiS",
        "outputId": "ed685874-7e6a-4373-a671-ab943ffae8f4"
      },
      "outputs": [
        {
          "data": {
            "text/plain": [
              "407.0794701986755"
            ]
          },
          "execution_count": 40,
          "metadata": {},
          "output_type": "execute_result"
        }
      ],
      "source": [
        "pokemon_df['Total'].mean()"
      ]
    },
    {
      "cell_type": "code",
      "execution_count": null,
      "metadata": {
        "colab": {
          "base_uri": "https://localhost:8080/"
        },
        "id": "7lWe4JbRvfMR",
        "outputId": "b9047fab-3e65-45b9-dde4-2505d6294655"
      },
      "outputs": [
        {
          "data": {
            "text/plain": [
              "405.0"
            ]
          },
          "execution_count": 41,
          "metadata": {},
          "output_type": "execute_result"
        }
      ],
      "source": [
        "pokemon_df['Total'].median()"
      ]
    },
    {
      "cell_type": "code",
      "execution_count": null,
      "metadata": {
        "id": "cbPDStaE6nhE"
      },
      "outputs": [],
      "source": []
    },
    {
      "cell_type": "code",
      "execution_count": null,
      "metadata": {
        "id": "_hDBGBmSw9y8"
      },
      "outputs": [],
      "source": []
    },
    {
      "cell_type": "markdown",
      "metadata": {
        "id": "iNGEJvnt6nhE"
      },
      "source": [
        "#### Excercise 9: Draw a box plot for Attack, Defense in matplotlib and sns"
      ]
    },
    {
      "cell_type": "code",
      "execution_count": null,
      "metadata": {
        "id": "oVnpsg2W6nhE"
      },
      "outputs": [],
      "source": []
    },
    {
      "cell_type": "code",
      "execution_count": null,
      "metadata": {
        "id": "oZJRcR136nhF",
        "scrolled": true
      },
      "outputs": [],
      "source": []
    },
    {
      "cell_type": "markdown",
      "metadata": {
        "id": "gX-9dn9B6nhF"
      },
      "source": [
        "#### Excercise 10: Draw distribution plots"
      ]
    },
    {
      "cell_type": "markdown",
      "metadata": {
        "id": "TUJ5YPKIzBDX"
      },
      "source": [
        "### Exercise 10.2 * Draw three stage pokemon distributions of Total with only dataframe manipulation"
      ]
    },
    {
      "cell_type": "markdown",
      "metadata": {
        "id": "nQezj_kF6nhF"
      },
      "source": [
        "#### Excercise 11: Draw a distribution plot for Attack and Defense in matplotlib and sns"
      ]
    },
    {
      "cell_type": "markdown",
      "metadata": {
        "id": "_bsW-Kbs6nhG"
      },
      "source": [
        "#### Excercise 12: Draw axis and legend control plots"
      ]
    },
    {
      "cell_type": "markdown",
      "metadata": {
        "id": "cGe72zbM6nhH"
      },
      "source": [
        "#### Excercise 13: Draw a plot for Attack and Sp_Def in matplotlib with both working methods and sns\n",
        "\n",
        "\n"
      ]
    },
    {
      "cell_type": "markdown",
      "metadata": {
        "id": "1ZMyodBi6nhH"
      },
      "source": [
        "#### Excercise 14: Draw text control plots"
      ]
    },
    {
      "cell_type": "markdown",
      "metadata": {
        "id": "v25irnir6nhH"
      },
      "source": [
        "#### Excercise 15: Draw a text for Sp_Atk and Sp_Def scatterplot in matplotlib"
      ]
    },
    {
      "cell_type": "markdown",
      "metadata": {
        "id": "KsquMta96nhI"
      },
      "source": [
        "#### Excercise 16: Draw palette control plots"
      ]
    },
    {
      "cell_type": "markdown",
      "metadata": {
        "id": "5IRGWVCc6nhI"
      },
      "source": [
        "#### Excercise 17: Draw a controleed palette for Sp_Atk and Sp_Def scatterplot in matplotlib"
      ]
    },
    {
      "cell_type": "markdown",
      "metadata": {
        "id": "p4Mr-Pus6nhJ"
      },
      "source": [
        "#### Excercise 18: Draw a plot layuout\n"
      ]
    },
    {
      "cell_type": "markdown",
      "metadata": {
        "id": "cfCN8T3V6nhJ"
      },
      "source": [
        "#### Excercise 19: Draw all distributions for all features"
      ]
    },
    {
      "cell_type": "markdown",
      "metadata": {
        "id": "9IzmMtWd6nhJ"
      },
      "source": [
        "#### Excercise 20: Draw all HP distibutions for all pokemon Types 1 and 2"
      ]
    },
    {
      "cell_type": "markdown",
      "metadata": {
        "id": "LYXHQI03ByON"
      },
      "source": [
        "### Exercise 20.1 Analyze Atacking pokemons and Healthy pokemons\n",
        "\n",
        "Atacking pokemon is a pockemon with more attack than defense\n",
        "Attack type 1 -- Attack < 0.33 of defense\n",
        "Attack type 3 -- Attack >= 0.66 of degense\n",
        "Attack type 2 -- everything else\n",
        "\n",
        "Healthy pokemons are pokemos having twice as many health as attack\n",
        "\n",
        "You to draw a set of scatterpolots between Sp Attack and Special defense for all types of Atacking pockemons and Healthy pockemons"
      ]
    },
    {
      "cell_type": "markdown",
      "metadata": {
        "id": "lBZYjk6E6nhK"
      },
      "source": [
        "#### Excercise 21: Write result of the drawing to image in the following example"
      ]
    },
    {
      "cell_type": "markdown",
      "metadata": {
        "id": "jOUPqoOS6nhK"
      },
      "source": [
        "![](matplotlib_test.png 'Pokemon stats')"
      ]
    },
    {
      "cell_type": "markdown",
      "metadata": {
        "id": "WuUUtcRG6nhK"
      },
      "source": [
        "#### Excercise 22: Draw all histograms for all parameters on one plot and save them to image [sns|plt]_histograms.png"
      ]
    },
    {
      "cell_type": "markdown",
      "metadata": {
        "id": "GawaTO7VNYSb"
      },
      "source": [
        "### Exercise 22.2 Output to image results on Attacking type pokemons and Healthy pokemons"
      ]
    },
    {
      "cell_type": "markdown",
      "metadata": {
        "id": "Iq82vgkM6nhK"
      },
      "source": [
        "#### Excercise 23: Perform hoover image"
      ]
    },
    {
      "cell_type": "markdown",
      "metadata": {
        "id": "GGWNGgjE6nhL"
      },
      "source": [
        "#### Excercise 24: Create hoover image for Sp_Atk, Sp_Def pair and Stage, HP parameters"
      ]
    },
    {
      "cell_type": "markdown",
      "metadata": {
        "id": "CYwaojYn6nhL"
      },
      "source": [
        "#### Excercise 25: Perform selection trick"
      ]
    },
    {
      "cell_type": "code",
      "execution_count": null,
      "metadata": {
        "id": "lM7WhIZO6nhL"
      },
      "outputs": [],
      "source": [
        "%%html\n",
        "<iframe src=\"Bokeh_Pokemon.html\" height=500 width=800></iframe>"
      ]
    },
    {
      "cell_type": "markdown",
      "metadata": {
        "id": "DQmn2bSL6nhL"
      },
      "source": [
        "#### Excercise 26: Create selection effect for Sp_Atk, Sp_Def pair and Stage, HP parameters"
      ]
    },
    {
      "cell_type": "markdown",
      "metadata": {
        "id": "wwYZtuCh6nhL"
      },
      "source": [
        "#### Excercise 27: Perform double selection trick"
      ]
    },
    {
      "cell_type": "markdown",
      "metadata": {
        "id": "QKhZA3N19F15"
      },
      "source": [
        "### Exercise 28. Pandas profiling\n",
        "\n",
        "https://pandas-profiling.ydata.ai/docs/master/index.html\n",
        "\n",
        "\n",
        "https://pandas-profiling.ydata.ai/docs/master/pages/getting_started/examples.html"
      ]
    },
    {
      "cell_type": "markdown",
      "metadata": {
        "id": "4Rck1hnpLaaI"
      },
      "source": [
        "### Exercise 29. Plotly example (that works in colab)"
      ]
    },
    {
      "cell_type": "markdown",
      "metadata": {
        "id": "Pc4Zav4wLmo9"
      },
      "source": [
        "### Awesome examples of visualization with matplotlib\n",
        "\n",
        "https://www.machinelearningplus.com/plots/top-50-matplotlib-visualizations-the-master-plots-python/"
      ]
    },
    {
      "cell_type": "code",
      "execution_count": null,
      "metadata": {
        "id": "C_KcsxLoLxdV"
      },
      "outputs": [],
      "source": []
    }
  ]
}