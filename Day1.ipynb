{
  "nbformat": 4,
  "nbformat_minor": 0,
  "metadata": {
    "colab": {
      "provenance": [],
      "collapsed_sections": [
        "AMFI-d96YZB2",
        "jPzUqfKXYZCH",
        "ZkhOFANDYZCk"
      ],
      "include_colab_link": true
    },
    "kernelspec": {
      "name": "python3",
      "display_name": "Python 3"
    },
    "language_info": {
      "name": "python"
    }
  },
  "cells": [
    {
      "cell_type": "markdown",
      "metadata": {
        "id": "view-in-github",
        "colab_type": "text"
      },
      "source": [
        "<a href=\"https://colab.research.google.com/github/fortune-max/M4-python-refresher-ml/blob/main/Day1.ipynb\" target=\"_parent\"><img src=\"https://colab.research.google.com/assets/colab-badge.svg\" alt=\"Open In Colab\"/></a>"
      ]
    },
    {
      "cell_type": "code",
      "execution_count": 1,
      "metadata": {
        "id": "F0yJkHE-6gjG",
        "outputId": "7171946c-e747-4f35-d3ff-9528480b573a",
        "colab": {
          "base_uri": "https://localhost:8080/"
        }
      },
      "outputs": [
        {
          "output_type": "stream",
          "name": "stdout",
          "text": [
            "Mounted at /content/gdrive\n"
          ]
        }
      ],
      "source": [
        "from google.colab import drive\n",
        "drive.mount('/content/gdrive')"
      ]
    },
    {
      "cell_type": "markdown",
      "source": [
        "BASIC PYTHON https://create.kahoot.it/details/fcd038f4-6b05-485b-afe3-ce67e05b1695"
      ],
      "metadata": {
        "id": "suA0q_UB0btC"
      }
    },
    {
      "cell_type": "markdown",
      "metadata": {
        "id": "AMFI-d96YZB2"
      },
      "source": [
        "## Basics"
      ]
    },
    {
      "cell_type": "code",
      "metadata": {
        "id": "0vqblbJDDzNY",
        "colab": {
          "base_uri": "https://localhost:8080/"
        },
        "outputId": "60b68d89-0fc6-4759-e89b-3e7b71b6ee63"
      },
      "source": [
        "from google.colab import drive\n",
        "\n",
        "drive.mount('/content/gdrive')"
      ],
      "execution_count": 2,
      "outputs": [
        {
          "output_type": "stream",
          "name": "stdout",
          "text": [
            "Drive already mounted at /content/gdrive; to attempt to forcibly remount, call drive.mount(\"/content/gdrive\", force_remount=True).\n"
          ]
        }
      ]
    },
    {
      "cell_type": "code",
      "source": [
        "!ls"
      ],
      "metadata": {
        "id": "Wi0oCGiOq2kW",
        "colab": {
          "base_uri": "https://localhost:8080/"
        },
        "outputId": "7165e120-25a0-4401-a72f-5ee9ac956534"
      },
      "execution_count": 2,
      "outputs": [
        {
          "output_type": "stream",
          "name": "stdout",
          "text": [
            "gdrive\tsample_data\n"
          ]
        }
      ]
    },
    {
      "cell_type": "markdown",
      "source": [
        "!ls gdrive/MyDrive/DS404/DS404_Classwork/"
      ],
      "metadata": {
        "id": "N76UiPB2wHoF"
      }
    },
    {
      "cell_type": "code",
      "source": [
        "!ls gdrive/MyDrive/DS404/DS404_Classwork/Day_1_materials/"
      ],
      "metadata": {
        "id": "MEy_i3Uh-97N",
        "outputId": "19fa815f-bdd3-488b-9d36-8a51d8dc9347",
        "colab": {
          "base_uri": "https://localhost:8080/"
        }
      },
      "execution_count": 3,
      "outputs": [
        {
          "output_type": "stream",
          "name": "stdout",
          "text": [
            "alice_00.txt  alice_02.txt  alice_04.txt  alice_06.txt\talice_08.txt  titanic.csv\n",
            "alice_01.txt  alice_03.txt  alice_05.txt  alice_07.txt\timports.py\n"
          ]
        }
      ]
    },
    {
      "cell_type": "code",
      "source": [
        "!ls gdrive/MyDrive/DS404/DS404_Classwork -la"
      ],
      "metadata": {
        "id": "ZIxLpsFHwHgP",
        "outputId": "2dca822f-3d24-4f1e-a36b-ca04138063ff",
        "colab": {
          "base_uri": "https://localhost:8080/"
        }
      },
      "execution_count": 5,
      "outputs": [
        {
          "output_type": "stream",
          "name": "stdout",
          "text": [
            "lrw------- 1 root root 0 Nov 27 08:47 gdrive/MyDrive/DS404/DS404_Classwork -> /content/gdrive/.shortcut-targets-by-id/13pwU9AX5-JsuJ66iqlVhTOvcSDg5IrXW/DS404_Classwork\n"
          ]
        }
      ]
    },
    {
      "cell_type": "markdown",
      "source": [],
      "metadata": {
        "id": "2lzMlkpPwG1H"
      }
    },
    {
      "cell_type": "markdown",
      "source": [
        "#### Exercise 1.1: execute simple cell in jupyter"
      ],
      "metadata": {
        "id": "IWjeGBu9ztGy"
      }
    },
    {
      "cell_type": "markdown",
      "source": [],
      "metadata": {
        "id": "5RVo73H1zwug"
      }
    },
    {
      "cell_type": "markdown",
      "source": [
        "#### Exercise 1.2: Play around with variables (int, str, dict, list)"
      ],
      "metadata": {
        "id": "97TNlVA1zv_0"
      }
    },
    {
      "cell_type": "code",
      "source": [],
      "metadata": {
        "id": "PMca3CiuzxyH"
      },
      "execution_count": null,
      "outputs": []
    },
    {
      "cell_type": "markdown",
      "metadata": {
        "id": "jPzUqfKXYZCH"
      },
      "source": [
        "## Hotkey practice"
      ]
    },
    {
      "cell_type": "markdown",
      "metadata": {
        "id": "KCFvW-CrYZCI"
      },
      "source": [
        "#### Exercise 2.1: Spit cell"
      ]
    },
    {
      "cell_type": "code",
      "metadata": {
        "id": "749GT86LYZCI"
      },
      "source": [
        "param_set = {'iterations':10,\n",
        "            'subiterations':100}\n",
        "\n",
        "# split here ---- CtrL+M+'-'"
      ],
      "execution_count": null,
      "outputs": []
    },
    {
      "cell_type": "code",
      "source": [
        "\n",
        "\n",
        "for i in range(param_set['iterations']):\n",
        "    for j in range(param_set['subiterations']):\n",
        "        pass\n",
        "\n",
        "        #Join cells:  Ctrl+Shift+M"
      ],
      "metadata": {
        "id": "is8QFrSfzUnG"
      },
      "execution_count": null,
      "outputs": []
    },
    {
      "cell_type": "markdown",
      "metadata": {
        "id": "h0cVo9fxYZCP"
      },
      "source": [
        "#### Exercise 2.2: Sort rows manually with C and V commands\n",
        "#### Exercise 2.3: Merge resulting rows in one"
      ]
    },
    {
      "cell_type": "markdown",
      "metadata": {
        "id": "B_OiFZQBYZCQ"
      },
      "source": [
        "00 w\n",
        "\n",
        "03 l\n",
        "\n",
        "\n",
        "04  \n",
        "\n",
        "\n",
        "\n",
        "01 e\n",
        "\n",
        "\n",
        "02 l\n",
        "\n",
        "\n",
        "05 d\n",
        "\n",
        "07 n\n",
        "\n",
        "\n",
        "08 e\n",
        "\n",
        "\n",
        "06 o\n"
      ]
    },
    {
      "cell_type": "code",
      "source": [],
      "metadata": {
        "id": "ZsUStUHnUsrv"
      },
      "execution_count": null,
      "outputs": []
    },
    {
      "cell_type": "markdown",
      "metadata": {
        "id": "Kebf6nIvYZCQ"
      },
      "source": [
        "#### Exercise 2.4: delete empty rows"
      ]
    },
    {
      "cell_type": "code",
      "metadata": {
        "id": "CM-bpyOhYZCR"
      },
      "source": [
        "import numpy as np"
      ],
      "execution_count": null,
      "outputs": []
    },
    {
      "cell_type": "code",
      "metadata": {
        "id": "K1AOWlQfYZCW"
      },
      "source": [
        "import matplotlib.pyplot as plt"
      ],
      "execution_count": null,
      "outputs": []
    },
    {
      "cell_type": "code",
      "source": [],
      "metadata": {
        "id": "MN9TjSzYU1fz"
      },
      "execution_count": null,
      "outputs": []
    },
    {
      "cell_type": "markdown",
      "metadata": {
        "id": "w0Jl_mP_YZCZ"
      },
      "source": [
        "## Readign text data with jupyter magic commands"
      ]
    },
    {
      "cell_type": "markdown",
      "metadata": {
        "id": "Q5AcOAWnYZCZ"
      },
      "source": [
        "#### Exercise 3.1:\n",
        "- Read files with Alice quotes to array.\n",
        "- Make a dict: key = filename, value = content of the file\n",
        "\n",
        "Hint: how to see file content through terminal?  "
      ]
    },
    {
      "cell_type": "code",
      "source": [
        "%cd gdrive/MyDrive/DS404/DS404_Classwork/Day_1_materials"
      ],
      "metadata": {
        "id": "urc6af0vREqi",
        "outputId": "869d31ad-0735-484c-fb11-0c5348c9fc42",
        "colab": {
          "base_uri": "https://localhost:8080/"
        }
      },
      "execution_count": 6,
      "outputs": [
        {
          "output_type": "stream",
          "name": "stdout",
          "text": [
            "/content/gdrive/.shortcut-targets-by-id/17mbG6fv4b3eTpretBs93iQprdututNGa/Day_1_materials\n"
          ]
        }
      ]
    },
    {
      "cell_type": "code",
      "metadata": {
        "id": "h7O6YksjCypZ",
        "colab": {
          "base_uri": "https://localhost:8080/"
        },
        "outputId": "d0354c1b-e65d-476c-ca38-2b8a7c470a5a"
      },
      "source": [
        "# !cp gdrive/MyDrive/DS404/DS404_Classwork/Day_1_materials/* .\n",
        "!ls"
      ],
      "execution_count": 7,
      "outputs": [
        {
          "output_type": "stream",
          "name": "stdout",
          "text": [
            "alice_00.txt  alice_02.txt  alice_04.txt  alice_06.txt\talice_08.txt  titanic.csv\n",
            "alice_01.txt  alice_03.txt  alice_05.txt  alice_07.txt\timports.py\n"
          ]
        }
      ]
    },
    {
      "cell_type": "code",
      "source": [
        "!ls alice* -l"
      ],
      "metadata": {
        "id": "Cdnh3U2wOezs",
        "colab": {
          "base_uri": "https://localhost:8080/"
        },
        "outputId": "9066e878-0cae-4d54-9b5a-a14bfb025952"
      },
      "execution_count": 8,
      "outputs": [
        {
          "output_type": "stream",
          "name": "stdout",
          "text": [
            "-r-------- 1 root root  92 Nov 19 09:43 alice_00.txt\n",
            "-r-------- 1 root root 123 Nov 19 09:44 alice_01.txt\n",
            "-r-------- 1 root root 247 Nov 19 09:43 alice_02.txt\n",
            "-r-------- 1 root root 202 Nov 19 09:44 alice_03.txt\n",
            "-r-------- 1 root root 155 Nov 19 09:44 alice_04.txt\n",
            "-r-------- 1 root root 135 Nov 19 09:44 alice_05.txt\n",
            "-r-------- 1 root root 281 Nov 19 09:44 alice_06.txt\n",
            "-r-------- 1 root root 483 Nov 19 09:44 alice_07.txt\n",
            "-r-------- 1 root root 405 Nov 19 09:44 alice_08.txt\n"
          ]
        }
      ]
    },
    {
      "cell_type": "code",
      "source": [
        "!cat alice_00.txt"
      ],
      "metadata": {
        "id": "LecCYkeKOeSx",
        "colab": {
          "base_uri": "https://localhost:8080/"
        },
        "outputId": "e4bd8023-a743-493b-d862-55420936592c"
      },
      "execution_count": 9,
      "outputs": [
        {
          "output_type": "stream",
          "name": "stdout",
          "text": [
            "“And what is the use of a book,” thought Alice, “without pictures or conversations?”"
          ]
        }
      ]
    },
    {
      "cell_type": "code",
      "metadata": {
        "scrolled": true,
        "id": "nG-lR2rCYZCa"
      },
      "source": [],
      "execution_count": null,
      "outputs": []
    },
    {
      "cell_type": "code",
      "metadata": {
        "id": "Z8UAFYOnYZCe"
      },
      "source": [],
      "execution_count": null,
      "outputs": []
    },
    {
      "cell_type": "markdown",
      "source": [],
      "metadata": {
        "id": "OGHrt-llYZCh"
      }
    },
    {
      "cell_type": "markdown",
      "metadata": {
        "id": "ZkhOFANDYZCk"
      },
      "source": [
        "#### Exercise 3.2: Modify the code so only non single line citations will be prenet"
      ]
    },
    {
      "cell_type": "code",
      "source": [
        "a = !ls -1 alice*\n",
        "print(a)"
      ],
      "metadata": {
        "id": "U_h6mAwFpsSB",
        "outputId": "2e9bcdf6-3d0f-4866-f73d-6f48721d9cb2",
        "colab": {
          "base_uri": "https://localhost:8080/"
        }
      },
      "execution_count": 13,
      "outputs": [
        {
          "output_type": "stream",
          "name": "stdout",
          "text": [
            "['alice_00.txt', 'alice_01.txt', 'alice_02.txt', 'alice_03.txt', 'alice_04.txt', 'alice_05.txt', 'alice_06.txt', 'alice_07.txt', 'alice_08.txt']\n"
          ]
        }
      ]
    },
    {
      "cell_type": "code",
      "metadata": {
        "scrolled": true,
        "id": "Ubb9Vb4UYZCk",
        "outputId": "48fa259f-0eca-4d42-8049-2a4758e17254",
        "colab": {
          "base_uri": "https://localhost:8080/"
        }
      },
      "source": [
        "file_list = !ls -1 alice*\n",
        "\n",
        "for file_name in file_list:\n",
        "  file_content = !cat $file_name\n",
        "  if len(file_content) != 1:\n",
        "    print(file_name, len(file_content))"
      ],
      "execution_count": 17,
      "outputs": [
        {
          "output_type": "stream",
          "name": "stdout",
          "text": [
            "alice_06.txt 2\n",
            "alice_07.txt 4\n",
            "alice_08.txt 6\n"
          ]
        }
      ]
    },
    {
      "cell_type": "markdown",
      "metadata": {
        "id": "EyomeQv_YZCn"
      },
      "source": [
        "#### Exercise 3.3. Use grep console function select only lines with Alice string present (str funtions)\n",
        "[str methods](https://docs.python.org/3/library/string.html)"
      ]
    },
    {
      "cell_type": "code",
      "metadata": {
        "scrolled": true,
        "id": "cmOFcYruYZCo",
        "outputId": "1944853e-fb72-4a39-e12d-52755e76f312",
        "colab": {
          "base_uri": "https://localhost:8080/"
        }
      },
      "source": [
        "!grep \"Alice\" alice*.txt"
      ],
      "execution_count": 30,
      "outputs": [
        {
          "output_type": "stream",
          "name": "stdout",
          "text": [
            "alice_00.txt:“And what is the use of a book,” thought Alice, “without pictures or conversations?”\n",
            "alice_02.txt:“Oh, how I wish I could shut up like a telescope! I think I could, if only I knew how to begin.” For, you see, so many out-of-the-way things had happened lately, that Alice had begun to think that very few things indeed were really impossible.\n",
            "alice_03.txt:It was all very well to say “Drink me,” but the wise little Alice was not going to do that in a hurry. “No, I’ll look first,” she said, “and see whether it’s marked ‘poison’ or not.”\n",
            "alice_04.txt:“But it’s no use now,” thought poor Alice, “to pretend to be two people! Why, there’s hardly enough of me left to make one respectable person!”\n",
            "alice_05.txt:“Curiouser and curiouser!” cried Alice (she was so much surprised, that for the moment she quite forgot how to speak good English).\n",
            "alice_06.txt:“Not at all,” said Alice: “she’s so extremely—” Just then she noticed that the Queen was close behind her, listening: so she went on “—likely to win, that it’s hardly worth while finishing the game.”\n",
            "alice_07.txt:This was not an encouraging opening for a conversation. Alice replied, rather shyly, “I—I hardly know, Sir, just at present—at least I know who I was when I got up this morning, but I think I must have been changed several times since then.”\n",
            "alice_07.txt:“I ca’n’t explain myself, I’m afraid, Sir,” said Alice, “because I am not myself, you see.”\n",
            "alice_08.txt:“I don’t much care where—” said Alice.\n",
            "alice_08.txt:“—so long as I get somewhere,” Alice added as an explanation.\n"
          ]
        }
      ]
    },
    {
      "cell_type": "code",
      "source": [
        "files = !ls alice*\n",
        "print(files)\n",
        "print(files[0])"
      ],
      "metadata": {
        "id": "irxDKocTq9d0",
        "outputId": "f2e99d4e-49b6-4bb9-eb2a-f9b3fdf158f3",
        "colab": {
          "base_uri": "https://localhost:8080/"
        }
      },
      "execution_count": 41,
      "outputs": [
        {
          "output_type": "stream",
          "name": "stdout",
          "text": [
            "['alice_00.txt  alice_02.txt  alice_04.txt  alice_06.txt\\talice_08.txt', 'alice_01.txt  alice_03.txt  alice_05.txt  alice_07.txt']\n",
            "alice_00.txt  alice_02.txt  alice_04.txt  alice_06.txt\talice_08.txt\n"
          ]
        }
      ]
    },
    {
      "cell_type": "markdown",
      "metadata": {
        "id": "MsbeaRWPYZCq"
      },
      "source": [
        "## Reading dataset with pandas"
      ]
    },
    {
      "cell_type": "markdown",
      "metadata": {
        "id": "CM-fdZQpYZCr"
      },
      "source": [
        "#### Exercise 4.1 import pandas"
      ]
    },
    {
      "cell_type": "code",
      "metadata": {
        "collapsed": true,
        "id": "x9_WSx3aYZCr"
      },
      "source": [
        "import pandas as pd"
      ],
      "execution_count": 42,
      "outputs": []
    },
    {
      "cell_type": "markdown",
      "metadata": {
        "id": "W7-xAXvpYZCu"
      },
      "source": [
        "#### Exercise 4.2 read dataset with pandas"
      ]
    },
    {
      "cell_type": "code",
      "metadata": {
        "scrolled": true,
        "id": "6j9NrxVWYZCu",
        "colab": {
          "base_uri": "https://localhost:8080/",
          "height": 424
        },
        "outputId": "0e282eba-f511-4acb-aaff-2a93a701d1fd"
      },
      "source": [
        "titanic_data_frame = pd.read_csv(\"titanic.csv\")\n",
        "titanic_data_frame"
      ],
      "execution_count": 43,
      "outputs": [
        {
          "output_type": "execute_result",
          "data": {
            "text/plain": [
              "     PassengerId  Survived  Pclass  \\\n",
              "0              1         0       3   \n",
              "1              2         1       1   \n",
              "2              3         1       3   \n",
              "3              4         1       1   \n",
              "4              5         0       3   \n",
              "..           ...       ...     ...   \n",
              "886          887         0       2   \n",
              "887          888         1       1   \n",
              "888          889         0       3   \n",
              "889          890         1       1   \n",
              "890          891         0       3   \n",
              "\n",
              "                                                  Name     Sex   Age  SibSp  \\\n",
              "0                              Braund, Mr. Owen Harris    male  22.0      1   \n",
              "1    Cumings, Mrs. John Bradley (Florence Briggs Th...  female  38.0      1   \n",
              "2                               Heikkinen, Miss. Laina  female  26.0      0   \n",
              "3         Futrelle, Mrs. Jacques Heath (Lily May Peel)  female  35.0      1   \n",
              "4                             Allen, Mr. William Henry    male  35.0      0   \n",
              "..                                                 ...     ...   ...    ...   \n",
              "886                              Montvila, Rev. Juozas    male  27.0      0   \n",
              "887                       Graham, Miss. Margaret Edith  female  19.0      0   \n",
              "888           Johnston, Miss. Catherine Helen \"Carrie\"  female   NaN      1   \n",
              "889                              Behr, Mr. Karl Howell    male  26.0      0   \n",
              "890                                Dooley, Mr. Patrick    male  32.0      0   \n",
              "\n",
              "     Parch            Ticket     Fare Cabin Embarked  \n",
              "0        0         A/5 21171   7.2500   NaN        S  \n",
              "1        0          PC 17599  71.2833   C85        C  \n",
              "2        0  STON/O2. 3101282   7.9250   NaN        S  \n",
              "3        0            113803  53.1000  C123        S  \n",
              "4        0            373450   8.0500   NaN        S  \n",
              "..     ...               ...      ...   ...      ...  \n",
              "886      0            211536  13.0000   NaN        S  \n",
              "887      0            112053  30.0000   B42        S  \n",
              "888      2        W./C. 6607  23.4500   NaN        S  \n",
              "889      0            111369  30.0000  C148        C  \n",
              "890      0            370376   7.7500   NaN        Q  \n",
              "\n",
              "[891 rows x 12 columns]"
            ],
            "text/html": [
              "\n",
              "  <div id=\"df-8c937db8-b3a2-49c8-8063-eb2779d46b1c\" class=\"colab-df-container\">\n",
              "    <div>\n",
              "<style scoped>\n",
              "    .dataframe tbody tr th:only-of-type {\n",
              "        vertical-align: middle;\n",
              "    }\n",
              "\n",
              "    .dataframe tbody tr th {\n",
              "        vertical-align: top;\n",
              "    }\n",
              "\n",
              "    .dataframe thead th {\n",
              "        text-align: right;\n",
              "    }\n",
              "</style>\n",
              "<table border=\"1\" class=\"dataframe\">\n",
              "  <thead>\n",
              "    <tr style=\"text-align: right;\">\n",
              "      <th></th>\n",
              "      <th>PassengerId</th>\n",
              "      <th>Survived</th>\n",
              "      <th>Pclass</th>\n",
              "      <th>Name</th>\n",
              "      <th>Sex</th>\n",
              "      <th>Age</th>\n",
              "      <th>SibSp</th>\n",
              "      <th>Parch</th>\n",
              "      <th>Ticket</th>\n",
              "      <th>Fare</th>\n",
              "      <th>Cabin</th>\n",
              "      <th>Embarked</th>\n",
              "    </tr>\n",
              "  </thead>\n",
              "  <tbody>\n",
              "    <tr>\n",
              "      <th>0</th>\n",
              "      <td>1</td>\n",
              "      <td>0</td>\n",
              "      <td>3</td>\n",
              "      <td>Braund, Mr. Owen Harris</td>\n",
              "      <td>male</td>\n",
              "      <td>22.0</td>\n",
              "      <td>1</td>\n",
              "      <td>0</td>\n",
              "      <td>A/5 21171</td>\n",
              "      <td>7.2500</td>\n",
              "      <td>NaN</td>\n",
              "      <td>S</td>\n",
              "    </tr>\n",
              "    <tr>\n",
              "      <th>1</th>\n",
              "      <td>2</td>\n",
              "      <td>1</td>\n",
              "      <td>1</td>\n",
              "      <td>Cumings, Mrs. John Bradley (Florence Briggs Th...</td>\n",
              "      <td>female</td>\n",
              "      <td>38.0</td>\n",
              "      <td>1</td>\n",
              "      <td>0</td>\n",
              "      <td>PC 17599</td>\n",
              "      <td>71.2833</td>\n",
              "      <td>C85</td>\n",
              "      <td>C</td>\n",
              "    </tr>\n",
              "    <tr>\n",
              "      <th>2</th>\n",
              "      <td>3</td>\n",
              "      <td>1</td>\n",
              "      <td>3</td>\n",
              "      <td>Heikkinen, Miss. Laina</td>\n",
              "      <td>female</td>\n",
              "      <td>26.0</td>\n",
              "      <td>0</td>\n",
              "      <td>0</td>\n",
              "      <td>STON/O2. 3101282</td>\n",
              "      <td>7.9250</td>\n",
              "      <td>NaN</td>\n",
              "      <td>S</td>\n",
              "    </tr>\n",
              "    <tr>\n",
              "      <th>3</th>\n",
              "      <td>4</td>\n",
              "      <td>1</td>\n",
              "      <td>1</td>\n",
              "      <td>Futrelle, Mrs. Jacques Heath (Lily May Peel)</td>\n",
              "      <td>female</td>\n",
              "      <td>35.0</td>\n",
              "      <td>1</td>\n",
              "      <td>0</td>\n",
              "      <td>113803</td>\n",
              "      <td>53.1000</td>\n",
              "      <td>C123</td>\n",
              "      <td>S</td>\n",
              "    </tr>\n",
              "    <tr>\n",
              "      <th>4</th>\n",
              "      <td>5</td>\n",
              "      <td>0</td>\n",
              "      <td>3</td>\n",
              "      <td>Allen, Mr. William Henry</td>\n",
              "      <td>male</td>\n",
              "      <td>35.0</td>\n",
              "      <td>0</td>\n",
              "      <td>0</td>\n",
              "      <td>373450</td>\n",
              "      <td>8.0500</td>\n",
              "      <td>NaN</td>\n",
              "      <td>S</td>\n",
              "    </tr>\n",
              "    <tr>\n",
              "      <th>...</th>\n",
              "      <td>...</td>\n",
              "      <td>...</td>\n",
              "      <td>...</td>\n",
              "      <td>...</td>\n",
              "      <td>...</td>\n",
              "      <td>...</td>\n",
              "      <td>...</td>\n",
              "      <td>...</td>\n",
              "      <td>...</td>\n",
              "      <td>...</td>\n",
              "      <td>...</td>\n",
              "      <td>...</td>\n",
              "    </tr>\n",
              "    <tr>\n",
              "      <th>886</th>\n",
              "      <td>887</td>\n",
              "      <td>0</td>\n",
              "      <td>2</td>\n",
              "      <td>Montvila, Rev. Juozas</td>\n",
              "      <td>male</td>\n",
              "      <td>27.0</td>\n",
              "      <td>0</td>\n",
              "      <td>0</td>\n",
              "      <td>211536</td>\n",
              "      <td>13.0000</td>\n",
              "      <td>NaN</td>\n",
              "      <td>S</td>\n",
              "    </tr>\n",
              "    <tr>\n",
              "      <th>887</th>\n",
              "      <td>888</td>\n",
              "      <td>1</td>\n",
              "      <td>1</td>\n",
              "      <td>Graham, Miss. Margaret Edith</td>\n",
              "      <td>female</td>\n",
              "      <td>19.0</td>\n",
              "      <td>0</td>\n",
              "      <td>0</td>\n",
              "      <td>112053</td>\n",
              "      <td>30.0000</td>\n",
              "      <td>B42</td>\n",
              "      <td>S</td>\n",
              "    </tr>\n",
              "    <tr>\n",
              "      <th>888</th>\n",
              "      <td>889</td>\n",
              "      <td>0</td>\n",
              "      <td>3</td>\n",
              "      <td>Johnston, Miss. Catherine Helen \"Carrie\"</td>\n",
              "      <td>female</td>\n",
              "      <td>NaN</td>\n",
              "      <td>1</td>\n",
              "      <td>2</td>\n",
              "      <td>W./C. 6607</td>\n",
              "      <td>23.4500</td>\n",
              "      <td>NaN</td>\n",
              "      <td>S</td>\n",
              "    </tr>\n",
              "    <tr>\n",
              "      <th>889</th>\n",
              "      <td>890</td>\n",
              "      <td>1</td>\n",
              "      <td>1</td>\n",
              "      <td>Behr, Mr. Karl Howell</td>\n",
              "      <td>male</td>\n",
              "      <td>26.0</td>\n",
              "      <td>0</td>\n",
              "      <td>0</td>\n",
              "      <td>111369</td>\n",
              "      <td>30.0000</td>\n",
              "      <td>C148</td>\n",
              "      <td>C</td>\n",
              "    </tr>\n",
              "    <tr>\n",
              "      <th>890</th>\n",
              "      <td>891</td>\n",
              "      <td>0</td>\n",
              "      <td>3</td>\n",
              "      <td>Dooley, Mr. Patrick</td>\n",
              "      <td>male</td>\n",
              "      <td>32.0</td>\n",
              "      <td>0</td>\n",
              "      <td>0</td>\n",
              "      <td>370376</td>\n",
              "      <td>7.7500</td>\n",
              "      <td>NaN</td>\n",
              "      <td>Q</td>\n",
              "    </tr>\n",
              "  </tbody>\n",
              "</table>\n",
              "<p>891 rows × 12 columns</p>\n",
              "</div>\n",
              "    <div class=\"colab-df-buttons\">\n",
              "\n",
              "  <div class=\"colab-df-container\">\n",
              "    <button class=\"colab-df-convert\" onclick=\"convertToInteractive('df-8c937db8-b3a2-49c8-8063-eb2779d46b1c')\"\n",
              "            title=\"Convert this dataframe to an interactive table.\"\n",
              "            style=\"display:none;\">\n",
              "\n",
              "  <svg xmlns=\"http://www.w3.org/2000/svg\" height=\"24px\" viewBox=\"0 -960 960 960\">\n",
              "    <path d=\"M120-120v-720h720v720H120Zm60-500h600v-160H180v160Zm220 220h160v-160H400v160Zm0 220h160v-160H400v160ZM180-400h160v-160H180v160Zm440 0h160v-160H620v160ZM180-180h160v-160H180v160Zm440 0h160v-160H620v160Z\"/>\n",
              "  </svg>\n",
              "    </button>\n",
              "\n",
              "  <style>\n",
              "    .colab-df-container {\n",
              "      display:flex;\n",
              "      gap: 12px;\n",
              "    }\n",
              "\n",
              "    .colab-df-convert {\n",
              "      background-color: #E8F0FE;\n",
              "      border: none;\n",
              "      border-radius: 50%;\n",
              "      cursor: pointer;\n",
              "      display: none;\n",
              "      fill: #1967D2;\n",
              "      height: 32px;\n",
              "      padding: 0 0 0 0;\n",
              "      width: 32px;\n",
              "    }\n",
              "\n",
              "    .colab-df-convert:hover {\n",
              "      background-color: #E2EBFA;\n",
              "      box-shadow: 0px 1px 2px rgba(60, 64, 67, 0.3), 0px 1px 3px 1px rgba(60, 64, 67, 0.15);\n",
              "      fill: #174EA6;\n",
              "    }\n",
              "\n",
              "    .colab-df-buttons div {\n",
              "      margin-bottom: 4px;\n",
              "    }\n",
              "\n",
              "    [theme=dark] .colab-df-convert {\n",
              "      background-color: #3B4455;\n",
              "      fill: #D2E3FC;\n",
              "    }\n",
              "\n",
              "    [theme=dark] .colab-df-convert:hover {\n",
              "      background-color: #434B5C;\n",
              "      box-shadow: 0px 1px 3px 1px rgba(0, 0, 0, 0.15);\n",
              "      filter: drop-shadow(0px 1px 2px rgba(0, 0, 0, 0.3));\n",
              "      fill: #FFFFFF;\n",
              "    }\n",
              "  </style>\n",
              "\n",
              "    <script>\n",
              "      const buttonEl =\n",
              "        document.querySelector('#df-8c937db8-b3a2-49c8-8063-eb2779d46b1c button.colab-df-convert');\n",
              "      buttonEl.style.display =\n",
              "        google.colab.kernel.accessAllowed ? 'block' : 'none';\n",
              "\n",
              "      async function convertToInteractive(key) {\n",
              "        const element = document.querySelector('#df-8c937db8-b3a2-49c8-8063-eb2779d46b1c');\n",
              "        const dataTable =\n",
              "          await google.colab.kernel.invokeFunction('convertToInteractive',\n",
              "                                                    [key], {});\n",
              "        if (!dataTable) return;\n",
              "\n",
              "        const docLinkHtml = 'Like what you see? Visit the ' +\n",
              "          '<a target=\"_blank\" href=https://colab.research.google.com/notebooks/data_table.ipynb>data table notebook</a>'\n",
              "          + ' to learn more about interactive tables.';\n",
              "        element.innerHTML = '';\n",
              "        dataTable['output_type'] = 'display_data';\n",
              "        await google.colab.output.renderOutput(dataTable, element);\n",
              "        const docLink = document.createElement('div');\n",
              "        docLink.innerHTML = docLinkHtml;\n",
              "        element.appendChild(docLink);\n",
              "      }\n",
              "    </script>\n",
              "  </div>\n",
              "\n",
              "\n",
              "<div id=\"df-ccf3c708-79a9-4a25-b659-fec2d80a396e\">\n",
              "  <button class=\"colab-df-quickchart\" onclick=\"quickchart('df-ccf3c708-79a9-4a25-b659-fec2d80a396e')\"\n",
              "            title=\"Suggest charts\"\n",
              "            style=\"display:none;\">\n",
              "\n",
              "<svg xmlns=\"http://www.w3.org/2000/svg\" height=\"24px\"viewBox=\"0 0 24 24\"\n",
              "     width=\"24px\">\n",
              "    <g>\n",
              "        <path d=\"M19 3H5c-1.1 0-2 .9-2 2v14c0 1.1.9 2 2 2h14c1.1 0 2-.9 2-2V5c0-1.1-.9-2-2-2zM9 17H7v-7h2v7zm4 0h-2V7h2v10zm4 0h-2v-4h2v4z\"/>\n",
              "    </g>\n",
              "</svg>\n",
              "  </button>\n",
              "\n",
              "<style>\n",
              "  .colab-df-quickchart {\n",
              "      --bg-color: #E8F0FE;\n",
              "      --fill-color: #1967D2;\n",
              "      --hover-bg-color: #E2EBFA;\n",
              "      --hover-fill-color: #174EA6;\n",
              "      --disabled-fill-color: #AAA;\n",
              "      --disabled-bg-color: #DDD;\n",
              "  }\n",
              "\n",
              "  [theme=dark] .colab-df-quickchart {\n",
              "      --bg-color: #3B4455;\n",
              "      --fill-color: #D2E3FC;\n",
              "      --hover-bg-color: #434B5C;\n",
              "      --hover-fill-color: #FFFFFF;\n",
              "      --disabled-bg-color: #3B4455;\n",
              "      --disabled-fill-color: #666;\n",
              "  }\n",
              "\n",
              "  .colab-df-quickchart {\n",
              "    background-color: var(--bg-color);\n",
              "    border: none;\n",
              "    border-radius: 50%;\n",
              "    cursor: pointer;\n",
              "    display: none;\n",
              "    fill: var(--fill-color);\n",
              "    height: 32px;\n",
              "    padding: 0;\n",
              "    width: 32px;\n",
              "  }\n",
              "\n",
              "  .colab-df-quickchart:hover {\n",
              "    background-color: var(--hover-bg-color);\n",
              "    box-shadow: 0 1px 2px rgba(60, 64, 67, 0.3), 0 1px 3px 1px rgba(60, 64, 67, 0.15);\n",
              "    fill: var(--button-hover-fill-color);\n",
              "  }\n",
              "\n",
              "  .colab-df-quickchart-complete:disabled,\n",
              "  .colab-df-quickchart-complete:disabled:hover {\n",
              "    background-color: var(--disabled-bg-color);\n",
              "    fill: var(--disabled-fill-color);\n",
              "    box-shadow: none;\n",
              "  }\n",
              "\n",
              "  .colab-df-spinner {\n",
              "    border: 2px solid var(--fill-color);\n",
              "    border-color: transparent;\n",
              "    border-bottom-color: var(--fill-color);\n",
              "    animation:\n",
              "      spin 1s steps(1) infinite;\n",
              "  }\n",
              "\n",
              "  @keyframes spin {\n",
              "    0% {\n",
              "      border-color: transparent;\n",
              "      border-bottom-color: var(--fill-color);\n",
              "      border-left-color: var(--fill-color);\n",
              "    }\n",
              "    20% {\n",
              "      border-color: transparent;\n",
              "      border-left-color: var(--fill-color);\n",
              "      border-top-color: var(--fill-color);\n",
              "    }\n",
              "    30% {\n",
              "      border-color: transparent;\n",
              "      border-left-color: var(--fill-color);\n",
              "      border-top-color: var(--fill-color);\n",
              "      border-right-color: var(--fill-color);\n",
              "    }\n",
              "    40% {\n",
              "      border-color: transparent;\n",
              "      border-right-color: var(--fill-color);\n",
              "      border-top-color: var(--fill-color);\n",
              "    }\n",
              "    60% {\n",
              "      border-color: transparent;\n",
              "      border-right-color: var(--fill-color);\n",
              "    }\n",
              "    80% {\n",
              "      border-color: transparent;\n",
              "      border-right-color: var(--fill-color);\n",
              "      border-bottom-color: var(--fill-color);\n",
              "    }\n",
              "    90% {\n",
              "      border-color: transparent;\n",
              "      border-bottom-color: var(--fill-color);\n",
              "    }\n",
              "  }\n",
              "</style>\n",
              "\n",
              "  <script>\n",
              "    async function quickchart(key) {\n",
              "      const quickchartButtonEl =\n",
              "        document.querySelector('#' + key + ' button');\n",
              "      quickchartButtonEl.disabled = true;  // To prevent multiple clicks.\n",
              "      quickchartButtonEl.classList.add('colab-df-spinner');\n",
              "      try {\n",
              "        const charts = await google.colab.kernel.invokeFunction(\n",
              "            'suggestCharts', [key], {});\n",
              "      } catch (error) {\n",
              "        console.error('Error during call to suggestCharts:', error);\n",
              "      }\n",
              "      quickchartButtonEl.classList.remove('colab-df-spinner');\n",
              "      quickchartButtonEl.classList.add('colab-df-quickchart-complete');\n",
              "    }\n",
              "    (() => {\n",
              "      let quickchartButtonEl =\n",
              "        document.querySelector('#df-ccf3c708-79a9-4a25-b659-fec2d80a396e button');\n",
              "      quickchartButtonEl.style.display =\n",
              "        google.colab.kernel.accessAllowed ? 'block' : 'none';\n",
              "    })();\n",
              "  </script>\n",
              "</div>\n",
              "    </div>\n",
              "  </div>\n"
            ]
          },
          "metadata": {},
          "execution_count": 43
        }
      ]
    },
    {
      "cell_type": "markdown",
      "metadata": {
        "id": "TDa7LaNTYZCx"
      },
      "source": [
        "#### Exercise 4.3 get overall infromation from dataset via pandas"
      ]
    },
    {
      "cell_type": "code",
      "metadata": {
        "id": "w7DOwI-mYZCx",
        "outputId": "8794f2c4-d1d9-4ac8-d7bd-1653cccb4174",
        "colab": {
          "base_uri": "https://localhost:8080/"
        }
      },
      "source": [
        "titanic_data_frame.info()"
      ],
      "execution_count": 44,
      "outputs": [
        {
          "output_type": "stream",
          "name": "stdout",
          "text": [
            "<class 'pandas.core.frame.DataFrame'>\n",
            "RangeIndex: 891 entries, 0 to 890\n",
            "Data columns (total 12 columns):\n",
            " #   Column       Non-Null Count  Dtype  \n",
            "---  ------       --------------  -----  \n",
            " 0   PassengerId  891 non-null    int64  \n",
            " 1   Survived     891 non-null    int64  \n",
            " 2   Pclass       891 non-null    int64  \n",
            " 3   Name         891 non-null    object \n",
            " 4   Sex          891 non-null    object \n",
            " 5   Age          714 non-null    float64\n",
            " 6   SibSp        891 non-null    int64  \n",
            " 7   Parch        891 non-null    int64  \n",
            " 8   Ticket       891 non-null    object \n",
            " 9   Fare         891 non-null    float64\n",
            " 10  Cabin        204 non-null    object \n",
            " 11  Embarked     889 non-null    object \n",
            "dtypes: float64(2), int64(5), object(5)\n",
            "memory usage: 83.7+ KB\n"
          ]
        }
      ]
    },
    {
      "cell_type": "code",
      "metadata": {
        "id": "A0hoISisYZCz",
        "outputId": "9d64cfcd-0fba-4351-e5d3-957c9197f295",
        "colab": {
          "base_uri": "https://localhost:8080/"
        }
      },
      "source": [
        "# variance = titanic_data_frame.var()\n",
        "description = titanic_data_frame.describe(include='all')\n",
        "# desc_with_var = description.append(pd.Series(variance, name='variance'))\n",
        "# print(desc_with_var)\n",
        "print(description)\n"
      ],
      "execution_count": 50,
      "outputs": [
        {
          "output_type": "stream",
          "name": "stdout",
          "text": [
            "        PassengerId    Survived      Pclass                     Name   Sex  \\\n",
            "count    891.000000  891.000000  891.000000                      891   891   \n",
            "unique          NaN         NaN         NaN                      891     2   \n",
            "top             NaN         NaN         NaN  Braund, Mr. Owen Harris  male   \n",
            "freq            NaN         NaN         NaN                        1   577   \n",
            "mean     446.000000    0.383838    2.308642                      NaN   NaN   \n",
            "std      257.353842    0.486592    0.836071                      NaN   NaN   \n",
            "min        1.000000    0.000000    1.000000                      NaN   NaN   \n",
            "25%      223.500000    0.000000    2.000000                      NaN   NaN   \n",
            "50%      446.000000    0.000000    3.000000                      NaN   NaN   \n",
            "75%      668.500000    1.000000    3.000000                      NaN   NaN   \n",
            "max      891.000000    1.000000    3.000000                      NaN   NaN   \n",
            "\n",
            "               Age       SibSp       Parch  Ticket        Fare    Cabin  \\\n",
            "count   714.000000  891.000000  891.000000     891  891.000000      204   \n",
            "unique         NaN         NaN         NaN     681         NaN      147   \n",
            "top            NaN         NaN         NaN  347082         NaN  B96 B98   \n",
            "freq           NaN         NaN         NaN       7         NaN        4   \n",
            "mean     29.699118    0.523008    0.381594     NaN   32.204208      NaN   \n",
            "std      14.526497    1.102743    0.806057     NaN   49.693429      NaN   \n",
            "min       0.420000    0.000000    0.000000     NaN    0.000000      NaN   \n",
            "25%      20.125000    0.000000    0.000000     NaN    7.910400      NaN   \n",
            "50%      28.000000    0.000000    0.000000     NaN   14.454200      NaN   \n",
            "75%      38.000000    1.000000    0.000000     NaN   31.000000      NaN   \n",
            "max      80.000000    8.000000    6.000000     NaN  512.329200      NaN   \n",
            "\n",
            "       Embarked  \n",
            "count       889  \n",
            "unique        3  \n",
            "top           S  \n",
            "freq        644  \n",
            "mean        NaN  \n",
            "std         NaN  \n",
            "min         NaN  \n",
            "25%         NaN  \n",
            "50%         NaN  \n",
            "75%         NaN  \n",
            "max         NaN  \n"
          ]
        }
      ]
    },
    {
      "cell_type": "markdown",
      "metadata": {
        "id": "pdDHBrdUYZC2"
      },
      "source": [
        "## Jupyter magic commands"
      ]
    },
    {
      "cell_type": "markdown",
      "metadata": {
        "id": "Caz_QfifYZC2"
      },
      "source": [
        "#### Execrcise 4.1: Measure time requered for the following operaton"
      ]
    },
    {
      "cell_type": "code",
      "metadata": {
        "collapsed": true,
        "id": "r9dkCBacYZC3"
      },
      "source": [
        "import os"
      ],
      "execution_count": null,
      "outputs": []
    },
    {
      "cell_type": "code",
      "metadata": {
        "id": "4HXF-zdjYZC5"
      },
      "source": [
        "dir_array = []\n",
        "dir_list = os.listdir(\"../\")\n",
        "for filename in dir_list:\n",
        "    if os.path.isdir( os.path.join(\"..\", filename) ):\n",
        "        dir_array.append(filename)"
      ],
      "execution_count": null,
      "outputs": []
    },
    {
      "cell_type": "markdown",
      "metadata": {
        "id": "RBVKzTjGYZC7"
      },
      "source": [
        "#### Execrcise 4.2: Measure average time requered for the following operaton"
      ]
    },
    {
      "cell_type": "code",
      "metadata": {
        "id": "TmCbLadQYZC8"
      },
      "source": [
        "dir_array = []\n",
        "dir_list = os.listdir(\"../\")\n",
        "for filename in dir_list:\n",
        "    if os.path.isdir( os.path.join(\"..\", filename) ):\n",
        "        dir_array.append(filename)"
      ],
      "execution_count": null,
      "outputs": []
    },
    {
      "cell_type": "markdown",
      "metadata": {
        "id": "ytfrTPj_YZC_"
      },
      "source": [
        "#### Exercise 5.3: Extract array of system pathes from environment variable PATH"
      ]
    },
    {
      "cell_type": "code",
      "metadata": {
        "id": "8WJAHYcUYZC_"
      },
      "source": [],
      "execution_count": null,
      "outputs": []
    },
    {
      "cell_type": "markdown",
      "metadata": {
        "id": "Bklk-kH8YZDD"
      },
      "source": [
        "#### Exercise 5.4: Put your canvas login to environment variable MY_CANVAS_ID"
      ]
    },
    {
      "cell_type": "code",
      "metadata": {
        "id": "zi0cI06QYZDD"
      },
      "source": [],
      "execution_count": null,
      "outputs": []
    },
    {
      "cell_type": "markdown",
      "metadata": {
        "id": "0up2mDbmYZDG"
      },
      "source": [
        "### Jupyter magic commands -- multi notebook"
      ]
    },
    {
      "cell_type": "markdown",
      "metadata": {
        "id": "lEh_HLGUYZDH"
      },
      "source": [
        "#### Exercise 6.1: Create new empty notebook and write down a link to it"
      ]
    },
    {
      "cell_type": "markdown",
      "metadata": {
        "id": "W7Wu7UC8YZDH"
      },
      "source": [
        "My new notebook location is:\n",
        "\n",
        "https://colab.research.google.com/drive/1MsFDTUF_QwP-0cbmrsp43RCb5ZfVquEw"
      ]
    },
    {
      "cell_type": "markdown",
      "metadata": {
        "id": "vnn0XAG5YZDI"
      },
      "source": [
        "#### Exercise 6.2: Store current_timestamp_checkpoint"
      ]
    },
    {
      "cell_type": "code",
      "metadata": {
        "id": "u7_3zFD2YZDI",
        "colab": {
          "base_uri": "https://localhost:8080/"
        },
        "outputId": "f5f62ebf-3ae0-46d1-985c-6d5672ce80f2"
      },
      "source": [
        "from datetime import datetime\n",
        "\n",
        "current_timestamp_checkpoint = datetime.now()\n",
        "\n",
        "print(current_timestamp_checkpoint)"
      ],
      "execution_count": null,
      "outputs": [
        {
          "output_type": "stream",
          "name": "stdout",
          "text": [
            "2023-11-26 22:10:29.202626\n"
          ]
        }
      ]
    },
    {
      "cell_type": "code",
      "metadata": {
        "id": "GhmOtt--YZDL"
      },
      "source": [],
      "execution_count": null,
      "outputs": []
    },
    {
      "cell_type": "markdown",
      "metadata": {
        "id": "k5hgpWkrYZDS"
      },
      "source": [
        "#### Exercise 6.3: Get all saved variables in new notebook with store -r"
      ]
    },
    {
      "cell_type": "markdown",
      "metadata": {
        "id": "iHzocFtNYZDS"
      },
      "source": [
        "#### Exercise 6.4: Store new timestamp at new notebook, print it and restore it here"
      ]
    },
    {
      "cell_type": "code",
      "metadata": {
        "id": "6bFQNNeTYZDT"
      },
      "source": [],
      "execution_count": null,
      "outputs": []
    },
    {
      "cell_type": "markdown",
      "metadata": {
        "id": "weD9SeybYZDW"
      },
      "source": [
        "#### Exercise 6.4.1: Figure out why it differs from content you saved sometimes"
      ]
    },
    {
      "cell_type": "markdown",
      "metadata": {
        "id": "jESxaK0eYZDX"
      },
      "source": [
        "#### Exercise 6.5: Create file imports.py with %writefile"
      ]
    },
    {
      "cell_type": "code",
      "source": [],
      "metadata": {
        "id": "jAs9XRsNRdjY"
      },
      "execution_count": null,
      "outputs": []
    },
    {
      "cell_type": "markdown",
      "metadata": {
        "id": "5LO-g-WFYZDe"
      },
      "source": [
        "#### Exercise 6.5: Apend a line to file imports.py"
      ]
    },
    {
      "cell_type": "code",
      "metadata": {
        "id": "VcDFbxksYZDf"
      },
      "source": [],
      "execution_count": null,
      "outputs": []
    },
    {
      "cell_type": "markdown",
      "metadata": {
        "id": "YUx5W9exYZDh"
      },
      "source": [
        "#### Exercise 6.6: Load saved file imports.py to notebook cell"
      ]
    },
    {
      "cell_type": "code",
      "metadata": {
        "id": "_vbfR_swYZDh"
      },
      "source": [],
      "execution_count": null,
      "outputs": []
    },
    {
      "cell_type": "markdown",
      "metadata": {
        "id": "GUuKLM_vYZDk"
      },
      "source": [
        "#### Exercise 6.7: Run saved file imports.py without loading it"
      ]
    },
    {
      "cell_type": "code",
      "source": [],
      "metadata": {
        "id": "SOXL4NSD0rt9"
      },
      "execution_count": null,
      "outputs": []
    },
    {
      "cell_type": "markdown",
      "metadata": {
        "id": "KlcouHeqYZDn"
      },
      "source": [
        "## HTML and JavaScript"
      ]
    },
    {
      "cell_type": "markdown",
      "metadata": {
        "id": "xjq5ifxAYZDn"
      },
      "source": [
        "#### Exercise 7.1: Modify following HTML execution by adding html table"
      ]
    },
    {
      "cell_type": "code",
      "metadata": {
        "scrolled": true,
        "id": "IQSxF_hzYZDo",
        "colab": {
          "base_uri": "https://localhost:8080/",
          "height": 52
        },
        "outputId": "9a17d644-0360-4b0e-e5f5-3ecbfd9eae33"
      },
      "source": [
        "%%HTML\n",
        "<b> Hello world!</b>\n",
        "<br>\n",
        "<a href='http://www.yandex.ru' target=\"_tab\"> <font color='red'>Y</font><font color='black'>andex.ru</font></a>"
      ],
      "execution_count": null,
      "outputs": [
        {
          "output_type": "display_data",
          "data": {
            "text/plain": [
              "<IPython.core.display.HTML object>"
            ],
            "text/html": [
              "<b> Hello world!</b>\n",
              "<br>\n",
              "<a href='http://www.yandex.ru' target=\"_tab\"> <font color='red'>Y</font><font color='black'>andex.ru</font></a>\n"
            ]
          },
          "metadata": {}
        }
      ]
    },
    {
      "cell_type": "markdown",
      "metadata": {
        "id": "d0AEC-SsYZDr"
      },
      "source": [
        "#### Exercise 7.2: Add several iframes to the following HTML code"
      ]
    },
    {
      "cell_type": "code",
      "metadata": {
        "scrolled": true,
        "id": "MIT2p03GYZDs",
        "colab": {
          "base_uri": "https://localhost:8080/",
          "height": 336
        },
        "outputId": "b1cff21b-ede5-493d-dd26-3ed5d886dceb"
      },
      "source": [
        "%%HTML\n",
        "\n",
        "<iframe width=\"560\" height=\"315\" src=\"https://www.youtube.com/embed/zLRifWZihag\" title=\"YouTube video player\" frameborder=\"0\" allow=\"accelerometer; autoplay; clipboard-write; encrypted-media; gyroscope; picture-in-picture\" allowfullscreen></iframe>"
      ],
      "execution_count": null,
      "outputs": [
        {
          "output_type": "display_data",
          "data": {
            "text/plain": [
              "<IPython.core.display.HTML object>"
            ],
            "text/html": [
              "\n",
              "<iframe width=\"560\" height=\"315\" src=\"https://www.youtube.com/embed/zLRifWZihag\" title=\"YouTube video player\" frameborder=\"0\" allow=\"accelerometer; autoplay; clipboard-write; encrypted-media; gyroscope; picture-in-picture\" allowfullscreen></iframe>\n"
            ]
          },
          "metadata": {}
        }
      ]
    },
    {
      "cell_type": "markdown",
      "metadata": {
        "id": "q34p2RFxYZDu"
      },
      "source": [
        "#### Exercise 7.3: Execute simple JavaScript code"
      ]
    },
    {
      "cell_type": "code",
      "metadata": {
        "id": "XCkZw_E0YZDv",
        "colab": {
          "base_uri": "https://localhost:8080/",
          "height": 17
        },
        "outputId": "a0772709-ca1e-4542-c5e9-1d9a8ef84bec"
      },
      "source": [
        "%%javascript\n",
        "alert(\"Hello world!\")"
      ],
      "execution_count": 51,
      "outputs": [
        {
          "output_type": "display_data",
          "data": {
            "text/plain": [
              "<IPython.core.display.Javascript object>"
            ],
            "application/javascript": [
              "alert(\"Hello world!\")\n"
            ]
          },
          "metadata": {}
        }
      ]
    },
    {
      "cell_type": "markdown",
      "metadata": {
        "id": "wCobAo3iYZDy"
      },
      "source": [
        "## Markdowns"
      ]
    },
    {
      "cell_type": "markdown",
      "metadata": {
        "id": "ppD_kgJnYZDy"
      },
      "source": [
        "#### Exercise 8.1: Add image through markdown syntax"
      ]
    },
    {
      "cell_type": "markdown",
      "metadata": {
        "id": "9bF33-9bYZD0"
      },
      "source": []
    },
    {
      "cell_type": "markdown",
      "metadata": {
        "id": "kCEoAGZqYZD0"
      },
      "source": [
        "#### Exercise 8.2: Add table 2x3 through markdown syntax"
      ]
    },
    {
      "cell_type": "markdown",
      "metadata": {
        "id": "TfdsXypEYZD1"
      },
      "source": []
    },
    {
      "cell_type": "markdown",
      "metadata": {
        "id": "sDxb49J6YZD1"
      },
      "source": [
        "#### Exercise 8.3: Modify TeX formula"
      ]
    },
    {
      "cell_type": "markdown",
      "metadata": {
        "id": "xFcEYf5xYZD2"
      },
      "source": []
    },
    {
      "cell_type": "markdown",
      "metadata": {
        "id": "_ZO0wQ5WYZD2"
      },
      "source": [
        "## Additional hotkey practice"
      ]
    },
    {
      "cell_type": "markdown",
      "metadata": {
        "id": "L2E9AgTzYZD3"
      },
      "source": [
        "#### Exercise 9.1 read pandas documentation with shift and copypaste it to following cell"
      ]
    },
    {
      "cell_type": "code",
      "metadata": {
        "id": "-fTS6OClYZD3"
      },
      "source": [
        "pd.read_csv('titanic.csv')"
      ],
      "execution_count": null,
      "outputs": []
    },
    {
      "cell_type": "code",
      "metadata": {
        "id": "2C5_WrMrYZD5"
      },
      "source": [],
      "execution_count": null,
      "outputs": []
    },
    {
      "cell_type": "markdown",
      "metadata": {
        "id": "W5Uk1ETXYZD7"
      },
      "source": [
        "#### Exercise 9.2 switch one line numeration with L"
      ]
    },
    {
      "cell_type": "markdown",
      "metadata": {
        "id": "NY0FQvaSYZD7"
      },
      "source": [
        "i am line 1\n",
        "i am line 2 i am line 2 i am line 2 i am line 2 i am line 2 i am line 2 i am line 2 i am line 2 i am line 2 i am line 2 i am line 2 i am line 2 i am line 2 i am line 2 i am line 2 i am line 2 i am line 2 i am line 2 i am line 2 i am line 2 i am line 2 i am line 2 i am line 2 i am line 2 i am line 2 i am line 2 i am line 2 i am line 2 i am line 2 i am line 2 i am line 2 i am line 2\n",
        "i am line 3"
      ]
    },
    {
      "cell_type": "code",
      "source": [
        "i am line 1\n",
        "i am line 2 i am line 2 i am line 2 i am line 2 i am line 2 i am line 2 i am line 2 i am line 2 i am line 2 i am line 2 i am line 2 i am line 2 i am line 2 i am line 2 i am line 2 i am line 2 i am line 2 i am line 2 i am line 2 i am line 2 i am line 2 i am line 2 i am line 2 i am line 2 i am line 2 i am line 2 i am line 2 i am line 2 i am line 2 i am line 2 i am line 2 i am line 2\n",
        "i am line 3"
      ],
      "metadata": {
        "id": "LWx-dolt2InZ"
      },
      "execution_count": null,
      "outputs": []
    },
    {
      "cell_type": "markdown",
      "metadata": {
        "id": "I2W4hJ6MYZD8"
      },
      "source": [
        "#### Exercise 9.3 start infinite loop and interrupt it with hotkey Ctrl+M+I\n"
      ]
    },
    {
      "cell_type": "code",
      "metadata": {
        "id": "qnsQkZlrYZD8",
        "colab": {
          "base_uri": "https://localhost:8080/",
          "height": 530
        },
        "outputId": "0c2f4910-b8dd-41bd-adfe-dd63966aa65e"
      },
      "source": [],
      "execution_count": null,
      "outputs": [
        {
          "output_type": "stream",
          "name": "stdout",
          "text": [
            "*\n",
            "*\n",
            "*\n",
            "*\n",
            "*\n",
            "*\n",
            "*\n",
            "*\n",
            "*\n",
            "*\n",
            "*\n",
            "*\n",
            "*\n",
            "*\n",
            "*\n",
            "*\n",
            "*\n",
            "*\n",
            "*\n"
          ]
        },
        {
          "output_type": "error",
          "ename": "KeyboardInterrupt",
          "evalue": "ignored",
          "traceback": [
            "\u001b[0;31m---------------------------------------------------------------------------\u001b[0m",
            "\u001b[0;31mKeyboardInterrupt\u001b[0m                         Traceback (most recent call last)",
            "\u001b[0;32m<ipython-input-13-5e5074b4fb18>\u001b[0m in \u001b[0;36m<module>\u001b[0;34m\u001b[0m\n\u001b[1;32m      2\u001b[0m \u001b[0;32mwhile\u001b[0m\u001b[0;34m(\u001b[0m\u001b[0;32mTrue\u001b[0m\u001b[0;34m)\u001b[0m\u001b[0;34m:\u001b[0m\u001b[0;34m\u001b[0m\u001b[0;34m\u001b[0m\u001b[0m\n\u001b[1;32m      3\u001b[0m     \u001b[0mprint\u001b[0m\u001b[0;34m(\u001b[0m\u001b[0;34m\"*\"\u001b[0m\u001b[0;34m)\u001b[0m\u001b[0;34m\u001b[0m\u001b[0;34m\u001b[0m\u001b[0m\n\u001b[0;32m----> 4\u001b[0;31m     \u001b[0mtime\u001b[0m\u001b[0;34m.\u001b[0m\u001b[0msleep\u001b[0m\u001b[0;34m(\u001b[0m\u001b[0;36m1\u001b[0m\u001b[0;34m)\u001b[0m\u001b[0;34m\u001b[0m\u001b[0;34m\u001b[0m\u001b[0m\n\u001b[0m",
            "\u001b[0;31mKeyboardInterrupt\u001b[0m: "
          ]
        }
      ]
    },
    {
      "cell_type": "markdown",
      "metadata": {
        "id": "Ik0DvCgHYZD_"
      },
      "source": [
        "#### Exercise 9.4 perform the following cell to mess up import structure and restart kernell with Ctrl+M+."
      ]
    },
    {
      "cell_type": "code",
      "metadata": {
        "id": "8DLv28xAYZEA"
      },
      "source": [],
      "execution_count": null,
      "outputs": []
    },
    {
      "cell_type": "markdown",
      "metadata": {
        "id": "kViv9pFEYZEC"
      },
      "source": [
        "## Debugging"
      ]
    },
    {
      "cell_type": "markdown",
      "metadata": {
        "id": "n7hvMkHDYZEC"
      },
      "source": [
        "#### Exercise 10.1 switch debug mode on"
      ]
    },
    {
      "cell_type": "code",
      "metadata": {
        "id": "sMJiJAiQYZEC",
        "colab": {
          "base_uri": "https://localhost:8080/"
        },
        "outputId": "9058291e-d590-4702-98e4-f5b3b65905c0"
      },
      "source": [],
      "execution_count": null,
      "outputs": [
        {
          "output_type": "stream",
          "name": "stdout",
          "text": [
            "Automatic pdb calling has been turned ON\n"
          ]
        }
      ]
    },
    {
      "cell_type": "markdown",
      "metadata": {
        "id": "ciP3QJSXYZEE"
      },
      "source": [
        "#### Exercise 10.2 debug the following code and write listing to the following cell"
      ]
    },
    {
      "cell_type": "code",
      "metadata": {
        "id": "knSlbSMQYZEE",
        "colab": {
          "base_uri": "https://localhost:8080/",
          "height": 331
        },
        "outputId": "7813ad7f-0752-4b7d-d18d-a7ba7f319d19"
      },
      "source": [
        "cumulative_array = []\n",
        "\n",
        "def process_i(i):\n",
        "    j = i*i\n",
        "    assert i<50\n",
        "    return j\n",
        "\n",
        "for i in range(100):\n",
        "    cumulative_array.append(process_i(i))\n"
      ],
      "execution_count": null,
      "outputs": [
        {
          "output_type": "error",
          "ename": "AssertionError",
          "evalue": "ignored",
          "traceback": [
            "\u001b[0;31m---------------------------------------------------------------------------\u001b[0m",
            "\u001b[0;31mAssertionError\u001b[0m                            Traceback (most recent call last)",
            "\u001b[0;32m<ipython-input-31-60f54c782c4a>\u001b[0m in \u001b[0;36m<cell line: 8>\u001b[0;34m()\u001b[0m\n\u001b[1;32m      7\u001b[0m \u001b[0;34m\u001b[0m\u001b[0m\n\u001b[1;32m      8\u001b[0m \u001b[0;32mfor\u001b[0m \u001b[0mi\u001b[0m \u001b[0;32min\u001b[0m \u001b[0mrange\u001b[0m\u001b[0;34m(\u001b[0m\u001b[0;36m100\u001b[0m\u001b[0;34m)\u001b[0m\u001b[0;34m:\u001b[0m\u001b[0;34m\u001b[0m\u001b[0;34m\u001b[0m\u001b[0m\n\u001b[0;32m----> 9\u001b[0;31m     \u001b[0mcumulative_array\u001b[0m\u001b[0;34m.\u001b[0m\u001b[0mappend\u001b[0m\u001b[0;34m(\u001b[0m\u001b[0mprocess_i\u001b[0m\u001b[0;34m(\u001b[0m\u001b[0mi\u001b[0m\u001b[0;34m)\u001b[0m\u001b[0;34m)\u001b[0m\u001b[0;34m\u001b[0m\u001b[0;34m\u001b[0m\u001b[0m\n\u001b[0m",
            "\u001b[0;32m<ipython-input-31-60f54c782c4a>\u001b[0m in \u001b[0;36mprocess_i\u001b[0;34m(i)\u001b[0m\n\u001b[1;32m      3\u001b[0m \u001b[0;32mdef\u001b[0m \u001b[0mprocess_i\u001b[0m\u001b[0;34m(\u001b[0m\u001b[0mi\u001b[0m\u001b[0;34m)\u001b[0m\u001b[0;34m:\u001b[0m\u001b[0;34m\u001b[0m\u001b[0;34m\u001b[0m\u001b[0m\n\u001b[1;32m      4\u001b[0m     \u001b[0mj\u001b[0m \u001b[0;34m=\u001b[0m \u001b[0mi\u001b[0m\u001b[0;34m*\u001b[0m\u001b[0mi\u001b[0m\u001b[0;34m\u001b[0m\u001b[0;34m\u001b[0m\u001b[0m\n\u001b[0;32m----> 5\u001b[0;31m     \u001b[0;32massert\u001b[0m \u001b[0mi\u001b[0m\u001b[0;34m<\u001b[0m\u001b[0;36m50\u001b[0m\u001b[0;34m\u001b[0m\u001b[0;34m\u001b[0m\u001b[0m\n\u001b[0m\u001b[1;32m      6\u001b[0m     \u001b[0;32mreturn\u001b[0m \u001b[0mj\u001b[0m\u001b[0;34m\u001b[0m\u001b[0;34m\u001b[0m\u001b[0m\n\u001b[1;32m      7\u001b[0m \u001b[0;34m\u001b[0m\u001b[0m\n",
            "\u001b[0;31mAssertionError\u001b[0m: "
          ]
        }
      ]
    },
    {
      "cell_type": "code",
      "source": [],
      "metadata": {
        "id": "UpSJEO4Dy9df"
      },
      "execution_count": null,
      "outputs": []
    },
    {
      "cell_type": "markdown",
      "source": [
        "## Other solutions beside colaboratory\n",
        "\n",
        "### Plain Jupyter\n",
        "\n",
        "### Jupyterlab\n",
        "https://jupyter.org/try\n",
        "\n",
        "### Jupyterhub\n",
        "https://jupyter.org/hub\n",
        "\n",
        "### Kaggle notebooks\n",
        "https://www.kaggle.com/code\n",
        "\n",
        "### Huggingface notebooks\n",
        "https://huggingface.co/course\n",
        "\n",
        "### PyCharm Jupyter\n"
      ],
      "metadata": {
        "id": "4aSDINKawfwp"
      }
    },
    {
      "cell_type": "markdown",
      "source": [
        "## Additional materials\n",
        "https://docs.google.com/presentation/d/1qEfmd2eVfwYETlCeWo1I8twzqEMFcJaApwEBWP35vdo/edit#slide=id.p\n"
      ],
      "metadata": {
        "id": "vgv2pGSdwfwq"
      }
    },
    {
      "cell_type": "markdown",
      "source": [
        "## Homework:\n",
        "1. Connect to Colab\n",
        "2. Do the [quiz](https://www.w3schools.com/quiztest/quiztest.asp?qtest=PYTHON), to ckeck up your skills. If there're any hard questions, prepare them for discussion\n",
        "3. Do the rest of the classwork\n",
        "4. Check [Kaggle](https://www.kaggle.com/) page and create notebook there\n",
        "5. Remind yourself of decorators and generators\n",
        "\n"
      ],
      "metadata": {
        "id": "ANXlmaxluxx6"
      }
    },
    {
      "cell_type": "code",
      "source": [],
      "metadata": {
        "id": "11SIHwhyv-JR"
      },
      "execution_count": null,
      "outputs": []
    }
  ]
}