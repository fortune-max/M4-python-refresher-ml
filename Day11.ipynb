{
  "nbformat": 4,
  "nbformat_minor": 0,
  "metadata": {
    "colab": {
      "provenance": [],
      "collapsed_sections": [
        "nHa9zWLHt703",
        "rRMzfaTNxTP-",
        "nckO4jpFxTQL"
      ],
      "include_colab_link": true
    },
    "kernelspec": {
      "name": "python3",
      "display_name": "Python 3"
    },
    "language_info": {
      "name": "python"
    }
  },
  "cells": [
    {
      "cell_type": "markdown",
      "metadata": {
        "id": "view-in-github",
        "colab_type": "text"
      },
      "source": [
        "<a href=\"https://colab.research.google.com/github/fortune-max/M4-python-refresher-ml/blob/main/Day11.ipynb\" target=\"_parent\"><img src=\"https://colab.research.google.com/assets/colab-badge.svg\" alt=\"Open In Colab\"/></a>"
      ]
    },
    {
      "cell_type": "markdown",
      "source": [
        "Decision trees: https://education.yandex.ru/handbook/ml/article/reshayushchiye-derevya \\\n",
        "Ansembles: https://education.yandex.ru/handbook/ml/article/ansambli-v-mashinnom-obuchenii \\\n",
        "gradient boosting: https://education.yandex.ru/handbook/ml/article/gradientnyj-busting\n"
      ],
      "metadata": {
        "id": "AjZKZ4gXviZz"
      }
    },
    {
      "cell_type": "markdown",
      "source": [
        "# Sofisticated estimators"
      ],
      "metadata": {
        "id": "nHa9zWLHt703"
      }
    },
    {
      "cell_type": "markdown",
      "source": [
        "\n",
        "XGBoost\n",
        "https://colab.research.google.com/github/rasgointelligence/feature-engineering-tutorials/blob/main/feature-importance/XGBoost%20Feature%20Importance.ipynb\n",
        "\n",
        "https://colab.research.google.com/drive/1H0DMyi1h3RoKYsWe0E5ZHrAdhBQkPxtg\n",
        "\n",
        "Catboost\n",
        "https://catboost.ai/\n",
        "\n",
        "https://colab.research.google.com/github/catboost/tutorials/blob/master/python_tutorial.ipynb\n",
        "\n",
        "Vowpal wabbit\n",
        "https://vowpalwabbit.org/\n",
        "\n",
        "https://colab.research.google.com/drive/1Muq0SY_X3gm9jrO7oemLkc5Xh1eADTE1?usp=sharing#scrollTo=75T7tx4nWCqT\n",
        "\n",
        "[ ]\n"
      ],
      "metadata": {
        "id": "hRS2-kIDuiyK"
      }
    },
    {
      "cell_type": "code",
      "source": [],
      "metadata": {
        "id": "b2xaPWlwt_H1"
      },
      "execution_count": null,
      "outputs": []
    },
    {
      "cell_type": "markdown",
      "metadata": {
        "id": "rRMzfaTNxTP-"
      },
      "source": [
        "# XGBoost Feature Importance"
      ]
    },
    {
      "cell_type": "markdown",
      "metadata": {
        "id": "K3-bSxs3xTQB"
      },
      "source": [
        "This notebook explains how to generate feature importance plots from `XGBoost` using tree-based feature importance, permutation importance and `shap`.\n",
        "\n",
        "This notebook will build and evaluate a model to predict arrival delay for flights in and out of NYC in 2013.  "
      ]
    },
    {
      "cell_type": "markdown",
      "metadata": {
        "id": "nKAwZ2UmxTQC"
      },
      "source": [
        "### Packages"
      ]
    },
    {
      "cell_type": "markdown",
      "metadata": {
        "id": "hGzn1dRwxTQD"
      },
      "source": [
        "This tutorial uses:\n",
        "* [pandas](https://pandas.pydata.org/docs/)\n",
        "* [statsmodels](https://www.statsmodels.org/stable/index.html)\n",
        "    * [statsmodels.api](https://www.statsmodels.org/stable/api.html#statsmodels-api)\n",
        "* [matplotlib](https://matplotlib.org/)\n",
        "    * [matplotlib.pyplot](https://matplotlib.org/stable/api/_as_gen/matplotlib.pyplot.html)\n",
        "* [numpy](https://numpy.org/doc/stable/)\n",
        "* [scikit-learn](https://scikit-learn.org/stable/)\n",
        "    * [sklearn.metrics](https://scikit-learn.org/stable/modules/model_evaluation.html)\n",
        "    * [sklearn.model_selection](https://scikit-learn.org/stable/modules/generated/sklearn.model_selection.train_test_split.html)\n",
        "    * [sklearn.inspection](https://scikit-learn.org/stable/inspection.html)\n",
        "* [shap](https://shap.readthedocs.io/en/latest/index.html)\n",
        "* [category_encoders](https://contrib.scikit-learn.org/category_encoders/)\n",
        "* [XGBoost](https://xgboost.readthedocs.io/en/latest/)"
      ]
    },
    {
      "cell_type": "code",
      "execution_count": null,
      "metadata": {
        "id": "0Wo8gDt8xTQD"
      },
      "outputs": [],
      "source": [
        "import statsmodels.api as sm\n",
        "import pandas as pd\n",
        "import matplotlib.pyplot as plt\n",
        "import numpy as np\n",
        "from sklearn.metrics import mean_squared_error\n",
        "from sklearn.model_selection import train_test_split\n",
        "from sklearn.inspection import permutation_importance\n",
        "import shap\n",
        "import category_encoders as ce\n",
        "\n",
        "import xgboost as xgb"
      ]
    },
    {
      "cell_type": "markdown",
      "metadata": {
        "id": "OJ0NPyq7xTQE"
      },
      "source": [
        "## Reading the data"
      ]
    },
    {
      "cell_type": "markdown",
      "metadata": {
        "id": "4jm3uFxIxTQF"
      },
      "source": [
        "The data is from `rdatasets` imported using the Python package `statsmodels`."
      ]
    },
    {
      "cell_type": "code",
      "execution_count": null,
      "metadata": {
        "id": "9uIQ-e9NxTQF",
        "outputId": "36f1d0c6-b95a-4040-8580-94f748ccc466"
      },
      "outputs": [
        {
          "name": "stdout",
          "output_type": "stream",
          "text": [
            "<class 'pandas.core.frame.DataFrame'>\n",
            "RangeIndex: 336776 entries, 0 to 336775\n",
            "Data columns (total 19 columns):\n",
            " #   Column          Non-Null Count   Dtype  \n",
            "---  ------          --------------   -----  \n",
            " 0   year            336776 non-null  int64  \n",
            " 1   month           336776 non-null  int64  \n",
            " 2   day             336776 non-null  int64  \n",
            " 3   dep_time        328521 non-null  float64\n",
            " 4   sched_dep_time  336776 non-null  int64  \n",
            " 5   dep_delay       328521 non-null  float64\n",
            " 6   arr_time        328063 non-null  float64\n",
            " 7   sched_arr_time  336776 non-null  int64  \n",
            " 8   arr_delay       327346 non-null  float64\n",
            " 9   carrier         336776 non-null  object \n",
            " 10  flight          336776 non-null  int64  \n",
            " 11  tailnum         334264 non-null  object \n",
            " 12  origin          336776 non-null  object \n",
            " 13  dest            336776 non-null  object \n",
            " 14  air_time        327346 non-null  float64\n",
            " 15  distance        336776 non-null  int64  \n",
            " 16  hour            336776 non-null  int64  \n",
            " 17  minute          336776 non-null  int64  \n",
            " 18  time_hour       336776 non-null  object \n",
            "dtypes: float64(5), int64(9), object(5)\n",
            "memory usage: 48.8+ MB\n"
          ]
        }
      ],
      "source": [
        "df = sm.datasets.get_rdataset('flights', 'nycflights13').data\n",
        "df.info()"
      ]
    },
    {
      "cell_type": "markdown",
      "metadata": {
        "id": "6K9KiXPvxTQG"
      },
      "source": [
        "## Feature Engineering"
      ]
    },
    {
      "cell_type": "markdown",
      "metadata": {
        "id": "7_YC1yIhxTQG"
      },
      "source": [
        "### Handle null values"
      ]
    },
    {
      "cell_type": "code",
      "execution_count": null,
      "metadata": {
        "id": "Uc4Vcfk-xTQG",
        "outputId": "c2fd9918-c818-4f37-b350-3cde054b1a90"
      },
      "outputs": [
        {
          "data": {
            "text/plain": [
              "year                 0\n",
              "month                0\n",
              "day                  0\n",
              "dep_time          8255\n",
              "sched_dep_time       0\n",
              "dep_delay         8255\n",
              "arr_time          8713\n",
              "sched_arr_time       0\n",
              "arr_delay         9430\n",
              "carrier              0\n",
              "flight               0\n",
              "tailnum           2512\n",
              "origin               0\n",
              "dest                 0\n",
              "air_time          9430\n",
              "distance             0\n",
              "hour                 0\n",
              "minute               0\n",
              "time_hour            0\n",
              "dtype: int64"
            ]
          },
          "execution_count": 3,
          "metadata": {},
          "output_type": "execute_result"
        }
      ],
      "source": [
        "df.isnull().sum()"
      ]
    },
    {
      "cell_type": "markdown",
      "metadata": {
        "id": "CfcN9QPMxTQI"
      },
      "source": [
        "As this model will predict arrival delay, the `Null` values are caused by flights did were cancelled or diverted. These can be excluded from this analysis."
      ]
    },
    {
      "cell_type": "code",
      "execution_count": null,
      "metadata": {
        "id": "VKzwZh_4xTQI"
      },
      "outputs": [],
      "source": [
        "df.dropna(inplace=True)"
      ]
    },
    {
      "cell_type": "markdown",
      "metadata": {
        "id": "P3ft1yltxTQJ"
      },
      "source": [
        "### Convert the times from floats or ints to hour and minutes"
      ]
    },
    {
      "cell_type": "code",
      "execution_count": null,
      "metadata": {
        "id": "VDsOT7z0xTQJ"
      },
      "outputs": [],
      "source": [
        "df['arr_hour'] = df.arr_time.apply(lambda x: int(np.floor(x/100)))\n",
        "df['arr_minute'] = df.arr_time.apply(lambda x: int(x - np.floor(x/100)*100))\n",
        "df['sched_arr_hour'] = df.sched_arr_time.apply(lambda x: int(np.floor(x/100)))\n",
        "df['sched_arr_minute'] = df.sched_arr_time.apply(lambda x: int(x - np.floor(x/100)*100))\n",
        "df['sched_dep_hour'] = df.sched_dep_time.apply(lambda x: int(np.floor(x/100)))\n",
        "df['sched_dep_minute'] = df.sched_dep_time.apply(lambda x: int(x - np.floor(x/100)*100))\n",
        "df.rename(columns={'hour': 'dep_hour',\n",
        "                   'minute': 'dep_minute'}, inplace=True)"
      ]
    },
    {
      "cell_type": "markdown",
      "metadata": {
        "id": "RL5mNy-CxTQJ"
      },
      "source": [
        "## Prepare data for modeling"
      ]
    },
    {
      "cell_type": "markdown",
      "metadata": {
        "id": "mFTnR40-xTQJ"
      },
      "source": [
        "### Set up train-test split"
      ]
    },
    {
      "cell_type": "code",
      "execution_count": null,
      "metadata": {
        "id": "rXicWWmOxTQJ"
      },
      "outputs": [],
      "source": [
        "target = 'arr_delay'\n",
        "y = df[target]\n",
        "X = df.drop(columns=[target, 'flight', 'tailnum', 'time_hour', 'year', 'dep_time', 'sched_dep_time', 'arr_time', 'sched_arr_time', 'dep_delay'])\n",
        "X_train, X_test, y_train, y_test = train_test_split(X, y, test_size=.2, random_state=1066)"
      ]
    },
    {
      "cell_type": "markdown",
      "metadata": {
        "id": "eKOCxbgnxTQK"
      },
      "source": [
        "### Encode categorical variables"
      ]
    },
    {
      "cell_type": "markdown",
      "metadata": {
        "id": "DqXsgJlrxTQK"
      },
      "source": [
        "We use a leave-one-out encoder as it creates a single column for each categorical variable instead of creating a column for each level of the categorical variable like one-hot-encoding.  This makes interpreting the impact of categorical variables with feature impact easier."
      ]
    },
    {
      "cell_type": "code",
      "execution_count": null,
      "metadata": {
        "id": "jLpds0MOxTQK"
      },
      "outputs": [],
      "source": [
        "encoder = ce.LeaveOneOutEncoder(return_df=True)\n",
        "X_train_loo = encoder.fit_transform(X_train, y_train)\n",
        "X_test_loo = encoder.transform(X_test)"
      ]
    },
    {
      "cell_type": "markdown",
      "metadata": {
        "id": "pC4kSq8_xTQK"
      },
      "source": [
        "## Fit the model"
      ]
    },
    {
      "cell_type": "code",
      "execution_count": null,
      "metadata": {
        "id": "C8P5wBkAxTQL",
        "outputId": "3b49c954-18e3-42e4-b8ca-1223edd78cc6"
      },
      "outputs": [
        {
          "data": {
            "text/plain": [
              "43.33026958963029"
            ]
          },
          "execution_count": 8,
          "metadata": {},
          "output_type": "execute_result"
        }
      ],
      "source": [
        "model = xgb.XGBRegressor(n_estimators=500, max_depth=5, eta=0.05)\n",
        "model.fit(X_train_loo, y_train)\n",
        "\n",
        "rmse = np.sqrt(mean_squared_error(y_test, model.predict(np.ascontiguousarray(X_test_loo))))\n",
        "rmse"
      ]
    },
    {
      "cell_type": "markdown",
      "metadata": {
        "id": "nckO4jpFxTQL"
      },
      "source": [
        "## Feature Importance"
      ]
    },
    {
      "cell_type": "markdown",
      "metadata": {
        "id": "79XbDWQzxTQL"
      },
      "source": [
        "### Plot the tree-based (or Gini) importance"
      ]
    },
    {
      "cell_type": "code",
      "execution_count": null,
      "metadata": {
        "id": "UGVyRF2AxTQM",
        "outputId": "b59ecc19-1e50-4d28-bb53-cb1bb4d71f6e"
      },
      "outputs": [
        {
          "data": {
            "text/plain": [
              "Text(0.5, 1.0, 'Feature Importance')"
            ]
          },
          "execution_count": 9,
          "metadata": {},
          "output_type": "execute_result"
        },
        {
          "data": {
            "image/png": "[encoded data removed]",
            "text/plain": [
              "<Figure size 864x432 with 1 Axes>"
            ]
          },
          "metadata": {
            "needs_background": "light"
          },
          "output_type": "display_data"
        }
      ],
      "source": [
        "feature_importance = model.feature_importances_\n",
        "sorted_idx = np.argsort(feature_importance)\n",
        "fig = plt.figure(figsize=(12, 6))\n",
        "plt.barh(range(len(sorted_idx)), feature_importance[sorted_idx], align='center')\n",
        "plt.yticks(range(len(sorted_idx)), np.array(X_test.columns)[sorted_idx])\n",
        "plt.title('Feature Importance')"
      ]
    },
    {
      "cell_type": "markdown",
      "metadata": {
        "id": "PrHOsvGlxTQM"
      },
      "source": [
        "### Plot the permutation importance."
      ]
    },
    {
      "cell_type": "code",
      "execution_count": null,
      "metadata": {
        "id": "uWkxNkv7xTQN",
        "outputId": "ed3ea261-924c-4ed5-83b7-f7c2d4664eac"
      },
      "outputs": [
        {
          "data": {
            "text/plain": [
              "Text(0.5, 1.0, 'Permutation Importance')"
            ]
          },
          "execution_count": 10,
          "metadata": {},
          "output_type": "execute_result"
        },
        {
          "data": {
            "image/png": "[encoded data removed]",
            "text/plain": [
              "<Figure size 864x432 with 1 Axes>"
            ]
          },
          "metadata": {
            "needs_background": "light"
          },
          "output_type": "display_data"
        }
      ],
      "source": [
        "perm_importance = permutation_importance(model, np.ascontiguousarray(X_test_loo), y_test, n_repeats=10, random_state=1066)\n",
        "sorted_idx = perm_importance.importances_mean.argsort()\n",
        "fig = plt.figure(figsize=(12, 6))\n",
        "plt.barh(range(len(sorted_idx)), perm_importance.importances_mean[sorted_idx], align='center')\n",
        "plt.yticks(range(len(sorted_idx)), np.array(X_test.columns)[sorted_idx])\n",
        "plt.title('Permutation Importance')"
      ]
    },
    {
      "cell_type": "markdown",
      "metadata": {
        "id": "ylhLCH2nxTQN"
      },
      "source": [
        "### Plot the mean absolute value of the SHAP values"
      ]
    },
    {
      "cell_type": "code",
      "execution_count": null,
      "metadata": {
        "id": "ReIwoJJjxTQO",
        "outputId": "da0a472f-1184-4028-87e2-b6c8ffaa310a"
      },
      "outputs": [
        {
          "name": "stderr",
          "output_type": "stream",
          "text": [
            "ntree_limit is deprecated, use `iteration_range` or model slicing instead.\n"
          ]
        },
        {
          "data": {
            "text/plain": [
              "Text(0.5, 1.0, 'SHAP Importance')"
            ]
          },
          "execution_count": 11,
          "metadata": {},
          "output_type": "execute_result"
        },
        {
          "data": {
            "image/png": "[encoded data removed]",
            "text/plain": [
              "<Figure size 864x432 with 1 Axes>"
            ]
          },
          "metadata": {
            "needs_background": "light"
          },
          "output_type": "display_data"
        }
      ],
      "source": [
        "explainer = shap.Explainer(model)\n",
        "shap_values = explainer(np.ascontiguousarray(X_test_loo))\n",
        "shap_importance = shap_values.abs.mean(0).values\n",
        "sorted_idx = shap_importance.argsort()\n",
        "fig = plt.figure(figsize=(12, 6))\n",
        "plt.barh(range(len(sorted_idx)), shap_importance[sorted_idx], align='center')\n",
        "plt.yticks(range(len(sorted_idx)), np.array(X_test.columns)[sorted_idx])\n",
        "plt.title('SHAP Importance')"
      ]
    },
    {
      "cell_type": "markdown",
      "metadata": {
        "id": "Phusw5jExTQO"
      },
      "source": [
        "`SHAP` contains a function to plot this directly."
      ]
    },
    {
      "cell_type": "code",
      "execution_count": null,
      "metadata": {
        "id": "Is5amEiAxTQO",
        "outputId": "29b53ccf-4fd6-4ebf-8efc-c748194aa641"
      },
      "outputs": [
        {
          "data": {
            "image/png": "[encoded data removed]",
            "text/plain": [
              "<Figure size 576x648 with 1 Axes>"
            ]
          },
          "metadata": {},
          "output_type": "display_data"
        }
      ],
      "source": [
        "shap.plots.bar(shap_values, max_display=X_test_loo.shape[0])"
      ]
    },
    {
      "cell_type": "code",
      "execution_count": null,
      "metadata": {
        "id": "dueanULPxTQP"
      },
      "outputs": [],
      "source": []
    },
    {
      "cell_type": "markdown",
      "metadata": {
        "id": "3o169ILgVNGR"
      },
      "source": [
        "# AutoML: Parameters search"
      ]
    },
    {
      "cell_type": "code",
      "execution_count": null,
      "metadata": {
        "id": "3lOsr-yPVNGT"
      },
      "outputs": [],
      "source": [
        "titanic_df = pd.read_csv('titanic.csv')"
      ]
    },
    {
      "cell_type": "code",
      "execution_count": null,
      "metadata": {
        "id": "LSh5MvheVNGT"
      },
      "outputs": [],
      "source": [
        "from sklearn import model_selection"
      ]
    },
    {
      "cell_type": "code",
      "execution_count": null,
      "metadata": {
        "id": "l_szTJ2xVNGT"
      },
      "outputs": [],
      "source": [
        "X_train,X_test, y_train, y_test = model_selection.train_test_split(\n",
        "    titanic_df.drop('Survived', axis=1),\n",
        "    titanic_df['Survived'])"
      ]
    },
    {
      "cell_type": "code",
      "execution_count": null,
      "metadata": {
        "id": "ytocdmLgVNGU",
        "outputId": "e7578f12-29b9-476e-a46a-b36e1bbb919b",
        "colab": {
          "base_uri": "https://localhost:8080/",
          "height": 423
        }
      },
      "outputs": [
        {
          "output_type": "execute_result",
          "data": {
            "text/plain": [
              "     PassengerId  Pclass                                Name     Sex   Age  \\\n",
              "539          540       1  Frolicher, Miss. Hedwig Margaritha  female  22.0   \n",
              "159          160       3          Sage, Master. Thomas Henry    male   NaN   \n",
              "216          217       3              Honkanen, Miss. Eliina  female  27.0   \n",
              "751          752       3                 Moor, Master. Meier    male   6.0   \n",
              "514          515       3                   Coleff, Mr. Satio    male  24.0   \n",
              "..           ...     ...                                 ...     ...   ...   \n",
              "191          192       2               Carbines, Mr. William    male  19.0   \n",
              "342          343       2          Collander, Mr. Erik Gustaf    male  28.0   \n",
              "680          681       3                 Peters, Miss. Katie  female   NaN   \n",
              "139          140       1                  Giglio, Mr. Victor    male  24.0   \n",
              "301          302       3                  McCoy, Mr. Bernard    male   NaN   \n",
              "\n",
              "     SibSp  Parch            Ticket     Fare Cabin Embarked  \n",
              "539      0      2             13568  49.5000   B39        C  \n",
              "159      8      2          CA. 2343  69.5500   NaN        S  \n",
              "216      0      0  STON/O2. 3101283   7.9250   NaN        S  \n",
              "751      0      1            392096  12.4750  E121        S  \n",
              "514      0      0            349209   7.4958   NaN        S  \n",
              "..     ...    ...               ...      ...   ...      ...  \n",
              "191      0      0             28424  13.0000   NaN        S  \n",
              "342      0      0            248740  13.0000   NaN        S  \n",
              "680      0      0            330935   8.1375   NaN        Q  \n",
              "139      0      0          PC 17593  79.2000   B86        C  \n",
              "301      2      0            367226  23.2500   NaN        Q  \n",
              "\n",
              "[668 rows x 11 columns]"
            ],
            "text/html": [
              "\n",
              "  <div id=\"df-d818da29-aecf-4225-b812-782841a99d4c\">\n",
              "    <div class=\"colab-df-container\">\n",
              "      <div>\n",
              "<style scoped>\n",
              "    .dataframe tbody tr th:only-of-type {\n",
              "        vertical-align: middle;\n",
              "    }\n",
              "\n",
              "    .dataframe tbody tr th {\n",
              "        vertical-align: top;\n",
              "    }\n",
              "\n",
              "    .dataframe thead th {\n",
              "        text-align: right;\n",
              "    }\n",
              "</style>\n",
              "<table border=\"1\" class=\"dataframe\">\n",
              "  <thead>\n",
              "    <tr style=\"text-align: right;\">\n",
              "      <th></th>\n",
              "      <th>PassengerId</th>\n",
              "      <th>Pclass</th>\n",
              "      <th>Name</th>\n",
              "      <th>Sex</th>\n",
              "      <th>Age</th>\n",
              "      <th>SibSp</th>\n",
              "      <th>Parch</th>\n",
              "      <th>Ticket</th>\n",
              "      <th>Fare</th>\n",
              "      <th>Cabin</th>\n",
              "      <th>Embarked</th>\n",
              "    </tr>\n",
              "  </thead>\n",
              "  <tbody>\n",
              "    <tr>\n",
              "      <th>539</th>\n",
              "      <td>540</td>\n",
              "      <td>1</td>\n",
              "      <td>Frolicher, Miss. Hedwig Margaritha</td>\n",
              "      <td>female</td>\n",
              "      <td>22.0</td>\n",
              "      <td>0</td>\n",
              "      <td>2</td>\n",
              "      <td>13568</td>\n",
              "      <td>49.5000</td>\n",
              "      <td>B39</td>\n",
              "      <td>C</td>\n",
              "    </tr>\n",
              "    <tr>\n",
              "      <th>159</th>\n",
              "      <td>160</td>\n",
              "      <td>3</td>\n",
              "      <td>Sage, Master. Thomas Henry</td>\n",
              "      <td>male</td>\n",
              "      <td>NaN</td>\n",
              "      <td>8</td>\n",
              "      <td>2</td>\n",
              "      <td>CA. 2343</td>\n",
              "      <td>69.5500</td>\n",
              "      <td>NaN</td>\n",
              "      <td>S</td>\n",
              "    </tr>\n",
              "    <tr>\n",
              "      <th>216</th>\n",
              "      <td>217</td>\n",
              "      <td>3</td>\n",
              "      <td>Honkanen, Miss. Eliina</td>\n",
              "      <td>female</td>\n",
              "      <td>27.0</td>\n",
              "      <td>0</td>\n",
              "      <td>0</td>\n",
              "      <td>STON/O2. 3101283</td>\n",
              "      <td>7.9250</td>\n",
              "      <td>NaN</td>\n",
              "      <td>S</td>\n",
              "    </tr>\n",
              "    <tr>\n",
              "      <th>751</th>\n",
              "      <td>752</td>\n",
              "      <td>3</td>\n",
              "      <td>Moor, Master. Meier</td>\n",
              "      <td>male</td>\n",
              "      <td>6.0</td>\n",
              "      <td>0</td>\n",
              "      <td>1</td>\n",
              "      <td>392096</td>\n",
              "      <td>12.4750</td>\n",
              "      <td>E121</td>\n",
              "      <td>S</td>\n",
              "    </tr>\n",
              "    <tr>\n",
              "      <th>514</th>\n",
              "      <td>515</td>\n",
              "      <td>3</td>\n",
              "      <td>Coleff, Mr. Satio</td>\n",
              "      <td>male</td>\n",
              "      <td>24.0</td>\n",
              "      <td>0</td>\n",
              "      <td>0</td>\n",
              "      <td>349209</td>\n",
              "      <td>7.4958</td>\n",
              "      <td>NaN</td>\n",
              "      <td>S</td>\n",
              "    </tr>\n",
              "    <tr>\n",
              "      <th>...</th>\n",
              "      <td>...</td>\n",
              "      <td>...</td>\n",
              "      <td>...</td>\n",
              "      <td>...</td>\n",
              "      <td>...</td>\n",
              "      <td>...</td>\n",
              "      <td>...</td>\n",
              "      <td>...</td>\n",
              "      <td>...</td>\n",
              "      <td>...</td>\n",
              "      <td>...</td>\n",
              "    </tr>\n",
              "    <tr>\n",
              "      <th>191</th>\n",
              "      <td>192</td>\n",
              "      <td>2</td>\n",
              "      <td>Carbines, Mr. William</td>\n",
              "      <td>male</td>\n",
              "      <td>19.0</td>\n",
              "      <td>0</td>\n",
              "      <td>0</td>\n",
              "      <td>28424</td>\n",
              "      <td>13.0000</td>\n",
              "      <td>NaN</td>\n",
              "      <td>S</td>\n",
              "    </tr>\n",
              "    <tr>\n",
              "      <th>342</th>\n",
              "      <td>343</td>\n",
              "      <td>2</td>\n",
              "      <td>Collander, Mr. Erik Gustaf</td>\n",
              "      <td>male</td>\n",
              "      <td>28.0</td>\n",
              "      <td>0</td>\n",
              "      <td>0</td>\n",
              "      <td>248740</td>\n",
              "      <td>13.0000</td>\n",
              "      <td>NaN</td>\n",
              "      <td>S</td>\n",
              "    </tr>\n",
              "    <tr>\n",
              "      <th>680</th>\n",
              "      <td>681</td>\n",
              "      <td>3</td>\n",
              "      <td>Peters, Miss. Katie</td>\n",
              "      <td>female</td>\n",
              "      <td>NaN</td>\n",
              "      <td>0</td>\n",
              "      <td>0</td>\n",
              "      <td>330935</td>\n",
              "      <td>8.1375</td>\n",
              "      <td>NaN</td>\n",
              "      <td>Q</td>\n",
              "    </tr>\n",
              "    <tr>\n",
              "      <th>139</th>\n",
              "      <td>140</td>\n",
              "      <td>1</td>\n",
              "      <td>Giglio, Mr. Victor</td>\n",
              "      <td>male</td>\n",
              "      <td>24.0</td>\n",
              "      <td>0</td>\n",
              "      <td>0</td>\n",
              "      <td>PC 17593</td>\n",
              "      <td>79.2000</td>\n",
              "      <td>B86</td>\n",
              "      <td>C</td>\n",
              "    </tr>\n",
              "    <tr>\n",
              "      <th>301</th>\n",
              "      <td>302</td>\n",
              "      <td>3</td>\n",
              "      <td>McCoy, Mr. Bernard</td>\n",
              "      <td>male</td>\n",
              "      <td>NaN</td>\n",
              "      <td>2</td>\n",
              "      <td>0</td>\n",
              "      <td>367226</td>\n",
              "      <td>23.2500</td>\n",
              "      <td>NaN</td>\n",
              "      <td>Q</td>\n",
              "    </tr>\n",
              "  </tbody>\n",
              "</table>\n",
              "<p>668 rows × 11 columns</p>\n",
              "</div>\n",
              "      <button class=\"colab-df-convert\" onclick=\"convertToInteractive('df-d818da29-aecf-4225-b812-782841a99d4c')\"\n",
              "              title=\"Convert this dataframe to an interactive table.\"\n",
              "              style=\"display:none;\">\n",
              "        \n",
              "  <svg xmlns=\"http://www.w3.org/2000/svg\" height=\"24px\"viewBox=\"0 0 24 24\"\n",
              "       width=\"24px\">\n",
              "    <path d=\"M0 0h24v24H0V0z\" fill=\"none\"/>\n",
              "    <path d=\"M18.56 5.44l.94 2.06.94-2.06 2.06-.94-2.06-.94-.94-2.06-.94 2.06-2.06.94zm-11 1L8.5 8.5l.94-2.06 2.06-.94-2.06-.94L8.5 2.5l-.94 2.06-2.06.94zm10 10l.94 2.06.94-2.06 2.06-.94-2.06-.94-.94-2.06-.94 2.06-2.06.94z\"/><path d=\"M17.41 7.96l-1.37-1.37c-.4-.4-.92-.59-1.43-.59-.52 0-1.04.2-1.43.59L10.3 9.45l-7.72 7.72c-.78.78-.78 2.05 0 2.83L4 21.41c.39.39.9.59 1.41.59.51 0 1.02-.2 1.41-.59l7.78-7.78 2.81-2.81c.8-.78.8-2.07 0-2.86zM5.41 20L4 18.59l7.72-7.72 1.47 1.35L5.41 20z\"/>\n",
              "  </svg>\n",
              "      </button>\n",
              "      \n",
              "  <style>\n",
              "    .colab-df-container {\n",
              "      display:flex;\n",
              "      flex-wrap:wrap;\n",
              "      gap: 12px;\n",
              "    }\n",
              "\n",
              "    .colab-df-convert {\n",
              "      background-color: #E8F0FE;\n",
              "      border: none;\n",
              "      border-radius: 50%;\n",
              "      cursor: pointer;\n",
              "      display: none;\n",
              "      fill: #1967D2;\n",
              "      height: 32px;\n",
              "      padding: 0 0 0 0;\n",
              "      width: 32px;\n",
              "    }\n",
              "\n",
              "    .colab-df-convert:hover {\n",
              "      background-color: #E2EBFA;\n",
              "      box-shadow: 0px 1px 2px rgba(60, 64, 67, 0.3), 0px 1px 3px 1px rgba(60, 64, 67, 0.15);\n",
              "      fill: #174EA6;\n",
              "    }\n",
              "\n",
              "    [theme=dark] .colab-df-convert {\n",
              "      background-color: #3B4455;\n",
              "      fill: #D2E3FC;\n",
              "    }\n",
              "\n",
              "    [theme=dark] .colab-df-convert:hover {\n",
              "      background-color: #434B5C;\n",
              "      box-shadow: 0px 1px 3px 1px rgba(0, 0, 0, 0.15);\n",
              "      filter: drop-shadow(0px 1px 2px rgba(0, 0, 0, 0.3));\n",
              "      fill: #FFFFFF;\n",
              "    }\n",
              "  </style>\n",
              "\n",
              "      <script>\n",
              "        const buttonEl =\n",
              "          document.querySelector('#df-d818da29-aecf-4225-b812-782841a99d4c button.colab-df-convert');\n",
              "        buttonEl.style.display =\n",
              "          google.colab.kernel.accessAllowed ? 'block' : 'none';\n",
              "\n",
              "        async function convertToInteractive(key) {\n",
              "          const element = document.querySelector('#df-d818da29-aecf-4225-b812-782841a99d4c');\n",
              "          const dataTable =\n",
              "            await google.colab.kernel.invokeFunction('convertToInteractive',\n",
              "                                                     [key], {});\n",
              "          if (!dataTable) return;\n",
              "\n",
              "          const docLinkHtml = 'Like what you see? Visit the ' +\n",
              "            '<a target=\"_blank\" href=https://colab.research.google.com/notebooks/data_table.ipynb>data table notebook</a>'\n",
              "            + ' to learn more about interactive tables.';\n",
              "          element.innerHTML = '';\n",
              "          dataTable['output_type'] = 'display_data';\n",
              "          await google.colab.output.renderOutput(dataTable, element);\n",
              "          const docLink = document.createElement('div');\n",
              "          docLink.innerHTML = docLinkHtml;\n",
              "          element.appendChild(docLink);\n",
              "        }\n",
              "      </script>\n",
              "    </div>\n",
              "  </div>\n",
              "  "
            ]
          },
          "metadata": {},
          "execution_count": 6
        }
      ],
      "source": [
        "X_train"
      ]
    },
    {
      "cell_type": "markdown",
      "metadata": {
        "id": "a2AjpMiLVNGV"
      },
      "source": [
        "#### for classifier"
      ]
    },
    {
      "cell_type": "code",
      "execution_count": null,
      "metadata": {
        "id": "bzcgB5psVNGV"
      },
      "outputs": [],
      "source": [
        "from sklearn.ensemble import RandomForestClassifier"
      ]
    },
    {
      "cell_type": "code",
      "execution_count": null,
      "metadata": {
        "id": "LuCRxQhsVNGV"
      },
      "outputs": [],
      "source": [
        "classifier = RandomForestClassifier()"
      ]
    },
    {
      "cell_type": "code",
      "execution_count": null,
      "metadata": {
        "id": "xxgFXdSDVNGW"
      },
      "outputs": [],
      "source": [
        "grid_param = # provide your code here"
      ]
    },
    {
      "cell_type": "code",
      "execution_count": null,
      "metadata": {
        "id": "0xU6UHjjVNGW"
      },
      "outputs": [],
      "source": [
        "from sklearn import model_selection"
      ]
    },
    {
      "cell_type": "markdown",
      "metadata": {
        "id": "oTalzO97VNGW"
      },
      "source": [
        "### Grid Search"
      ]
    },
    {
      "cell_type": "code",
      "execution_count": null,
      "metadata": {
        "id": "JZ6FDh_BVNGW"
      },
      "outputs": [],
      "source": [
        "grid_search_classifier = # provide your code here"
      ]
    },
    {
      "cell_type": "code",
      "execution_count": null,
      "metadata": {
        "id": "wgtgoW6eVNGX"
      },
      "outputs": [],
      "source": [
        "%%time\n",
        "# provide your code here\n",
        "#train"
      ]
    },
    {
      "cell_type": "code",
      "execution_count": null,
      "metadata": {
        "id": "jbYx002YVNGX"
      },
      "outputs": [],
      "source": [
        "best_parameters = # provide your code here"
      ]
    },
    {
      "cell_type": "code",
      "execution_count": null,
      "metadata": {
        "id": "aAnn3NrXVNGX"
      },
      "outputs": [],
      "source": [
        "best_score = # provide your code here"
      ]
    },
    {
      "cell_type": "code",
      "execution_count": null,
      "metadata": {
        "scrolled": true,
        "id": "F8iF8I7sVNGX"
      },
      "outputs": [],
      "source": [
        "cv_results = # provide your code here"
      ]
    },
    {
      "cell_type": "markdown",
      "metadata": {
        "id": "PdFa4ZqtVNGY"
      },
      "source": [
        "### Random search"
      ]
    },
    {
      "cell_type": "code",
      "execution_count": null,
      "metadata": {
        "id": "C0ottJZ5VNGY"
      },
      "outputs": [],
      "source": [
        "random_search_classifier = # provide your code here"
      ]
    },
    {
      "cell_type": "code",
      "execution_count": null,
      "metadata": {
        "id": "ayqB99f3VNGY"
      },
      "outputs": [],
      "source": [
        "%%time\n",
        "# provide your code here\n",
        "#train"
      ]
    },
    {
      "cell_type": "code",
      "execution_count": null,
      "metadata": {
        "id": "Ma9bGHFavbd0"
      },
      "outputs": [],
      "source": [
        "best_parameters = # provide your code here"
      ]
    },
    {
      "cell_type": "code",
      "execution_count": null,
      "metadata": {
        "id": "mqrKOHc-vbeI"
      },
      "outputs": [],
      "source": [
        "best_score = # provide your code here"
      ]
    },
    {
      "cell_type": "code",
      "execution_count": null,
      "metadata": {
        "scrolled": true,
        "id": "MIWjfMRWvbeI"
      },
      "outputs": [],
      "source": [
        "cv_results = # provide your code here"
      ]
    },
    {
      "cell_type": "markdown",
      "metadata": {
        "id": "QNf3xpw0VNGZ"
      },
      "source": [
        "#### for pipeline"
      ]
    },
    {
      "cell_type": "code",
      "execution_count": null,
      "metadata": {
        "id": "Vq9qXYZRVNGZ"
      },
      "outputs": [],
      "source": []
    },
    {
      "cell_type": "markdown",
      "source": [],
      "metadata": {
        "id": "x6y7rFrMvhAd"
      }
    },
    {
      "cell_type": "markdown",
      "metadata": {
        "id": "KFo6rxleVNGZ"
      },
      "source": [
        "### auto-sklearn"
      ]
    },
    {
      "cell_type": "code",
      "source": [
        "!pip install auto-sklearn"
      ],
      "metadata": {
        "colab": {
          "base_uri": "https://localhost:8080/",
          "height": 1000
        },
        "id": "4v70_DlUH3cS",
        "outputId": "b971537f-0bc6-45e1-b927-5acc24fc9dd3"
      },
      "execution_count": null,
      "outputs": [
        {
          "output_type": "stream",
          "name": "stdout",
          "text": [
            "Looking in indexes: https://pypi.org/simple, https://us-python.pkg.dev/colab-wheels/public/simple/\n",
            "Collecting auto-sklearn\n",
            "  Downloading auto-sklearn-0.15.0.tar.gz (6.5 MB)\n",
            "\u001b[K     |████████████████████████████████| 6.5 MB 4.9 MB/s \n",
            "\u001b[?25h  Installing build dependencies ... \u001b[?25l\u001b[?25hdone\n",
            "  Getting requirements to build wheel ... \u001b[?25l\u001b[?25hdone\n",
            "    Preparing wheel metadata ... \u001b[?25l\u001b[?25hdone\n",
            "Collecting distro\n",
            "  Downloading distro-1.8.0-py3-none-any.whl (20 kB)\n",
            "Collecting ConfigSpace<0.5,>=0.4.21\n",
            "  Downloading ConfigSpace-0.4.21-cp38-cp38-manylinux_2_17_x86_64.manylinux2014_x86_64.whl (4.9 MB)\n",
            "\u001b[K     |████████████████████████████████| 4.9 MB 45.8 MB/s \n",
            "\u001b[?25hRequirement already satisfied: pandas>=1.0 in /usr/local/lib/python3.8/dist-packages (from auto-sklearn) (1.3.5)\n",
            "Collecting scikit-learn<0.25.0,>=0.24.0\n",
            "  Downloading scikit_learn-0.24.2-cp38-cp38-manylinux2010_x86_64.whl (24.9 MB)\n",
            "\u001b[K     |████████████████████████████████| 24.9 MB 1.5 MB/s \n",
            "\u001b[?25hCollecting smac<1.3,>=1.2\n",
            "  Downloading smac-1.2.tar.gz (260 kB)\n",
            "\u001b[K     |████████████████████████████████| 260 kB 59.0 MB/s \n",
            "\u001b[?25hRequirement already satisfied: numpy>=1.9.0 in /usr/local/lib/python3.8/dist-packages (from auto-sklearn) (1.21.6)\n",
            "Collecting liac-arff\n",
            "  Downloading liac-arff-2.5.0.tar.gz (13 kB)\n",
            "Collecting pyrfr<0.9,>=0.8.1\n",
            "  Downloading pyrfr-0.8.3-cp38-cp38-manylinux_2_17_x86_64.manylinux2014_x86_64.whl (4.4 MB)\n",
            "\u001b[K     |████████████████████████████████| 4.4 MB 46.9 MB/s \n",
            "\u001b[?25hRequirement already satisfied: joblib in /usr/local/lib/python3.8/dist-packages (from auto-sklearn) (1.2.0)\n",
            "Requirement already satisfied: dask>=2021.12 in /usr/local/lib/python3.8/dist-packages (from auto-sklearn) (2022.2.1)\n",
            "Collecting pynisher<0.7,>=0.6.3\n",
            "  Downloading pynisher-0.6.4.tar.gz (11 kB)\n",
            "Requirement already satisfied: setuptools in /usr/local/lib/python3.8/dist-packages (from auto-sklearn) (57.4.0)\n",
            "Requirement already satisfied: typing-extensions in /usr/local/lib/python3.8/dist-packages (from auto-sklearn) (4.4.0)\n",
            "Requirement already satisfied: scipy>=1.7.0 in /usr/local/lib/python3.8/dist-packages (from auto-sklearn) (1.7.3)\n",
            "Requirement already satisfied: distributed>=2012.12 in /usr/local/lib/python3.8/dist-packages (from auto-sklearn) (2022.2.1)\n",
            "Requirement already satisfied: pyyaml in /usr/local/lib/python3.8/dist-packages (from auto-sklearn) (6.0)\n",
            "Requirement already satisfied: threadpoolctl in /usr/local/lib/python3.8/dist-packages (from auto-sklearn) (3.1.0)\n",
            "Requirement already satisfied: pyparsing in /usr/local/lib/python3.8/dist-packages (from ConfigSpace<0.5,>=0.4.21->auto-sklearn) (3.0.9)\n",
            "Requirement already satisfied: cython in /usr/local/lib/python3.8/dist-packages (from ConfigSpace<0.5,>=0.4.21->auto-sklearn) (0.29.32)\n",
            "Requirement already satisfied: toolz>=0.8.2 in /usr/local/lib/python3.8/dist-packages (from dask>=2021.12->auto-sklearn) (0.12.0)\n",
            "Requirement already satisfied: cloudpickle>=1.1.1 in /usr/local/lib/python3.8/dist-packages (from dask>=2021.12->auto-sklearn) (1.5.0)\n",
            "Requirement already satisfied: fsspec>=0.6.0 in /usr/local/lib/python3.8/dist-packages (from dask>=2021.12->auto-sklearn) (2022.11.0)\n",
            "Requirement already satisfied: partd>=0.3.10 in /usr/local/lib/python3.8/dist-packages (from dask>=2021.12->auto-sklearn) (1.3.0)\n",
            "Requirement already satisfied: packaging>=20.0 in /usr/local/lib/python3.8/dist-packages (from dask>=2021.12->auto-sklearn) (21.3)\n",
            "Requirement already satisfied: tblib>=1.6.0 in /usr/local/lib/python3.8/dist-packages (from distributed>=2012.12->auto-sklearn) (1.7.0)\n",
            "Requirement already satisfied: sortedcontainers!=2.0.0,!=2.0.1 in /usr/local/lib/python3.8/dist-packages (from distributed>=2012.12->auto-sklearn) (2.4.0)\n",
            "Requirement already satisfied: msgpack>=0.6.0 in /usr/local/lib/python3.8/dist-packages (from distributed>=2012.12->auto-sklearn) (1.0.4)\n",
            "Requirement already satisfied: jinja2 in /usr/local/lib/python3.8/dist-packages (from distributed>=2012.12->auto-sklearn) (2.11.3)\n",
            "Requirement already satisfied: click>=6.6 in /usr/local/lib/python3.8/dist-packages (from distributed>=2012.12->auto-sklearn) (7.1.2)\n",
            "Requirement already satisfied: zict>=0.1.3 in /usr/local/lib/python3.8/dist-packages (from distributed>=2012.12->auto-sklearn) (2.2.0)\n",
            "Requirement already satisfied: tornado>=6.0.3 in /usr/local/lib/python3.8/dist-packages (from distributed>=2012.12->auto-sklearn) (6.0.4)\n",
            "Requirement already satisfied: psutil>=5.0 in /usr/local/lib/python3.8/dist-packages (from distributed>=2012.12->auto-sklearn) (5.4.8)\n",
            "Requirement already satisfied: pytz>=2017.3 in /usr/local/lib/python3.8/dist-packages (from pandas>=1.0->auto-sklearn) (2022.6)\n",
            "Requirement already satisfied: python-dateutil>=2.7.3 in /usr/local/lib/python3.8/dist-packages (from pandas>=1.0->auto-sklearn) (2.8.2)\n",
            "Requirement already satisfied: locket in /usr/local/lib/python3.8/dist-packages (from partd>=0.3.10->dask>=2021.12->auto-sklearn) (1.0.0)\n",
            "Requirement already satisfied: six>=1.5 in /usr/local/lib/python3.8/dist-packages (from python-dateutil>=2.7.3->pandas>=1.0->auto-sklearn) (1.15.0)\n",
            "Collecting emcee>=3.0.0\n",
            "  Downloading emcee-3.1.3-py2.py3-none-any.whl (46 kB)\n",
            "\u001b[K     |████████████████████████████████| 46 kB 4.5 MB/s \n",
            "\u001b[?25hRequirement already satisfied: heapdict in /usr/local/lib/python3.8/dist-packages (from zict>=0.1.3->distributed>=2012.12->auto-sklearn) (1.0.1)\n",
            "Requirement already satisfied: MarkupSafe>=0.23 in /usr/local/lib/python3.8/dist-packages (from jinja2->distributed>=2012.12->auto-sklearn) (2.0.1)\n",
            "Building wheels for collected packages: auto-sklearn, pynisher, smac, liac-arff\n",
            "  Building wheel for auto-sklearn (PEP 517) ... \u001b[?25l\u001b[?25hdone\n",
            "  Created wheel for auto-sklearn: filename=auto_sklearn-0.15.0-py3-none-any.whl size=6641945 sha256=0022bfb00aeeabcfa8993f934341bc76239c67b176eb52f800bd1715ad9b55f8\n",
            "  Stored in directory: /root/.cache/pip/wheels/c5/11/0e/aeac2cee929fa4388e528737b49deb2eea05486e6f80d61c1a\n",
            "  Building wheel for pynisher (setup.py) ... \u001b[?25l\u001b[?25hdone\n",
            "  Created wheel for pynisher: filename=pynisher-0.6.4-py3-none-any.whl size=7044 sha256=9d885e7d00901121736bcb8b383cce04f6e03c11edaf4d31cedb8a2e954c54ac\n",
            "  Stored in directory: /root/.cache/pip/wheels/a7/0b/c3/169e35bcd72f20d0d5e24c37dd2dff8282cc16c06df9762ff5\n",
            "  Building wheel for smac (setup.py) ... \u001b[?25l\u001b[?25hdone\n",
            "  Created wheel for smac: filename=smac-1.2-py3-none-any.whl size=215928 sha256=c95cba5f287999d5ef7cb26674c1f82848b688480ffc46fc752a00b5d5fd4ed3\n",
            "  Stored in directory: /root/.cache/pip/wheels/1c/0d/63/29515e546f52561bf5ff41e3968fe2c35afe4ae366be54b2c4\n",
            "  Building wheel for liac-arff (setup.py) ... \u001b[?25l\u001b[?25hdone\n",
            "  Created wheel for liac-arff: filename=liac_arff-2.5.0-py3-none-any.whl size=11732 sha256=da00edcfa7e1e45ba0d149968b72c3b9ce48f57abdb2e85956c0312b286bbff0\n",
            "  Stored in directory: /root/.cache/pip/wheels/a2/de/68/bf3972de3ecb31e32bef59a7f4c75f0687a3674c476b347c14\n",
            "Successfully built auto-sklearn pynisher smac liac-arff\n",
            "Installing collected packages: scikit-learn, pyrfr, pynisher, emcee, ConfigSpace, smac, liac-arff, distro, auto-sklearn\n",
            "  Attempting uninstall: scikit-learn\n",
            "    Found existing installation: scikit-learn 1.0.2\n",
            "    Uninstalling scikit-learn-1.0.2:\n",
            "      Successfully uninstalled scikit-learn-1.0.2\n",
            "\u001b[31mERROR: pip's dependency resolver does not currently take into account all the packages that are installed. This behaviour is the source of the following dependency conflicts.\n",
            "yellowbrick 1.5 requires scikit-learn>=1.0.0, but you have scikit-learn 0.24.2 which is incompatible.\u001b[0m\n",
            "Successfully installed ConfigSpace-0.4.21 auto-sklearn-0.15.0 distro-1.8.0 emcee-3.1.3 liac-arff-2.5.0 pynisher-0.6.4 pyrfr-0.8.3 scikit-learn-0.24.2 smac-1.2\n"
          ]
        },
        {
          "output_type": "display_data",
          "data": {
            "application/vnd.colab-display-data+json": {
              "pip_warning": {
                "packages": [
                  "sklearn"
                ]
              }
            }
          },
          "metadata": {}
        }
      ]
    },
    {
      "cell_type": "code",
      "execution_count": null,
      "metadata": {
        "id": "039o2af8VNGa"
      },
      "outputs": [],
      "source": [
        "import autosklearn.classification"
      ]
    },
    {
      "cell_type": "code",
      "execution_count": null,
      "metadata": {
        "id": "4ewVhYWiVNGa"
      },
      "outputs": [],
      "source": [
        "automl = autosklearn.classification.AutoSklearnClassifier(time_left_for_this_task=60)"
      ]
    },
    {
      "cell_type": "code",
      "execution_count": null,
      "metadata": {
        "scrolled": true,
        "id": "VgxH1Ot1VNGa",
        "outputId": "14aeb64e-81a8-464e-d716-e492c36f8912",
        "colab": {
          "base_uri": "https://localhost:8080/"
        }
      },
      "outputs": [
        {
          "output_type": "stream",
          "name": "stdout",
          "text": [
            "CPU times: user 3.41 s, sys: 627 ms, total: 4.03 s\n",
            "Wall time: 57.1 s\n"
          ]
        },
        {
          "output_type": "execute_result",
          "data": {
            "text/plain": [
              "AutoSklearnClassifier(ensemble_class=<class 'autosklearn.ensembles.ensemble_selection.EnsembleSelection'>,\n",
              "                      per_run_time_limit=6, time_left_for_this_task=60)"
            ]
          },
          "metadata": {},
          "execution_count": 8
        }
      ],
      "source": [
        "%%time\n",
        "automl.fit(X_train[ ['Pclass', 'SibSp','Fare' ] ], y_train)"
      ]
    },
    {
      "cell_type": "code",
      "execution_count": null,
      "metadata": {
        "id": "Zx5PpG7dVNGb"
      },
      "outputs": [],
      "source": [
        "from sklearn import metrics"
      ]
    },
    {
      "cell_type": "code",
      "execution_count": null,
      "metadata": {
        "id": "ZF88V5tEVNGb",
        "colab": {
          "base_uri": "https://localhost:8080/"
        },
        "outputId": "0bfa4b97-49a7-4fe2-d5d4-1de72166eb7f"
      },
      "outputs": [
        {
          "output_type": "stream",
          "name": "stdout",
          "text": [
            "Accuracy score 0.6995515695067265\n"
          ]
        }
      ],
      "source": [
        "y_hat = automl.predict(X_test[ ['Pclass', 'SibSp','Fare' ] ])\n",
        "print(\"Accuracy score\", metrics.accuracy_score(y_test, y_hat))"
      ]
    },
    {
      "cell_type": "code",
      "execution_count": null,
      "metadata": {
        "id": "cBBn-WctVNGb"
      },
      "outputs": [],
      "source": []
    },
    {
      "cell_type": "code",
      "execution_count": null,
      "metadata": {
        "scrolled": true,
        "id": "kJLOk0eNVNGb",
        "colab": {
          "base_uri": "https://localhost:8080/"
        },
        "outputId": "f04f442a-bbaa-47eb-b166-5edc440b9e08"
      },
      "outputs": [
        {
          "output_type": "execute_result",
          "data": {
            "text/plain": [
              "{2: {'model_id': 2,\n",
              "  'rank': 1,\n",
              "  'cost': 0.32579185520361986,\n",
              "  'ensemble_weight': 0.06,\n",
              "  'data_preprocessor': <autosklearn.pipeline.components.data_preprocessing.DataPreprocessorChoice at 0x7fe0455dff10>,\n",
              "  'balancing': Balancing(random_state=1),\n",
              "  'feature_preprocessor': <autosklearn.pipeline.components.feature_preprocessing.FeaturePreprocessorChoice at 0x7fe0455df7c0>,\n",
              "  'classifier': <autosklearn.pipeline.components.classification.ClassifierChoice at 0x7fe045a09a60>,\n",
              "  'sklearn_classifier': RandomForestClassifier(max_features=1, n_estimators=512, n_jobs=1,\n",
              "                         random_state=1, warm_start=True)},\n",
              " 5: {'model_id': 5,\n",
              "  'rank': 2,\n",
              "  'cost': 0.3529411764705882,\n",
              "  'ensemble_weight': 0.02,\n",
              "  'data_preprocessor': <autosklearn.pipeline.components.data_preprocessing.DataPreprocessorChoice at 0x7fe0459e2f70>,\n",
              "  'balancing': Balancing(random_state=1, strategy='weighting'),\n",
              "  'feature_preprocessor': <autosklearn.pipeline.components.feature_preprocessing.FeaturePreprocessorChoice at 0x7fe045644070>,\n",
              "  'classifier': <autosklearn.pipeline.components.classification.ClassifierChoice at 0x7fe0456440d0>,\n",
              "  'sklearn_classifier': MLPClassifier(activation='tanh', alpha=0.00021148999718383549, beta_1=0.999,\n",
              "                beta_2=0.9, hidden_layer_sizes=(113, 113, 113),\n",
              "                learning_rate_init=0.0007452270241186694, max_iter=256,\n",
              "                n_iter_no_change=32, random_state=1, validation_fraction=0.0,\n",
              "                verbose=0, warm_start=True)},\n",
              " 6: {'model_id': 6,\n",
              "  'rank': 3,\n",
              "  'cost': 0.2850678733031674,\n",
              "  'ensemble_weight': 0.24,\n",
              "  'data_preprocessor': <autosklearn.pipeline.components.data_preprocessing.DataPreprocessorChoice at 0x7fe0456305b0>,\n",
              "  'balancing': Balancing(random_state=1),\n",
              "  'feature_preprocessor': <autosklearn.pipeline.components.feature_preprocessing.FeaturePreprocessorChoice at 0x7fe045445be0>,\n",
              "  'classifier': <autosklearn.pipeline.components.classification.ClassifierChoice at 0x7fe045445cd0>,\n",
              "  'sklearn_classifier': ExtraTreesClassifier(max_features=3, min_samples_leaf=3, min_samples_split=11,\n",
              "                       n_estimators=512, n_jobs=1, random_state=1,\n",
              "                       warm_start=True)},\n",
              " 8: {'model_id': 8,\n",
              "  'rank': 4,\n",
              "  'cost': 0.31221719457013575,\n",
              "  'ensemble_weight': 0.02,\n",
              "  'data_preprocessor': <autosklearn.pipeline.components.data_preprocessing.DataPreprocessorChoice at 0x7fe04563c370>,\n",
              "  'balancing': Balancing(random_state=1, strategy='weighting'),\n",
              "  'feature_preprocessor': <autosklearn.pipeline.components.feature_preprocessing.FeaturePreprocessorChoice at 0x7fe0455e7520>,\n",
              "  'classifier': <autosklearn.pipeline.components.classification.ClassifierChoice at 0x7fe045680d90>,\n",
              "  'sklearn_classifier': HistGradientBoostingClassifier(early_stopping=True,\n",
              "                                 l2_regularization=3.387912939529945e-10,\n",
              "                                 learning_rate=0.30755227194768237, max_iter=512,\n",
              "                                 max_leaf_nodes=60, min_samples_leaf=39,\n",
              "                                 n_iter_no_change=18, random_state=1,\n",
              "                                 validation_fraction=None, warm_start=True)},\n",
              " 11: {'model_id': 11,\n",
              "  'rank': 5,\n",
              "  'cost': 0.3393665158371041,\n",
              "  'ensemble_weight': 0.04,\n",
              "  'data_preprocessor': <autosklearn.pipeline.components.data_preprocessing.DataPreprocessorChoice at 0x7fe0454b1e80>,\n",
              "  'balancing': Balancing(random_state=1),\n",
              "  'feature_preprocessor': <autosklearn.pipeline.components.feature_preprocessing.FeaturePreprocessorChoice at 0x7fe0424b7ca0>,\n",
              "  'classifier': <autosklearn.pipeline.components.classification.ClassifierChoice at 0x7fe0424b7d60>,\n",
              "  'sklearn_classifier': RandomForestClassifier(criterion='entropy', max_features=2, min_samples_leaf=7,\n",
              "                         n_estimators=512, n_jobs=1, random_state=1,\n",
              "                         warm_start=True)},\n",
              " 12: {'model_id': 12,\n",
              "  'rank': 6,\n",
              "  'cost': 0.3167420814479638,\n",
              "  'ensemble_weight': 0.08,\n",
              "  'data_preprocessor': <autosklearn.pipeline.components.data_preprocessing.DataPreprocessorChoice at 0x7fe045405070>,\n",
              "  'balancing': Balancing(random_state=1, strategy='weighting'),\n",
              "  'feature_preprocessor': <autosklearn.pipeline.components.feature_preprocessing.FeaturePreprocessorChoice at 0x7fe042466a90>,\n",
              "  'classifier': <autosklearn.pipeline.components.classification.ClassifierChoice at 0x7fe042466d90>,\n",
              "  'sklearn_classifier': PassiveAggressiveClassifier(C=0.14833233294431605, average=True,\n",
              "                              loss='squared_hinge', max_iter=32, random_state=1,\n",
              "                              tol=0.00016482166646253793, warm_start=True)},\n",
              " 13: {'model_id': 13,\n",
              "  'rank': 7,\n",
              "  'cost': 0.30316742081447967,\n",
              "  'ensemble_weight': 0.5,\n",
              "  'data_preprocessor': <autosklearn.pipeline.components.data_preprocessing.DataPreprocessorChoice at 0x7fe042bbbbe0>,\n",
              "  'balancing': Balancing(random_state=1),\n",
              "  'feature_preprocessor': <autosklearn.pipeline.components.feature_preprocessing.FeaturePreprocessorChoice at 0x7fe0422ecb50>,\n",
              "  'classifier': <autosklearn.pipeline.components.classification.ClassifierChoice at 0x7fe042256400>,\n",
              "  'sklearn_classifier': AdaBoostClassifier(base_estimator=DecisionTreeClassifier(max_depth=3),\n",
              "                     learning_rate=0.046269426995092074, n_estimators=406,\n",
              "                     random_state=1)},\n",
              " 14: {'model_id': 14,\n",
              "  'rank': 8,\n",
              "  'cost': 0.3076923076923077,\n",
              "  'ensemble_weight': 0.02,\n",
              "  'data_preprocessor': <autosklearn.pipeline.components.data_preprocessing.DataPreprocessorChoice at 0x7fe0424d2ac0>,\n",
              "  'balancing': Balancing(random_state=1),\n",
              "  'feature_preprocessor': <autosklearn.pipeline.components.feature_preprocessing.FeaturePreprocessorChoice at 0x7fe0421ce400>,\n",
              "  'classifier': <autosklearn.pipeline.components.classification.ClassifierChoice at 0x7fe0421ce670>,\n",
              "  'sklearn_classifier': MLPClassifier(activation='tanh', alpha=0.0001363185819149026, beta_1=0.999,\n",
              "                beta_2=0.9, early_stopping=True,\n",
              "                hidden_layer_sizes=(115, 115, 115),\n",
              "                learning_rate_init=0.00018009776276177523, max_iter=32,\n",
              "                n_iter_no_change=32, random_state=1, verbose=0, warm_start=True)},\n",
              " 15: {'model_id': 15,\n",
              "  'rank': 9,\n",
              "  'cost': 0.32579185520361986,\n",
              "  'ensemble_weight': 0.02,\n",
              "  'data_preprocessor': <autosklearn.pipeline.components.data_preprocessing.DataPreprocessorChoice at 0x7fe04231fd90>,\n",
              "  'balancing': Balancing(random_state=1),\n",
              "  'feature_preprocessor': <autosklearn.pipeline.components.feature_preprocessing.FeaturePreprocessorChoice at 0x7fe041e92a00>,\n",
              "  'classifier': <autosklearn.pipeline.components.classification.ClassifierChoice at 0x7fe041e92ca0>,\n",
              "  'sklearn_classifier': HistGradientBoostingClassifier(early_stopping=False, l2_regularization=1e-10,\n",
              "                                 learning_rate=0.16262682406125173, max_iter=512,\n",
              "                                 max_leaf_nodes=66, n_iter_no_change=0,\n",
              "                                 random_state=1, validation_fraction=None,\n",
              "                                 warm_start=True)}}"
            ]
          },
          "metadata": {},
          "execution_count": 11
        }
      ],
      "source": [
        "automl.show_models()"
      ]
    }
  ]
}