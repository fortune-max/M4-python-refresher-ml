{
  "cells": [
    {
      "cell_type": "markdown",
      "metadata": {
        "id": "view-in-github",
        "colab_type": "text"
      },
      "source": [
        "<a href=\"https://colab.research.google.com/github/fortune-max/M4-python-refresher-ml/blob/main/Copy_of_Day_11_automl_demo.ipynb\" target=\"_parent\"><img src=\"https://colab.research.google.com/assets/colab-badge.svg\" alt=\"Open In Colab\"/></a>"
      ]
    },
    {
      "cell_type": "code",
      "source": [
        "tfrom google.colab import drive\n",
        "\n",
        "drive.mount('/content/gdrive')\n",
        "\n",
        "!cp gdrive/MyDrive/DS404/Day_11_materials/* .\n",
        "!ls"
      ],
      "metadata": {
        "colab": {
          "base_uri": "https://localhost:8080/"
        },
        "id": "_laynT_vGjah",
        "outputId": "2f3852d7-e3d0-4c6e-897c-863b4c7ed5f2"
      },
      "execution_count": null,
      "outputs": [
        {
          "output_type": "stream",
          "name": "stdout",
          "text": [
            "Drive already mounted at /content/gdrive; to attempt to forcibly remount, call drive.mount(\"/content/gdrive\", force_remount=True).\n",
            "gdrive\timports.py  sample_data  titanic.csv\n"
          ]
        }
      ]
    },
    {
      "cell_type": "code",
      "execution_count": null,
      "metadata": {
        "id": "DGqSo3YrVNGP"
      },
      "outputs": [],
      "source": [
        "%run imports.py"
      ]
    },
    {
      "cell_type": "markdown",
      "metadata": {
        "id": "3o169ILgVNGR"
      },
      "source": [
        "## Parameters search"
      ]
    },
    {
      "cell_type": "code",
      "execution_count": null,
      "metadata": {
        "id": "3lOsr-yPVNGT"
      },
      "outputs": [],
      "source": [
        "titanic_df = pd.read_csv('titanic.csv')"
      ]
    },
    {
      "cell_type": "code",
      "execution_count": null,
      "metadata": {
        "id": "LSh5MvheVNGT"
      },
      "outputs": [],
      "source": [
        "from sklearn import model_selection"
      ]
    },
    {
      "cell_type": "code",
      "execution_count": null,
      "metadata": {
        "id": "l_szTJ2xVNGT"
      },
      "outputs": [],
      "source": [
        "X_train,X_test, y_train, y_test = model_selection.train_test_split(\n",
        "    titanic_df.drop('Survived', axis=1),\n",
        "    titanic_df['Survived'])"
      ]
    },
    {
      "cell_type": "code",
      "execution_count": null,
      "metadata": {
        "id": "ytocdmLgVNGU",
        "outputId": "e7578f12-29b9-476e-a46a-b36e1bbb919b",
        "colab": {
          "base_uri": "https://localhost:8080/",
          "height": 423
        }
      },
      "outputs": [
        {
          "output_type": "execute_result",
          "data": {
            "text/plain": [
              "     PassengerId  Pclass                                Name     Sex   Age  \\\n",
              "539          540       1  Frolicher, Miss. Hedwig Margaritha  female  22.0   \n",
              "159          160       3          Sage, Master. Thomas Henry    male   NaN   \n",
              "216          217       3              Honkanen, Miss. Eliina  female  27.0   \n",
              "751          752       3                 Moor, Master. Meier    male   6.0   \n",
              "514          515       3                   Coleff, Mr. Satio    male  24.0   \n",
              "..           ...     ...                                 ...     ...   ...   \n",
              "191          192       2               Carbines, Mr. William    male  19.0   \n",
              "342          343       2          Collander, Mr. Erik Gustaf    male  28.0   \n",
              "680          681       3                 Peters, Miss. Katie  female   NaN   \n",
              "139          140       1                  Giglio, Mr. Victor    male  24.0   \n",
              "301          302       3                  McCoy, Mr. Bernard    male   NaN   \n",
              "\n",
              "     SibSp  Parch            Ticket     Fare Cabin Embarked  \n",
              "539      0      2             13568  49.5000   B39        C  \n",
              "159      8      2          CA. 2343  69.5500   NaN        S  \n",
              "216      0      0  STON/O2. 3101283   7.9250   NaN        S  \n",
              "751      0      1            392096  12.4750  E121        S  \n",
              "514      0      0            349209   7.4958   NaN        S  \n",
              "..     ...    ...               ...      ...   ...      ...  \n",
              "191      0      0             28424  13.0000   NaN        S  \n",
              "342      0      0            248740  13.0000   NaN        S  \n",
              "680      0      0            330935   8.1375   NaN        Q  \n",
              "139      0      0          PC 17593  79.2000   B86        C  \n",
              "301      2      0            367226  23.2500   NaN        Q  \n",
              "\n",
              "[668 rows x 11 columns]"
            ],
            "text/html": [
              "\n",
              "  <div id=\"df-d818da29-aecf-4225-b812-782841a99d4c\">\n",
              "    <div class=\"colab-df-container\">\n",
              "      <div>\n",
              "<style scoped>\n",
              "    .dataframe tbody tr th:only-of-type {\n",
              "        vertical-align: middle;\n",
              "    }\n",
              "\n",
              "    .dataframe tbody tr th {\n",
              "        vertical-align: top;\n",
              "    }\n",
              "\n",
              "    .dataframe thead th {\n",
              "        text-align: right;\n",
              "    }\n",
              "</style>\n",
              "<table border=\"1\" class=\"dataframe\">\n",
              "  <thead>\n",
              "    <tr style=\"text-align: right;\">\n",
              "      <th></th>\n",
              "      <th>PassengerId</th>\n",
              "      <th>Pclass</th>\n",
              "      <th>Name</th>\n",
              "      <th>Sex</th>\n",
              "      <th>Age</th>\n",
              "      <th>SibSp</th>\n",
              "      <th>Parch</th>\n",
              "      <th>Ticket</th>\n",
              "      <th>Fare</th>\n",
              "      <th>Cabin</th>\n",
              "      <th>Embarked</th>\n",
              "    </tr>\n",
              "  </thead>\n",
              "  <tbody>\n",
              "    <tr>\n",
              "      <th>539</th>\n",
              "      <td>540</td>\n",
              "      <td>1</td>\n",
              "      <td>Frolicher, Miss. Hedwig Margaritha</td>\n",
              "      <td>female</td>\n",
              "      <td>22.0</td>\n",
              "      <td>0</td>\n",
              "      <td>2</td>\n",
              "      <td>13568</td>\n",
              "      <td>49.5000</td>\n",
              "      <td>B39</td>\n",
              "      <td>C</td>\n",
              "    </tr>\n",
              "    <tr>\n",
              "      <th>159</th>\n",
              "      <td>160</td>\n",
              "      <td>3</td>\n",
              "      <td>Sage, Master. Thomas Henry</td>\n",
              "      <td>male</td>\n",
              "      <td>NaN</td>\n",
              "      <td>8</td>\n",
              "      <td>2</td>\n",
              "      <td>CA. 2343</td>\n",
              "      <td>69.5500</td>\n",
              "      <td>NaN</td>\n",
              "      <td>S</td>\n",
              "    </tr>\n",
              "    <tr>\n",
              "      <th>216</th>\n",
              "      <td>217</td>\n",
              "      <td>3</td>\n",
              "      <td>Honkanen, Miss. Eliina</td>\n",
              "      <td>female</td>\n",
              "      <td>27.0</td>\n",
              "      <td>0</td>\n",
              "      <td>0</td>\n",
              "      <td>STON/O2. 3101283</td>\n",
              "      <td>7.9250</td>\n",
              "      <td>NaN</td>\n",
              "      <td>S</td>\n",
              "    </tr>\n",
              "    <tr>\n",
              "      <th>751</th>\n",
              "      <td>752</td>\n",
              "      <td>3</td>\n",
              "      <td>Moor, Master. Meier</td>\n",
              "      <td>male</td>\n",
              "      <td>6.0</td>\n",
              "      <td>0</td>\n",
              "      <td>1</td>\n",
              "      <td>392096</td>\n",
              "      <td>12.4750</td>\n",
              "      <td>E121</td>\n",
              "      <td>S</td>\n",
              "    </tr>\n",
              "    <tr>\n",
              "      <th>514</th>\n",
              "      <td>515</td>\n",
              "      <td>3</td>\n",
              "      <td>Coleff, Mr. Satio</td>\n",
              "      <td>male</td>\n",
              "      <td>24.0</td>\n",
              "      <td>0</td>\n",
              "      <td>0</td>\n",
              "      <td>349209</td>\n",
              "      <td>7.4958</td>\n",
              "      <td>NaN</td>\n",
              "      <td>S</td>\n",
              "    </tr>\n",
              "    <tr>\n",
              "      <th>...</th>\n",
              "      <td>...</td>\n",
              "      <td>...</td>\n",
              "      <td>...</td>\n",
              "      <td>...</td>\n",
              "      <td>...</td>\n",
              "      <td>...</td>\n",
              "      <td>...</td>\n",
              "      <td>...</td>\n",
              "      <td>...</td>\n",
              "      <td>...</td>\n",
              "      <td>...</td>\n",
              "    </tr>\n",
              "    <tr>\n",
              "      <th>191</th>\n",
              "      <td>192</td>\n",
              "      <td>2</td>\n",
              "      <td>Carbines, Mr. William</td>\n",
              "      <td>male</td>\n",
              "      <td>19.0</td>\n",
              "      <td>0</td>\n",
              "      <td>0</td>\n",
              "      <td>28424</td>\n",
              "      <td>13.0000</td>\n",
              "      <td>NaN</td>\n",
              "      <td>S</td>\n",
              "    </tr>\n",
              "    <tr>\n",
              "      <th>342</th>\n",
              "      <td>343</td>\n",
              "      <td>2</td>\n",
              "      <td>Collander, Mr. Erik Gustaf</td>\n",
              "      <td>male</td>\n",
              "      <td>28.0</td>\n",
              "      <td>0</td>\n",
              "      <td>0</td>\n",
              "      <td>248740</td>\n",
              "      <td>13.0000</td>\n",
              "      <td>NaN</td>\n",
              "      <td>S</td>\n",
              "    </tr>\n",
              "    <tr>\n",
              "      <th>680</th>\n",
              "      <td>681</td>\n",
              "      <td>3</td>\n",
              "      <td>Peters, Miss. Katie</td>\n",
              "      <td>female</td>\n",
              "      <td>NaN</td>\n",
              "      <td>0</td>\n",
              "      <td>0</td>\n",
              "      <td>330935</td>\n",
              "      <td>8.1375</td>\n",
              "      <td>NaN</td>\n",
              "      <td>Q</td>\n",
              "    </tr>\n",
              "    <tr>\n",
              "      <th>139</th>\n",
              "      <td>140</td>\n",
              "      <td>1</td>\n",
              "      <td>Giglio, Mr. Victor</td>\n",
              "      <td>male</td>\n",
              "      <td>24.0</td>\n",
              "      <td>0</td>\n",
              "      <td>0</td>\n",
              "      <td>PC 17593</td>\n",
              "      <td>79.2000</td>\n",
              "      <td>B86</td>\n",
              "      <td>C</td>\n",
              "    </tr>\n",
              "    <tr>\n",
              "      <th>301</th>\n",
              "      <td>302</td>\n",
              "      <td>3</td>\n",
              "      <td>McCoy, Mr. Bernard</td>\n",
              "      <td>male</td>\n",
              "      <td>NaN</td>\n",
              "      <td>2</td>\n",
              "      <td>0</td>\n",
              "      <td>367226</td>\n",
              "      <td>23.2500</td>\n",
              "      <td>NaN</td>\n",
              "      <td>Q</td>\n",
              "    </tr>\n",
              "  </tbody>\n",
              "</table>\n",
              "<p>668 rows × 11 columns</p>\n",
              "</div>\n",
              "      <button class=\"colab-df-convert\" onclick=\"convertToInteractive('df-d818da29-aecf-4225-b812-782841a99d4c')\"\n",
              "              title=\"Convert this dataframe to an interactive table.\"\n",
              "              style=\"display:none;\">\n",
              "        \n",
              "  <svg xmlns=\"http://www.w3.org/2000/svg\" height=\"24px\"viewBox=\"0 0 24 24\"\n",
              "       width=\"24px\">\n",
              "    <path d=\"M0 0h24v24H0V0z\" fill=\"none\"/>\n",
              "    <path d=\"M18.56 5.44l.94 2.06.94-2.06 2.06-.94-2.06-.94-.94-2.06-.94 2.06-2.06.94zm-11 1L8.5 8.5l.94-2.06 2.06-.94-2.06-.94L8.5 2.5l-.94 2.06-2.06.94zm10 10l.94 2.06.94-2.06 2.06-.94-2.06-.94-.94-2.06-.94 2.06-2.06.94z\"/><path d=\"M17.41 7.96l-1.37-1.37c-.4-.4-.92-.59-1.43-.59-.52 0-1.04.2-1.43.59L10.3 9.45l-7.72 7.72c-.78.78-.78 2.05 0 2.83L4 21.41c.39.39.9.59 1.41.59.51 0 1.02-.2 1.41-.59l7.78-7.78 2.81-2.81c.8-.78.8-2.07 0-2.86zM5.41 20L4 18.59l7.72-7.72 1.47 1.35L5.41 20z\"/>\n",
              "  </svg>\n",
              "      </button>\n",
              "      \n",
              "  <style>\n",
              "    .colab-df-container {\n",
              "      display:flex;\n",
              "      flex-wrap:wrap;\n",
              "      gap: 12px;\n",
              "    }\n",
              "\n",
              "    .colab-df-convert {\n",
              "      background-color: #E8F0FE;\n",
              "      border: none;\n",
              "      border-radius: 50%;\n",
              "      cursor: pointer;\n",
              "      display: none;\n",
              "      fill: #1967D2;\n",
              "      height: 32px;\n",
              "      padding: 0 0 0 0;\n",
              "      width: 32px;\n",
              "    }\n",
              "\n",
              "    .colab-df-convert:hover {\n",
              "      background-color: #E2EBFA;\n",
              "      box-shadow: 0px 1px 2px rgba(60, 64, 67, 0.3), 0px 1px 3px 1px rgba(60, 64, 67, 0.15);\n",
              "      fill: #174EA6;\n",
              "    }\n",
              "\n",
              "    [theme=dark] .colab-df-convert {\n",
              "      background-color: #3B4455;\n",
              "      fill: #D2E3FC;\n",
              "    }\n",
              "\n",
              "    [theme=dark] .colab-df-convert:hover {\n",
              "      background-color: #434B5C;\n",
              "      box-shadow: 0px 1px 3px 1px rgba(0, 0, 0, 0.15);\n",
              "      filter: drop-shadow(0px 1px 2px rgba(0, 0, 0, 0.3));\n",
              "      fill: #FFFFFF;\n",
              "    }\n",
              "  </style>\n",
              "\n",
              "      <script>\n",
              "        const buttonEl =\n",
              "          document.querySelector('#df-d818da29-aecf-4225-b812-782841a99d4c button.colab-df-convert');\n",
              "        buttonEl.style.display =\n",
              "          google.colab.kernel.accessAllowed ? 'block' : 'none';\n",
              "\n",
              "        async function convertToInteractive(key) {\n",
              "          const element = document.querySelector('#df-d818da29-aecf-4225-b812-782841a99d4c');\n",
              "          const dataTable =\n",
              "            await google.colab.kernel.invokeFunction('convertToInteractive',\n",
              "                                                     [key], {});\n",
              "          if (!dataTable) return;\n",
              "\n",
              "          const docLinkHtml = 'Like what you see? Visit the ' +\n",
              "            '<a target=\"_blank\" href=https://colab.research.google.com/notebooks/data_table.ipynb>data table notebook</a>'\n",
              "            + ' to learn more about interactive tables.';\n",
              "          element.innerHTML = '';\n",
              "          dataTable['output_type'] = 'display_data';\n",
              "          await google.colab.output.renderOutput(dataTable, element);\n",
              "          const docLink = document.createElement('div');\n",
              "          docLink.innerHTML = docLinkHtml;\n",
              "          element.appendChild(docLink);\n",
              "        }\n",
              "      </script>\n",
              "    </div>\n",
              "  </div>\n",
              "  "
            ]
          },
          "metadata": {},
          "execution_count": 6
        }
      ],
      "source": [
        "X_train"
      ]
    },
    {
      "cell_type": "markdown",
      "metadata": {
        "id": "a2AjpMiLVNGV"
      },
      "source": [
        "#### for classifier"
      ]
    },
    {
      "cell_type": "code",
      "execution_count": null,
      "metadata": {
        "id": "bzcgB5psVNGV"
      },
      "outputs": [],
      "source": [
        "from sklearn.ensemble import RandomForestClassifier"
      ]
    },
    {
      "cell_type": "code",
      "execution_count": null,
      "metadata": {
        "id": "LuCRxQhsVNGV"
      },
      "outputs": [],
      "source": [
        "classifier = RandomForestClassifier()"
      ]
    },
    {
      "cell_type": "code",
      "execution_count": null,
      "metadata": {
        "id": "xxgFXdSDVNGW"
      },
      "outputs": [],
      "source": [
        "grid_param = {\n",
        "    'n_estimators': [100, 300, 500, 800, 1000],\n",
        "    'criterion': ['gini', 'entropy'],\n",
        "    'bootstrap': [True, False]\n",
        "}"
      ]
    },
    {
      "cell_type": "code",
      "execution_count": null,
      "metadata": {
        "id": "0xU6UHjjVNGW"
      },
      "outputs": [],
      "source": [
        "from sklearn import model_selection"
      ]
    },
    {
      "cell_type": "markdown",
      "metadata": {
        "id": "oTalzO97VNGW"
      },
      "source": [
        "### Grid Search"
      ]
    },
    {
      "cell_type": "code",
      "execution_count": null,
      "metadata": {
        "id": "JZ6FDh_BVNGW",
        "outputId": "44c49030-7535-49d0-9b85-7e2fb8c8f769",
        "colab": {
          "base_uri": "https://localhost:8080/"
        }
      },
      "outputs": [
        {
          "output_type": "execute_result",
          "data": {
            "text/plain": [
              "GridSearchCV(cv=5, estimator=RandomForestClassifier(), n_jobs=-1,\n",
              "             param_grid={'bootstrap': [True, False],\n",
              "                         'criterion': ['gini', 'entropy'],\n",
              "                         'n_estimators': [100, 300, 500, 800, 1000]},\n",
              "             scoring='accuracy')"
            ]
          },
          "metadata": {},
          "execution_count": 11
        }
      ],
      "source": [
        "grid_search_classifier = model_selection.GridSearchCV(estimator=classifier,\n",
        "                     param_grid=grid_param,\n",
        "                     scoring='accuracy',\n",
        "                     cv=5,\n",
        "                     n_jobs=-1)\n",
        "grid_search_classifier"
      ]
    },
    {
      "cell_type": "code",
      "execution_count": null,
      "metadata": {
        "id": "wgtgoW6eVNGX",
        "outputId": "223d86d6-6a20-4f78-924f-609cd253f3b1",
        "colab": {
          "base_uri": "https://localhost:8080/"
        }
      },
      "outputs": [
        {
          "output_type": "stream",
          "name": "stdout",
          "text": [
            "CPU times: user 2.4 s, sys: 110 ms, total: 2.51 s\n",
            "Wall time: 1min 16s\n"
          ]
        },
        {
          "output_type": "execute_result",
          "data": {
            "text/plain": [
              "GridSearchCV(cv=5, estimator=RandomForestClassifier(), n_jobs=-1,\n",
              "             param_grid={'bootstrap': [True, False],\n",
              "                         'criterion': ['gini', 'entropy'],\n",
              "                         'n_estimators': [100, 300, 500, 800, 1000]},\n",
              "             scoring='accuracy')"
            ]
          },
          "metadata": {},
          "execution_count": 12
        }
      ],
      "source": [
        "%%time\n",
        "grid_search_classifier.fit(X_train[ ['Pclass', 'SibSp','Fare' ] ], y_train)"
      ]
    },
    {
      "cell_type": "code",
      "execution_count": null,
      "metadata": {
        "id": "jbYx002YVNGX",
        "outputId": "477df0fe-86ad-4c79-e785-658065517a03",
        "colab": {
          "base_uri": "https://localhost:8080/"
        }
      },
      "outputs": [
        {
          "output_type": "stream",
          "name": "stdout",
          "text": [
            "{'bootstrap': True, 'criterion': 'entropy', 'n_estimators': 1000}\n"
          ]
        }
      ],
      "source": [
        "best_parameters = grid_search_classifier.best_params_\n",
        "print(best_parameters)"
      ]
    },
    {
      "cell_type": "code",
      "execution_count": null,
      "metadata": {
        "id": "aAnn3NrXVNGX",
        "outputId": "ac26a3e6-1b6d-4cf8-f4b7-03f6015db7bd",
        "colab": {
          "base_uri": "https://localhost:8080/"
        }
      },
      "outputs": [
        {
          "output_type": "execute_result",
          "data": {
            "text/plain": [
              "0.6705981371338795"
            ]
          },
          "metadata": {},
          "execution_count": 14
        }
      ],
      "source": [
        "grid_search_classifier.best_score_"
      ]
    },
    {
      "cell_type": "code",
      "execution_count": null,
      "metadata": {
        "scrolled": true,
        "id": "F8iF8I7sVNGX",
        "outputId": "ab129acc-f08d-409a-9ab0-5b0e91442f42",
        "colab": {
          "base_uri": "https://localhost:8080/"
        }
      },
      "outputs": [
        {
          "output_type": "execute_result",
          "data": {
            "text/plain": [
              "{'mean_fit_time': array([0.26321416, 0.78713927, 1.2664114 , 1.96815248, 2.46601233,\n",
              "        0.26504087, 1.18209071, 1.89387321, 2.05865355, 3.42043643,\n",
              "        0.20049038, 0.57493072, 0.95504727, 1.5319478 , 1.91964293,\n",
              "        0.22141719, 0.65709167, 1.10312214, 1.77510481, 2.14945941]),\n",
              " 'std_fit_time': array([0.02001154, 0.02077161, 0.02451371, 0.04056276, 0.03226828,\n",
              "        0.00740773, 0.31994422, 0.70452959, 0.03229831, 0.65062258,\n",
              "        0.0036143 , 0.01165168, 0.0235769 , 0.01589568, 0.03234015,\n",
              "        0.00876814, 0.0168834 , 0.0218335 , 0.02694068, 0.11998224]),\n",
              " 'mean_score_time': array([0.02310591, 0.06267686, 0.0996161 , 0.16251731, 0.20054116,\n",
              "        0.02269745, 0.11571059, 0.11799417, 0.15668402, 0.25541601,\n",
              "        0.02534814, 0.0591197 , 0.10129261, 0.15975394, 0.20634432,\n",
              "        0.0220602 , 0.06088176, 0.09662004, 0.16072993, 0.17961211]),\n",
              " 'std_score_time': array([0.00047413, 0.00406834, 0.00303292, 0.00675065, 0.00788826,\n",
              "        0.00181509, 0.02833489, 0.02256102, 0.00213533, 0.06045938,\n",
              "        0.00581571, 0.00096716, 0.00759997, 0.00209198, 0.00932323,\n",
              "        0.00043315, 0.00166491, 0.00136831, 0.00779784, 0.03192372]),\n",
              " 'param_bootstrap': masked_array(data=[True, True, True, True, True, True, True, True, True,\n",
              "                    True, False, False, False, False, False, False, False,\n",
              "                    False, False, False],\n",
              "              mask=[False, False, False, False, False, False, False, False,\n",
              "                    False, False, False, False, False, False, False, False,\n",
              "                    False, False, False, False],\n",
              "        fill_value='?',\n",
              "             dtype=object),\n",
              " 'param_criterion': masked_array(data=['gini', 'gini', 'gini', 'gini', 'gini', 'entropy',\n",
              "                    'entropy', 'entropy', 'entropy', 'entropy', 'gini',\n",
              "                    'gini', 'gini', 'gini', 'gini', 'entropy', 'entropy',\n",
              "                    'entropy', 'entropy', 'entropy'],\n",
              "              mask=[False, False, False, False, False, False, False, False,\n",
              "                    False, False, False, False, False, False, False, False,\n",
              "                    False, False, False, False],\n",
              "        fill_value='?',\n",
              "             dtype=object),\n",
              " 'param_n_estimators': masked_array(data=[100, 300, 500, 800, 1000, 100, 300, 500, 800, 1000,\n",
              "                    100, 300, 500, 800, 1000, 100, 300, 500, 800, 1000],\n",
              "              mask=[False, False, False, False, False, False, False, False,\n",
              "                    False, False, False, False, False, False, False, False,\n",
              "                    False, False, False, False],\n",
              "        fill_value='?',\n",
              "             dtype=object),\n",
              " 'params': [{'bootstrap': True, 'criterion': 'gini', 'n_estimators': 100},\n",
              "  {'bootstrap': True, 'criterion': 'gini', 'n_estimators': 300},\n",
              "  {'bootstrap': True, 'criterion': 'gini', 'n_estimators': 500},\n",
              "  {'bootstrap': True, 'criterion': 'gini', 'n_estimators': 800},\n",
              "  {'bootstrap': True, 'criterion': 'gini', 'n_estimators': 1000},\n",
              "  {'bootstrap': True, 'criterion': 'entropy', 'n_estimators': 100},\n",
              "  {'bootstrap': True, 'criterion': 'entropy', 'n_estimators': 300},\n",
              "  {'bootstrap': True, 'criterion': 'entropy', 'n_estimators': 500},\n",
              "  {'bootstrap': True, 'criterion': 'entropy', 'n_estimators': 800},\n",
              "  {'bootstrap': True, 'criterion': 'entropy', 'n_estimators': 1000},\n",
              "  {'bootstrap': False, 'criterion': 'gini', 'n_estimators': 100},\n",
              "  {'bootstrap': False, 'criterion': 'gini', 'n_estimators': 300},\n",
              "  {'bootstrap': False, 'criterion': 'gini', 'n_estimators': 500},\n",
              "  {'bootstrap': False, 'criterion': 'gini', 'n_estimators': 800},\n",
              "  {'bootstrap': False, 'criterion': 'gini', 'n_estimators': 1000},\n",
              "  {'bootstrap': False, 'criterion': 'entropy', 'n_estimators': 100},\n",
              "  {'bootstrap': False, 'criterion': 'entropy', 'n_estimators': 300},\n",
              "  {'bootstrap': False, 'criterion': 'entropy', 'n_estimators': 500},\n",
              "  {'bootstrap': False, 'criterion': 'entropy', 'n_estimators': 800},\n",
              "  {'bootstrap': False, 'criterion': 'entropy', 'n_estimators': 1000}],\n",
              " 'split0_test_score': array([0.67910448, 0.68656716, 0.67910448, 0.67910448, 0.68656716,\n",
              "        0.69402985, 0.69402985, 0.68656716, 0.68656716, 0.68656716,\n",
              "        0.67910448, 0.67910448, 0.67910448, 0.67910448, 0.67910448,\n",
              "        0.67910448, 0.67910448, 0.67910448, 0.67910448, 0.67910448]),\n",
              " 'split1_test_score': array([0.70895522, 0.7238806 , 0.70895522, 0.71641791, 0.70895522,\n",
              "        0.70149254, 0.69402985, 0.71641791, 0.70149254, 0.71641791,\n",
              "        0.69402985, 0.69402985, 0.69402985, 0.69402985, 0.69402985,\n",
              "        0.69402985, 0.69402985, 0.69402985, 0.69402985, 0.69402985]),\n",
              " 'split2_test_score': array([0.64925373, 0.64925373, 0.64179104, 0.64179104, 0.64179104,\n",
              "        0.64179104, 0.64925373, 0.64179104, 0.64179104, 0.64925373,\n",
              "        0.64925373, 0.64925373, 0.64925373, 0.64925373, 0.64179104,\n",
              "        0.64179104, 0.64179104, 0.64179104, 0.64179104, 0.64179104]),\n",
              " 'split3_test_score': array([0.66165414, 0.64661654, 0.64661654, 0.64661654, 0.64661654,\n",
              "        0.66165414, 0.66165414, 0.66165414, 0.66917293, 0.66165414,\n",
              "        0.67669173, 0.66917293, 0.66917293, 0.66917293, 0.66917293,\n",
              "        0.66917293, 0.66917293, 0.66917293, 0.66917293, 0.66917293]),\n",
              " 'split4_test_score': array([0.63909774, 0.63157895, 0.64661654, 0.63909774, 0.63909774,\n",
              "        0.63909774, 0.64661654, 0.63157895, 0.63909774, 0.63909774,\n",
              "        0.60902256, 0.60902256, 0.60902256, 0.60902256, 0.60902256,\n",
              "        0.60902256, 0.61654135, 0.61654135, 0.61654135, 0.61654135]),\n",
              " 'mean_test_score': array([0.66761306, 0.6675794 , 0.66461677, 0.66460554, 0.66460554,\n",
              "        0.66761306, 0.66911682, 0.66760184, 0.66762428, 0.67059814,\n",
              "        0.66162047, 0.66011671, 0.66011671, 0.66011671, 0.65862417,\n",
              "        0.65862417, 0.66012793, 0.66012793, 0.66012793, 0.66012793]),\n",
              " 'std_test_score': array([0.02460457, 0.03347137, 0.02586435, 0.02962936, 0.02808544,\n",
              "        0.02592711, 0.02096576, 0.03079582, 0.02445162, 0.02786509,\n",
              "        0.03000893, 0.02939819, 0.02939819, 0.02939819, 0.03009304,\n",
              "        0.03009304, 0.02766692, 0.02766692, 0.02766692, 0.02766692]),\n",
              " 'rank_test_score': array([ 4,  7,  8,  9,  9,  4,  2,  6,  3,  1, 11, 16, 16, 16, 19, 19, 12,\n",
              "        12, 12, 12], dtype=int32)}"
            ]
          },
          "metadata": {},
          "execution_count": 15
        }
      ],
      "source": [
        "grid_search_classifier.cv_results_"
      ]
    },
    {
      "cell_type": "markdown",
      "metadata": {
        "id": "PdFa4ZqtVNGY"
      },
      "source": [
        "### Random search"
      ]
    },
    {
      "cell_type": "code",
      "execution_count": null,
      "metadata": {
        "id": "C0ottJZ5VNGY"
      },
      "outputs": [],
      "source": [
        "random_search_classifier = model_selection.RandomizedSearchCV(estimator=classifier,\n",
        "                     param_distributions=grid_param,\n",
        "                     scoring='accuracy',\n",
        "                     cv=5,\n",
        "                     n_jobs=-1)"
      ]
    },
    {
      "cell_type": "code",
      "execution_count": null,
      "metadata": {
        "id": "ayqB99f3VNGY",
        "outputId": "014f2e08-835c-4a26-89bf-030eab709280",
        "colab": {
          "base_uri": "https://localhost:8080/"
        }
      },
      "outputs": [
        {
          "output_type": "stream",
          "name": "stdout",
          "text": [
            "CPU times: user 1.75 s, sys: 118 ms, total: 1.87 s\n",
            "Wall time: 39.1 s\n"
          ]
        },
        {
          "output_type": "execute_result",
          "data": {
            "text/plain": [
              "RandomizedSearchCV(cv=5, estimator=RandomForestClassifier(), n_jobs=-1,\n",
              "                   param_distributions={'bootstrap': [True, False],\n",
              "                                        'criterion': ['gini', 'entropy'],\n",
              "                                        'n_estimators': [100, 300, 500, 800,\n",
              "                                                         1000]},\n",
              "                   scoring='accuracy')"
            ]
          },
          "metadata": {},
          "execution_count": 18
        }
      ],
      "source": [
        "%%time\n",
        "random_search_classifier.fit(X_train[ ['Pclass', 'SibSp','Fare' ] ], y_train)"
      ]
    },
    {
      "cell_type": "code",
      "execution_count": null,
      "metadata": {
        "id": "_iMtZ7scVNGY",
        "outputId": "d774c8f5-da97-4b4a-d418-87815b960897",
        "colab": {
          "base_uri": "https://localhost:8080/"
        }
      },
      "outputs": [
        {
          "output_type": "stream",
          "name": "stdout",
          "text": [
            "{'n_estimators': 800, 'criterion': 'entropy', 'bootstrap': True}\n"
          ]
        }
      ],
      "source": [
        "best_parameters = random_search_classifier.best_params_\n",
        "print(best_parameters)"
      ]
    },
    {
      "cell_type": "code",
      "execution_count": null,
      "metadata": {
        "id": "9_QhlfDPVNGY",
        "outputId": "2b172e66-8ced-4519-eb68-72f3fe2bb06e",
        "colab": {
          "base_uri": "https://localhost:8080/"
        }
      },
      "outputs": [
        {
          "output_type": "execute_result",
          "data": {
            "text/plain": [
              "0.6721131186174392"
            ]
          },
          "metadata": {},
          "execution_count": 20
        }
      ],
      "source": [
        "random_search_classifier.best_score_"
      ]
    },
    {
      "cell_type": "code",
      "execution_count": null,
      "metadata": {
        "id": "PfzanS7nVNGZ",
        "outputId": "0430d0c2-a3f5-40df-8f7a-f24d718fa1ea",
        "colab": {
          "base_uri": "https://localhost:8080/"
        }
      },
      "outputs": [
        {
          "output_type": "execute_result",
          "data": {
            "text/plain": [
              "{'mean_fit_time': array([0.26321416, 0.78713927, 1.2664114 , 1.96815248, 2.46601233,\n",
              "        0.26504087, 1.18209071, 1.89387321, 2.05865355, 3.42043643,\n",
              "        0.20049038, 0.57493072, 0.95504727, 1.5319478 , 1.91964293,\n",
              "        0.22141719, 0.65709167, 1.10312214, 1.77510481, 2.14945941]),\n",
              " 'std_fit_time': array([0.02001154, 0.02077161, 0.02451371, 0.04056276, 0.03226828,\n",
              "        0.00740773, 0.31994422, 0.70452959, 0.03229831, 0.65062258,\n",
              "        0.0036143 , 0.01165168, 0.0235769 , 0.01589568, 0.03234015,\n",
              "        0.00876814, 0.0168834 , 0.0218335 , 0.02694068, 0.11998224]),\n",
              " 'mean_score_time': array([0.02310591, 0.06267686, 0.0996161 , 0.16251731, 0.20054116,\n",
              "        0.02269745, 0.11571059, 0.11799417, 0.15668402, 0.25541601,\n",
              "        0.02534814, 0.0591197 , 0.10129261, 0.15975394, 0.20634432,\n",
              "        0.0220602 , 0.06088176, 0.09662004, 0.16072993, 0.17961211]),\n",
              " 'std_score_time': array([0.00047413, 0.00406834, 0.00303292, 0.00675065, 0.00788826,\n",
              "        0.00181509, 0.02833489, 0.02256102, 0.00213533, 0.06045938,\n",
              "        0.00581571, 0.00096716, 0.00759997, 0.00209198, 0.00932323,\n",
              "        0.00043315, 0.00166491, 0.00136831, 0.00779784, 0.03192372]),\n",
              " 'param_bootstrap': masked_array(data=[True, True, True, True, True, True, True, True, True,\n",
              "                    True, False, False, False, False, False, False, False,\n",
              "                    False, False, False],\n",
              "              mask=[False, False, False, False, False, False, False, False,\n",
              "                    False, False, False, False, False, False, False, False,\n",
              "                    False, False, False, False],\n",
              "        fill_value='?',\n",
              "             dtype=object),\n",
              " 'param_criterion': masked_array(data=['gini', 'gini', 'gini', 'gini', 'gini', 'entropy',\n",
              "                    'entropy', 'entropy', 'entropy', 'entropy', 'gini',\n",
              "                    'gini', 'gini', 'gini', 'gini', 'entropy', 'entropy',\n",
              "                    'entropy', 'entropy', 'entropy'],\n",
              "              mask=[False, False, False, False, False, False, False, False,\n",
              "                    False, False, False, False, False, False, False, False,\n",
              "                    False, False, False, False],\n",
              "        fill_value='?',\n",
              "             dtype=object),\n",
              " 'param_n_estimators': masked_array(data=[100, 300, 500, 800, 1000, 100, 300, 500, 800, 1000,\n",
              "                    100, 300, 500, 800, 1000, 100, 300, 500, 800, 1000],\n",
              "              mask=[False, False, False, False, False, False, False, False,\n",
              "                    False, False, False, False, False, False, False, False,\n",
              "                    False, False, False, False],\n",
              "        fill_value='?',\n",
              "             dtype=object),\n",
              " 'params': [{'bootstrap': True, 'criterion': 'gini', 'n_estimators': 100},\n",
              "  {'bootstrap': True, 'criterion': 'gini', 'n_estimators': 300},\n",
              "  {'bootstrap': True, 'criterion': 'gini', 'n_estimators': 500},\n",
              "  {'bootstrap': True, 'criterion': 'gini', 'n_estimators': 800},\n",
              "  {'bootstrap': True, 'criterion': 'gini', 'n_estimators': 1000},\n",
              "  {'bootstrap': True, 'criterion': 'entropy', 'n_estimators': 100},\n",
              "  {'bootstrap': True, 'criterion': 'entropy', 'n_estimators': 300},\n",
              "  {'bootstrap': True, 'criterion': 'entropy', 'n_estimators': 500},\n",
              "  {'bootstrap': True, 'criterion': 'entropy', 'n_estimators': 800},\n",
              "  {'bootstrap': True, 'criterion': 'entropy', 'n_estimators': 1000},\n",
              "  {'bootstrap': False, 'criterion': 'gini', 'n_estimators': 100},\n",
              "  {'bootstrap': False, 'criterion': 'gini', 'n_estimators': 300},\n",
              "  {'bootstrap': False, 'criterion': 'gini', 'n_estimators': 500},\n",
              "  {'bootstrap': False, 'criterion': 'gini', 'n_estimators': 800},\n",
              "  {'bootstrap': False, 'criterion': 'gini', 'n_estimators': 1000},\n",
              "  {'bootstrap': False, 'criterion': 'entropy', 'n_estimators': 100},\n",
              "  {'bootstrap': False, 'criterion': 'entropy', 'n_estimators': 300},\n",
              "  {'bootstrap': False, 'criterion': 'entropy', 'n_estimators': 500},\n",
              "  {'bootstrap': False, 'criterion': 'entropy', 'n_estimators': 800},\n",
              "  {'bootstrap': False, 'criterion': 'entropy', 'n_estimators': 1000}],\n",
              " 'split0_test_score': array([0.67910448, 0.68656716, 0.67910448, 0.67910448, 0.68656716,\n",
              "        0.69402985, 0.69402985, 0.68656716, 0.68656716, 0.68656716,\n",
              "        0.67910448, 0.67910448, 0.67910448, 0.67910448, 0.67910448,\n",
              "        0.67910448, 0.67910448, 0.67910448, 0.67910448, 0.67910448]),\n",
              " 'split1_test_score': array([0.70895522, 0.7238806 , 0.70895522, 0.71641791, 0.70895522,\n",
              "        0.70149254, 0.69402985, 0.71641791, 0.70149254, 0.71641791,\n",
              "        0.69402985, 0.69402985, 0.69402985, 0.69402985, 0.69402985,\n",
              "        0.69402985, 0.69402985, 0.69402985, 0.69402985, 0.69402985]),\n",
              " 'split2_test_score': array([0.64925373, 0.64925373, 0.64179104, 0.64179104, 0.64179104,\n",
              "        0.64179104, 0.64925373, 0.64179104, 0.64179104, 0.64925373,\n",
              "        0.64925373, 0.64925373, 0.64925373, 0.64925373, 0.64179104,\n",
              "        0.64179104, 0.64179104, 0.64179104, 0.64179104, 0.64179104]),\n",
              " 'split3_test_score': array([0.66165414, 0.64661654, 0.64661654, 0.64661654, 0.64661654,\n",
              "        0.66165414, 0.66165414, 0.66165414, 0.66917293, 0.66165414,\n",
              "        0.67669173, 0.66917293, 0.66917293, 0.66917293, 0.66917293,\n",
              "        0.66917293, 0.66917293, 0.66917293, 0.66917293, 0.66917293]),\n",
              " 'split4_test_score': array([0.63909774, 0.63157895, 0.64661654, 0.63909774, 0.63909774,\n",
              "        0.63909774, 0.64661654, 0.63157895, 0.63909774, 0.63909774,\n",
              "        0.60902256, 0.60902256, 0.60902256, 0.60902256, 0.60902256,\n",
              "        0.60902256, 0.61654135, 0.61654135, 0.61654135, 0.61654135]),\n",
              " 'mean_test_score': array([0.66761306, 0.6675794 , 0.66461677, 0.66460554, 0.66460554,\n",
              "        0.66761306, 0.66911682, 0.66760184, 0.66762428, 0.67059814,\n",
              "        0.66162047, 0.66011671, 0.66011671, 0.66011671, 0.65862417,\n",
              "        0.65862417, 0.66012793, 0.66012793, 0.66012793, 0.66012793]),\n",
              " 'std_test_score': array([0.02460457, 0.03347137, 0.02586435, 0.02962936, 0.02808544,\n",
              "        0.02592711, 0.02096576, 0.03079582, 0.02445162, 0.02786509,\n",
              "        0.03000893, 0.02939819, 0.02939819, 0.02939819, 0.03009304,\n",
              "        0.03009304, 0.02766692, 0.02766692, 0.02766692, 0.02766692]),\n",
              " 'rank_test_score': array([ 4,  7,  8,  9,  9,  4,  2,  6,  3,  1, 11, 16, 16, 16, 19, 19, 12,\n",
              "        12, 12, 12], dtype=int32)}"
            ]
          },
          "metadata": {},
          "execution_count": 21
        }
      ],
      "source": [
        "grid_search_classifier.cv_results_"
      ]
    },
    {
      "cell_type": "markdown",
      "metadata": {
        "id": "QNf3xpw0VNGZ"
      },
      "source": [
        "#### for pipeline"
      ]
    },
    {
      "cell_type": "code",
      "execution_count": null,
      "metadata": {
        "id": "Vq9qXYZRVNGZ"
      },
      "outputs": [],
      "source": []
    },
    {
      "cell_type": "markdown",
      "metadata": {
        "id": "ZY_g1a8KVNGZ"
      },
      "source": [
        "# AutoML"
      ]
    },
    {
      "cell_type": "markdown",
      "metadata": {
        "id": "KFo6rxleVNGZ"
      },
      "source": [
        "### auto-sklearn"
      ]
    },
    {
      "cell_type": "code",
      "source": [
        "!pip install auto-sklearn"
      ],
      "metadata": {
        "colab": {
          "base_uri": "https://localhost:8080/",
          "height": 1000
        },
        "id": "4v70_DlUH3cS",
        "outputId": "b971537f-0bc6-45e1-b927-5acc24fc9dd3"
      },
      "execution_count": null,
      "outputs": [
        {
          "output_type": "stream",
          "name": "stdout",
          "text": [
            "Looking in indexes: https://pypi.org/simple, https://us-python.pkg.dev/colab-wheels/public/simple/\n",
            "Collecting auto-sklearn\n",
            "  Downloading auto-sklearn-0.15.0.tar.gz (6.5 MB)\n",
            "\u001b[K     |████████████████████████████████| 6.5 MB 4.9 MB/s \n",
            "\u001b[?25h  Installing build dependencies ... \u001b[?25l\u001b[?25hdone\n",
            "  Getting requirements to build wheel ... \u001b[?25l\u001b[?25hdone\n",
            "    Preparing wheel metadata ... \u001b[?25l\u001b[?25hdone\n",
            "Collecting distro\n",
            "  Downloading distro-1.8.0-py3-none-any.whl (20 kB)\n",
            "Collecting ConfigSpace<0.5,>=0.4.21\n",
            "  Downloading ConfigSpace-0.4.21-cp38-cp38-manylinux_2_17_x86_64.manylinux2014_x86_64.whl (4.9 MB)\n",
            "\u001b[K     |████████████████████████████████| 4.9 MB 45.8 MB/s \n",
            "\u001b[?25hRequirement already satisfied: pandas>=1.0 in /usr/local/lib/python3.8/dist-packages (from auto-sklearn) (1.3.5)\n",
            "Collecting scikit-learn<0.25.0,>=0.24.0\n",
            "  Downloading scikit_learn-0.24.2-cp38-cp38-manylinux2010_x86_64.whl (24.9 MB)\n",
            "\u001b[K     |████████████████████████████████| 24.9 MB 1.5 MB/s \n",
            "\u001b[?25hCollecting smac<1.3,>=1.2\n",
            "  Downloading smac-1.2.tar.gz (260 kB)\n",
            "\u001b[K     |████████████████████████████████| 260 kB 59.0 MB/s \n",
            "\u001b[?25hRequirement already satisfied: numpy>=1.9.0 in /usr/local/lib/python3.8/dist-packages (from auto-sklearn) (1.21.6)\n",
            "Collecting liac-arff\n",
            "  Downloading liac-arff-2.5.0.tar.gz (13 kB)\n",
            "Collecting pyrfr<0.9,>=0.8.1\n",
            "  Downloading pyrfr-0.8.3-cp38-cp38-manylinux_2_17_x86_64.manylinux2014_x86_64.whl (4.4 MB)\n",
            "\u001b[K     |████████████████████████████████| 4.4 MB 46.9 MB/s \n",
            "\u001b[?25hRequirement already satisfied: joblib in /usr/local/lib/python3.8/dist-packages (from auto-sklearn) (1.2.0)\n",
            "Requirement already satisfied: dask>=2021.12 in /usr/local/lib/python3.8/dist-packages (from auto-sklearn) (2022.2.1)\n",
            "Collecting pynisher<0.7,>=0.6.3\n",
            "  Downloading pynisher-0.6.4.tar.gz (11 kB)\n",
            "Requirement already satisfied: setuptools in /usr/local/lib/python3.8/dist-packages (from auto-sklearn) (57.4.0)\n",
            "Requirement already satisfied: typing-extensions in /usr/local/lib/python3.8/dist-packages (from auto-sklearn) (4.4.0)\n",
            "Requirement already satisfied: scipy>=1.7.0 in /usr/local/lib/python3.8/dist-packages (from auto-sklearn) (1.7.3)\n",
            "Requirement already satisfied: distributed>=2012.12 in /usr/local/lib/python3.8/dist-packages (from auto-sklearn) (2022.2.1)\n",
            "Requirement already satisfied: pyyaml in /usr/local/lib/python3.8/dist-packages (from auto-sklearn) (6.0)\n",
            "Requirement already satisfied: threadpoolctl in /usr/local/lib/python3.8/dist-packages (from auto-sklearn) (3.1.0)\n",
            "Requirement already satisfied: pyparsing in /usr/local/lib/python3.8/dist-packages (from ConfigSpace<0.5,>=0.4.21->auto-sklearn) (3.0.9)\n",
            "Requirement already satisfied: cython in /usr/local/lib/python3.8/dist-packages (from ConfigSpace<0.5,>=0.4.21->auto-sklearn) (0.29.32)\n",
            "Requirement already satisfied: toolz>=0.8.2 in /usr/local/lib/python3.8/dist-packages (from dask>=2021.12->auto-sklearn) (0.12.0)\n",
            "Requirement already satisfied: cloudpickle>=1.1.1 in /usr/local/lib/python3.8/dist-packages (from dask>=2021.12->auto-sklearn) (1.5.0)\n",
            "Requirement already satisfied: fsspec>=0.6.0 in /usr/local/lib/python3.8/dist-packages (from dask>=2021.12->auto-sklearn) (2022.11.0)\n",
            "Requirement already satisfied: partd>=0.3.10 in /usr/local/lib/python3.8/dist-packages (from dask>=2021.12->auto-sklearn) (1.3.0)\n",
            "Requirement already satisfied: packaging>=20.0 in /usr/local/lib/python3.8/dist-packages (from dask>=2021.12->auto-sklearn) (21.3)\n",
            "Requirement already satisfied: tblib>=1.6.0 in /usr/local/lib/python3.8/dist-packages (from distributed>=2012.12->auto-sklearn) (1.7.0)\n",
            "Requirement already satisfied: sortedcontainers!=2.0.0,!=2.0.1 in /usr/local/lib/python3.8/dist-packages (from distributed>=2012.12->auto-sklearn) (2.4.0)\n",
            "Requirement already satisfied: msgpack>=0.6.0 in /usr/local/lib/python3.8/dist-packages (from distributed>=2012.12->auto-sklearn) (1.0.4)\n",
            "Requirement already satisfied: jinja2 in /usr/local/lib/python3.8/dist-packages (from distributed>=2012.12->auto-sklearn) (2.11.3)\n",
            "Requirement already satisfied: click>=6.6 in /usr/local/lib/python3.8/dist-packages (from distributed>=2012.12->auto-sklearn) (7.1.2)\n",
            "Requirement already satisfied: zict>=0.1.3 in /usr/local/lib/python3.8/dist-packages (from distributed>=2012.12->auto-sklearn) (2.2.0)\n",
            "Requirement already satisfied: tornado>=6.0.3 in /usr/local/lib/python3.8/dist-packages (from distributed>=2012.12->auto-sklearn) (6.0.4)\n",
            "Requirement already satisfied: psutil>=5.0 in /usr/local/lib/python3.8/dist-packages (from distributed>=2012.12->auto-sklearn) (5.4.8)\n",
            "Requirement already satisfied: pytz>=2017.3 in /usr/local/lib/python3.8/dist-packages (from pandas>=1.0->auto-sklearn) (2022.6)\n",
            "Requirement already satisfied: python-dateutil>=2.7.3 in /usr/local/lib/python3.8/dist-packages (from pandas>=1.0->auto-sklearn) (2.8.2)\n",
            "Requirement already satisfied: locket in /usr/local/lib/python3.8/dist-packages (from partd>=0.3.10->dask>=2021.12->auto-sklearn) (1.0.0)\n",
            "Requirement already satisfied: six>=1.5 in /usr/local/lib/python3.8/dist-packages (from python-dateutil>=2.7.3->pandas>=1.0->auto-sklearn) (1.15.0)\n",
            "Collecting emcee>=3.0.0\n",
            "  Downloading emcee-3.1.3-py2.py3-none-any.whl (46 kB)\n",
            "\u001b[K     |████████████████████████████████| 46 kB 4.5 MB/s \n",
            "\u001b[?25hRequirement already satisfied: heapdict in /usr/local/lib/python3.8/dist-packages (from zict>=0.1.3->distributed>=2012.12->auto-sklearn) (1.0.1)\n",
            "Requirement already satisfied: MarkupSafe>=0.23 in /usr/local/lib/python3.8/dist-packages (from jinja2->distributed>=2012.12->auto-sklearn) (2.0.1)\n",
            "Building wheels for collected packages: auto-sklearn, pynisher, smac, liac-arff\n",
            "  Building wheel for auto-sklearn (PEP 517) ... \u001b[?25l\u001b[?25hdone\n",
            "  Created wheel for auto-sklearn: filename=auto_sklearn-0.15.0-py3-none-any.whl size=6641945 sha256=0022bfb00aeeabcfa8993f934341bc76239c67b176eb52f800bd1715ad9b55f8\n",
            "  Stored in directory: /root/.cache/pip/wheels/c5/11/0e/aeac2cee929fa4388e528737b49deb2eea05486e6f80d61c1a\n",
            "  Building wheel for pynisher (setup.py) ... \u001b[?25l\u001b[?25hdone\n",
            "  Created wheel for pynisher: filename=pynisher-0.6.4-py3-none-any.whl size=7044 sha256=9d885e7d00901121736bcb8b383cce04f6e03c11edaf4d31cedb8a2e954c54ac\n",
            "  Stored in directory: /root/.cache/pip/wheels/a7/0b/c3/169e35bcd72f20d0d5e24c37dd2dff8282cc16c06df9762ff5\n",
            "  Building wheel for smac (setup.py) ... \u001b[?25l\u001b[?25hdone\n",
            "  Created wheel for smac: filename=smac-1.2-py3-none-any.whl size=215928 sha256=c95cba5f287999d5ef7cb26674c1f82848b688480ffc46fc752a00b5d5fd4ed3\n",
            "  Stored in directory: /root/.cache/pip/wheels/1c/0d/63/29515e546f52561bf5ff41e3968fe2c35afe4ae366be54b2c4\n",
            "  Building wheel for liac-arff (setup.py) ... \u001b[?25l\u001b[?25hdone\n",
            "  Created wheel for liac-arff: filename=liac_arff-2.5.0-py3-none-any.whl size=11732 sha256=da00edcfa7e1e45ba0d149968b72c3b9ce48f57abdb2e85956c0312b286bbff0\n",
            "  Stored in directory: /root/.cache/pip/wheels/a2/de/68/bf3972de3ecb31e32bef59a7f4c75f0687a3674c476b347c14\n",
            "Successfully built auto-sklearn pynisher smac liac-arff\n",
            "Installing collected packages: scikit-learn, pyrfr, pynisher, emcee, ConfigSpace, smac, liac-arff, distro, auto-sklearn\n",
            "  Attempting uninstall: scikit-learn\n",
            "    Found existing installation: scikit-learn 1.0.2\n",
            "    Uninstalling scikit-learn-1.0.2:\n",
            "      Successfully uninstalled scikit-learn-1.0.2\n",
            "\u001b[31mERROR: pip's dependency resolver does not currently take into account all the packages that are installed. This behaviour is the source of the following dependency conflicts.\n",
            "yellowbrick 1.5 requires scikit-learn>=1.0.0, but you have scikit-learn 0.24.2 which is incompatible.\u001b[0m\n",
            "Successfully installed ConfigSpace-0.4.21 auto-sklearn-0.15.0 distro-1.8.0 emcee-3.1.3 liac-arff-2.5.0 pynisher-0.6.4 pyrfr-0.8.3 scikit-learn-0.24.2 smac-1.2\n"
          ]
        },
        {
          "output_type": "display_data",
          "data": {
            "application/vnd.colab-display-data+json": {
              "pip_warning": {
                "packages": [
                  "sklearn"
                ]
              }
            }
          },
          "metadata": {}
        }
      ]
    },
    {
      "cell_type": "code",
      "execution_count": null,
      "metadata": {
        "id": "039o2af8VNGa"
      },
      "outputs": [],
      "source": [
        "import autosklearn.classification"
      ]
    },
    {
      "cell_type": "code",
      "execution_count": null,
      "metadata": {
        "id": "4ewVhYWiVNGa"
      },
      "outputs": [],
      "source": [
        "automl = autosklearn.classification.AutoSklearnClassifier(time_left_for_this_task=60)"
      ]
    },
    {
      "cell_type": "code",
      "execution_count": null,
      "metadata": {
        "scrolled": true,
        "id": "VgxH1Ot1VNGa",
        "outputId": "14aeb64e-81a8-464e-d716-e492c36f8912",
        "colab": {
          "base_uri": "https://localhost:8080/"
        }
      },
      "outputs": [
        {
          "output_type": "stream",
          "name": "stdout",
          "text": [
            "CPU times: user 3.41 s, sys: 627 ms, total: 4.03 s\n",
            "Wall time: 57.1 s\n"
          ]
        },
        {
          "output_type": "execute_result",
          "data": {
            "text/plain": [
              "AutoSklearnClassifier(ensemble_class=<class 'autosklearn.ensembles.ensemble_selection.EnsembleSelection'>,\n",
              "                      per_run_time_limit=6, time_left_for_this_task=60)"
            ]
          },
          "metadata": {},
          "execution_count": 8
        }
      ],
      "source": [
        "%%time\n",
        "automl.fit(X_train[ ['Pclass', 'SibSp','Fare' ] ], y_train)"
      ]
    },
    {
      "cell_type": "code",
      "execution_count": null,
      "metadata": {
        "id": "Zx5PpG7dVNGb"
      },
      "outputs": [],
      "source": [
        "from sklearn import metrics"
      ]
    },
    {
      "cell_type": "code",
      "execution_count": null,
      "metadata": {
        "id": "ZF88V5tEVNGb",
        "colab": {
          "base_uri": "https://localhost:8080/"
        },
        "outputId": "0bfa4b97-49a7-4fe2-d5d4-1de72166eb7f"
      },
      "outputs": [
        {
          "output_type": "stream",
          "name": "stdout",
          "text": [
            "Accuracy score 0.6995515695067265\n"
          ]
        }
      ],
      "source": [
        "y_hat = automl.predict(X_test[ ['Pclass', 'SibSp','Fare' ] ])\n",
        "print(\"Accuracy score\", metrics.accuracy_score(y_test, y_hat))"
      ]
    },
    {
      "cell_type": "code",
      "execution_count": null,
      "metadata": {
        "id": "cBBn-WctVNGb"
      },
      "outputs": [],
      "source": []
    },
    {
      "cell_type": "code",
      "execution_count": null,
      "metadata": {
        "scrolled": true,
        "id": "kJLOk0eNVNGb",
        "colab": {
          "base_uri": "https://localhost:8080/"
        },
        "outputId": "f04f442a-bbaa-47eb-b166-5edc440b9e08"
      },
      "outputs": [
        {
          "output_type": "execute_result",
          "data": {
            "text/plain": [
              "{2: {'model_id': 2,\n",
              "  'rank': 1,\n",
              "  'cost': 0.32579185520361986,\n",
              "  'ensemble_weight': 0.06,\n",
              "  'data_preprocessor': <autosklearn.pipeline.components.data_preprocessing.DataPreprocessorChoice at 0x7fe0455dff10>,\n",
              "  'balancing': Balancing(random_state=1),\n",
              "  'feature_preprocessor': <autosklearn.pipeline.components.feature_preprocessing.FeaturePreprocessorChoice at 0x7fe0455df7c0>,\n",
              "  'classifier': <autosklearn.pipeline.components.classification.ClassifierChoice at 0x7fe045a09a60>,\n",
              "  'sklearn_classifier': RandomForestClassifier(max_features=1, n_estimators=512, n_jobs=1,\n",
              "                         random_state=1, warm_start=True)},\n",
              " 5: {'model_id': 5,\n",
              "  'rank': 2,\n",
              "  'cost': 0.3529411764705882,\n",
              "  'ensemble_weight': 0.02,\n",
              "  'data_preprocessor': <autosklearn.pipeline.components.data_preprocessing.DataPreprocessorChoice at 0x7fe0459e2f70>,\n",
              "  'balancing': Balancing(random_state=1, strategy='weighting'),\n",
              "  'feature_preprocessor': <autosklearn.pipeline.components.feature_preprocessing.FeaturePreprocessorChoice at 0x7fe045644070>,\n",
              "  'classifier': <autosklearn.pipeline.components.classification.ClassifierChoice at 0x7fe0456440d0>,\n",
              "  'sklearn_classifier': MLPClassifier(activation='tanh', alpha=0.00021148999718383549, beta_1=0.999,\n",
              "                beta_2=0.9, hidden_layer_sizes=(113, 113, 113),\n",
              "                learning_rate_init=0.0007452270241186694, max_iter=256,\n",
              "                n_iter_no_change=32, random_state=1, validation_fraction=0.0,\n",
              "                verbose=0, warm_start=True)},\n",
              " 6: {'model_id': 6,\n",
              "  'rank': 3,\n",
              "  'cost': 0.2850678733031674,\n",
              "  'ensemble_weight': 0.24,\n",
              "  'data_preprocessor': <autosklearn.pipeline.components.data_preprocessing.DataPreprocessorChoice at 0x7fe0456305b0>,\n",
              "  'balancing': Balancing(random_state=1),\n",
              "  'feature_preprocessor': <autosklearn.pipeline.components.feature_preprocessing.FeaturePreprocessorChoice at 0x7fe045445be0>,\n",
              "  'classifier': <autosklearn.pipeline.components.classification.ClassifierChoice at 0x7fe045445cd0>,\n",
              "  'sklearn_classifier': ExtraTreesClassifier(max_features=3, min_samples_leaf=3, min_samples_split=11,\n",
              "                       n_estimators=512, n_jobs=1, random_state=1,\n",
              "                       warm_start=True)},\n",
              " 8: {'model_id': 8,\n",
              "  'rank': 4,\n",
              "  'cost': 0.31221719457013575,\n",
              "  'ensemble_weight': 0.02,\n",
              "  'data_preprocessor': <autosklearn.pipeline.components.data_preprocessing.DataPreprocessorChoice at 0x7fe04563c370>,\n",
              "  'balancing': Balancing(random_state=1, strategy='weighting'),\n",
              "  'feature_preprocessor': <autosklearn.pipeline.components.feature_preprocessing.FeaturePreprocessorChoice at 0x7fe0455e7520>,\n",
              "  'classifier': <autosklearn.pipeline.components.classification.ClassifierChoice at 0x7fe045680d90>,\n",
              "  'sklearn_classifier': HistGradientBoostingClassifier(early_stopping=True,\n",
              "                                 l2_regularization=3.387912939529945e-10,\n",
              "                                 learning_rate=0.30755227194768237, max_iter=512,\n",
              "                                 max_leaf_nodes=60, min_samples_leaf=39,\n",
              "                                 n_iter_no_change=18, random_state=1,\n",
              "                                 validation_fraction=None, warm_start=True)},\n",
              " 11: {'model_id': 11,\n",
              "  'rank': 5,\n",
              "  'cost': 0.3393665158371041,\n",
              "  'ensemble_weight': 0.04,\n",
              "  'data_preprocessor': <autosklearn.pipeline.components.data_preprocessing.DataPreprocessorChoice at 0x7fe0454b1e80>,\n",
              "  'balancing': Balancing(random_state=1),\n",
              "  'feature_preprocessor': <autosklearn.pipeline.components.feature_preprocessing.FeaturePreprocessorChoice at 0x7fe0424b7ca0>,\n",
              "  'classifier': <autosklearn.pipeline.components.classification.ClassifierChoice at 0x7fe0424b7d60>,\n",
              "  'sklearn_classifier': RandomForestClassifier(criterion='entropy', max_features=2, min_samples_leaf=7,\n",
              "                         n_estimators=512, n_jobs=1, random_state=1,\n",
              "                         warm_start=True)},\n",
              " 12: {'model_id': 12,\n",
              "  'rank': 6,\n",
              "  'cost': 0.3167420814479638,\n",
              "  'ensemble_weight': 0.08,\n",
              "  'data_preprocessor': <autosklearn.pipeline.components.data_preprocessing.DataPreprocessorChoice at 0x7fe045405070>,\n",
              "  'balancing': Balancing(random_state=1, strategy='weighting'),\n",
              "  'feature_preprocessor': <autosklearn.pipeline.components.feature_preprocessing.FeaturePreprocessorChoice at 0x7fe042466a90>,\n",
              "  'classifier': <autosklearn.pipeline.components.classification.ClassifierChoice at 0x7fe042466d90>,\n",
              "  'sklearn_classifier': PassiveAggressiveClassifier(C=0.14833233294431605, average=True,\n",
              "                              loss='squared_hinge', max_iter=32, random_state=1,\n",
              "                              tol=0.00016482166646253793, warm_start=True)},\n",
              " 13: {'model_id': 13,\n",
              "  'rank': 7,\n",
              "  'cost': 0.30316742081447967,\n",
              "  'ensemble_weight': 0.5,\n",
              "  'data_preprocessor': <autosklearn.pipeline.components.data_preprocessing.DataPreprocessorChoice at 0x7fe042bbbbe0>,\n",
              "  'balancing': Balancing(random_state=1),\n",
              "  'feature_preprocessor': <autosklearn.pipeline.components.feature_preprocessing.FeaturePreprocessorChoice at 0x7fe0422ecb50>,\n",
              "  'classifier': <autosklearn.pipeline.components.classification.ClassifierChoice at 0x7fe042256400>,\n",
              "  'sklearn_classifier': AdaBoostClassifier(base_estimator=DecisionTreeClassifier(max_depth=3),\n",
              "                     learning_rate=0.046269426995092074, n_estimators=406,\n",
              "                     random_state=1)},\n",
              " 14: {'model_id': 14,\n",
              "  'rank': 8,\n",
              "  'cost': 0.3076923076923077,\n",
              "  'ensemble_weight': 0.02,\n",
              "  'data_preprocessor': <autosklearn.pipeline.components.data_preprocessing.DataPreprocessorChoice at 0x7fe0424d2ac0>,\n",
              "  'balancing': Balancing(random_state=1),\n",
              "  'feature_preprocessor': <autosklearn.pipeline.components.feature_preprocessing.FeaturePreprocessorChoice at 0x7fe0421ce400>,\n",
              "  'classifier': <autosklearn.pipeline.components.classification.ClassifierChoice at 0x7fe0421ce670>,\n",
              "  'sklearn_classifier': MLPClassifier(activation='tanh', alpha=0.0001363185819149026, beta_1=0.999,\n",
              "                beta_2=0.9, early_stopping=True,\n",
              "                hidden_layer_sizes=(115, 115, 115),\n",
              "                learning_rate_init=0.00018009776276177523, max_iter=32,\n",
              "                n_iter_no_change=32, random_state=1, verbose=0, warm_start=True)},\n",
              " 15: {'model_id': 15,\n",
              "  'rank': 9,\n",
              "  'cost': 0.32579185520361986,\n",
              "  'ensemble_weight': 0.02,\n",
              "  'data_preprocessor': <autosklearn.pipeline.components.data_preprocessing.DataPreprocessorChoice at 0x7fe04231fd90>,\n",
              "  'balancing': Balancing(random_state=1),\n",
              "  'feature_preprocessor': <autosklearn.pipeline.components.feature_preprocessing.FeaturePreprocessorChoice at 0x7fe041e92a00>,\n",
              "  'classifier': <autosklearn.pipeline.components.classification.ClassifierChoice at 0x7fe041e92ca0>,\n",
              "  'sklearn_classifier': HistGradientBoostingClassifier(early_stopping=False, l2_regularization=1e-10,\n",
              "                                 learning_rate=0.16262682406125173, max_iter=512,\n",
              "                                 max_leaf_nodes=66, n_iter_no_change=0,\n",
              "                                 random_state=1, validation_fraction=None,\n",
              "                                 warm_start=True)}}"
            ]
          },
          "metadata": {},
          "execution_count": 11
        }
      ],
      "source": [
        "automl.show_models()"
      ]
    },
    {
      "cell_type": "markdown",
      "metadata": {
        "id": "458kA1HrVNGb"
      },
      "source": [
        "### TPOT"
      ]
    },
    {
      "cell_type": "code",
      "source": [
        "!pip install tpot"
      ],
      "metadata": {
        "colab": {
          "base_uri": "https://localhost:8080/"
        },
        "id": "KUJrGfcvINx1",
        "outputId": "d4f48ff6-7634-4286-d5c7-e0f51370f76d"
      },
      "execution_count": null,
      "outputs": [
        {
          "output_type": "stream",
          "name": "stdout",
          "text": [
            "Looking in indexes: https://pypi.org/simple, https://us-python.pkg.dev/colab-wheels/public/simple/\n",
            "Collecting tpot\n",
            "  Downloading TPOT-0.11.7-py3-none-any.whl (87 kB)\n",
            "\u001b[K     |████████████████████████████████| 87 kB 3.4 MB/s \n",
            "\u001b[?25hRequirement already satisfied: tqdm>=4.36.1 in /usr/local/lib/python3.8/dist-packages (from tpot) (4.64.1)\n",
            "Requirement already satisfied: scikit-learn>=0.22.0 in /usr/local/lib/python3.8/dist-packages (from tpot) (0.24.2)\n",
            "Requirement already satisfied: scipy>=1.3.1 in /usr/local/lib/python3.8/dist-packages (from tpot) (1.7.3)\n",
            "Collecting deap>=1.2\n",
            "  Downloading deap-1.3.3-cp38-cp38-manylinux_2_5_x86_64.manylinux1_x86_64.manylinux_2_17_x86_64.manylinux2014_x86_64.whl (139 kB)\n",
            "\u001b[K     |████████████████████████████████| 139 kB 38.2 MB/s \n",
            "\u001b[?25hCollecting update-checker>=0.16\n",
            "  Downloading update_checker-0.18.0-py3-none-any.whl (7.0 kB)\n",
            "Requirement already satisfied: joblib>=0.13.2 in /usr/local/lib/python3.8/dist-packages (from tpot) (1.2.0)\n",
            "Collecting stopit>=1.1.1\n",
            "  Downloading stopit-1.1.2.tar.gz (18 kB)\n",
            "Requirement already satisfied: pandas>=0.24.2 in /usr/local/lib/python3.8/dist-packages (from tpot) (1.3.5)\n",
            "Collecting xgboost>=1.1.0\n",
            "  Downloading xgboost-1.7.2-py3-none-manylinux2014_x86_64.whl (193.6 MB)\n",
            "\u001b[K     |████████████████████████████████| 193.6 MB 52 kB/s \n",
            "\u001b[?25hRequirement already satisfied: numpy>=1.16.3 in /usr/local/lib/python3.8/dist-packages (from tpot) (1.21.6)\n",
            "Requirement already satisfied: pytz>=2017.3 in /usr/local/lib/python3.8/dist-packages (from pandas>=0.24.2->tpot) (2022.6)\n",
            "Requirement already satisfied: python-dateutil>=2.7.3 in /usr/local/lib/python3.8/dist-packages (from pandas>=0.24.2->tpot) (2.8.2)\n",
            "Requirement already satisfied: six>=1.5 in /usr/local/lib/python3.8/dist-packages (from python-dateutil>=2.7.3->pandas>=0.24.2->tpot) (1.15.0)\n",
            "Requirement already satisfied: threadpoolctl>=2.0.0 in /usr/local/lib/python3.8/dist-packages (from scikit-learn>=0.22.0->tpot) (3.1.0)\n",
            "Requirement already satisfied: requests>=2.3.0 in /usr/local/lib/python3.8/dist-packages (from update-checker>=0.16->tpot) (2.23.0)\n",
            "Requirement already satisfied: certifi>=2017.4.17 in /usr/local/lib/python3.8/dist-packages (from requests>=2.3.0->update-checker>=0.16->tpot) (2022.9.24)\n",
            "Requirement already satisfied: idna<3,>=2.5 in /usr/local/lib/python3.8/dist-packages (from requests>=2.3.0->update-checker>=0.16->tpot) (2.10)\n",
            "Requirement already satisfied: urllib3!=1.25.0,!=1.25.1,<1.26,>=1.21.1 in /usr/local/lib/python3.8/dist-packages (from requests>=2.3.0->update-checker>=0.16->tpot) (1.24.3)\n",
            "Requirement already satisfied: chardet<4,>=3.0.2 in /usr/local/lib/python3.8/dist-packages (from requests>=2.3.0->update-checker>=0.16->tpot) (3.0.4)\n",
            "Building wheels for collected packages: stopit\n",
            "  Building wheel for stopit (setup.py) ... \u001b[?25l\u001b[?25hdone\n",
            "  Created wheel for stopit: filename=stopit-1.1.2-py3-none-any.whl size=11953 sha256=11ad61f3a839982e59e9d0a24d9b052e32927e3641f57739c9a84f3225cd529c\n",
            "  Stored in directory: /root/.cache/pip/wheels/a8/bb/8f/6b9328d23c2dcedbfeb8498b9f650d55d463089e3b8fc0bfb2\n",
            "Successfully built stopit\n",
            "Installing collected packages: xgboost, update-checker, stopit, deap, tpot\n",
            "  Attempting uninstall: xgboost\n",
            "    Found existing installation: xgboost 0.90\n",
            "    Uninstalling xgboost-0.90:\n",
            "      Successfully uninstalled xgboost-0.90\n",
            "Successfully installed deap-1.3.3 stopit-1.1.2 tpot-0.11.7 update-checker-0.18.0 xgboost-1.7.2\n"
          ]
        }
      ]
    },
    {
      "cell_type": "code",
      "execution_count": null,
      "metadata": {
        "id": "OCf-IOhZVNGb"
      },
      "outputs": [],
      "source": [
        "from tpot import TPOTClassifier"
      ]
    },
    {
      "cell_type": "code",
      "execution_count": null,
      "metadata": {
        "id": "w4D1Ejj-VNGb",
        "outputId": "c6ecb728-fd3d-4dc8-9801-848c168843bd",
        "colab": {
          "base_uri": "https://localhost:8080/",
          "height": 254,
          "referenced_widgets": [
            "45610b9f7e3b488a8f7e0b328997b472",
            "e711cfc1aa2c42aaa1ba50399f754fd7",
            "80cd470e8c32468daf29103ecf3cb910",
            "0da6f20038c1499e98bb68d2cd680a81",
            "b020818f788f43c3b108121a688a0939",
            "ae2ae59e214249539d3453b271ea8db6",
            "138cb7a1b5aa49d7a3fb0f8a6867f8fd",
            "278afdb5c501403093e7566a125564fe",
            "14690fbe57d04433b2672fa5e8480f92",
            "2e1bb54082974db1b2dd01307ff39243",
            "80df560534da446ebdab70b92ea7d7e5"
          ]
        }
      },
      "outputs": [
        {
          "output_type": "display_data",
          "data": {
            "text/plain": [
              "Optimization Progress:   0%|          | 0/300 [00:00<?, ?pipeline/s]"
            ],
            "application/vnd.jupyter.widget-view+json": {
              "version_major": 2,
              "version_minor": 0,
              "model_id": "45610b9f7e3b488a8f7e0b328997b472"
            }
          },
          "metadata": {}
        },
        {
          "output_type": "stream",
          "name": "stdout",
          "text": [
            "\n",
            "Generation 1 - Current best internal CV score: 0.7035910672202895\n",
            "\n",
            "Generation 2 - Current best internal CV score: 0.7035910672202895\n",
            "\n",
            "Generation 3 - Current best internal CV score: 0.7065424755919649\n",
            "\n",
            "Generation 4 - Current best internal CV score: 0.7065424755919649\n",
            "\n",
            "Generation 5 - Current best internal CV score: 0.7065424755919649\n",
            "\n",
            "Best pipeline: XGBClassifier(input_matrix, learning_rate=0.01, max_depth=1, min_child_weight=11, n_estimators=100, n_jobs=1, subsample=0.25, verbosity=0)\n",
            "0.6860986547085202\n"
          ]
        }
      ],
      "source": [
        "tpot = TPOTClassifier(generations=5, population_size=50, verbosity=2)\n",
        "tpot.fit(X_train[ ['Pclass', 'SibSp','Fare' ] ], y_train)\n",
        "print(tpot.score(X_test[ ['Pclass', 'SibSp','Fare' ] ], y_test))"
      ]
    },
    {
      "cell_type": "code",
      "execution_count": null,
      "metadata": {
        "id": "P02eFq33VNGc"
      },
      "outputs": [],
      "source": [
        "tpot.export('my_tpot_code.py')"
      ]
    },
    {
      "cell_type": "code",
      "execution_count": null,
      "metadata": {
        "id": "doSIA02hVNGc",
        "colab": {
          "base_uri": "https://localhost:8080/"
        },
        "outputId": "30ccb8e0-76d8-46d1-e646-b70030952389"
      },
      "outputs": [
        {
          "output_type": "stream",
          "name": "stdout",
          "text": [
            "import numpy as np\n",
            "import pandas as pd\n",
            "from sklearn.model_selection import train_test_split\n",
            "from xgboost import XGBClassifier\n",
            "\n",
            "# NOTE: Make sure that the outcome column is labeled 'target' in the data file\n",
            "tpot_data = pd.read_csv('PATH/TO/DATA/FILE', sep='COLUMN_SEPARATOR', dtype=np.float64)\n",
            "features = tpot_data.drop('target', axis=1)\n",
            "training_features, testing_features, training_target, testing_target = \\\n",
            "            train_test_split(features, tpot_data['target'], random_state=None)\n",
            "\n",
            "# Average CV score on the training set was: 0.7065424755919649\n",
            "exported_pipeline = XGBClassifier(learning_rate=0.01, max_depth=1, min_child_weight=11, n_estimators=100, n_jobs=1, subsample=0.25, verbosity=0)\n",
            "\n",
            "exported_pipeline.fit(training_features, training_target)\n",
            "results = exported_pipeline.predict(testing_features)\n"
          ]
        }
      ],
      "source": [
        "%cat my_tpot_code.py\n"
      ]
    },
    {
      "cell_type": "markdown",
      "source": [
        "## Lazypredict"
      ],
      "metadata": {
        "id": "3EM8jGsiKbGN"
      }
    },
    {
      "cell_type": "code",
      "execution_count": null,
      "metadata": {
        "id": "egDtO_7fVNGc",
        "colab": {
          "base_uri": "https://localhost:8080/"
        },
        "outputId": "d571687d-6150-4fa7-cd34-0329148cbc16"
      },
      "outputs": [
        {
          "output_type": "stream",
          "name": "stdout",
          "text": [
            "Looking in indexes: https://pypi.org/simple, https://us-python.pkg.dev/colab-wheels/public/simple/\n",
            "Collecting lazypredict\n",
            "  Downloading lazypredict-0.2.12-py2.py3-none-any.whl (12 kB)\n",
            "Requirement already satisfied: joblib in /usr/local/lib/python3.8/dist-packages (from lazypredict) (1.2.0)\n",
            "Requirement already satisfied: click in /usr/local/lib/python3.8/dist-packages (from lazypredict) (7.1.2)\n",
            "Requirement already satisfied: xgboost in /usr/local/lib/python3.8/dist-packages (from lazypredict) (1.7.2)\n",
            "Requirement already satisfied: pandas in /usr/local/lib/python3.8/dist-packages (from lazypredict) (1.3.5)\n",
            "Requirement already satisfied: lightgbm in /usr/local/lib/python3.8/dist-packages (from lazypredict) (2.2.3)\n",
            "Requirement already satisfied: tqdm in /usr/local/lib/python3.8/dist-packages (from lazypredict) (4.64.1)\n",
            "Requirement already satisfied: scikit-learn in /usr/local/lib/python3.8/dist-packages (from lazypredict) (0.24.2)\n",
            "Requirement already satisfied: scipy in /usr/local/lib/python3.8/dist-packages (from lightgbm->lazypredict) (1.7.3)\n",
            "Requirement already satisfied: numpy in /usr/local/lib/python3.8/dist-packages (from lightgbm->lazypredict) (1.21.6)\n",
            "Requirement already satisfied: pytz>=2017.3 in /usr/local/lib/python3.8/dist-packages (from pandas->lazypredict) (2022.6)\n",
            "Requirement already satisfied: python-dateutil>=2.7.3 in /usr/local/lib/python3.8/dist-packages (from pandas->lazypredict) (2.8.2)\n",
            "Requirement already satisfied: six>=1.5 in /usr/local/lib/python3.8/dist-packages (from python-dateutil>=2.7.3->pandas->lazypredict) (1.15.0)\n",
            "Requirement already satisfied: threadpoolctl>=2.0.0 in /usr/local/lib/python3.8/dist-packages (from scikit-learn->lazypredict) (3.1.0)\n",
            "Installing collected packages: lazypredict\n",
            "Successfully installed lazypredict-0.2.12\n"
          ]
        }
      ],
      "source": [
        "!pip install lazypredict"
      ]
    },
    {
      "cell_type": "code",
      "source": [
        "from lazypredict.Supervised import LazyClassifier"
      ],
      "metadata": {
        "id": "pl2eq1aLKer8"
      },
      "execution_count": null,
      "outputs": []
    },
    {
      "cell_type": "code",
      "source": [
        "X_train,X_test, y_train, y_test = model_selection.train_test_split(\n",
        "    titanic_df.drop(['Survived', 'Name', 'Ticket','Cabin','Embarked'], axis=1),\n",
        "    titanic_df['Survived'])"
      ],
      "metadata": {
        "id": "xV6XfkivMzl8"
      },
      "execution_count": null,
      "outputs": []
    },
    {
      "cell_type": "code",
      "source": [
        "lazy_classifier = LazyClassifier(verbose=0,ignore_warnings=True, custom_metric=None)\n",
        "\n",
        "models,predictions = lazy_classifier.fit(X_train, X_test, y_train, y_test)\n",
        "\n",
        "print(models)"
      ],
      "metadata": {
        "colab": {
          "base_uri": "https://localhost:8080/"
        },
        "id": "1u97kYAHK4cl",
        "outputId": "609ce194-a7be-4ae7-cbc6-6cc692a8d9ab"
      },
      "execution_count": null,
      "outputs": [
        {
          "output_type": "stream",
          "name": "stderr",
          "text": [
            "100%|██████████| 29/29 [00:03<00:00,  7.47it/s]"
          ]
        },
        {
          "output_type": "stream",
          "name": "stdout",
          "text": [
            "                               Accuracy  Balanced Accuracy  ROC AUC  F1 Score  \\\n",
            "Model                                                                           \n",
            "SVC                                0.87               0.84     0.84      0.86   \n",
            "NuSVC                              0.87               0.84     0.84      0.86   \n",
            "RandomForestClassifier             0.86               0.83     0.83      0.85   \n",
            "XGBClassifier                      0.83               0.81     0.81      0.83   \n",
            "ExtraTreesClassifier               0.83               0.81     0.81      0.83   \n",
            "KNeighborsClassifier               0.83               0.81     0.81      0.83   \n",
            "LGBMClassifier                     0.83               0.80     0.80      0.82   \n",
            "BaggingClassifier                  0.83               0.80     0.80      0.83   \n",
            "LabelSpreading                     0.81               0.80     0.80      0.81   \n",
            "LinearDiscriminantAnalysis         0.83               0.80     0.80      0.83   \n",
            "RidgeClassifierCV                  0.83               0.80     0.80      0.83   \n",
            "RidgeClassifier                    0.83               0.80     0.80      0.83   \n",
            "LinearSVC                          0.83               0.80     0.80      0.83   \n",
            "GaussianNB                         0.83               0.80     0.80      0.83   \n",
            "LabelPropagation                   0.81               0.80     0.80      0.81   \n",
            "AdaBoostClassifier                 0.82               0.79     0.79      0.81   \n",
            "PassiveAggressiveClassifier        0.82               0.79     0.79      0.81   \n",
            "CalibratedClassifierCV             0.83               0.79     0.79      0.82   \n",
            "BernoulliNB                        0.82               0.79     0.79      0.82   \n",
            "LogisticRegression                 0.82               0.79     0.79      0.82   \n",
            "ExtraTreeClassifier                0.76               0.73     0.73      0.76   \n",
            "DecisionTreeClassifier             0.76               0.73     0.73      0.76   \n",
            "NearestCentroid                    0.74               0.71     0.71      0.74   \n",
            "SGDClassifier                      0.74               0.67     0.67      0.71   \n",
            "Perceptron                         0.70               0.67     0.67      0.70   \n",
            "DummyClassifier                    0.63               0.50     0.50      0.48   \n",
            "QuadraticDiscriminantAnalysis      0.37               0.50     0.50      0.21   \n",
            "\n",
            "                               Time Taken  \n",
            "Model                                      \n",
            "SVC                                  0.11  \n",
            "NuSVC                                0.09  \n",
            "RandomForestClassifier               0.67  \n",
            "XGBClassifier                        0.17  \n",
            "ExtraTreesClassifier                 0.57  \n",
            "KNeighborsClassifier                 0.07  \n",
            "LGBMClassifier                       0.10  \n",
            "BaggingClassifier                    0.15  \n",
            "LabelSpreading                       0.19  \n",
            "LinearDiscriminantAnalysis           0.05  \n",
            "RidgeClassifierCV                    0.04  \n",
            "RidgeClassifier                      0.07  \n",
            "LinearSVC                            0.16  \n",
            "GaussianNB                           0.04  \n",
            "LabelPropagation                     0.10  \n",
            "AdaBoostClassifier                   0.32  \n",
            "PassiveAggressiveClassifier          0.08  \n",
            "CalibratedClassifierCV               0.25  \n",
            "BernoulliNB                          0.03  \n",
            "LogisticRegression                   0.05  \n",
            "ExtraTreeClassifier                  0.08  \n",
            "DecisionTreeClassifier               0.08  \n",
            "NearestCentroid                      0.03  \n",
            "SGDClassifier                        0.09  \n",
            "Perceptron                           0.05  \n",
            "DummyClassifier                      0.06  \n",
            "QuadraticDiscriminantAnalysis        0.10  \n"
          ]
        },
        {
          "output_type": "stream",
          "name": "stderr",
          "text": [
            "\n"
          ]
        }
      ]
    },
    {
      "cell_type": "code",
      "source": [],
      "metadata": {
        "id": "TVF2urLKnbF7"
      },
      "execution_count": null,
      "outputs": []
    }
  ],
  "metadata": {
    "kernelspec": {
      "display_name": "Python 3",
      "language": "python",
      "name": "python3"
    },
    "language_info": {
      "codemirror_mode": {
        "name": "ipython",
        "version": 3
      },
      "file_extension": ".py",
      "mimetype": "text/x-python",
      "name": "python",
      "nbconvert_exporter": "python",
      "pygments_lexer": "ipython3",
      "version": "3.6.8"
    },
    "colab": {
      "provenance": [],
      "include_colab_link": true
    },
    "widgets": {
      "application/vnd.jupyter.widget-state+json": {
        "45610b9f7e3b488a8f7e0b328997b472": {
          "model_module": "@jupyter-widgets/controls",
          "model_name": "HBoxModel",
          "model_module_version": "1.5.0",
          "state": {
            "_dom_classes": [],
            "_model_module": "@jupyter-widgets/controls",
            "_model_module_version": "1.5.0",
            "_model_name": "HBoxModel",
            "_view_count": null,
            "_view_module": "@jupyter-widgets/controls",
            "_view_module_version": "1.5.0",
            "_view_name": "HBoxView",
            "box_style": "",
            "children": [
              "IPY_MODEL_e711cfc1aa2c42aaa1ba50399f754fd7",
              "IPY_MODEL_80cd470e8c32468daf29103ecf3cb910",
              "IPY_MODEL_0da6f20038c1499e98bb68d2cd680a81"
            ],
            "layout": "IPY_MODEL_b020818f788f43c3b108121a688a0939"
          }
        },
        "e711cfc1aa2c42aaa1ba50399f754fd7": {
          "model_module": "@jupyter-widgets/controls",
          "model_name": "HTMLModel",
          "model_module_version": "1.5.0",
          "state": {
            "_dom_classes": [],
            "_model_module": "@jupyter-widgets/controls",
            "_model_module_version": "1.5.0",
            "_model_name": "HTMLModel",
            "_view_count": null,
            "_view_module": "@jupyter-widgets/controls",
            "_view_module_version": "1.5.0",
            "_view_name": "HTMLView",
            "description": "",
            "description_tooltip": null,
            "layout": "IPY_MODEL_ae2ae59e214249539d3453b271ea8db6",
            "placeholder": "​",
            "style": "IPY_MODEL_138cb7a1b5aa49d7a3fb0f8a6867f8fd",
            "value": "Optimization Progress: 100%"
          }
        },
        "80cd470e8c32468daf29103ecf3cb910": {
          "model_module": "@jupyter-widgets/controls",
          "model_name": "FloatProgressModel",
          "model_module_version": "1.5.0",
          "state": {
            "_dom_classes": [],
            "_model_module": "@jupyter-widgets/controls",
            "_model_module_version": "1.5.0",
            "_model_name": "FloatProgressModel",
            "_view_count": null,
            "_view_module": "@jupyter-widgets/controls",
            "_view_module_version": "1.5.0",
            "_view_name": "ProgressView",
            "bar_style": "",
            "description": "",
            "description_tooltip": null,
            "layout": "IPY_MODEL_278afdb5c501403093e7566a125564fe",
            "max": 300,
            "min": 0,
            "orientation": "horizontal",
            "style": "IPY_MODEL_14690fbe57d04433b2672fa5e8480f92",
            "value": 300
          }
        },
        "0da6f20038c1499e98bb68d2cd680a81": {
          "model_module": "@jupyter-widgets/controls",
          "model_name": "HTMLModel",
          "model_module_version": "1.5.0",
          "state": {
            "_dom_classes": [],
            "_model_module": "@jupyter-widgets/controls",
            "_model_module_version": "1.5.0",
            "_model_name": "HTMLModel",
            "_view_count": null,
            "_view_module": "@jupyter-widgets/controls",
            "_view_module_version": "1.5.0",
            "_view_name": "HTMLView",
            "description": "",
            "description_tooltip": null,
            "layout": "IPY_MODEL_2e1bb54082974db1b2dd01307ff39243",
            "placeholder": "​",
            "style": "IPY_MODEL_80df560534da446ebdab70b92ea7d7e5",
            "value": " 300/300 [02:47&lt;00:00,  1.53s/pipeline]"
          }
        },
        "b020818f788f43c3b108121a688a0939": {
          "model_module": "@jupyter-widgets/base",
          "model_name": "LayoutModel",
          "model_module_version": "1.2.0",
          "state": {
            "_model_module": "@jupyter-widgets/base",
            "_model_module_version": "1.2.0",
            "_model_name": "LayoutModel",
            "_view_count": null,
            "_view_module": "@jupyter-widgets/base",
            "_view_module_version": "1.2.0",
            "_view_name": "LayoutView",
            "align_content": null,
            "align_items": null,
            "align_self": null,
            "border": null,
            "bottom": null,
            "display": null,
            "flex": null,
            "flex_flow": null,
            "grid_area": null,
            "grid_auto_columns": null,
            "grid_auto_flow": null,
            "grid_auto_rows": null,
            "grid_column": null,
            "grid_gap": null,
            "grid_row": null,
            "grid_template_areas": null,
            "grid_template_columns": null,
            "grid_template_rows": null,
            "height": null,
            "justify_content": null,
            "justify_items": null,
            "left": null,
            "margin": null,
            "max_height": null,
            "max_width": null,
            "min_height": null,
            "min_width": null,
            "object_fit": null,
            "object_position": null,
            "order": null,
            "overflow": null,
            "overflow_x": null,
            "overflow_y": null,
            "padding": null,
            "right": null,
            "top": null,
            "visibility": "hidden",
            "width": null
          }
        },
        "ae2ae59e214249539d3453b271ea8db6": {
          "model_module": "@jupyter-widgets/base",
          "model_name": "LayoutModel",
          "model_module_version": "1.2.0",
          "state": {
            "_model_module": "@jupyter-widgets/base",
            "_model_module_version": "1.2.0",
            "_model_name": "LayoutModel",
            "_view_count": null,
            "_view_module": "@jupyter-widgets/base",
            "_view_module_version": "1.2.0",
            "_view_name": "LayoutView",
            "align_content": null,
            "align_items": null,
            "align_self": null,
            "border": null,
            "bottom": null,
            "display": null,
            "flex": null,
            "flex_flow": null,
            "grid_area": null,
            "grid_auto_columns": null,
            "grid_auto_flow": null,
            "grid_auto_rows": null,
            "grid_column": null,
            "grid_gap": null,
            "grid_row": null,
            "grid_template_areas": null,
            "grid_template_columns": null,
            "grid_template_rows": null,
            "height": null,
            "justify_content": null,
            "justify_items": null,
            "left": null,
            "margin": null,
            "max_height": null,
            "max_width": null,
            "min_height": null,
            "min_width": null,
            "object_fit": null,
            "object_position": null,
            "order": null,
            "overflow": null,
            "overflow_x": null,
            "overflow_y": null,
            "padding": null,
            "right": null,
            "top": null,
            "visibility": null,
            "width": null
          }
        },
        "138cb7a1b5aa49d7a3fb0f8a6867f8fd": {
          "model_module": "@jupyter-widgets/controls",
          "model_name": "DescriptionStyleModel",
          "model_module_version": "1.5.0",
          "state": {
            "_model_module": "@jupyter-widgets/controls",
            "_model_module_version": "1.5.0",
            "_model_name": "DescriptionStyleModel",
            "_view_count": null,
            "_view_module": "@jupyter-widgets/base",
            "_view_module_version": "1.2.0",
            "_view_name": "StyleView",
            "description_width": ""
          }
        },
        "278afdb5c501403093e7566a125564fe": {
          "model_module": "@jupyter-widgets/base",
          "model_name": "LayoutModel",
          "model_module_version": "1.2.0",
          "state": {
            "_model_module": "@jupyter-widgets/base",
            "_model_module_version": "1.2.0",
            "_model_name": "LayoutModel",
            "_view_count": null,
            "_view_module": "@jupyter-widgets/base",
            "_view_module_version": "1.2.0",
            "_view_name": "LayoutView",
            "align_content": null,
            "align_items": null,
            "align_self": null,
            "border": null,
            "bottom": null,
            "display": null,
            "flex": null,
            "flex_flow": null,
            "grid_area": null,
            "grid_auto_columns": null,
            "grid_auto_flow": null,
            "grid_auto_rows": null,
            "grid_column": null,
            "grid_gap": null,
            "grid_row": null,
            "grid_template_areas": null,
            "grid_template_columns": null,
            "grid_template_rows": null,
            "height": null,
            "justify_content": null,
            "justify_items": null,
            "left": null,
            "margin": null,
            "max_height": null,
            "max_width": null,
            "min_height": null,
            "min_width": null,
            "object_fit": null,
            "object_position": null,
            "order": null,
            "overflow": null,
            "overflow_x": null,
            "overflow_y": null,
            "padding": null,
            "right": null,
            "top": null,
            "visibility": null,
            "width": null
          }
        },
        "14690fbe57d04433b2672fa5e8480f92": {
          "model_module": "@jupyter-widgets/controls",
          "model_name": "ProgressStyleModel",
          "model_module_version": "1.5.0",
          "state": {
            "_model_module": "@jupyter-widgets/controls",
            "_model_module_version": "1.5.0",
            "_model_name": "ProgressStyleModel",
            "_view_count": null,
            "_view_module": "@jupyter-widgets/base",
            "_view_module_version": "1.2.0",
            "_view_name": "StyleView",
            "bar_color": null,
            "description_width": ""
          }
        },
        "2e1bb54082974db1b2dd01307ff39243": {
          "model_module": "@jupyter-widgets/base",
          "model_name": "LayoutModel",
          "model_module_version": "1.2.0",
          "state": {
            "_model_module": "@jupyter-widgets/base",
            "_model_module_version": "1.2.0",
            "_model_name": "LayoutModel",
            "_view_count": null,
            "_view_module": "@jupyter-widgets/base",
            "_view_module_version": "1.2.0",
            "_view_name": "LayoutView",
            "align_content": null,
            "align_items": null,
            "align_self": null,
            "border": null,
            "bottom": null,
            "display": null,
            "flex": null,
            "flex_flow": null,
            "grid_area": null,
            "grid_auto_columns": null,
            "grid_auto_flow": null,
            "grid_auto_rows": null,
            "grid_column": null,
            "grid_gap": null,
            "grid_row": null,
            "grid_template_areas": null,
            "grid_template_columns": null,
            "grid_template_rows": null,
            "height": null,
            "justify_content": null,
            "justify_items": null,
            "left": null,
            "margin": null,
            "max_height": null,
            "max_width": null,
            "min_height": null,
            "min_width": null,
            "object_fit": null,
            "object_position": null,
            "order": null,
            "overflow": null,
            "overflow_x": null,
            "overflow_y": null,
            "padding": null,
            "right": null,
            "top": null,
            "visibility": null,
            "width": null
          }
        },
        "80df560534da446ebdab70b92ea7d7e5": {
          "model_module": "@jupyter-widgets/controls",
          "model_name": "DescriptionStyleModel",
          "model_module_version": "1.5.0",
          "state": {
            "_model_module": "@jupyter-widgets/controls",
            "_model_module_version": "1.5.0",
            "_model_name": "DescriptionStyleModel",
            "_view_count": null,
            "_view_module": "@jupyter-widgets/base",
            "_view_module_version": "1.2.0",
            "_view_name": "StyleView",
            "description_width": ""
          }
        }
      }
    }
  },
  "nbformat": 4,
  "nbformat_minor": 0
}