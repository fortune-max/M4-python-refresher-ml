{
  "cells": [
    {
      "cell_type": "markdown",
      "metadata": {
        "colab_type": "text",
        "id": "view-in-github"
      },
      "source": [
        "<a href=\"https://colab.research.google.com/github/fortune-max/M4-python-refresher-ml/blob/main/Fortune_BigHomework2.ipynb\" target=\"_parent\"><img src=\"https://colab.research.google.com/assets/colab-badge.svg\" alt=\"Open In Colab\"/></a>"
      ]
    },
    {
      "cell_type": "markdown",
      "metadata": {
        "id": "yYI3fzugjeLv"
      },
      "source": [
        "#### HW 1: Download the dataset"
      ]
    },
    {
      "cell_type": "markdown",
      "metadata": {
        "id": "B1pcuK5bKVFR"
      },
      "source": [
        "https://www.kaggle.com/kavita5/twitter-dataset-avengersendgame/download"
      ]
    },
    {
      "cell_type": "code",
      "execution_count": 13,
      "metadata": {},
      "outputs": [
        {
          "name": "stdout",
          "output_type": "stream",
          "text": [
            "/Users/fortune/code/personal/DS/M4/BHW2_files\n",
            "config.yaml \u001b[34mdata\u001b[m\u001b[m        \u001b[34mexperiments\u001b[m\u001b[m\n"
          ]
        },
        {
          "name": "stderr",
          "output_type": "stream",
          "text": [
            "/Users/fortune/code/personal/DS/M4/.venv/lib/python3.11/site-packages/IPython/core/magics/osm.py:417: UserWarning: using dhist requires you to install the `pickleshare` library.\n",
            "  self.shell.db['dhist'] = compress_dhist(dhist)[-100:]\n"
          ]
        }
      ],
      "source": [
        "%cd BHW2_files\n",
        "!ls"
      ]
    },
    {
      "cell_type": "code",
      "execution_count": 14,
      "metadata": {},
      "outputs": [
        {
          "data": {
            "text/html": [
              "<div>\n",
              "<style scoped>\n",
              "    .dataframe tbody tr th:only-of-type {\n",
              "        vertical-align: middle;\n",
              "    }\n",
              "\n",
              "    .dataframe tbody tr th {\n",
              "        vertical-align: top;\n",
              "    }\n",
              "\n",
              "    .dataframe thead th {\n",
              "        text-align: right;\n",
              "    }\n",
              "</style>\n",
              "<table border=\"1\" class=\"dataframe\">\n",
              "  <thead>\n",
              "    <tr style=\"text-align: right;\">\n",
              "      <th></th>\n",
              "      <th>Unnamed: 0</th>\n",
              "      <th>text</th>\n",
              "      <th>favorited</th>\n",
              "      <th>favoriteCount</th>\n",
              "      <th>replyToSN</th>\n",
              "      <th>created</th>\n",
              "      <th>truncated</th>\n",
              "      <th>replyToSID</th>\n",
              "      <th>id</th>\n",
              "      <th>replyToUID</th>\n",
              "      <th>statusSource</th>\n",
              "      <th>screenName</th>\n",
              "      <th>retweetCount</th>\n",
              "      <th>isRetweet</th>\n",
              "      <th>retweeted</th>\n",
              "      <th>longitude</th>\n",
              "      <th>latitude</th>\n",
              "    </tr>\n",
              "  </thead>\n",
              "  <tbody>\n",
              "    <tr>\n",
              "      <th>0</th>\n",
              "      <td>1</td>\n",
              "      <td>RT @mrvelstan: literally nobody:\\r\\nme:\\r\\n\\r\\...</td>\n",
              "      <td>False</td>\n",
              "      <td>0</td>\n",
              "      <td>NaN</td>\n",
              "      <td>2019-04-23 10:43:30</td>\n",
              "      <td>False</td>\n",
              "      <td>NaN</td>\n",
              "      <td>1120639328034676737</td>\n",
              "      <td>NaN</td>\n",
              "      <td>&lt;a href=\"http://twitter.com/download/android\" ...</td>\n",
              "      <td>DavidAc96</td>\n",
              "      <td>637</td>\n",
              "      <td>True</td>\n",
              "      <td>False</td>\n",
              "      <td>NaN</td>\n",
              "      <td>NaN</td>\n",
              "    </tr>\n",
              "    <tr>\n",
              "      <th>1</th>\n",
              "      <td>2</td>\n",
              "      <td>RT @agntecarter: im emotional, sorry!!\\r\\n\\r\\n...</td>\n",
              "      <td>False</td>\n",
              "      <td>0</td>\n",
              "      <td>NaN</td>\n",
              "      <td>2019-04-23 10:43:30</td>\n",
              "      <td>False</td>\n",
              "      <td>NaN</td>\n",
              "      <td>1120639325199196160</td>\n",
              "      <td>NaN</td>\n",
              "      <td>&lt;a href=\"http://twitter.com/download/iphone\" r...</td>\n",
              "      <td>NRmalaa</td>\n",
              "      <td>302</td>\n",
              "      <td>True</td>\n",
              "      <td>False</td>\n",
              "      <td>NaN</td>\n",
              "      <td>NaN</td>\n",
              "    </tr>\n",
              "    <tr>\n",
              "      <th>2</th>\n",
              "      <td>3</td>\n",
              "      <td>saving these bingo cards for tomorrow \\r\\n\\r\\n...</td>\n",
              "      <td>False</td>\n",
              "      <td>0</td>\n",
              "      <td>NaN</td>\n",
              "      <td>2019-04-23 10:43:30</td>\n",
              "      <td>False</td>\n",
              "      <td>NaN</td>\n",
              "      <td>1120639324683292674</td>\n",
              "      <td>NaN</td>\n",
              "      <td>&lt;a href=\"http://twitter.com/download/iphone\" r...</td>\n",
              "      <td>jijitsuu</td>\n",
              "      <td>0</td>\n",
              "      <td>False</td>\n",
              "      <td>False</td>\n",
              "      <td>NaN</td>\n",
              "      <td>NaN</td>\n",
              "    </tr>\n",
              "    <tr>\n",
              "      <th>3</th>\n",
              "      <td>4</td>\n",
              "      <td>RT @HelloBoon: Man these #AvengersEndgame ads ...</td>\n",
              "      <td>False</td>\n",
              "      <td>0</td>\n",
              "      <td>NaN</td>\n",
              "      <td>2019-04-23 10:43:29</td>\n",
              "      <td>False</td>\n",
              "      <td>NaN</td>\n",
              "      <td>1120639323328540672</td>\n",
              "      <td>NaN</td>\n",
              "      <td>&lt;a href=\"http://twitter.com/download/iphone\" r...</td>\n",
              "      <td>SahapunB</td>\n",
              "      <td>23781</td>\n",
              "      <td>True</td>\n",
              "      <td>False</td>\n",
              "      <td>NaN</td>\n",
              "      <td>NaN</td>\n",
              "    </tr>\n",
              "    <tr>\n",
              "      <th>4</th>\n",
              "      <td>5</td>\n",
              "      <td>RT @Marvel: We salute you, @ChrisEvans! #Capta...</td>\n",
              "      <td>False</td>\n",
              "      <td>0</td>\n",
              "      <td>NaN</td>\n",
              "      <td>2019-04-23 10:43:29</td>\n",
              "      <td>False</td>\n",
              "      <td>NaN</td>\n",
              "      <td>1120639321571074048</td>\n",
              "      <td>NaN</td>\n",
              "      <td>&lt;a href=\"http://twitter.com/download/iphone\" r...</td>\n",
              "      <td>stella22_97</td>\n",
              "      <td>13067</td>\n",
              "      <td>True</td>\n",
              "      <td>False</td>\n",
              "      <td>NaN</td>\n",
              "      <td>NaN</td>\n",
              "    </tr>\n",
              "  </tbody>\n",
              "</table>\n",
              "</div>"
            ],
            "text/plain": [
              "   Unnamed: 0                                               text  favorited  \\\n",
              "0           1  RT @mrvelstan: literally nobody:\\r\\nme:\\r\\n\\r\\...      False   \n",
              "1           2  RT @agntecarter: im emotional, sorry!!\\r\\n\\r\\n...      False   \n",
              "2           3  saving these bingo cards for tomorrow \\r\\n\\r\\n...      False   \n",
              "3           4  RT @HelloBoon: Man these #AvengersEndgame ads ...      False   \n",
              "4           5  RT @Marvel: We salute you, @ChrisEvans! #Capta...      False   \n",
              "\n",
              "   favoriteCount replyToSN              created  truncated  replyToSID  \\\n",
              "0              0       NaN  2019-04-23 10:43:30      False         NaN   \n",
              "1              0       NaN  2019-04-23 10:43:30      False         NaN   \n",
              "2              0       NaN  2019-04-23 10:43:30      False         NaN   \n",
              "3              0       NaN  2019-04-23 10:43:29      False         NaN   \n",
              "4              0       NaN  2019-04-23 10:43:29      False         NaN   \n",
              "\n",
              "                    id  replyToUID  \\\n",
              "0  1120639328034676737         NaN   \n",
              "1  1120639325199196160         NaN   \n",
              "2  1120639324683292674         NaN   \n",
              "3  1120639323328540672         NaN   \n",
              "4  1120639321571074048         NaN   \n",
              "\n",
              "                                        statusSource   screenName  \\\n",
              "0  <a href=\"http://twitter.com/download/android\" ...    DavidAc96   \n",
              "1  <a href=\"http://twitter.com/download/iphone\" r...      NRmalaa   \n",
              "2  <a href=\"http://twitter.com/download/iphone\" r...     jijitsuu   \n",
              "3  <a href=\"http://twitter.com/download/iphone\" r...     SahapunB   \n",
              "4  <a href=\"http://twitter.com/download/iphone\" r...  stella22_97   \n",
              "\n",
              "   retweetCount  isRetweet  retweeted  longitude  latitude  \n",
              "0           637       True      False        NaN       NaN  \n",
              "1           302       True      False        NaN       NaN  \n",
              "2             0      False      False        NaN       NaN  \n",
              "3         23781       True      False        NaN       NaN  \n",
              "4         13067       True      False        NaN       NaN  "
            ]
          },
          "execution_count": 14,
          "metadata": {},
          "output_type": "execute_result"
        }
      ],
      "source": [
        "import pandas as pd\n",
        "avengers_df = pd.read_csv('data/tweets.csv', encoding='utf-8', encoding_errors='ignore')\n",
        "avengers_df.head()"
      ]
    },
    {
      "cell_type": "markdown",
      "metadata": {
        "id": "GhuPusbaKVFS"
      },
      "source": [
        "#### HW 2: Create Target column from retweetCount >np.median[retweetCount] create dataset in .csv file with new features along with .yaml file with it's descritpion, median[retweetCount] value stored in retweetCount_median variable, preferably store data in data folder"
      ]
    },
    {
      "cell_type": "code",
      "execution_count": 21,
      "metadata": {},
      "outputs": [
        {
          "name": "stdout",
          "output_type": "stream",
          "text": [
            "Writing 'yaml_content' (str) to file 'experiments/exp_hw2/exp_hw2.yaml'.\n"
          ]
        }
      ],
      "source": [
        "!mkdir -p data/exp_hw2 experiments/exp_hw2\n",
        "retweetCount_median = avengers_df[\"retweetCount\"].median()\n",
        "avengers_df[\"Target\"] = avengers_df[\"retweetCount\"] > retweetCount_median\n",
        "avengers_df.to_csv('data/exp_hw2/tweets_with_target.csv', index=False)\n",
        "\n",
        "yaml_content = f\"\"\"\n",
        "name: Avengers\n",
        "description: Avengers dataset with target column\n",
        "retweetCountMedian: {retweetCount_median}\n",
        "\"\"\"\n",
        "\n",
        "%store yaml_content >experiments/exp_hw2/exp_hw2.yaml"
      ]
    },
    {
      "cell_type": "markdown",
      "metadata": {
        "id": "Xehyn36dKVFS"
      },
      "source": [
        "#### HW 3: Сreate a folder with experiments, make it a python package, organize all transformers and classifiers wih python modules and .yaml files."
      ]
    },
    {
      "cell_type": "code",
      "execution_count": 25,
      "metadata": {},
      "outputs": [
        {
          "name": "stdout",
          "output_type": "stream",
          "text": [
            "./experiments\n",
            "./experiments/exp_hw2\n",
            "./experiments/exp_hw2/exp_hw2.yaml\n",
            "./experiments/__init__.py\n"
          ]
        }
      ],
      "source": [
        "!find ./experiments"
      ]
    },
    {
      "cell_type": "markdown",
      "metadata": {
        "id": "Q2S0J_4ZKVFT"
      },
      "source": [
        "#### HW 4: Extract names of avengers endgame characters from text\n",
        "\n",
        "Examples of tags in quetion:\n",
        "#Thanos\n",
        "#WinterSoldier\n",
        "#CaptainAmerica\n",
        "#blackwidow\n",
        "#CaptainMarvel\n",
        "#Mantis\n",
        "\n",
        "store the resulting dataset in data folder with .yaml description, preferable naming for variable names is lowercase name of the tag"
      ]
    },
    {
      "cell_type": "code",
      "execution_count": 39,
      "metadata": {},
      "outputs": [
        {
          "data": {
            "text/html": [
              "<div>\n",
              "<style scoped>\n",
              "    .dataframe tbody tr th:only-of-type {\n",
              "        vertical-align: middle;\n",
              "    }\n",
              "\n",
              "    .dataframe tbody tr th {\n",
              "        vertical-align: top;\n",
              "    }\n",
              "\n",
              "    .dataframe thead th {\n",
              "        text-align: right;\n",
              "    }\n",
              "</style>\n",
              "<table border=\"1\" class=\"dataframe\">\n",
              "  <thead>\n",
              "    <tr style=\"text-align: right;\">\n",
              "      <th></th>\n",
              "      <th>Unnamed: 0</th>\n",
              "      <th>text</th>\n",
              "      <th>favorited</th>\n",
              "      <th>favoriteCount</th>\n",
              "      <th>replyToSN</th>\n",
              "      <th>created</th>\n",
              "      <th>truncated</th>\n",
              "      <th>replyToSID</th>\n",
              "      <th>id</th>\n",
              "      <th>replyToUID</th>\n",
              "      <th>statusSource</th>\n",
              "      <th>screenName</th>\n",
              "      <th>retweetCount</th>\n",
              "      <th>isRetweet</th>\n",
              "      <th>retweeted</th>\n",
              "      <th>longitude</th>\n",
              "      <th>latitude</th>\n",
              "      <th>Target</th>\n",
              "      <th>tags</th>\n",
              "    </tr>\n",
              "  </thead>\n",
              "  <tbody>\n",
              "    <tr>\n",
              "      <th>0</th>\n",
              "      <td>1</td>\n",
              "      <td>RT @mrvelstan: literally nobody:\\r\\nme:\\r\\n\\r\\...</td>\n",
              "      <td>False</td>\n",
              "      <td>0</td>\n",
              "      <td>NaN</td>\n",
              "      <td>2019-04-23 10:43:30</td>\n",
              "      <td>False</td>\n",
              "      <td>NaN</td>\n",
              "      <td>1120639328034676737</td>\n",
              "      <td>NaN</td>\n",
              "      <td>&lt;a href=\"http://twitter.com/download/android\" ...</td>\n",
              "      <td>DavidAc96</td>\n",
              "      <td>637</td>\n",
              "      <td>True</td>\n",
              "      <td>False</td>\n",
              "      <td>NaN</td>\n",
              "      <td>NaN</td>\n",
              "      <td>False</td>\n",
              "      <td>[avengersendgame]</td>\n",
              "    </tr>\n",
              "    <tr>\n",
              "      <th>1</th>\n",
              "      <td>2</td>\n",
              "      <td>RT @agntecarter: im emotional, sorry!!\\r\\n\\r\\n...</td>\n",
              "      <td>False</td>\n",
              "      <td>0</td>\n",
              "      <td>NaN</td>\n",
              "      <td>2019-04-23 10:43:30</td>\n",
              "      <td>False</td>\n",
              "      <td>NaN</td>\n",
              "      <td>1120639325199196160</td>\n",
              "      <td>NaN</td>\n",
              "      <td>&lt;a href=\"http://twitter.com/download/iphone\" r...</td>\n",
              "      <td>NRmalaa</td>\n",
              "      <td>302</td>\n",
              "      <td>True</td>\n",
              "      <td>False</td>\n",
              "      <td>NaN</td>\n",
              "      <td>NaN</td>\n",
              "      <td>False</td>\n",
              "      <td>[blackwidow, captainamerica]</td>\n",
              "    </tr>\n",
              "    <tr>\n",
              "      <th>2</th>\n",
              "      <td>3</td>\n",
              "      <td>saving these bingo cards for tomorrow \\r\\n\\r\\n...</td>\n",
              "      <td>False</td>\n",
              "      <td>0</td>\n",
              "      <td>NaN</td>\n",
              "      <td>2019-04-23 10:43:30</td>\n",
              "      <td>False</td>\n",
              "      <td>NaN</td>\n",
              "      <td>1120639324683292674</td>\n",
              "      <td>NaN</td>\n",
              "      <td>&lt;a href=\"http://twitter.com/download/iphone\" r...</td>\n",
              "      <td>jijitsuu</td>\n",
              "      <td>0</td>\n",
              "      <td>False</td>\n",
              "      <td>False</td>\n",
              "      <td>NaN</td>\n",
              "      <td>NaN</td>\n",
              "      <td>False</td>\n",
              "      <td>[avengersendgame]</td>\n",
              "    </tr>\n",
              "    <tr>\n",
              "      <th>3</th>\n",
              "      <td>4</td>\n",
              "      <td>RT @HelloBoon: Man these #AvengersEndgame ads ...</td>\n",
              "      <td>False</td>\n",
              "      <td>0</td>\n",
              "      <td>NaN</td>\n",
              "      <td>2019-04-23 10:43:29</td>\n",
              "      <td>False</td>\n",
              "      <td>NaN</td>\n",
              "      <td>1120639323328540672</td>\n",
              "      <td>NaN</td>\n",
              "      <td>&lt;a href=\"http://twitter.com/download/iphone\" r...</td>\n",
              "      <td>SahapunB</td>\n",
              "      <td>23781</td>\n",
              "      <td>True</td>\n",
              "      <td>False</td>\n",
              "      <td>NaN</td>\n",
              "      <td>NaN</td>\n",
              "      <td>True</td>\n",
              "      <td>[avengersendgame]</td>\n",
              "    </tr>\n",
              "    <tr>\n",
              "      <th>4</th>\n",
              "      <td>5</td>\n",
              "      <td>RT @Marvel: We salute you, @ChrisEvans! #Capta...</td>\n",
              "      <td>False</td>\n",
              "      <td>0</td>\n",
              "      <td>NaN</td>\n",
              "      <td>2019-04-23 10:43:29</td>\n",
              "      <td>False</td>\n",
              "      <td>NaN</td>\n",
              "      <td>1120639321571074048</td>\n",
              "      <td>NaN</td>\n",
              "      <td>&lt;a href=\"http://twitter.com/download/iphone\" r...</td>\n",
              "      <td>stella22_97</td>\n",
              "      <td>13067</td>\n",
              "      <td>True</td>\n",
              "      <td>False</td>\n",
              "      <td>NaN</td>\n",
              "      <td>NaN</td>\n",
              "      <td>True</td>\n",
              "      <td>[captainamerica, avengersendgame]</td>\n",
              "    </tr>\n",
              "  </tbody>\n",
              "</table>\n",
              "</div>"
            ],
            "text/plain": [
              "   Unnamed: 0                                               text  favorited  \\\n",
              "0           1  RT @mrvelstan: literally nobody:\\r\\nme:\\r\\n\\r\\...      False   \n",
              "1           2  RT @agntecarter: im emotional, sorry!!\\r\\n\\r\\n...      False   \n",
              "2           3  saving these bingo cards for tomorrow \\r\\n\\r\\n...      False   \n",
              "3           4  RT @HelloBoon: Man these #AvengersEndgame ads ...      False   \n",
              "4           5  RT @Marvel: We salute you, @ChrisEvans! #Capta...      False   \n",
              "\n",
              "   favoriteCount replyToSN              created  truncated  replyToSID  \\\n",
              "0              0       NaN  2019-04-23 10:43:30      False         NaN   \n",
              "1              0       NaN  2019-04-23 10:43:30      False         NaN   \n",
              "2              0       NaN  2019-04-23 10:43:30      False         NaN   \n",
              "3              0       NaN  2019-04-23 10:43:29      False         NaN   \n",
              "4              0       NaN  2019-04-23 10:43:29      False         NaN   \n",
              "\n",
              "                    id  replyToUID  \\\n",
              "0  1120639328034676737         NaN   \n",
              "1  1120639325199196160         NaN   \n",
              "2  1120639324683292674         NaN   \n",
              "3  1120639323328540672         NaN   \n",
              "4  1120639321571074048         NaN   \n",
              "\n",
              "                                        statusSource   screenName  \\\n",
              "0  <a href=\"http://twitter.com/download/android\" ...    DavidAc96   \n",
              "1  <a href=\"http://twitter.com/download/iphone\" r...      NRmalaa   \n",
              "2  <a href=\"http://twitter.com/download/iphone\" r...     jijitsuu   \n",
              "3  <a href=\"http://twitter.com/download/iphone\" r...     SahapunB   \n",
              "4  <a href=\"http://twitter.com/download/iphone\" r...  stella22_97   \n",
              "\n",
              "   retweetCount  isRetweet  retweeted  longitude  latitude  Target  \\\n",
              "0           637       True      False        NaN       NaN   False   \n",
              "1           302       True      False        NaN       NaN   False   \n",
              "2             0      False      False        NaN       NaN   False   \n",
              "3         23781       True      False        NaN       NaN    True   \n",
              "4         13067       True      False        NaN       NaN    True   \n",
              "\n",
              "                                tags  \n",
              "0                  [avengersendgame]  \n",
              "1       [blackwidow, captainamerica]  \n",
              "2                  [avengersendgame]  \n",
              "3                  [avengersendgame]  \n",
              "4  [captainamerica, avengersendgame]  "
            ]
          },
          "execution_count": 39,
          "metadata": {},
          "output_type": "execute_result"
        }
      ],
      "source": [
        "import re\n",
        "unique_tags = set()\n",
        "def get_tags(text):\n",
        "    tags = [tag.lower() for tag in re.findall(r\"#(\\w+)\", text)]\n",
        "    unique_tags.update(tags)\n",
        "    return tags\n",
        "\n",
        "avengers_df[\"tags\"] = avengers_df[\"text\"].apply(get_tags)\n",
        "avengers_df.head()\n"
      ]
    },
    {
      "cell_type": "code",
      "execution_count": 38,
      "metadata": {},
      "outputs": [
        {
          "name": "stdout",
          "output_type": "stream",
          "text": [
            "{'tv', 'avengersendgamewa', 'patriotsawakened', 'avengerse', 'bradleycooper', 'pvrcinema', 'truemarvelfan', 'race3', 'quote', 'quickiemickey', 'hellboycosplay', 'marvelstudios', 'sixer', 'toll', 'likeakidonchristmaseve', 'avengersmovie', 'unity', 'waittilltheweekend', 'didyouknow', 'np', 'nebula', 'oppo', 'liverpool', 'captainmavel', 'ironman', 'doctorstrange', 'ironmanvr', 'datascientist', 'funkoavengers', 'cineworld', 'vinyl', 'hawkeye', 'aven', 'neonoir', 'modiagainsaysindia', 'fortnitecreative', 'creativity', 'thanosdemandsyoursilence', 'mydesign', 'avengersendgam', 'memes', 'earth2', 'avengerendgame', 'korg', 'gold', 'bigdata', 'mcumarathon', 'disney', 'vo', 'taylorswiftapril26', 'blackwidow', 'theohioplayersproject', 'uhd', 'billion', 'my_family', 'california', 'prometheus31', 'earthday', 'elizabetholsen', 'vingadores', 'infinitywar', 'blackwi', 'hodor', 'nickfury', 'superman', 'scarlettjohansson', 'themustang', '2', 'wedey4u', 'smashxavengers', 'pvrcontest', 'dontspoilendgame', 'antman', 'bahubali', 'icymi', 'thanos', 'coulsonlives', 'steverogers', 'supported', 'rollingnotes', 'hindi', 'news', 'cute', 'segundadetremurasdv', 'life', 'marvelfans', 'got', 'luckyme', 'gamora', 'avengethefallen', 'draw', 'godzillakingofthemonsters', 'endgamepremiere', 'modibiopic', '23nisan', 'stopmotionanimation', 'mtnmoviemania', 'mcurewatch', 'nearing', 'dog', 'film', 'srilanka', 'marvelmoviemarathon', 'kumarsedit', 'captainmarvel', 'startattle', 'giveaway', 'warrentownhall', 'rockets', 'tardis', 'bbotd', 'quantum', '4daystogo', 'skull', 'commercial', 'funkoanimationstudios', 'theater', 'fi', 'freelance', 'universalpictures', 'funkofanatic', 'datascience', 'full', 'vengadores', 'tue', 'imax', 'avengersendgameonticketnew', 'funkophotography', 'eastersundayattackslk', 'msm', 'joinairteltigo', 'moviedirector', 'family', 'infi', 'sylvesterstallone', 'avenger', 'aveng', 'dubbed', 'avengersend', 'alansilvestri', 'paulrudd', 'button', 'graphics', 'filmmaker', 'aamirkhan', 'agentso', 'avengersendgameth', 'russobrothers', 'scarletwitch', 'contestalert', 'avengersendgametickets', 'northern', 'andsothere', 'woowa1stwin', 'e', 'nouvellephotodeprofil', 'nbaplayoffs', 'macosacidiceilcervello', 'ashishchanchlani', 'tradewinds', 'shitflick', 'indiaelects', 'robertdowneyjr', '3d', 'stopmotion', 'dramatic', 'wintersoldier', 'steggy', 'london', 'pepperpotts', 'scarlettjohanson', 'love', 'phase4', 'tubelight', 'disneynaturepenguins', 'acryliconcanvas', 'ufos', 'pakistanzindabad', 'success', 'marke', 'themysteryofmarieroget', 'mtnpulse', 'zero', 'boxoffice', 'giornatamondialedellibro', 'ccimax', 'wong', 'tha', 'worldpremier', 'airlines', 'warmachine', 'retweet', 'sindh', 'marvelbiochain', 'momoland', 'kemono', 'hmvavengersendga', 'review', 'jacket', 'acrylicpainting', 'teamstallion', 'mcu', 'neighborhood', 'daredevil', 'thewasp', 'mumbai', 'metoo', 'marvelcinematicuniverse', 'quake', 'nfldraft', 'st', 'avangersendgame', 'geminiman', 'weatherupdate', 'arjunreddy', 'sketch', 'us', 'palmsprings', 'artist', 'thetashkentfiles', 'hmvavengersendgame', 'meenakshicinemas', 'moviereview', 'yellowvest', 'nocontext', 'bookmyshow', 'kalank', 'new', 'avengersinfinitywar', 'wts', 'alleycatparadise', 'whateverittakes', 'advancebooking', 'hypocrisy', 'indian', 'dc', 'cinema', 'supernatural', 'tesla', 'exci', 'stickers', 'baltahji', 'marvel', 'primevideo', 'd', 'stephenstrange', 'dubai', 'superhusbands', 'uae', 'avengersxcci', 'spoilers', 'noendgamespoilers', 'endg', '0917lifestyle', 'captai', 'decimation', 'animeawards', 'tigerwoods', 'spidermanfarfromhome', 'thankyou', 'uno', 'katherineschwarzenegger', 'india', 'indiefilm', 'marketing', 'mantis', 'avengersen', 'punk', 'avengersarmyatpvr', 'dinsorartwork', 'writersofinstagram', '2019', 'avengers', 'joinai', 'marvelstu', 'domecinema', 'director', 'outbreak', 'keys', 'election', 'shield', 'stevetony', 'video', 'groot', 'mondaymotivation', 'u', 'kcczamboanga', 'bahubali2', 'infinitystones', 'avengersendg', 'spacex', 'battleroyale', 'dontspoilavengersendgameng', 'alisei', 'gwynethpaltrow', 'tee', 'acti', 'mondaymotivaton', 'comicon', 'illustration', 'thorragnarok', 'thewanderingearth', 'spoilerfree', 'benedictcumberbatch', 'shangchi', 'temperature', 'marvelfan', 'gostars', 'a', 'mirajmarvelmania', 'inbdwetrust', 'geek', 'hellboycomics', 'pumped', 'funko', 'redcarpet', 'hulk', 'bitcoin', 'joerusso', 'chaanakkyan', 'ai', 'cartoon', 'rajinikanth', 'fortnite', 'avengersarmyat', 'hellboymovie', 'logodesigner', 'm', 'teamtony', 'vinylstickers', 'chrishemsw', 'warriors', 'avengersendgametoday', 'bachelorinparadiseau', 'votinground3', 'netflix', 'tuesdaythoughts', 'thefalcon', 'natashar', 'directorlife', 'art', '3dprinting', 'comment', 'countdown', 'whateve', 'loki', 'thebridgesofmadisoncounty', 'metime', 'halifax', 'tashkentfiles', 'like', 'falcon', 'ripbank', 'firstavenger', 'presstourcontinues', 'marvelous', 'fallontonight', 'rt', 'holdthepower', 'wedidntstartthefire', 'becomealegend', 'wolverine', 'blockbuster', 'wandavision', 'contest', 'marvelfashion', 'whatareyouwaitfor', 'daisy', 'repost', 'avengere', 'disneynight', 'design', 'funkopop', 'theory', 'fatninjastudios', 'pvr', 'infinitybio', 'movietwit', 'marvelredesigned', 'ticketnew', 'werollyounote', 'contestindia', 'anime', 'openingweekend', 'pixelendgame', 'sav', 'aliens', 'moviemath', 'nerdtweet', 'dontspoiltheendgame', 'sanneotales', 'artwork', 'la', 'record', 'ncnews', 'movie', 'aging', 'oppoxavengers', 'shortfilm', 'eastersunday', 'chrisevans', 'mitakka', 'puzzle', 'animation', 'weekendwhistlecontest', 'hq', 'filmmakers', 'comiccon', 'tees', 'slaveryreparations', 'goodsamaritan', 'tomatometer', 'tuesdaymotivat', 'superexcited', 'th', 'jeremyrenner', 'my', 'socia', 'writingcommunity', 'avengersendga', 'streaming', 'blackwido', 'bbnaija', 'imdeceased', 'gotg', '30earthmonthheroes', 'okoye', 'avengersendgameexceeds', 'logo', 'cap', 'trump', 'gameofthrone', 'captainamerica', 'premiere', 'thugsofhindostan', 'robron', 'ronin', 'ncpol', 'capitanamarvel', 'avengersendgame', 'globeavengers', 'avengerspremiere', 'bmscontest', 'brielarson', 'poll', 'gameofthrones', 'shark', 'marveluniverse', 'rocky', 'beyoncehomecoming', 'ifb', 'hyderabad', 'silverlake', 'shuri', 'romanogers', 'happyhogan', 'endgamepremierela', 'muktaa2cinemas', 'followtrick', 'artsy', 'truethat', 'viswasam', 'thor', 'avengers4', 'avatar', 'stev', 'phase2', 'hus', 'petta', 'run', 'music', 'trailer', 'valkyrie', 'busyweek', 'scarlettjohans', 'completethemission', 'detective', 'filmmaking', 'epicgames', 'weather', 'kawaii', 'audi', 'best4less', 'measles', 'taikawaititi', 'yankees', 'cobrakai', 'iamthe_rae', 'hellboy', 'fortnitexavengers', 'datasecurity', 'today', 'natalieportman', 'homeboyzradio', 'uindy', 'comedy', 'avengersassemble', 'joker', 'thankful', 'stony', 'happyjenoday', 'brexit', 'jazzci', 'writing', 'shortfilms', 'dia', 'hiroyukisanada', 'redesign', 'avengersendgamepremiere', 'muktaa2', 'ca', 'kevinfeige', 'dontspoilavengers', 'hadoop', '26thmay2019', 'ruto', 'aayegatomodihi', 'april24ph', 'jimmyfallon', 'kanganaranaut', 'facts', 'ave', 'xitfest', 'ajioxmarvel', 'congress', 'avenge', 'evansson', 'regularshow', 'otd', 'infinitygauntlet', 'tonightshow', 'stanlee', 'thanima', 'cannotwait', 'scarlettjohanssan', 'batman', '2daystogo', 'capitaoamerica', 'ucgprojectthar', 'sudbury', 'nowplaying', 'elders', 'infinity', 'soldout', 'mariahill', 'socialmedia', 'marvelfanart', 'etron', 'soclear', 'tonight', 'ppp', 'soundtrack', 'worldpremiere', 'girlcrush', 'captaina', 'avengersendgameboxoffice', 'hollywood', 'chrispratt', 'thevalkyrie', 'lego', 'tonystark', 'ekthatiger', 'ufo', 'spiderman', 'gal', 'starmoviespopuptheatre', 'kanchana3', 'backtowork', 'vingadoresultimato', '80s', 'april26', 'follow', '1995', 'blackpanther', 'da', 'horror', 'filmsaboutthebody', 'too', 'phase3', 'noavengersspoiler', 'seeyouyesterday', '1000movies', 'yello', 'thanosdidnothingwrong', 'rocketraccoon', 'endgamecountdown', 'chrishemsworth', 'endgame', 'gameofthronesseason8', 'animates', 'marvelfuturefight', 'mk11', 'pixel3', 'badge', 'thankustan', 'chennai', 'patron', 'endgameonbms', 'nebulacosplay', 'robertdow', 'monalisa', 'bl', 'avengersdemandsyoursilence', 'twitter', 'marvelgamesassemble', 'bitpop', 'tm_ruby', 'nospoilers', 'guardiansofthegalaxy', 'hd', 'sebastianstan', 'gameofthr', 'followhelp', 'babucinemas', 'samsung', 'stbbmp', 'daysgone', 'bbmastopsocial', '1', 'uk', 'haw', 'podcast', 'hawkey', 'robertdo', 'thesepeoplearesick', 'ticketnewavengersmoviepass', 'unlimitedcall', 'zambofirst', 'downevans', 'pip', 'agentsofshield', 'excited', 'starlord', 'adifanart', 'nerdorama', 'avengersendgamela', 'bjp', 'openingnight', 'bigtimedata', 'oppof11pro', 'yellowvests', 'pvrupdates', 'movies', '23aprile', 'stbio18', 'be'}\n",
            "Writing 'yaml_content' (str) to file 'experiments/exp_hw4/exp_hw4.yaml'.\n"
          ]
        }
      ],
      "source": [
        "!mkdir -p data/exp_hw4 experiments/exp_hw4\n",
        "avengers_df.to_csv('data/exp_hw4/tweets_with_tags.csv', index=False)\n",
        "\n",
        "print(unique_tags)\n",
        "\n",
        "yaml_content = f\"\"\"\n",
        "name: Avengers tweets with tags\n",
        "description: Avengers dataset with target column and tags\n",
        "tags: {list(unique_tags)}\n",
        "\"\"\"\n",
        "\n",
        "%store yaml_content >experiments/exp_hw4/exp_hw4.yaml"
      ]
    },
    {
      "cell_type": "markdown",
      "metadata": {
        "id": "FBMtIHiiKVFT"
      },
      "source": [
        "#### HW 5: Create set of classifiers for linear regression with different features for feature generation.\n",
        "use the following methods of feature generation\n",
        "\n",
        " - word tokenization with 1-gram, f\n",
        " - pos tokenization with extraction of all NP\n",
        " - pos tokenization with 2-gram bag of tokens for all NNP\n",
        " - 2-gram bag of characters for screenName features\n",
        " - polynomial features for presence of avenger character names\n",
        "\n",
        "Organize classes of transformers in various .py files"
      ]
    },
    {
      "cell_type": "code",
      "execution_count": 78,
      "metadata": {},
      "outputs": [],
      "source": [
        "from experiments.exp_hw5.unigram import UnigramTransformer\n",
        "from experiments.exp_hw5.noun_phrase import NounPhraseTransformer\n",
        "from experiments.exp_hw5.proper_noun import ProperNounTransformer\n",
        "from experiments.exp_hw5.bigram import BigramTransformer\n",
        "from experiments.exp_hw5.polynomial import PolynomialTransformer"
      ]
    },
    {
      "cell_type": "markdown",
      "metadata": {
        "id": "gE-NT52DKVFT"
      },
      "source": [
        "#### HW 6: Apply PCA dimensionality reduction and LogisticRegression to predict Target, construct pipelines for all transformers from HW 5 (so it will be 5 various pipeline, name them exp_hw6_1, ... exp_hw6_5) implement them as custom classifiers."
      ]
    },
    {
      "cell_type": "markdown",
      "metadata": {
        "id": "7qNn8vkBKVFU"
      },
      "source": [
        "#### HW 7: Split dataset to train and test (it is up to you which features you will include in it) and store it data folder along with .yaml description"
      ]
    },
    {
      "cell_type": "markdown",
      "metadata": {
        "id": "a7vDCZz8KVFU"
      },
      "source": [
        "#### HW 8: Add intialization from .yaml descriptions of classifiers to implementations of classifiers at HW 6."
      ]
    },
    {
      "cell_type": "markdown",
      "metadata": {
        "id": "r3VPXJzHKVFU"
      },
      "source": [
        "#### HW 9: Train classifiers with various PCA dimensionality, bag of words and polynomial paramters paramteres on train, test them on test and store in .yaml files for every experiment with resulting metrics\n",
        "\n",
        "- accuracy\n",
        "- precision\n",
        "- recall\n",
        "- adjusted_mutual_information"
      ]
    },
    {
      "cell_type": "markdown",
      "metadata": {
        "id": "sItXwf71KVFV"
      },
      "source": [
        "#### HW 10*: Read urls on dataset follow them with the following example, download attached images and count people on them with cv features"
      ]
    },
    {
      "cell_type": "markdown",
      "metadata": {
        "id": "oR-z4PGeKVFV"
      },
      "source": [
        "#### HW 11: Add new features to all PCA output on HW 6, train classifiers, test quality and store results in proper .yaml files"
      ]
    },
    {
      "cell_type": "markdown",
      "metadata": {
        "id": "Bx56ahDiKVFW"
      },
      "source": [
        "#### HW 12*: Perform topic modelings on text feature, add it to PCA features from HW 6, train classifiers, test quality and store results in proper .yaml files"
      ]
    },
    {
      "cell_type": "markdown",
      "metadata": {
        "id": "t23JCuXmKVFW"
      },
      "source": [
        "#### HW 13: Combine all combinations of features from HW6, measure the results of improvement of classifier"
      ]
    },
    {
      "cell_type": "markdown",
      "metadata": {
        "id": "gf6uIqDBKVFW"
      },
      "source": [
        "#### HW 14*: For 5 best of prevous experiments, change LinearRegression to XGBClassifier. Try several XGB configurations, store results and parameters in .yaml files"
      ]
    }
  ],
  "metadata": {
    "colab": {
      "include_colab_link": true,
      "provenance": []
    },
    "kernelspec": {
      "display_name": "Python 3",
      "language": "python",
      "name": "python3"
    },
    "language_info": {
      "codemirror_mode": {
        "name": "ipython",
        "version": 3
      },
      "file_extension": ".py",
      "mimetype": "text/x-python",
      "name": "python",
      "nbconvert_exporter": "python",
      "pygments_lexer": "ipython3",
      "version": "3.11.5"
    }
  },
  "nbformat": 4,
  "nbformat_minor": 0
}
