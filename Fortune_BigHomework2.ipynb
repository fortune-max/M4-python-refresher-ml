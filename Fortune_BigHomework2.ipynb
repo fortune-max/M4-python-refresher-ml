{
  "cells": [
    {
      "cell_type": "markdown",
      "metadata": {
        "colab_type": "text",
        "id": "view-in-github"
      },
      "source": [
        "<a href=\"https://colab.research.google.com/github/fortune-max/M4-python-refresher-ml/blob/main/Fortune_BigHomework2.ipynb\" target=\"_parent\"><img src=\"https://colab.research.google.com/assets/colab-badge.svg\" alt=\"Open In Colab\"/></a>"
      ]
    },
    {
      "cell_type": "markdown",
      "metadata": {
        "id": "yYI3fzugjeLv"
      },
      "source": [
        "#### HW 1: Download the dataset"
      ]
    },
    {
      "cell_type": "markdown",
      "metadata": {
        "id": "B1pcuK5bKVFR"
      },
      "source": [
        "https://www.kaggle.com/kavita5/twitter-dataset-avengersendgame/download"
      ]
    },
    {
      "cell_type": "code",
      "execution_count": 13,
      "metadata": {},
      "outputs": [
        {
          "name": "stdout",
          "output_type": "stream",
          "text": [
            "/Users/fortune/code/personal/DS/M4/BHW2_files\n",
            "config.yaml \u001b[34mdata\u001b[m\u001b[m        \u001b[34mexperiments\u001b[m\u001b[m\n"
          ]
        },
        {
          "name": "stderr",
          "output_type": "stream",
          "text": [
            "/Users/fortune/code/personal/DS/M4/.venv/lib/python3.11/site-packages/IPython/core/magics/osm.py:417: UserWarning: using dhist requires you to install the `pickleshare` library.\n",
            "  self.shell.db['dhist'] = compress_dhist(dhist)[-100:]\n"
          ]
        }
      ],
      "source": [
        "%cd BHW2_files\n",
        "!ls"
      ]
    },
    {
      "cell_type": "code",
      "execution_count": 14,
      "metadata": {},
      "outputs": [
        {
          "data": {
            "text/html": [
              "<div>\n",
              "<style scoped>\n",
              "    .dataframe tbody tr th:only-of-type {\n",
              "        vertical-align: middle;\n",
              "    }\n",
              "\n",
              "    .dataframe tbody tr th {\n",
              "        vertical-align: top;\n",
              "    }\n",
              "\n",
              "    .dataframe thead th {\n",
              "        text-align: right;\n",
              "    }\n",
              "</style>\n",
              "<table border=\"1\" class=\"dataframe\">\n",
              "  <thead>\n",
              "    <tr style=\"text-align: right;\">\n",
              "      <th></th>\n",
              "      <th>Unnamed: 0</th>\n",
              "      <th>text</th>\n",
              "      <th>favorited</th>\n",
              "      <th>favoriteCount</th>\n",
              "      <th>replyToSN</th>\n",
              "      <th>created</th>\n",
              "      <th>truncated</th>\n",
              "      <th>replyToSID</th>\n",
              "      <th>id</th>\n",
              "      <th>replyToUID</th>\n",
              "      <th>statusSource</th>\n",
              "      <th>screenName</th>\n",
              "      <th>retweetCount</th>\n",
              "      <th>isRetweet</th>\n",
              "      <th>retweeted</th>\n",
              "      <th>longitude</th>\n",
              "      <th>latitude</th>\n",
              "    </tr>\n",
              "  </thead>\n",
              "  <tbody>\n",
              "    <tr>\n",
              "      <th>0</th>\n",
              "      <td>1</td>\n",
              "      <td>RT @mrvelstan: literally nobody:\\r\\nme:\\r\\n\\r\\...</td>\n",
              "      <td>False</td>\n",
              "      <td>0</td>\n",
              "      <td>NaN</td>\n",
              "      <td>2019-04-23 10:43:30</td>\n",
              "      <td>False</td>\n",
              "      <td>NaN</td>\n",
              "      <td>1120639328034676737</td>\n",
              "      <td>NaN</td>\n",
              "      <td>&lt;a href=\"http://twitter.com/download/android\" ...</td>\n",
              "      <td>DavidAc96</td>\n",
              "      <td>637</td>\n",
              "      <td>True</td>\n",
              "      <td>False</td>\n",
              "      <td>NaN</td>\n",
              "      <td>NaN</td>\n",
              "    </tr>\n",
              "    <tr>\n",
              "      <th>1</th>\n",
              "      <td>2</td>\n",
              "      <td>RT @agntecarter: im emotional, sorry!!\\r\\n\\r\\n...</td>\n",
              "      <td>False</td>\n",
              "      <td>0</td>\n",
              "      <td>NaN</td>\n",
              "      <td>2019-04-23 10:43:30</td>\n",
              "      <td>False</td>\n",
              "      <td>NaN</td>\n",
              "      <td>1120639325199196160</td>\n",
              "      <td>NaN</td>\n",
              "      <td>&lt;a href=\"http://twitter.com/download/iphone\" r...</td>\n",
              "      <td>NRmalaa</td>\n",
              "      <td>302</td>\n",
              "      <td>True</td>\n",
              "      <td>False</td>\n",
              "      <td>NaN</td>\n",
              "      <td>NaN</td>\n",
              "    </tr>\n",
              "    <tr>\n",
              "      <th>2</th>\n",
              "      <td>3</td>\n",
              "      <td>saving these bingo cards for tomorrow \\r\\n\\r\\n...</td>\n",
              "      <td>False</td>\n",
              "      <td>0</td>\n",
              "      <td>NaN</td>\n",
              "      <td>2019-04-23 10:43:30</td>\n",
              "      <td>False</td>\n",
              "      <td>NaN</td>\n",
              "      <td>1120639324683292674</td>\n",
              "      <td>NaN</td>\n",
              "      <td>&lt;a href=\"http://twitter.com/download/iphone\" r...</td>\n",
              "      <td>jijitsuu</td>\n",
              "      <td>0</td>\n",
              "      <td>False</td>\n",
              "      <td>False</td>\n",
              "      <td>NaN</td>\n",
              "      <td>NaN</td>\n",
              "    </tr>\n",
              "    <tr>\n",
              "      <th>3</th>\n",
              "      <td>4</td>\n",
              "      <td>RT @HelloBoon: Man these #AvengersEndgame ads ...</td>\n",
              "      <td>False</td>\n",
              "      <td>0</td>\n",
              "      <td>NaN</td>\n",
              "      <td>2019-04-23 10:43:29</td>\n",
              "      <td>False</td>\n",
              "      <td>NaN</td>\n",
              "      <td>1120639323328540672</td>\n",
              "      <td>NaN</td>\n",
              "      <td>&lt;a href=\"http://twitter.com/download/iphone\" r...</td>\n",
              "      <td>SahapunB</td>\n",
              "      <td>23781</td>\n",
              "      <td>True</td>\n",
              "      <td>False</td>\n",
              "      <td>NaN</td>\n",
              "      <td>NaN</td>\n",
              "    </tr>\n",
              "    <tr>\n",
              "      <th>4</th>\n",
              "      <td>5</td>\n",
              "      <td>RT @Marvel: We salute you, @ChrisEvans! #Capta...</td>\n",
              "      <td>False</td>\n",
              "      <td>0</td>\n",
              "      <td>NaN</td>\n",
              "      <td>2019-04-23 10:43:29</td>\n",
              "      <td>False</td>\n",
              "      <td>NaN</td>\n",
              "      <td>1120639321571074048</td>\n",
              "      <td>NaN</td>\n",
              "      <td>&lt;a href=\"http://twitter.com/download/iphone\" r...</td>\n",
              "      <td>stella22_97</td>\n",
              "      <td>13067</td>\n",
              "      <td>True</td>\n",
              "      <td>False</td>\n",
              "      <td>NaN</td>\n",
              "      <td>NaN</td>\n",
              "    </tr>\n",
              "  </tbody>\n",
              "</table>\n",
              "</div>"
            ],
            "text/plain": [
              "   Unnamed: 0                                               text  favorited  \\\n",
              "0           1  RT @mrvelstan: literally nobody:\\r\\nme:\\r\\n\\r\\...      False   \n",
              "1           2  RT @agntecarter: im emotional, sorry!!\\r\\n\\r\\n...      False   \n",
              "2           3  saving these bingo cards for tomorrow \\r\\n\\r\\n...      False   \n",
              "3           4  RT @HelloBoon: Man these #AvengersEndgame ads ...      False   \n",
              "4           5  RT @Marvel: We salute you, @ChrisEvans! #Capta...      False   \n",
              "\n",
              "   favoriteCount replyToSN              created  truncated  replyToSID  \\\n",
              "0              0       NaN  2019-04-23 10:43:30      False         NaN   \n",
              "1              0       NaN  2019-04-23 10:43:30      False         NaN   \n",
              "2              0       NaN  2019-04-23 10:43:30      False         NaN   \n",
              "3              0       NaN  2019-04-23 10:43:29      False         NaN   \n",
              "4              0       NaN  2019-04-23 10:43:29      False         NaN   \n",
              "\n",
              "                    id  replyToUID  \\\n",
              "0  1120639328034676737         NaN   \n",
              "1  1120639325199196160         NaN   \n",
              "2  1120639324683292674         NaN   \n",
              "3  1120639323328540672         NaN   \n",
              "4  1120639321571074048         NaN   \n",
              "\n",
              "                                        statusSource   screenName  \\\n",
              "0  <a href=\"http://twitter.com/download/android\" ...    DavidAc96   \n",
              "1  <a href=\"http://twitter.com/download/iphone\" r...      NRmalaa   \n",
              "2  <a href=\"http://twitter.com/download/iphone\" r...     jijitsuu   \n",
              "3  <a href=\"http://twitter.com/download/iphone\" r...     SahapunB   \n",
              "4  <a href=\"http://twitter.com/download/iphone\" r...  stella22_97   \n",
              "\n",
              "   retweetCount  isRetweet  retweeted  longitude  latitude  \n",
              "0           637       True      False        NaN       NaN  \n",
              "1           302       True      False        NaN       NaN  \n",
              "2             0      False      False        NaN       NaN  \n",
              "3         23781       True      False        NaN       NaN  \n",
              "4         13067       True      False        NaN       NaN  "
            ]
          },
          "execution_count": 14,
          "metadata": {},
          "output_type": "execute_result"
        }
      ],
      "source": [
        "import pandas as pd\n",
        "avengers_df = pd.read_csv('data/tweets.csv', encoding='utf-8', encoding_errors='ignore')\n",
        "avengers_df.head()"
      ]
    },
    {
      "cell_type": "markdown",
      "metadata": {
        "id": "GhuPusbaKVFS"
      },
      "source": [
        "#### HW 2: Create Target column from retweetCount >np.median[retweetCount] create dataset in .csv file with new features along with .yaml file with it's descritpion, median[retweetCount] value stored in retweetCount_median variable, preferably store data in data folder"
      ]
    },
    {
      "cell_type": "code",
      "execution_count": 21,
      "metadata": {},
      "outputs": [
        {
          "name": "stdout",
          "output_type": "stream",
          "text": [
            "Writing 'yaml_content' (str) to file 'experiments/exp_hw2/exp_hw2.yaml'.\n"
          ]
        }
      ],
      "source": [
        "!mkdir -p data/exp_hw2 experiments/exp_hw2\n",
        "retweetCount_median = avengers_df[\"retweetCount\"].median()\n",
        "avengers_df[\"Target\"] = avengers_df[\"retweetCount\"] > retweetCount_median\n",
        "avengers_df.to_csv('data/exp_hw2/tweets_with_target.csv', index=False)\n",
        "\n",
        "yaml_content = f\"\"\"\n",
        "name: Avengers\n",
        "description: Avengers dataset with target column\n",
        "retweetCountMedian: {retweetCount_median}\n",
        "\"\"\"\n",
        "\n",
        "%store yaml_content >experiments/exp_hw2/exp_hw2.yaml"
      ]
    },
    {
      "cell_type": "markdown",
      "metadata": {
        "id": "Xehyn36dKVFS"
      },
      "source": [
        "#### HW 3: Сreate a folder with experiments, make it a python package, organize all transformers and classifiers wih python modules and .yaml files."
      ]
    },
    {
      "cell_type": "code",
      "execution_count": 25,
      "metadata": {},
      "outputs": [
        {
          "name": "stdout",
          "output_type": "stream",
          "text": [
            "./experiments\n",
            "./experiments/exp_hw2\n",
            "./experiments/exp_hw2/exp_hw2.yaml\n",
            "./experiments/__init__.py\n"
          ]
        }
      ],
      "source": [
        "!find ./experiments"
      ]
    },
    {
      "cell_type": "markdown",
      "metadata": {
        "id": "Q2S0J_4ZKVFT"
      },
      "source": [
        "#### HW 4: Extract names of avengers endgame characters from text\n",
        "\n",
        "Examples of tags in quetion:\n",
        "#Thanos\n",
        "#WinterSoldier\n",
        "#CaptainAmerica\n",
        "#blackwidow\n",
        "#CaptainMarvel\n",
        "#Mantis\n",
        "\n",
        "store the resulting dataset in data folder with .yaml description, preferable naming for variable names is lowercase name of the tag"
      ]
    },
    {
      "cell_type": "code",
      "execution_count": 39,
      "metadata": {},
      "outputs": [
        {
          "data": {
            "text/html": [
              "<div>\n",
              "<style scoped>\n",
              "    .dataframe tbody tr th:only-of-type {\n",
              "        vertical-align: middle;\n",
              "    }\n",
              "\n",
              "    .dataframe tbody tr th {\n",
              "        vertical-align: top;\n",
              "    }\n",
              "\n",
              "    .dataframe thead th {\n",
              "        text-align: right;\n",
              "    }\n",
              "</style>\n",
              "<table border=\"1\" class=\"dataframe\">\n",
              "  <thead>\n",
              "    <tr style=\"text-align: right;\">\n",
              "      <th></th>\n",
              "      <th>Unnamed: 0</th>\n",
              "      <th>text</th>\n",
              "      <th>favorited</th>\n",
              "      <th>favoriteCount</th>\n",
              "      <th>replyToSN</th>\n",
              "      <th>created</th>\n",
              "      <th>truncated</th>\n",
              "      <th>replyToSID</th>\n",
              "      <th>id</th>\n",
              "      <th>replyToUID</th>\n",
              "      <th>statusSource</th>\n",
              "      <th>screenName</th>\n",
              "      <th>retweetCount</th>\n",
              "      <th>isRetweet</th>\n",
              "      <th>retweeted</th>\n",
              "      <th>longitude</th>\n",
              "      <th>latitude</th>\n",
              "      <th>Target</th>\n",
              "      <th>tags</th>\n",
              "    </tr>\n",
              "  </thead>\n",
              "  <tbody>\n",
              "    <tr>\n",
              "      <th>0</th>\n",
              "      <td>1</td>\n",
              "      <td>RT @mrvelstan: literally nobody:\\r\\nme:\\r\\n\\r\\...</td>\n",
              "      <td>False</td>\n",
              "      <td>0</td>\n",
              "      <td>NaN</td>\n",
              "      <td>2019-04-23 10:43:30</td>\n",
              "      <td>False</td>\n",
              "      <td>NaN</td>\n",
              "      <td>1120639328034676737</td>\n",
              "      <td>NaN</td>\n",
              "      <td>&lt;a href=\"http://twitter.com/download/android\" ...</td>\n",
              "      <td>DavidAc96</td>\n",
              "      <td>637</td>\n",
              "      <td>True</td>\n",
              "      <td>False</td>\n",
              "      <td>NaN</td>\n",
              "      <td>NaN</td>\n",
              "      <td>False</td>\n",
              "      <td>[avengersendgame]</td>\n",
              "    </tr>\n",
              "    <tr>\n",
              "      <th>1</th>\n",
              "      <td>2</td>\n",
              "      <td>RT @agntecarter: im emotional, sorry!!\\r\\n\\r\\n...</td>\n",
              "      <td>False</td>\n",
              "      <td>0</td>\n",
              "      <td>NaN</td>\n",
              "      <td>2019-04-23 10:43:30</td>\n",
              "      <td>False</td>\n",
              "      <td>NaN</td>\n",
              "      <td>1120639325199196160</td>\n",
              "      <td>NaN</td>\n",
              "      <td>&lt;a href=\"http://twitter.com/download/iphone\" r...</td>\n",
              "      <td>NRmalaa</td>\n",
              "      <td>302</td>\n",
              "      <td>True</td>\n",
              "      <td>False</td>\n",
              "      <td>NaN</td>\n",
              "      <td>NaN</td>\n",
              "      <td>False</td>\n",
              "      <td>[blackwidow, captainamerica]</td>\n",
              "    </tr>\n",
              "    <tr>\n",
              "      <th>2</th>\n",
              "      <td>3</td>\n",
              "      <td>saving these bingo cards for tomorrow \\r\\n\\r\\n...</td>\n",
              "      <td>False</td>\n",
              "      <td>0</td>\n",
              "      <td>NaN</td>\n",
              "      <td>2019-04-23 10:43:30</td>\n",
              "      <td>False</td>\n",
              "      <td>NaN</td>\n",
              "      <td>1120639324683292674</td>\n",
              "      <td>NaN</td>\n",
              "      <td>&lt;a href=\"http://twitter.com/download/iphone\" r...</td>\n",
              "      <td>jijitsuu</td>\n",
              "      <td>0</td>\n",
              "      <td>False</td>\n",
              "      <td>False</td>\n",
              "      <td>NaN</td>\n",
              "      <td>NaN</td>\n",
              "      <td>False</td>\n",
              "      <td>[avengersendgame]</td>\n",
              "    </tr>\n",
              "    <tr>\n",
              "      <th>3</th>\n",
              "      <td>4</td>\n",
              "      <td>RT @HelloBoon: Man these #AvengersEndgame ads ...</td>\n",
              "      <td>False</td>\n",
              "      <td>0</td>\n",
              "      <td>NaN</td>\n",
              "      <td>2019-04-23 10:43:29</td>\n",
              "      <td>False</td>\n",
              "      <td>NaN</td>\n",
              "      <td>1120639323328540672</td>\n",
              "      <td>NaN</td>\n",
              "      <td>&lt;a href=\"http://twitter.com/download/iphone\" r...</td>\n",
              "      <td>SahapunB</td>\n",
              "      <td>23781</td>\n",
              "      <td>True</td>\n",
              "      <td>False</td>\n",
              "      <td>NaN</td>\n",
              "      <td>NaN</td>\n",
              "      <td>True</td>\n",
              "      <td>[avengersendgame]</td>\n",
              "    </tr>\n",
              "    <tr>\n",
              "      <th>4</th>\n",
              "      <td>5</td>\n",
              "      <td>RT @Marvel: We salute you, @ChrisEvans! #Capta...</td>\n",
              "      <td>False</td>\n",
              "      <td>0</td>\n",
              "      <td>NaN</td>\n",
              "      <td>2019-04-23 10:43:29</td>\n",
              "      <td>False</td>\n",
              "      <td>NaN</td>\n",
              "      <td>1120639321571074048</td>\n",
              "      <td>NaN</td>\n",
              "      <td>&lt;a href=\"http://twitter.com/download/iphone\" r...</td>\n",
              "      <td>stella22_97</td>\n",
              "      <td>13067</td>\n",
              "      <td>True</td>\n",
              "      <td>False</td>\n",
              "      <td>NaN</td>\n",
              "      <td>NaN</td>\n",
              "      <td>True</td>\n",
              "      <td>[captainamerica, avengersendgame]</td>\n",
              "    </tr>\n",
              "  </tbody>\n",
              "</table>\n",
              "</div>"
            ],
            "text/plain": [
              "   Unnamed: 0                                               text  favorited  \\\n",
              "0           1  RT @mrvelstan: literally nobody:\\r\\nme:\\r\\n\\r\\...      False   \n",
              "1           2  RT @agntecarter: im emotional, sorry!!\\r\\n\\r\\n...      False   \n",
              "2           3  saving these bingo cards for tomorrow \\r\\n\\r\\n...      False   \n",
              "3           4  RT @HelloBoon: Man these #AvengersEndgame ads ...      False   \n",
              "4           5  RT @Marvel: We salute you, @ChrisEvans! #Capta...      False   \n",
              "\n",
              "   favoriteCount replyToSN              created  truncated  replyToSID  \\\n",
              "0              0       NaN  2019-04-23 10:43:30      False         NaN   \n",
              "1              0       NaN  2019-04-23 10:43:30      False         NaN   \n",
              "2              0       NaN  2019-04-23 10:43:30      False         NaN   \n",
              "3              0       NaN  2019-04-23 10:43:29      False         NaN   \n",
              "4              0       NaN  2019-04-23 10:43:29      False         NaN   \n",
              "\n",
              "                    id  replyToUID  \\\n",
              "0  1120639328034676737         NaN   \n",
              "1  1120639325199196160         NaN   \n",
              "2  1120639324683292674         NaN   \n",
              "3  1120639323328540672         NaN   \n",
              "4  1120639321571074048         NaN   \n",
              "\n",
              "                                        statusSource   screenName  \\\n",
              "0  <a href=\"http://twitter.com/download/android\" ...    DavidAc96   \n",
              "1  <a href=\"http://twitter.com/download/iphone\" r...      NRmalaa   \n",
              "2  <a href=\"http://twitter.com/download/iphone\" r...     jijitsuu   \n",
              "3  <a href=\"http://twitter.com/download/iphone\" r...     SahapunB   \n",
              "4  <a href=\"http://twitter.com/download/iphone\" r...  stella22_97   \n",
              "\n",
              "   retweetCount  isRetweet  retweeted  longitude  latitude  Target  \\\n",
              "0           637       True      False        NaN       NaN   False   \n",
              "1           302       True      False        NaN       NaN   False   \n",
              "2             0      False      False        NaN       NaN   False   \n",
              "3         23781       True      False        NaN       NaN    True   \n",
              "4         13067       True      False        NaN       NaN    True   \n",
              "\n",
              "                                tags  \n",
              "0                  [avengersendgame]  \n",
              "1       [blackwidow, captainamerica]  \n",
              "2                  [avengersendgame]  \n",
              "3                  [avengersendgame]  \n",
              "4  [captainamerica, avengersendgame]  "
            ]
          },
          "execution_count": 39,
          "metadata": {},
          "output_type": "execute_result"
        }
      ],
      "source": [
        "import re\n",
        "unique_tags = set()\n",
        "def get_tags(text):\n",
        "    tags = [tag.lower() for tag in re.findall(r\"#(\\w+)\", text)]\n",
        "    unique_tags.update(tags)\n",
        "    return tags\n",
        "\n",
        "avengers_df[\"tags\"] = avengers_df[\"text\"].apply(get_tags)\n",
        "avengers_df.head()\n"
      ]
    },
    {
      "cell_type": "code",
      "execution_count": 38,
      "metadata": {},
      "outputs": [
        {
          "name": "stdout",
          "output_type": "stream",
          "text": [
            "{'tv', 'avengersendgamewa', 'patriotsawakened', 'avengerse', 'bradleycooper', 'pvrcinema', 'truemarvelfan', 'race3', 'quote', 'quickiemickey', 'hellboycosplay', 'marvelstudios', 'sixer', 'toll', 'likeakidonchristmaseve', 'avengersmovie', 'unity', 'waittilltheweekend', 'didyouknow', 'np', 'nebula', 'oppo', 'liverpool', 'captainmavel', 'ironman', 'doctorstrange', 'ironmanvr', 'datascientist', 'funkoavengers', 'cineworld', 'vinyl', 'hawkeye', 'aven', 'neonoir', 'modiagainsaysindia', 'fortnitecreative', 'creativity', 'thanosdemandsyoursilence', 'mydesign', 'avengersendgam', 'memes', 'earth2', 'avengerendgame', 'korg', 'gold', 'bigdata', 'mcumarathon', 'disney', 'vo', 'taylorswiftapril26', 'blackwidow', 'theohioplayersproject', 'uhd', 'billion', 'my_family', 'california', 'prometheus31', 'earthday', 'elizabetholsen', 'vingadores', 'infinitywar', 'blackwi', 'hodor', 'nickfury', 'superman', 'scarlettjohansson', 'themustang', '2', 'wedey4u', 'smashxavengers', 'pvrcontest', 'dontspoilendgame', 'antman', 'bahubali', 'icymi', 'thanos', 'coulsonlives', 'steverogers', 'supported', 'rollingnotes', 'hindi', 'news', 'cute', 'segundadetremurasdv', 'life', 'marvelfans', 'got', 'luckyme', 'gamora', 'avengethefallen', 'draw', 'godzillakingofthemonsters', 'endgamepremiere', 'modibiopic', '23nisan', 'stopmotionanimation', 'mtnmoviemania', 'mcurewatch', 'nearing', 'dog', 'film', 'srilanka', 'marvelmoviemarathon', 'kumarsedit', 'captainmarvel', 'startattle', 'giveaway', 'warrentownhall', 'rockets', 'tardis', 'bbotd', 'quantum', '4daystogo', 'skull', 'commercial', 'funkoanimationstudios', 'theater', 'fi', 'freelance', 'universalpictures', 'funkofanatic', 'datascience', 'full', 'vengadores', 'tue', 'imax', 'avengersendgameonticketnew', 'funkophotography', 'eastersundayattackslk', 'msm', 'joinairteltigo', 'moviedirector', 'family', 'infi', 'sylvesterstallone', 'avenger', 'aveng', 'dubbed', 'avengersend', 'alansilvestri', 'paulrudd', 'button', 'graphics', 'filmmaker', 'aamirkhan', 'agentso', 'avengersendgameth', 'russobrothers', 'scarletwitch', 'contestalert', 'avengersendgametickets', 'northern', 'andsothere', 'woowa1stwin', 'e', 'nouvellephotodeprofil', 'nbaplayoffs', 'macosacidiceilcervello', 'ashishchanchlani', 'tradewinds', 'shitflick', 'indiaelects', 'robertdowneyjr', '3d', 'stopmotion', 'dramatic', 'wintersoldier', 'steggy', 'london', 'pepperpotts', 'scarlettjohanson', 'love', 'phase4', 'tubelight', 'disneynaturepenguins', 'acryliconcanvas', 'ufos', 'pakistanzindabad', 'success', 'marke', 'themysteryofmarieroget', 'mtnpulse', 'zero', 'boxoffice', 'giornatamondialedellibro', 'ccimax', 'wong', 'tha', 'worldpremier', 'airlines', 'warmachine', 'retweet', 'sindh', 'marvelbiochain', 'momoland', 'kemono', 'hmvavengersendga', 'review', 'jacket', 'acrylicpainting', 'teamstallion', 'mcu', 'neighborhood', 'daredevil', 'thewasp', 'mumbai', 'metoo', 'marvelcinematicuniverse', 'quake', 'nfldraft', 'st', 'avangersendgame', 'geminiman', 'weatherupdate', 'arjunreddy', 'sketch', 'us', 'palmsprings', 'artist', 'thetashkentfiles', 'hmvavengersendgame', 'meenakshicinemas', 'moviereview', 'yellowvest', 'nocontext', 'bookmyshow', 'kalank', 'new', 'avengersinfinitywar', 'wts', 'alleycatparadise', 'whateverittakes', 'advancebooking', 'hypocrisy', 'indian', 'dc', 'cinema', 'supernatural', 'tesla', 'exci', 'stickers', 'baltahji', 'marvel', 'primevideo', 'd', 'stephenstrange', 'dubai', 'superhusbands', 'uae', 'avengersxcci', 'spoilers', 'noendgamespoilers', 'endg', '0917lifestyle', 'captai', 'decimation', 'animeawards', 'tigerwoods', 'spidermanfarfromhome', 'thankyou', 'uno', 'katherineschwarzenegger', 'india', 'indiefilm', 'marketing', 'mantis', 'avengersen', 'punk', 'avengersarmyatpvr', 'dinsorartwork', 'writersofinstagram', '2019', 'avengers', 'joinai', 'marvelstu', 'domecinema', 'director', 'outbreak', 'keys', 'election', 'shield', 'stevetony', 'video', 'groot', 'mondaymotivation', 'u', 'kcczamboanga', 'bahubali2', 'infinitystones', 'avengersendg', 'spacex', 'battleroyale', 'dontspoilavengersendgameng', 'alisei', 'gwynethpaltrow', 'tee', 'acti', 'mondaymotivaton', 'comicon', 'illustration', 'thorragnarok', 'thewanderingearth', 'spoilerfree', 'benedictcumberbatch', 'shangchi', 'temperature', 'marvelfan', 'gostars', 'a', 'mirajmarvelmania', 'inbdwetrust', 'geek', 'hellboycomics', 'pumped', 'funko', 'redcarpet', 'hulk', 'bitcoin', 'joerusso', 'chaanakkyan', 'ai', 'cartoon', 'rajinikanth', 'fortnite', 'avengersarmyat', 'hellboymovie', 'logodesigner', 'm', 'teamtony', 'vinylstickers', 'chrishemsw', 'warriors', 'avengersendgametoday', 'bachelorinparadiseau', 'votinground3', 'netflix', 'tuesdaythoughts', 'thefalcon', 'natashar', 'directorlife', 'art', '3dprinting', 'comment', 'countdown', 'whateve', 'loki', 'thebridgesofmadisoncounty', 'metime', 'halifax', 'tashkentfiles', 'like', 'falcon', 'ripbank', 'firstavenger', 'presstourcontinues', 'marvelous', 'fallontonight', 'rt', 'holdthepower', 'wedidntstartthefire', 'becomealegend', 'wolverine', 'blockbuster', 'wandavision', 'contest', 'marvelfashion', 'whatareyouwaitfor', 'daisy', 'repost', 'avengere', 'disneynight', 'design', 'funkopop', 'theory', 'fatninjastudios', 'pvr', 'infinitybio', 'movietwit', 'marvelredesigned', 'ticketnew', 'werollyounote', 'contestindia', 'anime', 'openingweekend', 'pixelendgame', 'sav', 'aliens', 'moviemath', 'nerdtweet', 'dontspoiltheendgame', 'sanneotales', 'artwork', 'la', 'record', 'ncnews', 'movie', 'aging', 'oppoxavengers', 'shortfilm', 'eastersunday', 'chrisevans', 'mitakka', 'puzzle', 'animation', 'weekendwhistlecontest', 'hq', 'filmmakers', 'comiccon', 'tees', 'slaveryreparations', 'goodsamaritan', 'tomatometer', 'tuesdaymotivat', 'superexcited', 'th', 'jeremyrenner', 'my', 'socia', 'writingcommunity', 'avengersendga', 'streaming', 'blackwido', 'bbnaija', 'imdeceased', 'gotg', '30earthmonthheroes', 'okoye', 'avengersendgameexceeds', 'logo', 'cap', 'trump', 'gameofthrone', 'captainamerica', 'premiere', 'thugsofhindostan', 'robron', 'ronin', 'ncpol', 'capitanamarvel', 'avengersendgame', 'globeavengers', 'avengerspremiere', 'bmscontest', 'brielarson', 'poll', 'gameofthrones', 'shark', 'marveluniverse', 'rocky', 'beyoncehomecoming', 'ifb', 'hyderabad', 'silverlake', 'shuri', 'romanogers', 'happyhogan', 'endgamepremierela', 'muktaa2cinemas', 'followtrick', 'artsy', 'truethat', 'viswasam', 'thor', 'avengers4', 'avatar', 'stev', 'phase2', 'hus', 'petta', 'run', 'music', 'trailer', 'valkyrie', 'busyweek', 'scarlettjohans', 'completethemission', 'detective', 'filmmaking', 'epicgames', 'weather', 'kawaii', 'audi', 'best4less', 'measles', 'taikawaititi', 'yankees', 'cobrakai', 'iamthe_rae', 'hellboy', 'fortnitexavengers', 'datasecurity', 'today', 'natalieportman', 'homeboyzradio', 'uindy', 'comedy', 'avengersassemble', 'joker', 'thankful', 'stony', 'happyjenoday', 'brexit', 'jazzci', 'writing', 'shortfilms', 'dia', 'hiroyukisanada', 'redesign', 'avengersendgamepremiere', 'muktaa2', 'ca', 'kevinfeige', 'dontspoilavengers', 'hadoop', '26thmay2019', 'ruto', 'aayegatomodihi', 'april24ph', 'jimmyfallon', 'kanganaranaut', 'facts', 'ave', 'xitfest', 'ajioxmarvel', 'congress', 'avenge', 'evansson', 'regularshow', 'otd', 'infinitygauntlet', 'tonightshow', 'stanlee', 'thanima', 'cannotwait', 'scarlettjohanssan', 'batman', '2daystogo', 'capitaoamerica', 'ucgprojectthar', 'sudbury', 'nowplaying', 'elders', 'infinity', 'soldout', 'mariahill', 'socialmedia', 'marvelfanart', 'etron', 'soclear', 'tonight', 'ppp', 'soundtrack', 'worldpremiere', 'girlcrush', 'captaina', 'avengersendgameboxoffice', 'hollywood', 'chrispratt', 'thevalkyrie', 'lego', 'tonystark', 'ekthatiger', 'ufo', 'spiderman', 'gal', 'starmoviespopuptheatre', 'kanchana3', 'backtowork', 'vingadoresultimato', '80s', 'april26', 'follow', '1995', 'blackpanther', 'da', 'horror', 'filmsaboutthebody', 'too', 'phase3', 'noavengersspoiler', 'seeyouyesterday', '1000movies', 'yello', 'thanosdidnothingwrong', 'rocketraccoon', 'endgamecountdown', 'chrishemsworth', 'endgame', 'gameofthronesseason8', 'animates', 'marvelfuturefight', 'mk11', 'pixel3', 'badge', 'thankustan', 'chennai', 'patron', 'endgameonbms', 'nebulacosplay', 'robertdow', 'monalisa', 'bl', 'avengersdemandsyoursilence', 'twitter', 'marvelgamesassemble', 'bitpop', 'tm_ruby', 'nospoilers', 'guardiansofthegalaxy', 'hd', 'sebastianstan', 'gameofthr', 'followhelp', 'babucinemas', 'samsung', 'stbbmp', 'daysgone', 'bbmastopsocial', '1', 'uk', 'haw', 'podcast', 'hawkey', 'robertdo', 'thesepeoplearesick', 'ticketnewavengersmoviepass', 'unlimitedcall', 'zambofirst', 'downevans', 'pip', 'agentsofshield', 'excited', 'starlord', 'adifanart', 'nerdorama', 'avengersendgamela', 'bjp', 'openingnight', 'bigtimedata', 'oppof11pro', 'yellowvests', 'pvrupdates', 'movies', '23aprile', 'stbio18', 'be'}\n",
            "Writing 'yaml_content' (str) to file 'experiments/exp_hw4/exp_hw4.yaml'.\n"
          ]
        }
      ],
      "source": [
        "!mkdir -p data/exp_hw4 experiments/exp_hw4\n",
        "avengers_df.to_csv('data/exp_hw4/tweets_with_tags.csv', index=False)\n",
        "\n",
        "print(unique_tags)\n",
        "\n",
        "yaml_content = f\"\"\"\n",
        "name: Avengers tweets with tags\n",
        "description: Avengers dataset with target column and tags\n",
        "tags: {list(unique_tags)}\n",
        "\"\"\"\n",
        "\n",
        "%store yaml_content >experiments/exp_hw4/exp_hw4.yaml"
      ]
    },
    {
      "cell_type": "markdown",
      "metadata": {
        "id": "FBMtIHiiKVFT"
      },
      "source": [
        "#### HW 5: Create set of classifiers for linear regression with different features for feature generation.\n",
        "use the following methods of feature generation\n",
        "\n",
        " - word tokenization with 1-gram, f\n",
        " - pos tokenization with extraction of all NP\n",
        " - pos tokenization with 2-gram bag of tokens for all NNP\n",
        " - 2-gram bag of characters for screenName features\n",
        " - polynomial features for presence of avenger character names\n",
        "\n",
        "Organize classes of transformers in various .py files"
      ]
    },
    {
      "cell_type": "code",
      "execution_count": 202,
      "metadata": {},
      "outputs": [],
      "source": [
        "from experiments.exp_hw5.unigram import UnigramTransformer\n",
        "from experiments.exp_hw5.noun_phrase import NounPhraseTransformer\n",
        "from experiments.exp_hw5.proper_noun import ProperNounTransformer\n",
        "from experiments.exp_hw5.bigram import BigramTransformer\n",
        "from experiments.exp_hw5.polynomial import PolynomialTransformer"
      ]
    },
    {
      "cell_type": "markdown",
      "metadata": {
        "id": "gE-NT52DKVFT"
      },
      "source": [
        "#### HW 6: Apply PCA dimensionality reduction and LogisticRegression to predict Target, construct pipelines for all transformers from HW 5 (so it will be 5 various pipeline, name them exp_hw6_1, ... exp_hw6_5) implement them as custom classifiers."
      ]
    },
    {
      "cell_type": "code",
      "execution_count": 203,
      "metadata": {},
      "outputs": [],
      "source": [
        "from experiments.exp_hw6.unigram import UnigramClassifierPipeline\n",
        "from experiments.exp_hw6.noun_phrase import NounPhraseClassifierPipeline\n",
        "from experiments.exp_hw6.proper_noun import ProperNounClassifierPipeline\n",
        "from experiments.exp_hw6.bigram import BigramClassifierPipeline\n",
        "from experiments.exp_hw6.polynomial import PolynomialClassifierPipeline"
      ]
    },
    {
      "cell_type": "markdown",
      "metadata": {
        "id": "7qNn8vkBKVFU"
      },
      "source": [
        "#### HW 7: Split dataset to train and test (it is up to you which features you will include in it) and store it data folder along with .yaml description"
      ]
    },
    {
      "cell_type": "code",
      "execution_count": 82,
      "metadata": {},
      "outputs": [
        {
          "data": {
            "text/html": [
              "<div>\n",
              "<style scoped>\n",
              "    .dataframe tbody tr th:only-of-type {\n",
              "        vertical-align: middle;\n",
              "    }\n",
              "\n",
              "    .dataframe tbody tr th {\n",
              "        vertical-align: top;\n",
              "    }\n",
              "\n",
              "    .dataframe thead th {\n",
              "        text-align: right;\n",
              "    }\n",
              "</style>\n",
              "<table border=\"1\" class=\"dataframe\">\n",
              "  <thead>\n",
              "    <tr style=\"text-align: right;\">\n",
              "      <th></th>\n",
              "      <th>Unnamed: 0</th>\n",
              "      <th>text</th>\n",
              "      <th>favorited</th>\n",
              "      <th>favoriteCount</th>\n",
              "      <th>replyToSN</th>\n",
              "      <th>created</th>\n",
              "      <th>truncated</th>\n",
              "      <th>replyToSID</th>\n",
              "      <th>id</th>\n",
              "      <th>replyToUID</th>\n",
              "      <th>statusSource</th>\n",
              "      <th>screenName</th>\n",
              "      <th>retweetCount</th>\n",
              "      <th>isRetweet</th>\n",
              "      <th>retweeted</th>\n",
              "      <th>longitude</th>\n",
              "      <th>latitude</th>\n",
              "      <th>Target</th>\n",
              "      <th>tags</th>\n",
              "      <th>numTags</th>\n",
              "    </tr>\n",
              "  </thead>\n",
              "  <tbody>\n",
              "    <tr>\n",
              "      <th>0</th>\n",
              "      <td>1</td>\n",
              "      <td>RT @mrvelstan: literally nobody:\\r\\nme:\\r\\n\\r\\...</td>\n",
              "      <td>False</td>\n",
              "      <td>0</td>\n",
              "      <td>NaN</td>\n",
              "      <td>2019-04-23 10:43:30</td>\n",
              "      <td>False</td>\n",
              "      <td>NaN</td>\n",
              "      <td>1120639328034676737</td>\n",
              "      <td>NaN</td>\n",
              "      <td>&lt;a href=\"http://twitter.com/download/android\" ...</td>\n",
              "      <td>DavidAc96</td>\n",
              "      <td>637</td>\n",
              "      <td>True</td>\n",
              "      <td>False</td>\n",
              "      <td>NaN</td>\n",
              "      <td>NaN</td>\n",
              "      <td>False</td>\n",
              "      <td>[avengersendgame]</td>\n",
              "      <td>1</td>\n",
              "    </tr>\n",
              "    <tr>\n",
              "      <th>1</th>\n",
              "      <td>2</td>\n",
              "      <td>RT @agntecarter: im emotional, sorry!!\\r\\n\\r\\n...</td>\n",
              "      <td>False</td>\n",
              "      <td>0</td>\n",
              "      <td>NaN</td>\n",
              "      <td>2019-04-23 10:43:30</td>\n",
              "      <td>False</td>\n",
              "      <td>NaN</td>\n",
              "      <td>1120639325199196160</td>\n",
              "      <td>NaN</td>\n",
              "      <td>&lt;a href=\"http://twitter.com/download/iphone\" r...</td>\n",
              "      <td>NRmalaa</td>\n",
              "      <td>302</td>\n",
              "      <td>True</td>\n",
              "      <td>False</td>\n",
              "      <td>NaN</td>\n",
              "      <td>NaN</td>\n",
              "      <td>False</td>\n",
              "      <td>[blackwidow, captainamerica]</td>\n",
              "      <td>2</td>\n",
              "    </tr>\n",
              "    <tr>\n",
              "      <th>2</th>\n",
              "      <td>3</td>\n",
              "      <td>saving these bingo cards for tomorrow \\r\\n\\r\\n...</td>\n",
              "      <td>False</td>\n",
              "      <td>0</td>\n",
              "      <td>NaN</td>\n",
              "      <td>2019-04-23 10:43:30</td>\n",
              "      <td>False</td>\n",
              "      <td>NaN</td>\n",
              "      <td>1120639324683292674</td>\n",
              "      <td>NaN</td>\n",
              "      <td>&lt;a href=\"http://twitter.com/download/iphone\" r...</td>\n",
              "      <td>jijitsuu</td>\n",
              "      <td>0</td>\n",
              "      <td>False</td>\n",
              "      <td>False</td>\n",
              "      <td>NaN</td>\n",
              "      <td>NaN</td>\n",
              "      <td>False</td>\n",
              "      <td>[avengersendgame]</td>\n",
              "      <td>1</td>\n",
              "    </tr>\n",
              "    <tr>\n",
              "      <th>3</th>\n",
              "      <td>4</td>\n",
              "      <td>RT @HelloBoon: Man these #AvengersEndgame ads ...</td>\n",
              "      <td>False</td>\n",
              "      <td>0</td>\n",
              "      <td>NaN</td>\n",
              "      <td>2019-04-23 10:43:29</td>\n",
              "      <td>False</td>\n",
              "      <td>NaN</td>\n",
              "      <td>1120639323328540672</td>\n",
              "      <td>NaN</td>\n",
              "      <td>&lt;a href=\"http://twitter.com/download/iphone\" r...</td>\n",
              "      <td>SahapunB</td>\n",
              "      <td>23781</td>\n",
              "      <td>True</td>\n",
              "      <td>False</td>\n",
              "      <td>NaN</td>\n",
              "      <td>NaN</td>\n",
              "      <td>True</td>\n",
              "      <td>[avengersendgame]</td>\n",
              "      <td>1</td>\n",
              "    </tr>\n",
              "    <tr>\n",
              "      <th>4</th>\n",
              "      <td>5</td>\n",
              "      <td>RT @Marvel: We salute you, @ChrisEvans! #Capta...</td>\n",
              "      <td>False</td>\n",
              "      <td>0</td>\n",
              "      <td>NaN</td>\n",
              "      <td>2019-04-23 10:43:29</td>\n",
              "      <td>False</td>\n",
              "      <td>NaN</td>\n",
              "      <td>1120639321571074048</td>\n",
              "      <td>NaN</td>\n",
              "      <td>&lt;a href=\"http://twitter.com/download/iphone\" r...</td>\n",
              "      <td>stella22_97</td>\n",
              "      <td>13067</td>\n",
              "      <td>True</td>\n",
              "      <td>False</td>\n",
              "      <td>NaN</td>\n",
              "      <td>NaN</td>\n",
              "      <td>True</td>\n",
              "      <td>[captainamerica, avengersendgame]</td>\n",
              "      <td>2</td>\n",
              "    </tr>\n",
              "  </tbody>\n",
              "</table>\n",
              "</div>"
            ],
            "text/plain": [
              "   Unnamed: 0                                               text  favorited  \\\n",
              "0           1  RT @mrvelstan: literally nobody:\\r\\nme:\\r\\n\\r\\...      False   \n",
              "1           2  RT @agntecarter: im emotional, sorry!!\\r\\n\\r\\n...      False   \n",
              "2           3  saving these bingo cards for tomorrow \\r\\n\\r\\n...      False   \n",
              "3           4  RT @HelloBoon: Man these #AvengersEndgame ads ...      False   \n",
              "4           5  RT @Marvel: We salute you, @ChrisEvans! #Capta...      False   \n",
              "\n",
              "   favoriteCount replyToSN              created  truncated  replyToSID  \\\n",
              "0              0       NaN  2019-04-23 10:43:30      False         NaN   \n",
              "1              0       NaN  2019-04-23 10:43:30      False         NaN   \n",
              "2              0       NaN  2019-04-23 10:43:30      False         NaN   \n",
              "3              0       NaN  2019-04-23 10:43:29      False         NaN   \n",
              "4              0       NaN  2019-04-23 10:43:29      False         NaN   \n",
              "\n",
              "                    id  replyToUID  \\\n",
              "0  1120639328034676737         NaN   \n",
              "1  1120639325199196160         NaN   \n",
              "2  1120639324683292674         NaN   \n",
              "3  1120639323328540672         NaN   \n",
              "4  1120639321571074048         NaN   \n",
              "\n",
              "                                        statusSource   screenName  \\\n",
              "0  <a href=\"http://twitter.com/download/android\" ...    DavidAc96   \n",
              "1  <a href=\"http://twitter.com/download/iphone\" r...      NRmalaa   \n",
              "2  <a href=\"http://twitter.com/download/iphone\" r...     jijitsuu   \n",
              "3  <a href=\"http://twitter.com/download/iphone\" r...     SahapunB   \n",
              "4  <a href=\"http://twitter.com/download/iphone\" r...  stella22_97   \n",
              "\n",
              "   retweetCount  isRetweet  retweeted  longitude  latitude  Target  \\\n",
              "0           637       True      False        NaN       NaN   False   \n",
              "1           302       True      False        NaN       NaN   False   \n",
              "2             0      False      False        NaN       NaN   False   \n",
              "3         23781       True      False        NaN       NaN    True   \n",
              "4         13067       True      False        NaN       NaN    True   \n",
              "\n",
              "                                tags  numTags  \n",
              "0                  [avengersendgame]        1  \n",
              "1       [blackwidow, captainamerica]        2  \n",
              "2                  [avengersendgame]        1  \n",
              "3                  [avengersendgame]        1  \n",
              "4  [captainamerica, avengersendgame]        2  "
            ]
          },
          "execution_count": 82,
          "metadata": {},
          "output_type": "execute_result"
        }
      ],
      "source": [
        "# Add a column for number of tags\n",
        "avengers_df[\"numTags\"] = avengers_df[\"tags\"].apply(len)\n",
        "avengers_df.head()"
      ]
    },
    {
      "cell_type": "code",
      "execution_count": 169,
      "metadata": {},
      "outputs": [
        {
          "name": "stdout",
          "output_type": "stream",
          "text": [
            "(12000, 5) (3000, 5)\n"
          ]
        }
      ],
      "source": [
        "from sklearn.model_selection import train_test_split\n",
        "\n",
        "features = [\"retweetCount\", \"isRetweet\", \"numTags\", \"Target\", \"text\"]\n",
        "train, test = train_test_split(avengers_df[features], test_size=0.2, random_state=42)\n",
        "print(train.shape, test.shape)"
      ]
    },
    {
      "cell_type": "markdown",
      "metadata": {
        "id": "a7vDCZz8KVFU"
      },
      "source": [
        "#### HW 8: Add intialization from .yaml descriptions of classifiers to implementations of classifiers at HW 6."
      ]
    },
    {
      "cell_type": "code",
      "execution_count": 375,
      "metadata": {},
      "outputs": [
        {
          "name": "stdout",
          "output_type": "stream",
          "text": [
            "{'bigram_features': 30,\n",
            " 'bigram_random_state': 398,\n",
            " 'description': 'Classifier constructor parameters for the different '\n",
            "                'classifiers\\n',\n",
            " 'noun_phrase_random_state': 28,\n",
            " 'polynomial_random_state': 37,\n",
            " 'proper_noun_random_state': 123,\n",
            " 'unigram_features': 30,\n",
            " 'unigram_random_state': 42}\n"
          ]
        }
      ],
      "source": [
        "import yaml\n",
        "from pprint import pprint\n",
        "with open('experiments/exp_hw8/classifier_config.yaml') as f:\n",
        "    config = yaml.load(f, Loader=yaml.FullLoader)\n",
        "    pprint(config)"
      ]
    },
    {
      "cell_type": "markdown",
      "metadata": {
        "id": "r3VPXJzHKVFU"
      },
      "source": [
        "#### HW 9: Train classifiers with various PCA dimensionality, bag of words and polynomial paramters paramteres on train, test them on test and store in .yaml files for every experiment with resulting metrics\n",
        "\n",
        "- accuracy\n",
        "- precision\n",
        "- recall\n",
        "- adjusted_mutual_information"
      ]
    },
    {
      "cell_type": "code",
      "execution_count": 382,
      "metadata": {},
      "outputs": [],
      "source": [
        "import seaborn as sns\n",
        "from sklearn.metrics import accuracy_score\n",
        "from sklearn.metrics import precision_score\n",
        "from sklearn.metrics import recall_score\n",
        "from sklearn.metrics import adjusted_mutual_info_score\n",
        "!mkdir -p experiments/exp_hw9"
      ]
    },
    {
      "cell_type": "code",
      "execution_count": 383,
      "metadata": {},
      "outputs": [
        {
          "name": "stdout",
          "output_type": "stream",
          "text": [
            "UnigramClassifierPipeline initialized with PCA None components and CountVectorizer 30 max features\n",
            "Accuracy score: 0.89\n",
            "Precision score: 0.903182125930941\n",
            "Recall score: 0.8770545693622617\n",
            "AMI score: 0.5011461719208357\n",
            "Writing 'yaml_content' (str) to file 'experiments/exp_hw9/unigram_classifier.yaml'.\n"
          ]
        }
      ],
      "source": [
        "# Try first with no dimensionality reduction\n",
        "unigram_classifier = UnigramClassifierPipeline(n_components=None, max_features=config[\"unigram_features\"], random_state=config[\"unigram_random_state\"])\n",
        "\n",
        "unigram_classifier.fit(train[\"text\"], train[\"Target\"])\n",
        "unigram_predictions = unigram_classifier.predict(test[\"text\"])\n",
        "\n",
        "acc_score = accuracy_score(test['Target'], unigram_predictions)\n",
        "prec_score = precision_score(test['Target'], unigram_predictions)\n",
        "rec_score = recall_score(test['Target'], unigram_predictions)\n",
        "ami_score = adjusted_mutual_info_score(test['Target'], unigram_predictions)\n",
        "\n",
        "print(\"Accuracy score: \", acc_score)\n",
        "print(\"Precision score: \", prec_score)\n",
        "print(\"Recall score: \", rec_score)\n",
        "print(\"Adjusted Mutual Information score: \", ami_score)\n",
        "\n",
        "# Store results in yaml file using writefile magic\n",
        "yaml_content = f\"\"\"\n",
        "name: Unigram classifier\n",
        "description: Unigram classifier with no dimensionality reduction\n",
        "accuracyScore: {acc_score}\n",
        "precisionScore: {prec_score}\n",
        "recallScore: {rec_score}\n",
        "amiScore: {ami_score}\n",
        "\"\"\"\n",
        "\n",
        "%store yaml_content >experiments/exp_hw9/unigram_classifier.yaml"
      ]
    },
    {
      "cell_type": "code",
      "execution_count": 354,
      "metadata": {},
      "outputs": [
        {
          "data": {
            "text/html": [
              "<div>\n",
              "<style scoped>\n",
              "    .dataframe tbody tr th:only-of-type {\n",
              "        vertical-align: middle;\n",
              "    }\n",
              "\n",
              "    .dataframe tbody tr th {\n",
              "        vertical-align: top;\n",
              "    }\n",
              "\n",
              "    .dataframe thead th {\n",
              "        text-align: right;\n",
              "    }\n",
              "</style>\n",
              "<table border=\"1\" class=\"dataframe\">\n",
              "  <thead>\n",
              "    <tr style=\"text-align: right;\">\n",
              "      <th></th>\n",
              "      <th>PC1</th>\n",
              "      <th>PC2</th>\n",
              "      <th>PC3</th>\n",
              "      <th>PC4</th>\n",
              "      <th>PC5</th>\n",
              "      <th>PC6</th>\n",
              "      <th>PC7</th>\n",
              "      <th>PC8</th>\n",
              "      <th>PC9</th>\n",
              "      <th>PC10</th>\n",
              "      <th>...</th>\n",
              "      <th>PC21</th>\n",
              "      <th>PC22</th>\n",
              "      <th>PC23</th>\n",
              "      <th>PC24</th>\n",
              "      <th>PC25</th>\n",
              "      <th>PC26</th>\n",
              "      <th>PC27</th>\n",
              "      <th>PC28</th>\n",
              "      <th>PC29</th>\n",
              "      <th>PC30</th>\n",
              "    </tr>\n",
              "  </thead>\n",
              "  <tbody>\n",
              "    <tr>\n",
              "      <th>0</th>\n",
              "      <td>-0.109140</td>\n",
              "      <td>-0.323600</td>\n",
              "      <td>-0.139638</td>\n",
              "      <td>0.584030</td>\n",
              "      <td>-0.141793</td>\n",
              "      <td>0.049233</td>\n",
              "      <td>-0.086874</td>\n",
              "      <td>0.577622</td>\n",
              "      <td>-0.003955</td>\n",
              "      <td>-0.067382</td>\n",
              "      <td>...</td>\n",
              "      <td>-0.015864</td>\n",
              "      <td>-0.010172</td>\n",
              "      <td>-0.011643</td>\n",
              "      <td>-0.012575</td>\n",
              "      <td>-0.001348</td>\n",
              "      <td>-0.020842</td>\n",
              "      <td>0.005874</td>\n",
              "      <td>0.008616</td>\n",
              "      <td>-0.000019</td>\n",
              "      <td>-1.100707e-16</td>\n",
              "    </tr>\n",
              "    <tr>\n",
              "      <th>1</th>\n",
              "      <td>-0.030998</td>\n",
              "      <td>-0.525700</td>\n",
              "      <td>0.469694</td>\n",
              "      <td>0.067144</td>\n",
              "      <td>-0.325384</td>\n",
              "      <td>-0.312700</td>\n",
              "      <td>-0.060038</td>\n",
              "      <td>-0.147695</td>\n",
              "      <td>-0.634636</td>\n",
              "      <td>-0.151493</td>\n",
              "      <td>...</td>\n",
              "      <td>0.012235</td>\n",
              "      <td>0.022380</td>\n",
              "      <td>0.000247</td>\n",
              "      <td>0.011937</td>\n",
              "      <td>0.000379</td>\n",
              "      <td>-0.013531</td>\n",
              "      <td>0.007945</td>\n",
              "      <td>-0.001558</td>\n",
              "      <td>-0.000673</td>\n",
              "      <td>5.772386e-16</td>\n",
              "    </tr>\n",
              "    <tr>\n",
              "      <th>2</th>\n",
              "      <td>-0.332524</td>\n",
              "      <td>0.409365</td>\n",
              "      <td>0.214680</td>\n",
              "      <td>-0.008005</td>\n",
              "      <td>-0.160601</td>\n",
              "      <td>-0.286812</td>\n",
              "      <td>0.305183</td>\n",
              "      <td>-0.195627</td>\n",
              "      <td>0.071478</td>\n",
              "      <td>0.036122</td>\n",
              "      <td>...</td>\n",
              "      <td>-0.047584</td>\n",
              "      <td>-0.037663</td>\n",
              "      <td>0.040081</td>\n",
              "      <td>-0.007199</td>\n",
              "      <td>-0.012460</td>\n",
              "      <td>-0.017971</td>\n",
              "      <td>-0.024964</td>\n",
              "      <td>-0.005067</td>\n",
              "      <td>-0.000025</td>\n",
              "      <td>-1.660255e-16</td>\n",
              "    </tr>\n",
              "    <tr>\n",
              "      <th>3</th>\n",
              "      <td>-0.373533</td>\n",
              "      <td>0.070126</td>\n",
              "      <td>0.682564</td>\n",
              "      <td>0.092268</td>\n",
              "      <td>-0.216783</td>\n",
              "      <td>-0.732400</td>\n",
              "      <td>0.130003</td>\n",
              "      <td>-0.355187</td>\n",
              "      <td>-0.270478</td>\n",
              "      <td>-0.057992</td>\n",
              "      <td>...</td>\n",
              "      <td>-0.008519</td>\n",
              "      <td>-0.011842</td>\n",
              "      <td>0.003293</td>\n",
              "      <td>0.007228</td>\n",
              "      <td>0.004571</td>\n",
              "      <td>0.000243</td>\n",
              "      <td>-0.002667</td>\n",
              "      <td>-0.005470</td>\n",
              "      <td>-0.000634</td>\n",
              "      <td>-2.045865e-16</td>\n",
              "    </tr>\n",
              "    <tr>\n",
              "      <th>4</th>\n",
              "      <td>-0.332524</td>\n",
              "      <td>0.409365</td>\n",
              "      <td>0.214680</td>\n",
              "      <td>-0.008005</td>\n",
              "      <td>-0.160601</td>\n",
              "      <td>-0.286812</td>\n",
              "      <td>0.305183</td>\n",
              "      <td>-0.195627</td>\n",
              "      <td>0.071478</td>\n",
              "      <td>0.036122</td>\n",
              "      <td>...</td>\n",
              "      <td>-0.047584</td>\n",
              "      <td>-0.037663</td>\n",
              "      <td>0.040081</td>\n",
              "      <td>-0.007199</td>\n",
              "      <td>-0.012460</td>\n",
              "      <td>-0.017971</td>\n",
              "      <td>-0.024964</td>\n",
              "      <td>-0.005067</td>\n",
              "      <td>-0.000025</td>\n",
              "      <td>-1.177432e-16</td>\n",
              "    </tr>\n",
              "  </tbody>\n",
              "</table>\n",
              "<p>5 rows × 30 columns</p>\n",
              "</div>"
            ],
            "text/plain": [
              "        PC1       PC2       PC3       PC4       PC5       PC6       PC7  \\\n",
              "0 -0.109140 -0.323600 -0.139638  0.584030 -0.141793  0.049233 -0.086874   \n",
              "1 -0.030998 -0.525700  0.469694  0.067144 -0.325384 -0.312700 -0.060038   \n",
              "2 -0.332524  0.409365  0.214680 -0.008005 -0.160601 -0.286812  0.305183   \n",
              "3 -0.373533  0.070126  0.682564  0.092268 -0.216783 -0.732400  0.130003   \n",
              "4 -0.332524  0.409365  0.214680 -0.008005 -0.160601 -0.286812  0.305183   \n",
              "\n",
              "        PC8       PC9      PC10  ...      PC21      PC22      PC23      PC24  \\\n",
              "0  0.577622 -0.003955 -0.067382  ... -0.015864 -0.010172 -0.011643 -0.012575   \n",
              "1 -0.147695 -0.634636 -0.151493  ...  0.012235  0.022380  0.000247  0.011937   \n",
              "2 -0.195627  0.071478  0.036122  ... -0.047584 -0.037663  0.040081 -0.007199   \n",
              "3 -0.355187 -0.270478 -0.057992  ... -0.008519 -0.011842  0.003293  0.007228   \n",
              "4 -0.195627  0.071478  0.036122  ... -0.047584 -0.037663  0.040081 -0.007199   \n",
              "\n",
              "       PC25      PC26      PC27      PC28      PC29          PC30  \n",
              "0 -0.001348 -0.020842  0.005874  0.008616 -0.000019 -1.100707e-16  \n",
              "1  0.000379 -0.013531  0.007945 -0.001558 -0.000673  5.772386e-16  \n",
              "2 -0.012460 -0.017971 -0.024964 -0.005067 -0.000025 -1.660255e-16  \n",
              "3  0.004571  0.000243 -0.002667 -0.005470 -0.000634 -2.045865e-16  \n",
              "4 -0.012460 -0.017971 -0.024964 -0.005067 -0.000025 -1.177432e-16  \n",
              "\n",
              "[5 rows x 30 columns]"
            ]
          },
          "execution_count": 354,
          "metadata": {},
          "output_type": "execute_result"
        },
        {
          "data": {
            "image/png": "[encoded data removed]",
            "text/plain": [
              "<Figure size 640x480 with 2 Axes>"
            ]
          },
          "metadata": {},
          "output_type": "display_data"
        }
      ],
      "source": [
        "# get heatmap of correlation between unigram features before PCA\n",
        "unigram_transformed = unigram_classifier.pipeline.named_steps['unigram'].fit_transform(train[\"text\"])\n",
        "pca_transformed = unigram_classifier.pipeline.named_steps['pca'].fit_transform(unigram_transformed)\n",
        "pca_df = pd.DataFrame(pca_transformed, columns=[f'PC{x}' for x in range(1, pca_transformed.shape[1] + 1)])\n",
        "sns.heatmap(pca_df.corr())\n",
        "pca_df.head()"
      ]
    },
    {
      "cell_type": "markdown",
      "metadata": {},
      "source": [
        "Heatmap shows little correlation, no need to reduce dimension with PCA"
      ]
    },
    {
      "cell_type": "code",
      "execution_count": 384,
      "metadata": {},
      "outputs": [
        {
          "name": "stdout",
          "output_type": "stream",
          "text": [
            "BigramClassifierPipeline initialized with PCA None components and CountVectorizer 30 max features\n",
            "Accuracy score:  0.888\n",
            "Precision score:  0.9290369297610427\n",
            "Recall score:  0.8435239973701513\n",
            "Adjusted Mutual Information score:  0.5057910292445412\n",
            "Writing 'yaml_content' (str) to file 'experiments/exp_hw9/bigram_classifier.yaml'.\n"
          ]
        }
      ],
      "source": [
        "# Try first with no dimensionality reduction\n",
        "bigram_classifier = BigramClassifierPipeline(n_components=None, max_features=config[\"bigram_features\"], random_state=config[\"bigram_random_state\"])\n",
        "\n",
        "bigram_classifier.fit(train[\"text\"], train[\"Target\"])\n",
        "bigram_predictions = bigram_classifier.predict(test[\"text\"])\n",
        "\n",
        "acc_score = accuracy_score(test['Target'], bigram_predictions)\n",
        "prec_score = precision_score(test['Target'], bigram_predictions)\n",
        "rec_score = recall_score(test['Target'], bigram_predictions)\n",
        "ami_score = adjusted_mutual_info_score(test['Target'], bigram_predictions)\n",
        "\n",
        "print(\"Accuracy score: \", acc_score)\n",
        "print(\"Precision score: \", prec_score)\n",
        "print(\"Recall score: \", rec_score)\n",
        "print(\"Adjusted Mutual Information score: \", ami_score)\n",
        "\n",
        "# Store results in yaml file using writefile magic\n",
        "yaml_content = f\"\"\"\n",
        "name: Bigram classifier\n",
        "description: Bigram classifier with no dimensionality reduction\n",
        "accuracyScore: {acc_score}\n",
        "precisionScore: {prec_score}\n",
        "recallScore: {rec_score}\n",
        "amiScore: {ami_score}\n",
        "\"\"\"\n",
        "\n",
        "%store yaml_content >experiments/exp_hw9/bigram_classifier.yaml"
      ]
    },
    {
      "cell_type": "code",
      "execution_count": 358,
      "metadata": {},
      "outputs": [
        {
          "data": {
            "text/html": [
              "<div>\n",
              "<style scoped>\n",
              "    .dataframe tbody tr th:only-of-type {\n",
              "        vertical-align: middle;\n",
              "    }\n",
              "\n",
              "    .dataframe tbody tr th {\n",
              "        vertical-align: top;\n",
              "    }\n",
              "\n",
              "    .dataframe thead th {\n",
              "        text-align: right;\n",
              "    }\n",
              "</style>\n",
              "<table border=\"1\" class=\"dataframe\">\n",
              "  <thead>\n",
              "    <tr style=\"text-align: right;\">\n",
              "      <th></th>\n",
              "      <th>PC1</th>\n",
              "      <th>PC2</th>\n",
              "      <th>PC3</th>\n",
              "      <th>PC4</th>\n",
              "      <th>PC5</th>\n",
              "      <th>PC6</th>\n",
              "      <th>PC7</th>\n",
              "      <th>PC8</th>\n",
              "      <th>PC9</th>\n",
              "      <th>PC10</th>\n",
              "      <th>...</th>\n",
              "      <th>PC21</th>\n",
              "      <th>PC22</th>\n",
              "      <th>PC23</th>\n",
              "      <th>PC24</th>\n",
              "      <th>PC25</th>\n",
              "      <th>PC26</th>\n",
              "      <th>PC27</th>\n",
              "      <th>PC28</th>\n",
              "      <th>PC29</th>\n",
              "      <th>PC30</th>\n",
              "    </tr>\n",
              "  </thead>\n",
              "  <tbody>\n",
              "    <tr>\n",
              "      <th>0</th>\n",
              "      <td>-0.491765</td>\n",
              "      <td>0.493182</td>\n",
              "      <td>0.162189</td>\n",
              "      <td>0.657924</td>\n",
              "      <td>-0.017678</td>\n",
              "      <td>-0.041250</td>\n",
              "      <td>0.121624</td>\n",
              "      <td>-0.381950</td>\n",
              "      <td>0.195692</td>\n",
              "      <td>0.097576</td>\n",
              "      <td>...</td>\n",
              "      <td>-0.000066</td>\n",
              "      <td>0.000112</td>\n",
              "      <td>0.000696</td>\n",
              "      <td>-0.000047</td>\n",
              "      <td>5.007701e-13</td>\n",
              "      <td>4.850113e-15</td>\n",
              "      <td>-2.555893e-18</td>\n",
              "      <td>-5.058654e-19</td>\n",
              "      <td>4.883964e-16</td>\n",
              "      <td>2.184027e-20</td>\n",
              "    </tr>\n",
              "    <tr>\n",
              "      <th>1</th>\n",
              "      <td>-0.045408</td>\n",
              "      <td>-0.439297</td>\n",
              "      <td>0.091124</td>\n",
              "      <td>-0.050934</td>\n",
              "      <td>-0.018992</td>\n",
              "      <td>0.026916</td>\n",
              "      <td>-0.028563</td>\n",
              "      <td>-0.051465</td>\n",
              "      <td>-0.196501</td>\n",
              "      <td>0.036099</td>\n",
              "      <td>...</td>\n",
              "      <td>-0.005017</td>\n",
              "      <td>-0.000703</td>\n",
              "      <td>-0.000589</td>\n",
              "      <td>0.000073</td>\n",
              "      <td>-9.542785e-15</td>\n",
              "      <td>2.577275e-13</td>\n",
              "      <td>-2.887610e-17</td>\n",
              "      <td>-4.546101e-18</td>\n",
              "      <td>9.125093e-18</td>\n",
              "      <td>1.803054e-20</td>\n",
              "    </tr>\n",
              "    <tr>\n",
              "      <th>2</th>\n",
              "      <td>-0.045408</td>\n",
              "      <td>-0.439297</td>\n",
              "      <td>0.091124</td>\n",
              "      <td>-0.050934</td>\n",
              "      <td>-0.018992</td>\n",
              "      <td>0.026916</td>\n",
              "      <td>-0.028563</td>\n",
              "      <td>-0.051465</td>\n",
              "      <td>-0.196501</td>\n",
              "      <td>0.036099</td>\n",
              "      <td>...</td>\n",
              "      <td>-0.005017</td>\n",
              "      <td>-0.000703</td>\n",
              "      <td>-0.000589</td>\n",
              "      <td>0.000073</td>\n",
              "      <td>-1.629804e-14</td>\n",
              "      <td>5.832177e-16</td>\n",
              "      <td>6.808512e-15</td>\n",
              "      <td>1.343152e-15</td>\n",
              "      <td>1.999979e-15</td>\n",
              "      <td>-9.933048e-19</td>\n",
              "    </tr>\n",
              "    <tr>\n",
              "      <th>3</th>\n",
              "      <td>-0.045408</td>\n",
              "      <td>-0.439297</td>\n",
              "      <td>0.091124</td>\n",
              "      <td>-0.050934</td>\n",
              "      <td>-0.018992</td>\n",
              "      <td>0.026916</td>\n",
              "      <td>-0.028563</td>\n",
              "      <td>-0.051465</td>\n",
              "      <td>-0.196501</td>\n",
              "      <td>0.036099</td>\n",
              "      <td>...</td>\n",
              "      <td>-0.005017</td>\n",
              "      <td>-0.000703</td>\n",
              "      <td>-0.000589</td>\n",
              "      <td>0.000073</td>\n",
              "      <td>4.372261e-16</td>\n",
              "      <td>-2.947411e-17</td>\n",
              "      <td>1.064263e-17</td>\n",
              "      <td>7.356568e-17</td>\n",
              "      <td>-4.788644e-17</td>\n",
              "      <td>2.063885e-17</td>\n",
              "    </tr>\n",
              "    <tr>\n",
              "      <th>4</th>\n",
              "      <td>-0.045408</td>\n",
              "      <td>-0.439297</td>\n",
              "      <td>0.091124</td>\n",
              "      <td>-0.050934</td>\n",
              "      <td>-0.018992</td>\n",
              "      <td>0.026916</td>\n",
              "      <td>-0.028563</td>\n",
              "      <td>-0.051465</td>\n",
              "      <td>-0.196501</td>\n",
              "      <td>0.036099</td>\n",
              "      <td>...</td>\n",
              "      <td>-0.005017</td>\n",
              "      <td>-0.000703</td>\n",
              "      <td>-0.000589</td>\n",
              "      <td>0.000073</td>\n",
              "      <td>4.268850e-16</td>\n",
              "      <td>-2.924272e-17</td>\n",
              "      <td>2.813823e-17</td>\n",
              "      <td>-1.899688e-17</td>\n",
              "      <td>-4.662341e-17</td>\n",
              "      <td>2.821499e-19</td>\n",
              "    </tr>\n",
              "  </tbody>\n",
              "</table>\n",
              "<p>5 rows × 30 columns</p>\n",
              "</div>"
            ],
            "text/plain": [
              "        PC1       PC2       PC3       PC4       PC5       PC6       PC7  \\\n",
              "0 -0.491765  0.493182  0.162189  0.657924 -0.017678 -0.041250  0.121624   \n",
              "1 -0.045408 -0.439297  0.091124 -0.050934 -0.018992  0.026916 -0.028563   \n",
              "2 -0.045408 -0.439297  0.091124 -0.050934 -0.018992  0.026916 -0.028563   \n",
              "3 -0.045408 -0.439297  0.091124 -0.050934 -0.018992  0.026916 -0.028563   \n",
              "4 -0.045408 -0.439297  0.091124 -0.050934 -0.018992  0.026916 -0.028563   \n",
              "\n",
              "        PC8       PC9      PC10  ...      PC21      PC22      PC23      PC24  \\\n",
              "0 -0.381950  0.195692  0.097576  ... -0.000066  0.000112  0.000696 -0.000047   \n",
              "1 -0.051465 -0.196501  0.036099  ... -0.005017 -0.000703 -0.000589  0.000073   \n",
              "2 -0.051465 -0.196501  0.036099  ... -0.005017 -0.000703 -0.000589  0.000073   \n",
              "3 -0.051465 -0.196501  0.036099  ... -0.005017 -0.000703 -0.000589  0.000073   \n",
              "4 -0.051465 -0.196501  0.036099  ... -0.005017 -0.000703 -0.000589  0.000073   \n",
              "\n",
              "           PC25          PC26          PC27          PC28          PC29  \\\n",
              "0  5.007701e-13  4.850113e-15 -2.555893e-18 -5.058654e-19  4.883964e-16   \n",
              "1 -9.542785e-15  2.577275e-13 -2.887610e-17 -4.546101e-18  9.125093e-18   \n",
              "2 -1.629804e-14  5.832177e-16  6.808512e-15  1.343152e-15  1.999979e-15   \n",
              "3  4.372261e-16 -2.947411e-17  1.064263e-17  7.356568e-17 -4.788644e-17   \n",
              "4  4.268850e-16 -2.924272e-17  2.813823e-17 -1.899688e-17 -4.662341e-17   \n",
              "\n",
              "           PC30  \n",
              "0  2.184027e-20  \n",
              "1  1.803054e-20  \n",
              "2 -9.933048e-19  \n",
              "3  2.063885e-17  \n",
              "4  2.821499e-19  \n",
              "\n",
              "[5 rows x 30 columns]"
            ]
          },
          "execution_count": 358,
          "metadata": {},
          "output_type": "execute_result"
        },
        {
          "data": {
            "image/png": "[encoded data removed]",
            "text/plain": [
              "<Figure size 640x480 with 2 Axes>"
            ]
          },
          "metadata": {},
          "output_type": "display_data"
        }
      ],
      "source": [
        "# get heatmap of correlation between bigram features before PCA\n",
        "bigram_transformed = bigram_classifier.pipeline.named_steps['bigram'].fit_transform(train[\"text\"])\n",
        "pca_transformed = bigram_classifier.pipeline.named_steps['pca'].fit_transform(bigram_transformed)\n",
        "pca_df = pd.DataFrame(pca_transformed, columns=[f'PC{x}' for x in range(1, pca_transformed.shape[1] + 1)])\n",
        "sns.heatmap(pca_df.corr())\n",
        "pca_df.head()"
      ]
    },
    {
      "cell_type": "code",
      "execution_count": 385,
      "metadata": {},
      "outputs": [
        {
          "name": "stdout",
          "output_type": "stream",
          "text": [
            "BigramClassifierPipeline initialized with PCA 25 components and CountVectorizer 30 max features\n",
            "Accuracy score:  0.888\n",
            "Precision score:  0.9290369297610427\n",
            "Recall score:  0.8435239973701513\n",
            "Adjusted Mutual Information score:  0.5057910292445412\n",
            "Writing 'yaml_content' (str) to file 'experiments/exp_hw9/bigram_classifier_pca.yaml'.\n"
          ]
        }
      ],
      "source": [
        "# Reduce dimensionality from 30 to 25\n",
        "bigram_classifier_pca = BigramClassifierPipeline(n_components=25, max_features=config[\"bigram_features\"], random_state=config[\"bigram_random_state\"])\n",
        "\n",
        "bigram_classifier_pca.fit(train[\"text\"], train[\"Target\"])\n",
        "bigram_predictions_pca = bigram_classifier_pca.predict(test[\"text\"])\n",
        "\n",
        "acc_score = accuracy_score(test['Target'], bigram_predictions_pca)\n",
        "prec_score = precision_score(test['Target'], bigram_predictions_pca)\n",
        "rec_score = recall_score(test['Target'], bigram_predictions_pca)\n",
        "ami_score = adjusted_mutual_info_score(test['Target'], bigram_predictions_pca)\n",
        "\n",
        "print(\"Accuracy score: \", acc_score)\n",
        "print(\"Precision score: \", prec_score)\n",
        "print(\"Recall score: \", rec_score)\n",
        "print(\"Adjusted Mutual Information score: \", ami_score)\n",
        "\n",
        "# Store results in yaml file using writefile magic\n",
        "yaml_content = f\"\"\"\n",
        "name: Bigram classifier\n",
        "description: Bigram classifier with dimensionality reduction (80%)\n",
        "accuracyScore: {acc_score}\n",
        "precisionScore: {prec_score}\n",
        "recallScore: {rec_score}\n",
        "amiScore: {ami_score}\n",
        "\"\"\"\n",
        "\n",
        "%store yaml_content >experiments/exp_hw9/bigram_classifier_pca.yaml"
      ]
    },
    {
      "cell_type": "code",
      "execution_count": 386,
      "metadata": {},
      "outputs": [
        {
          "data": {
            "text/html": [
              "<div>\n",
              "<style scoped>\n",
              "    .dataframe tbody tr th:only-of-type {\n",
              "        vertical-align: middle;\n",
              "    }\n",
              "\n",
              "    .dataframe tbody tr th {\n",
              "        vertical-align: top;\n",
              "    }\n",
              "\n",
              "    .dataframe thead th {\n",
              "        text-align: right;\n",
              "    }\n",
              "</style>\n",
              "<table border=\"1\" class=\"dataframe\">\n",
              "  <thead>\n",
              "    <tr style=\"text-align: right;\">\n",
              "      <th></th>\n",
              "      <th>PC1</th>\n",
              "      <th>PC2</th>\n",
              "      <th>PC3</th>\n",
              "      <th>PC4</th>\n",
              "      <th>PC5</th>\n",
              "      <th>PC6</th>\n",
              "      <th>PC7</th>\n",
              "      <th>PC8</th>\n",
              "      <th>PC9</th>\n",
              "      <th>PC10</th>\n",
              "      <th>...</th>\n",
              "      <th>PC16</th>\n",
              "      <th>PC17</th>\n",
              "      <th>PC18</th>\n",
              "      <th>PC19</th>\n",
              "      <th>PC20</th>\n",
              "      <th>PC21</th>\n",
              "      <th>PC22</th>\n",
              "      <th>PC23</th>\n",
              "      <th>PC24</th>\n",
              "      <th>PC25</th>\n",
              "    </tr>\n",
              "  </thead>\n",
              "  <tbody>\n",
              "    <tr>\n",
              "      <th>0</th>\n",
              "      <td>-0.491765</td>\n",
              "      <td>0.493182</td>\n",
              "      <td>0.162189</td>\n",
              "      <td>0.657924</td>\n",
              "      <td>-0.017678</td>\n",
              "      <td>-0.041250</td>\n",
              "      <td>0.121624</td>\n",
              "      <td>-0.381950</td>\n",
              "      <td>0.195692</td>\n",
              "      <td>0.097576</td>\n",
              "      <td>...</td>\n",
              "      <td>0.005076</td>\n",
              "      <td>0.004490</td>\n",
              "      <td>0.000268</td>\n",
              "      <td>0.000473</td>\n",
              "      <td>-0.002324</td>\n",
              "      <td>-0.000066</td>\n",
              "      <td>0.000112</td>\n",
              "      <td>0.000696</td>\n",
              "      <td>-0.000047</td>\n",
              "      <td>5.007701e-13</td>\n",
              "    </tr>\n",
              "    <tr>\n",
              "      <th>1</th>\n",
              "      <td>-0.045408</td>\n",
              "      <td>-0.439297</td>\n",
              "      <td>0.091124</td>\n",
              "      <td>-0.050934</td>\n",
              "      <td>-0.018992</td>\n",
              "      <td>0.026916</td>\n",
              "      <td>-0.028563</td>\n",
              "      <td>-0.051465</td>\n",
              "      <td>-0.196501</td>\n",
              "      <td>0.036099</td>\n",
              "      <td>...</td>\n",
              "      <td>0.000302</td>\n",
              "      <td>-0.019129</td>\n",
              "      <td>-0.008406</td>\n",
              "      <td>0.008608</td>\n",
              "      <td>0.005074</td>\n",
              "      <td>-0.005017</td>\n",
              "      <td>-0.000703</td>\n",
              "      <td>-0.000589</td>\n",
              "      <td>0.000073</td>\n",
              "      <td>-9.542785e-15</td>\n",
              "    </tr>\n",
              "    <tr>\n",
              "      <th>2</th>\n",
              "      <td>-0.045408</td>\n",
              "      <td>-0.439297</td>\n",
              "      <td>0.091124</td>\n",
              "      <td>-0.050934</td>\n",
              "      <td>-0.018992</td>\n",
              "      <td>0.026916</td>\n",
              "      <td>-0.028563</td>\n",
              "      <td>-0.051465</td>\n",
              "      <td>-0.196501</td>\n",
              "      <td>0.036099</td>\n",
              "      <td>...</td>\n",
              "      <td>0.000302</td>\n",
              "      <td>-0.019129</td>\n",
              "      <td>-0.008406</td>\n",
              "      <td>0.008608</td>\n",
              "      <td>0.005074</td>\n",
              "      <td>-0.005017</td>\n",
              "      <td>-0.000703</td>\n",
              "      <td>-0.000589</td>\n",
              "      <td>0.000073</td>\n",
              "      <td>-1.629804e-14</td>\n",
              "    </tr>\n",
              "    <tr>\n",
              "      <th>3</th>\n",
              "      <td>-0.045408</td>\n",
              "      <td>-0.439297</td>\n",
              "      <td>0.091124</td>\n",
              "      <td>-0.050934</td>\n",
              "      <td>-0.018992</td>\n",
              "      <td>0.026916</td>\n",
              "      <td>-0.028563</td>\n",
              "      <td>-0.051465</td>\n",
              "      <td>-0.196501</td>\n",
              "      <td>0.036099</td>\n",
              "      <td>...</td>\n",
              "      <td>0.000302</td>\n",
              "      <td>-0.019129</td>\n",
              "      <td>-0.008406</td>\n",
              "      <td>0.008608</td>\n",
              "      <td>0.005074</td>\n",
              "      <td>-0.005017</td>\n",
              "      <td>-0.000703</td>\n",
              "      <td>-0.000589</td>\n",
              "      <td>0.000073</td>\n",
              "      <td>4.372261e-16</td>\n",
              "    </tr>\n",
              "    <tr>\n",
              "      <th>4</th>\n",
              "      <td>-0.045408</td>\n",
              "      <td>-0.439297</td>\n",
              "      <td>0.091124</td>\n",
              "      <td>-0.050934</td>\n",
              "      <td>-0.018992</td>\n",
              "      <td>0.026916</td>\n",
              "      <td>-0.028563</td>\n",
              "      <td>-0.051465</td>\n",
              "      <td>-0.196501</td>\n",
              "      <td>0.036099</td>\n",
              "      <td>...</td>\n",
              "      <td>0.000302</td>\n",
              "      <td>-0.019129</td>\n",
              "      <td>-0.008406</td>\n",
              "      <td>0.008608</td>\n",
              "      <td>0.005074</td>\n",
              "      <td>-0.005017</td>\n",
              "      <td>-0.000703</td>\n",
              "      <td>-0.000589</td>\n",
              "      <td>0.000073</td>\n",
              "      <td>4.268850e-16</td>\n",
              "    </tr>\n",
              "  </tbody>\n",
              "</table>\n",
              "<p>5 rows × 25 columns</p>\n",
              "</div>"
            ],
            "text/plain": [
              "        PC1       PC2       PC3       PC4       PC5       PC6       PC7  \\\n",
              "0 -0.491765  0.493182  0.162189  0.657924 -0.017678 -0.041250  0.121624   \n",
              "1 -0.045408 -0.439297  0.091124 -0.050934 -0.018992  0.026916 -0.028563   \n",
              "2 -0.045408 -0.439297  0.091124 -0.050934 -0.018992  0.026916 -0.028563   \n",
              "3 -0.045408 -0.439297  0.091124 -0.050934 -0.018992  0.026916 -0.028563   \n",
              "4 -0.045408 -0.439297  0.091124 -0.050934 -0.018992  0.026916 -0.028563   \n",
              "\n",
              "        PC8       PC9      PC10  ...      PC16      PC17      PC18      PC19  \\\n",
              "0 -0.381950  0.195692  0.097576  ...  0.005076  0.004490  0.000268  0.000473   \n",
              "1 -0.051465 -0.196501  0.036099  ...  0.000302 -0.019129 -0.008406  0.008608   \n",
              "2 -0.051465 -0.196501  0.036099  ...  0.000302 -0.019129 -0.008406  0.008608   \n",
              "3 -0.051465 -0.196501  0.036099  ...  0.000302 -0.019129 -0.008406  0.008608   \n",
              "4 -0.051465 -0.196501  0.036099  ...  0.000302 -0.019129 -0.008406  0.008608   \n",
              "\n",
              "       PC20      PC21      PC22      PC23      PC24          PC25  \n",
              "0 -0.002324 -0.000066  0.000112  0.000696 -0.000047  5.007701e-13  \n",
              "1  0.005074 -0.005017 -0.000703 -0.000589  0.000073 -9.542785e-15  \n",
              "2  0.005074 -0.005017 -0.000703 -0.000589  0.000073 -1.629804e-14  \n",
              "3  0.005074 -0.005017 -0.000703 -0.000589  0.000073  4.372261e-16  \n",
              "4  0.005074 -0.005017 -0.000703 -0.000589  0.000073  4.268850e-16  \n",
              "\n",
              "[5 rows x 25 columns]"
            ]
          },
          "execution_count": 386,
          "metadata": {},
          "output_type": "execute_result"
        },
        {
          "data": {
            "image/png": "[encoded data removed]",
            "text/plain": [
              "<Figure size 640x480 with 2 Axes>"
            ]
          },
          "metadata": {},
          "output_type": "display_data"
        }
      ],
      "source": [
        "# get heatmap of correlation between bigram features after PCA\n",
        "bigram_transformed = bigram_classifier_pca.pipeline.named_steps['bigram'].fit_transform(train[\"text\"])\n",
        "pca_transformed = bigram_classifier_pca.pipeline.named_steps['pca'].fit_transform(bigram_transformed)\n",
        "pca_df = pd.DataFrame(pca_transformed, columns=[f'PC{x}' for x in range(1, pca_transformed.shape[1] + 1)])\n",
        "sns.heatmap(pca_df.corr())\n",
        "pca_df.head()"
      ]
    },
    {
      "cell_type": "code",
      "execution_count": 387,
      "metadata": {},
      "outputs": [
        {
          "name": "stdout",
          "output_type": "stream",
          "text": [
            "PolynomialClassifierPipeline initialized with PCA None components and Degree 2\n",
            "Accuracy score:  0.8846666666666667\n",
            "Precision score:  1.0\n",
            "Recall score:  0.7725180802103879\n",
            "Adjusted Mutual Information score:  0.5835539836388463\n",
            "Writing 'yaml_content' (str) to file 'experiments/exp_hw9/polynomial_classifier.yaml'.\n"
          ]
        }
      ],
      "source": [
        "# Try first with no dimensionality reduction, degree 2\n",
        "polynomial_classifier = PolynomialClassifierPipeline(n_components=None, degree=2, random_state=config[\"polynomial_random_state\"])\n",
        "\n",
        "polynomial_classifier.fit(train.drop([\"Target\", \"text\"], axis=1), train[\"Target\"])\n",
        "polynomial_predictions = polynomial_classifier.predict(test.drop([\"Target\", \"text\"], axis=1))\n",
        "\n",
        "acc_score = accuracy_score(test['Target'], polynomial_predictions)\n",
        "prec_score = precision_score(test['Target'], polynomial_predictions)\n",
        "rec_score = recall_score(test['Target'], polynomial_predictions)\n",
        "ami_score = adjusted_mutual_info_score(test['Target'], polynomial_predictions)\n",
        "\n",
        "print(\"Accuracy score: \", acc_score)\n",
        "print(\"Precision score: \", prec_score)\n",
        "print(\"Recall score: \", rec_score)\n",
        "print(\"Adjusted Mutual Information score: \", ami_score)\n",
        "\n",
        "# Store results in yaml file using writefile magic\n",
        "yaml_content = f\"\"\"\n",
        "name: Polynomial classifier\n",
        "description: Polynomial classifier with no dimensionality reduction\n",
        "accuracyScore: {acc_score}\n",
        "precisionScore: {prec_score}\n",
        "recallScore: {rec_score}\n",
        "amiScore: {ami_score}\n",
        "\"\"\"\n",
        "\n",
        "%store yaml_content >experiments/exp_hw9/polynomial_classifier.yaml"
      ]
    },
    {
      "cell_type": "code",
      "execution_count": 388,
      "metadata": {},
      "outputs": [
        {
          "data": {
            "text/html": [
              "<div>\n",
              "<style scoped>\n",
              "    .dataframe tbody tr th:only-of-type {\n",
              "        vertical-align: middle;\n",
              "    }\n",
              "\n",
              "    .dataframe tbody tr th {\n",
              "        vertical-align: top;\n",
              "    }\n",
              "\n",
              "    .dataframe thead th {\n",
              "        text-align: right;\n",
              "    }\n",
              "</style>\n",
              "<table border=\"1\" class=\"dataframe\">\n",
              "  <thead>\n",
              "    <tr style=\"text-align: right;\">\n",
              "      <th></th>\n",
              "      <th>PC1</th>\n",
              "      <th>PC2</th>\n",
              "      <th>PC3</th>\n",
              "      <th>PC4</th>\n",
              "      <th>PC5</th>\n",
              "      <th>PC6</th>\n",
              "      <th>PC7</th>\n",
              "      <th>PC8</th>\n",
              "      <th>PC9</th>\n",
              "      <th>PC10</th>\n",
              "    </tr>\n",
              "  </thead>\n",
              "  <tbody>\n",
              "    <tr>\n",
              "      <th>0</th>\n",
              "      <td>-8.601861e+07</td>\n",
              "      <td>-2783.077052</td>\n",
              "      <td>-251.638569</td>\n",
              "      <td>0.895958</td>\n",
              "      <td>-0.067265</td>\n",
              "      <td>-0.578728</td>\n",
              "      <td>-0.183207</td>\n",
              "      <td>-0.021620</td>\n",
              "      <td>2.550724e-13</td>\n",
              "      <td>-0.0</td>\n",
              "    </tr>\n",
              "    <tr>\n",
              "      <th>1</th>\n",
              "      <td>-9.874210e+07</td>\n",
              "      <td>5066.910286</td>\n",
              "      <td>754.509669</td>\n",
              "      <td>0.577205</td>\n",
              "      <td>-0.100468</td>\n",
              "      <td>1.370745</td>\n",
              "      <td>-0.946238</td>\n",
              "      <td>-0.021218</td>\n",
              "      <td>-5.161633e-16</td>\n",
              "      <td>-0.0</td>\n",
              "    </tr>\n",
              "    <tr>\n",
              "      <th>2</th>\n",
              "      <td>-9.821066e+07</td>\n",
              "      <td>3991.976605</td>\n",
              "      <td>164.282755</td>\n",
              "      <td>-2.081283</td>\n",
              "      <td>-0.110389</td>\n",
              "      <td>-0.099329</td>\n",
              "      <td>0.200845</td>\n",
              "      <td>-0.069391</td>\n",
              "      <td>2.657867e-14</td>\n",
              "      <td>0.0</td>\n",
              "    </tr>\n",
              "    <tr>\n",
              "      <th>3</th>\n",
              "      <td>-9.874210e+07</td>\n",
              "      <td>5066.910557</td>\n",
              "      <td>754.507077</td>\n",
              "      <td>-2.532772</td>\n",
              "      <td>-0.099837</td>\n",
              "      <td>1.312370</td>\n",
              "      <td>-0.576184</td>\n",
              "      <td>0.412007</td>\n",
              "      <td>3.335355e-17</td>\n",
              "      <td>0.0</td>\n",
              "    </tr>\n",
              "    <tr>\n",
              "      <th>4</th>\n",
              "      <td>-9.846647e+07</td>\n",
              "      <td>4286.269733</td>\n",
              "      <td>326.086891</td>\n",
              "      <td>-2.190839</td>\n",
              "      <td>-0.116242</td>\n",
              "      <td>-0.110513</td>\n",
              "      <td>0.207074</td>\n",
              "      <td>-0.073693</td>\n",
              "      <td>1.159933e-17</td>\n",
              "      <td>0.0</td>\n",
              "    </tr>\n",
              "  </tbody>\n",
              "</table>\n",
              "</div>"
            ],
            "text/plain": [
              "            PC1          PC2         PC3       PC4       PC5       PC6  \\\n",
              "0 -8.601861e+07 -2783.077052 -251.638569  0.895958 -0.067265 -0.578728   \n",
              "1 -9.874210e+07  5066.910286  754.509669  0.577205 -0.100468  1.370745   \n",
              "2 -9.821066e+07  3991.976605  164.282755 -2.081283 -0.110389 -0.099329   \n",
              "3 -9.874210e+07  5066.910557  754.507077 -2.532772 -0.099837  1.312370   \n",
              "4 -9.846647e+07  4286.269733  326.086891 -2.190839 -0.116242 -0.110513   \n",
              "\n",
              "        PC7       PC8           PC9  PC10  \n",
              "0 -0.183207 -0.021620  2.550724e-13  -0.0  \n",
              "1 -0.946238 -0.021218 -5.161633e-16  -0.0  \n",
              "2  0.200845 -0.069391  2.657867e-14   0.0  \n",
              "3 -0.576184  0.412007  3.335355e-17   0.0  \n",
              "4  0.207074 -0.073693  1.159933e-17   0.0  "
            ]
          },
          "execution_count": 388,
          "metadata": {},
          "output_type": "execute_result"
        },
        {
          "data": {
            "image/png": "[encoded data removed]",
            "text/plain": [
              "<Figure size 640x480 with 2 Axes>"
            ]
          },
          "metadata": {},
          "output_type": "display_data"
        }
      ],
      "source": [
        "# get heatmap of correlation between polynomial features before PCA\n",
        "polynomial_transformed = polynomial_classifier.pipeline.named_steps['polynomial'].fit_transform(train.drop([\"Target\", \"text\"], axis=1))\n",
        "pca_transformed = polynomial_classifier.pipeline.named_steps['pca'].fit_transform(polynomial_transformed)\n",
        "pca_df = pd.DataFrame(pca_transformed, columns=[f'PC{x}' for x in range(1, pca_transformed.shape[1] + 1)])\n",
        "sns.heatmap(pca_df.corr())\n",
        "pca_df.head()"
      ]
    },
    {
      "cell_type": "markdown",
      "metadata": {},
      "source": [
        "Heatmap shows little correlation, no need to reduce dimension with PCA"
      ]
    },
    {
      "cell_type": "code",
      "execution_count": 389,
      "metadata": {},
      "outputs": [
        {
          "name": "stdout",
          "output_type": "stream",
          "text": [
            "ProperNounClassifierPipeline initialized with PCA None components and CountVectorizer 30 max features\n"
          ]
        },
        {
          "name": "stderr",
          "output_type": "stream",
          "text": [
            "[nltk_data] Downloading package punkt to /Users/fortune/nltk_data...\n",
            "[nltk_data]   Package punkt is already up-to-date!\n",
            "[nltk_data] Downloading package averaged_perceptron_tagger to\n",
            "[nltk_data]     /Users/fortune/nltk_data...\n",
            "[nltk_data]   Package averaged_perceptron_tagger is already up-to-\n",
            "[nltk_data]       date!\n"
          ]
        },
        {
          "name": "stdout",
          "output_type": "stream",
          "text": [
            "Accuracy score:  0.83\n",
            "Precision score:  0.8719646799116998\n",
            "Recall score:  0.7790927021696252\n",
            "Adjusted Mutual Information score:  0.35073989586701343\n",
            "Writing 'yaml_content' (str) to file 'experiments/exp_hw9/proper_noun_classifier.yaml'.\n"
          ]
        }
      ],
      "source": [
        "# Try first with no dimensionality reduction\n",
        "proper_noun_classifier = ProperNounClassifierPipeline(n_components=None, random_state=config[\"proper_noun_random_state\"])\n",
        "\n",
        "proper_noun_classifier.fit(train[\"text\"], train[\"Target\"])\n",
        "proper_noun_predictions = proper_noun_classifier.predict(test[\"text\"])\n",
        "\n",
        "acc_score = accuracy_score(test['Target'], proper_noun_predictions)\n",
        "prec_score = precision_score(test['Target'], proper_noun_predictions)\n",
        "rec_score = recall_score(test['Target'], proper_noun_predictions)\n",
        "ami_score = adjusted_mutual_info_score(test['Target'], proper_noun_predictions)\n",
        "\n",
        "print(\"Accuracy score: \", acc_score)\n",
        "print(\"Precision score: \", prec_score)\n",
        "print(\"Recall score: \", rec_score)\n",
        "print(\"Adjusted Mutual Information score: \", ami_score)\n",
        "\n",
        "# Store results in yaml file using writefile magic\n",
        "yaml_content = f\"\"\"\n",
        "name: Proper noun classifier\n",
        "description: Proper noun classifier with no dimensionality reduction\n",
        "accuracyScore: {acc_score}\n",
        "precisionScore: {prec_score}\n",
        "recallScore: {rec_score}\n",
        "amiScore: {ami_score}\n",
        "\"\"\"\n",
        "\n",
        "%store yaml_content >experiments/exp_hw9/proper_noun_classifier.yaml"
      ]
    },
    {
      "cell_type": "code",
      "execution_count": 390,
      "metadata": {},
      "outputs": [
        {
          "data": {
            "text/html": [
              "<div>\n",
              "<style scoped>\n",
              "    .dataframe tbody tr th:only-of-type {\n",
              "        vertical-align: middle;\n",
              "    }\n",
              "\n",
              "    .dataframe tbody tr th {\n",
              "        vertical-align: top;\n",
              "    }\n",
              "\n",
              "    .dataframe thead th {\n",
              "        text-align: right;\n",
              "    }\n",
              "</style>\n",
              "<table border=\"1\" class=\"dataframe\">\n",
              "  <thead>\n",
              "    <tr style=\"text-align: right;\">\n",
              "      <th></th>\n",
              "      <th>PC1</th>\n",
              "      <th>PC2</th>\n",
              "      <th>PC3</th>\n",
              "      <th>PC4</th>\n",
              "      <th>PC5</th>\n",
              "      <th>PC6</th>\n",
              "      <th>PC7</th>\n",
              "      <th>PC8</th>\n",
              "      <th>PC9</th>\n",
              "      <th>PC10</th>\n",
              "      <th>...</th>\n",
              "      <th>PC21</th>\n",
              "      <th>PC22</th>\n",
              "      <th>PC23</th>\n",
              "      <th>PC24</th>\n",
              "      <th>PC25</th>\n",
              "      <th>PC26</th>\n",
              "      <th>PC27</th>\n",
              "      <th>PC28</th>\n",
              "      <th>PC29</th>\n",
              "      <th>PC30</th>\n",
              "    </tr>\n",
              "  </thead>\n",
              "  <tbody>\n",
              "    <tr>\n",
              "      <th>0</th>\n",
              "      <td>-0.009356</td>\n",
              "      <td>-0.166393</td>\n",
              "      <td>0.144017</td>\n",
              "      <td>0.082067</td>\n",
              "      <td>0.057080</td>\n",
              "      <td>0.169713</td>\n",
              "      <td>0.005879</td>\n",
              "      <td>-0.044648</td>\n",
              "      <td>0.019379</td>\n",
              "      <td>-0.134402</td>\n",
              "      <td>...</td>\n",
              "      <td>-0.024428</td>\n",
              "      <td>0.001273</td>\n",
              "      <td>0.007998</td>\n",
              "      <td>-0.004721</td>\n",
              "      <td>-0.002595</td>\n",
              "      <td>-0.000469</td>\n",
              "      <td>-0.002181</td>\n",
              "      <td>0.000013</td>\n",
              "      <td>-0.000013</td>\n",
              "      <td>4.103407e-15</td>\n",
              "    </tr>\n",
              "    <tr>\n",
              "      <th>1</th>\n",
              "      <td>-0.484220</td>\n",
              "      <td>-0.546624</td>\n",
              "      <td>-0.210198</td>\n",
              "      <td>-0.090527</td>\n",
              "      <td>-0.292741</td>\n",
              "      <td>0.408299</td>\n",
              "      <td>-0.199421</td>\n",
              "      <td>0.378885</td>\n",
              "      <td>-0.048040</td>\n",
              "      <td>0.101544</td>\n",
              "      <td>...</td>\n",
              "      <td>-0.001513</td>\n",
              "      <td>-0.003712</td>\n",
              "      <td>-0.003923</td>\n",
              "      <td>-0.001548</td>\n",
              "      <td>-0.004475</td>\n",
              "      <td>-0.004136</td>\n",
              "      <td>-0.003695</td>\n",
              "      <td>-0.000241</td>\n",
              "      <td>-0.000508</td>\n",
              "      <td>-8.786990e-15</td>\n",
              "    </tr>\n",
              "    <tr>\n",
              "      <th>2</th>\n",
              "      <td>-0.009356</td>\n",
              "      <td>-0.166393</td>\n",
              "      <td>0.144017</td>\n",
              "      <td>0.082067</td>\n",
              "      <td>0.057080</td>\n",
              "      <td>0.169713</td>\n",
              "      <td>0.005879</td>\n",
              "      <td>-0.044648</td>\n",
              "      <td>0.019379</td>\n",
              "      <td>-0.134402</td>\n",
              "      <td>...</td>\n",
              "      <td>-0.024428</td>\n",
              "      <td>0.001273</td>\n",
              "      <td>0.007998</td>\n",
              "      <td>-0.004721</td>\n",
              "      <td>-0.002595</td>\n",
              "      <td>-0.000469</td>\n",
              "      <td>-0.002181</td>\n",
              "      <td>0.000013</td>\n",
              "      <td>-0.000013</td>\n",
              "      <td>2.465149e-14</td>\n",
              "    </tr>\n",
              "    <tr>\n",
              "      <th>3</th>\n",
              "      <td>-0.484220</td>\n",
              "      <td>-0.546624</td>\n",
              "      <td>-0.210198</td>\n",
              "      <td>-0.090527</td>\n",
              "      <td>-0.292741</td>\n",
              "      <td>0.408299</td>\n",
              "      <td>-0.199421</td>\n",
              "      <td>0.378885</td>\n",
              "      <td>-0.048040</td>\n",
              "      <td>0.101544</td>\n",
              "      <td>...</td>\n",
              "      <td>-0.001513</td>\n",
              "      <td>-0.003712</td>\n",
              "      <td>-0.003923</td>\n",
              "      <td>-0.001548</td>\n",
              "      <td>-0.004475</td>\n",
              "      <td>-0.004136</td>\n",
              "      <td>-0.003695</td>\n",
              "      <td>-0.000241</td>\n",
              "      <td>-0.000508</td>\n",
              "      <td>-6.997691e-18</td>\n",
              "    </tr>\n",
              "    <tr>\n",
              "      <th>4</th>\n",
              "      <td>-0.009356</td>\n",
              "      <td>-0.166393</td>\n",
              "      <td>0.144017</td>\n",
              "      <td>0.082067</td>\n",
              "      <td>0.057080</td>\n",
              "      <td>0.169713</td>\n",
              "      <td>0.005879</td>\n",
              "      <td>-0.044648</td>\n",
              "      <td>0.019379</td>\n",
              "      <td>-0.134402</td>\n",
              "      <td>...</td>\n",
              "      <td>-0.024428</td>\n",
              "      <td>0.001273</td>\n",
              "      <td>0.007998</td>\n",
              "      <td>-0.004721</td>\n",
              "      <td>-0.002595</td>\n",
              "      <td>-0.000469</td>\n",
              "      <td>-0.002181</td>\n",
              "      <td>0.000013</td>\n",
              "      <td>-0.000013</td>\n",
              "      <td>-1.531738e-17</td>\n",
              "    </tr>\n",
              "  </tbody>\n",
              "</table>\n",
              "<p>5 rows × 30 columns</p>\n",
              "</div>"
            ],
            "text/plain": [
              "        PC1       PC2       PC3       PC4       PC5       PC6       PC7  \\\n",
              "0 -0.009356 -0.166393  0.144017  0.082067  0.057080  0.169713  0.005879   \n",
              "1 -0.484220 -0.546624 -0.210198 -0.090527 -0.292741  0.408299 -0.199421   \n",
              "2 -0.009356 -0.166393  0.144017  0.082067  0.057080  0.169713  0.005879   \n",
              "3 -0.484220 -0.546624 -0.210198 -0.090527 -0.292741  0.408299 -0.199421   \n",
              "4 -0.009356 -0.166393  0.144017  0.082067  0.057080  0.169713  0.005879   \n",
              "\n",
              "        PC8       PC9      PC10  ...      PC21      PC22      PC23      PC24  \\\n",
              "0 -0.044648  0.019379 -0.134402  ... -0.024428  0.001273  0.007998 -0.004721   \n",
              "1  0.378885 -0.048040  0.101544  ... -0.001513 -0.003712 -0.003923 -0.001548   \n",
              "2 -0.044648  0.019379 -0.134402  ... -0.024428  0.001273  0.007998 -0.004721   \n",
              "3  0.378885 -0.048040  0.101544  ... -0.001513 -0.003712 -0.003923 -0.001548   \n",
              "4 -0.044648  0.019379 -0.134402  ... -0.024428  0.001273  0.007998 -0.004721   \n",
              "\n",
              "       PC25      PC26      PC27      PC28      PC29          PC30  \n",
              "0 -0.002595 -0.000469 -0.002181  0.000013 -0.000013  4.103407e-15  \n",
              "1 -0.004475 -0.004136 -0.003695 -0.000241 -0.000508 -8.786990e-15  \n",
              "2 -0.002595 -0.000469 -0.002181  0.000013 -0.000013  2.465149e-14  \n",
              "3 -0.004475 -0.004136 -0.003695 -0.000241 -0.000508 -6.997691e-18  \n",
              "4 -0.002595 -0.000469 -0.002181  0.000013 -0.000013 -1.531738e-17  \n",
              "\n",
              "[5 rows x 30 columns]"
            ]
          },
          "execution_count": 390,
          "metadata": {},
          "output_type": "execute_result"
        },
        {
          "data": {
            "image/png": "[encoded data removed]",
            "text/plain": [
              "<Figure size 640x480 with 2 Axes>"
            ]
          },
          "metadata": {},
          "output_type": "display_data"
        }
      ],
      "source": [
        "# get heatmap of correlation between proper noun features before PCA\n",
        "proper_noun_transformed = proper_noun_classifier.pipeline.named_steps['proper_noun'].fit_transform(train[\"text\"])\n",
        "unigram_transformed = proper_noun_classifier.pipeline.named_steps['unigram'].fit_transform(proper_noun_transformed)\n",
        "pca_transformed = proper_noun_classifier.pipeline.named_steps['pca'].fit_transform(unigram_transformed)\n",
        "pca_df = pd.DataFrame(pca_transformed, columns=[f'PC{x}' for x in range(1, pca_transformed.shape[1] + 1)])\n",
        "sns.heatmap(pca_df.corr())\n",
        "pca_df.head()"
      ]
    },
    {
      "cell_type": "code",
      "execution_count": 391,
      "metadata": {},
      "outputs": [
        {
          "name": "stdout",
          "output_type": "stream",
          "text": [
            "NounPhraseClassifierPipeline initialized with PCA None components and CountVectorizer 30 max features\n"
          ]
        },
        {
          "name": "stderr",
          "output_type": "stream",
          "text": [
            "[nltk_data] Downloading package punkt to /Users/fortune/nltk_data...\n",
            "[nltk_data]   Package punkt is already up-to-date!\n",
            "[nltk_data] Downloading package averaged_perceptron_tagger to\n",
            "[nltk_data]     /Users/fortune/nltk_data...\n",
            "[nltk_data]   Package averaged_perceptron_tagger is already up-to-\n",
            "[nltk_data]       date!\n"
          ]
        },
        {
          "name": "stdout",
          "output_type": "stream",
          "text": [
            "Accuracy score:  0.7676666666666667\n",
            "Precision score:  0.9449244060475162\n",
            "Recall score:  0.5752794214332676\n",
            "Adjusted Mutual Information score:  0.30251190357541113\n",
            "Writing 'yaml_content' (str) to file 'experiments/exp_hw9/noun_phrase_classifier.yaml'.\n"
          ]
        }
      ],
      "source": [
        "noun_phrase_classifier = NounPhraseClassifierPipeline(n_components=None, random_state=config[\"noun_phrase_random_state\"])\n",
        "\n",
        "noun_phrase_classifier.fit(train[\"text\"], train[\"Target\"])\n",
        "noun_phrase_predictions = noun_phrase_classifier.predict(test[\"text\"])\n",
        "\n",
        "acc_score = accuracy_score(test['Target'], noun_phrase_predictions)\n",
        "prec_score = precision_score(test['Target'], noun_phrase_predictions)\n",
        "rec_score = recall_score(test['Target'], noun_phrase_predictions)\n",
        "ami_score = adjusted_mutual_info_score(test['Target'], noun_phrase_predictions)\n",
        "\n",
        "print(\"Accuracy score: \", acc_score)\n",
        "print(\"Precision score: \", prec_score)\n",
        "print(\"Recall score: \", rec_score)\n",
        "print(\"Adjusted Mutual Information score: \", ami_score)\n",
        "\n",
        "# Store results in yaml file using writefile magic\n",
        "yaml_content = f\"\"\"\n",
        "name: Noun phrase classifier\n",
        "description: Noun phrase classifier with no dimensionality reduction\n",
        "accuracyScore: {acc_score}\n",
        "precisionScore: {prec_score}\n",
        "recallScore: {rec_score}\n",
        "amiScore: {ami_score}\n",
        "\"\"\"\n",
        "\n",
        "%store yaml_content >experiments/exp_hw9/noun_phrase_classifier.yaml"
      ]
    },
    {
      "cell_type": "code",
      "execution_count": 392,
      "metadata": {},
      "outputs": [
        {
          "data": {
            "text/html": [
              "<div>\n",
              "<style scoped>\n",
              "    .dataframe tbody tr th:only-of-type {\n",
              "        vertical-align: middle;\n",
              "    }\n",
              "\n",
              "    .dataframe tbody tr th {\n",
              "        vertical-align: top;\n",
              "    }\n",
              "\n",
              "    .dataframe thead th {\n",
              "        text-align: right;\n",
              "    }\n",
              "</style>\n",
              "<table border=\"1\" class=\"dataframe\">\n",
              "  <thead>\n",
              "    <tr style=\"text-align: right;\">\n",
              "      <th></th>\n",
              "      <th>PC1</th>\n",
              "      <th>PC2</th>\n",
              "      <th>PC3</th>\n",
              "      <th>PC4</th>\n",
              "      <th>PC5</th>\n",
              "      <th>PC6</th>\n",
              "      <th>PC7</th>\n",
              "      <th>PC8</th>\n",
              "      <th>PC9</th>\n",
              "      <th>PC10</th>\n",
              "      <th>...</th>\n",
              "      <th>PC21</th>\n",
              "      <th>PC22</th>\n",
              "      <th>PC23</th>\n",
              "      <th>PC24</th>\n",
              "      <th>PC25</th>\n",
              "      <th>PC26</th>\n",
              "      <th>PC27</th>\n",
              "      <th>PC28</th>\n",
              "      <th>PC29</th>\n",
              "      <th>PC30</th>\n",
              "    </tr>\n",
              "  </thead>\n",
              "  <tbody>\n",
              "    <tr>\n",
              "      <th>0</th>\n",
              "      <td>0.450301</td>\n",
              "      <td>0.026104</td>\n",
              "      <td>-0.005209</td>\n",
              "      <td>-0.035069</td>\n",
              "      <td>-0.028846</td>\n",
              "      <td>-0.024863</td>\n",
              "      <td>-0.044894</td>\n",
              "      <td>0.001717</td>\n",
              "      <td>-0.024445</td>\n",
              "      <td>-0.004685</td>\n",
              "      <td>...</td>\n",
              "      <td>0.024112</td>\n",
              "      <td>-0.032213</td>\n",
              "      <td>-0.028149</td>\n",
              "      <td>-0.032172</td>\n",
              "      <td>-0.005045</td>\n",
              "      <td>0.001413</td>\n",
              "      <td>-0.000447</td>\n",
              "      <td>0.000312</td>\n",
              "      <td>-0.000182</td>\n",
              "      <td>1.220602e-15</td>\n",
              "    </tr>\n",
              "    <tr>\n",
              "      <th>1</th>\n",
              "      <td>0.450301</td>\n",
              "      <td>0.026104</td>\n",
              "      <td>-0.005209</td>\n",
              "      <td>-0.035069</td>\n",
              "      <td>-0.028846</td>\n",
              "      <td>-0.024863</td>\n",
              "      <td>-0.044894</td>\n",
              "      <td>0.001717</td>\n",
              "      <td>-0.024445</td>\n",
              "      <td>-0.004685</td>\n",
              "      <td>...</td>\n",
              "      <td>0.024112</td>\n",
              "      <td>-0.032213</td>\n",
              "      <td>-0.028149</td>\n",
              "      <td>-0.032172</td>\n",
              "      <td>-0.005045</td>\n",
              "      <td>0.001413</td>\n",
              "      <td>-0.000447</td>\n",
              "      <td>0.000312</td>\n",
              "      <td>-0.000182</td>\n",
              "      <td>-8.814607e-17</td>\n",
              "    </tr>\n",
              "    <tr>\n",
              "      <th>2</th>\n",
              "      <td>-0.500385</td>\n",
              "      <td>-0.201734</td>\n",
              "      <td>0.014411</td>\n",
              "      <td>0.083895</td>\n",
              "      <td>-0.107968</td>\n",
              "      <td>0.000494</td>\n",
              "      <td>-0.000163</td>\n",
              "      <td>-0.074924</td>\n",
              "      <td>0.003300</td>\n",
              "      <td>-0.006690</td>\n",
              "      <td>...</td>\n",
              "      <td>-0.010005</td>\n",
              "      <td>-0.002349</td>\n",
              "      <td>-0.039892</td>\n",
              "      <td>-0.008178</td>\n",
              "      <td>-0.006266</td>\n",
              "      <td>0.002309</td>\n",
              "      <td>0.000171</td>\n",
              "      <td>-0.000278</td>\n",
              "      <td>0.000140</td>\n",
              "      <td>-8.819171e-16</td>\n",
              "    </tr>\n",
              "    <tr>\n",
              "      <th>3</th>\n",
              "      <td>-0.500385</td>\n",
              "      <td>-0.201734</td>\n",
              "      <td>0.014411</td>\n",
              "      <td>0.083895</td>\n",
              "      <td>-0.107968</td>\n",
              "      <td>0.000494</td>\n",
              "      <td>-0.000163</td>\n",
              "      <td>-0.074924</td>\n",
              "      <td>0.003300</td>\n",
              "      <td>-0.006690</td>\n",
              "      <td>...</td>\n",
              "      <td>-0.010005</td>\n",
              "      <td>-0.002349</td>\n",
              "      <td>-0.039892</td>\n",
              "      <td>-0.008178</td>\n",
              "      <td>-0.006266</td>\n",
              "      <td>0.002309</td>\n",
              "      <td>0.000171</td>\n",
              "      <td>-0.000278</td>\n",
              "      <td>0.000140</td>\n",
              "      <td>-7.688728e-17</td>\n",
              "    </tr>\n",
              "    <tr>\n",
              "      <th>4</th>\n",
              "      <td>-0.500385</td>\n",
              "      <td>-0.201734</td>\n",
              "      <td>0.014411</td>\n",
              "      <td>0.083895</td>\n",
              "      <td>-0.107968</td>\n",
              "      <td>0.000494</td>\n",
              "      <td>-0.000163</td>\n",
              "      <td>-0.074924</td>\n",
              "      <td>0.003300</td>\n",
              "      <td>-0.006690</td>\n",
              "      <td>...</td>\n",
              "      <td>-0.010005</td>\n",
              "      <td>-0.002349</td>\n",
              "      <td>-0.039892</td>\n",
              "      <td>-0.008178</td>\n",
              "      <td>-0.006266</td>\n",
              "      <td>0.002309</td>\n",
              "      <td>0.000171</td>\n",
              "      <td>-0.000278</td>\n",
              "      <td>0.000140</td>\n",
              "      <td>-1.118722e-16</td>\n",
              "    </tr>\n",
              "  </tbody>\n",
              "</table>\n",
              "<p>5 rows × 30 columns</p>\n",
              "</div>"
            ],
            "text/plain": [
              "        PC1       PC2       PC3       PC4       PC5       PC6       PC7  \\\n",
              "0  0.450301  0.026104 -0.005209 -0.035069 -0.028846 -0.024863 -0.044894   \n",
              "1  0.450301  0.026104 -0.005209 -0.035069 -0.028846 -0.024863 -0.044894   \n",
              "2 -0.500385 -0.201734  0.014411  0.083895 -0.107968  0.000494 -0.000163   \n",
              "3 -0.500385 -0.201734  0.014411  0.083895 -0.107968  0.000494 -0.000163   \n",
              "4 -0.500385 -0.201734  0.014411  0.083895 -0.107968  0.000494 -0.000163   \n",
              "\n",
              "        PC8       PC9      PC10  ...      PC21      PC22      PC23      PC24  \\\n",
              "0  0.001717 -0.024445 -0.004685  ...  0.024112 -0.032213 -0.028149 -0.032172   \n",
              "1  0.001717 -0.024445 -0.004685  ...  0.024112 -0.032213 -0.028149 -0.032172   \n",
              "2 -0.074924  0.003300 -0.006690  ... -0.010005 -0.002349 -0.039892 -0.008178   \n",
              "3 -0.074924  0.003300 -0.006690  ... -0.010005 -0.002349 -0.039892 -0.008178   \n",
              "4 -0.074924  0.003300 -0.006690  ... -0.010005 -0.002349 -0.039892 -0.008178   \n",
              "\n",
              "       PC25      PC26      PC27      PC28      PC29          PC30  \n",
              "0 -0.005045  0.001413 -0.000447  0.000312 -0.000182  1.220602e-15  \n",
              "1 -0.005045  0.001413 -0.000447  0.000312 -0.000182 -8.814607e-17  \n",
              "2 -0.006266  0.002309  0.000171 -0.000278  0.000140 -8.819171e-16  \n",
              "3 -0.006266  0.002309  0.000171 -0.000278  0.000140 -7.688728e-17  \n",
              "4 -0.006266  0.002309  0.000171 -0.000278  0.000140 -1.118722e-16  \n",
              "\n",
              "[5 rows x 30 columns]"
            ]
          },
          "execution_count": 392,
          "metadata": {},
          "output_type": "execute_result"
        },
        {
          "data": {
            "image/png": "[encoded data removed]",
            "text/plain": [
              "<Figure size 640x480 with 2 Axes>"
            ]
          },
          "metadata": {},
          "output_type": "display_data"
        }
      ],
      "source": [
        "# get heatmap of correlation between noun phrase features before PCA\n",
        "noun_phrase_transformed = noun_phrase_classifier.pipeline.named_steps['noun_phrase'].fit_transform(train[\"text\"])\n",
        "unigram_transformed = noun_phrase_classifier.pipeline.named_steps['unigram'].fit_transform(noun_phrase_transformed)\n",
        "pca_transformed = noun_phrase_classifier.pipeline.named_steps['pca'].fit_transform(unigram_transformed)\n",
        "pca_df = pd.DataFrame(pca_transformed, columns=[f'PC{x}' for x in range(1, pca_transformed.shape[1] + 1)])\n",
        "sns.heatmap(pca_df.corr())\n",
        "pca_df.head()"
      ]
    },
    {
      "cell_type": "markdown",
      "metadata": {
        "id": "sItXwf71KVFV"
      },
      "source": [
        "#### HW 10*: Read urls on dataset follow them with the following example, download attached images and count people on them with cv features"
      ]
    },
    {
      "cell_type": "code",
      "execution_count": 409,
      "metadata": {},
      "outputs": [
        {
          "data": {
            "text/html": [
              "<div>\n",
              "<style scoped>\n",
              "    .dataframe tbody tr th:only-of-type {\n",
              "        vertical-align: middle;\n",
              "    }\n",
              "\n",
              "    .dataframe tbody tr th {\n",
              "        vertical-align: top;\n",
              "    }\n",
              "\n",
              "    .dataframe thead th {\n",
              "        text-align: right;\n",
              "    }\n",
              "</style>\n",
              "<table border=\"1\" class=\"dataframe\">\n",
              "  <thead>\n",
              "    <tr style=\"text-align: right;\">\n",
              "      <th></th>\n",
              "      <th>Unnamed: 0</th>\n",
              "      <th>text</th>\n",
              "      <th>favorited</th>\n",
              "      <th>favoriteCount</th>\n",
              "      <th>replyToSN</th>\n",
              "      <th>created</th>\n",
              "      <th>truncated</th>\n",
              "      <th>replyToSID</th>\n",
              "      <th>id</th>\n",
              "      <th>replyToUID</th>\n",
              "      <th>...</th>\n",
              "      <th>screenName</th>\n",
              "      <th>retweetCount</th>\n",
              "      <th>isRetweet</th>\n",
              "      <th>retweeted</th>\n",
              "      <th>longitude</th>\n",
              "      <th>latitude</th>\n",
              "      <th>Target</th>\n",
              "      <th>tags</th>\n",
              "      <th>numTags</th>\n",
              "      <th>urls</th>\n",
              "    </tr>\n",
              "  </thead>\n",
              "  <tbody>\n",
              "    <tr>\n",
              "      <th>0</th>\n",
              "      <td>1</td>\n",
              "      <td>RT @mrvelstan: literally nobody:\\r\\nme:\\r\\n\\r\\...</td>\n",
              "      <td>False</td>\n",
              "      <td>0</td>\n",
              "      <td>NaN</td>\n",
              "      <td>2019-04-23 10:43:30</td>\n",
              "      <td>False</td>\n",
              "      <td>NaN</td>\n",
              "      <td>1120639328034676737</td>\n",
              "      <td>NaN</td>\n",
              "      <td>...</td>\n",
              "      <td>DavidAc96</td>\n",
              "      <td>637</td>\n",
              "      <td>True</td>\n",
              "      <td>False</td>\n",
              "      <td>NaN</td>\n",
              "      <td>NaN</td>\n",
              "      <td>False</td>\n",
              "      <td>[avengersendgame]</td>\n",
              "      <td>1</td>\n",
              "      <td>[https://t.co/LR9kFwfD5c]</td>\n",
              "    </tr>\n",
              "    <tr>\n",
              "      <th>1</th>\n",
              "      <td>2</td>\n",
              "      <td>RT @agntecarter: im emotional, sorry!!\\r\\n\\r\\n...</td>\n",
              "      <td>False</td>\n",
              "      <td>0</td>\n",
              "      <td>NaN</td>\n",
              "      <td>2019-04-23 10:43:30</td>\n",
              "      <td>False</td>\n",
              "      <td>NaN</td>\n",
              "      <td>1120639325199196160</td>\n",
              "      <td>NaN</td>\n",
              "      <td>...</td>\n",
              "      <td>NRmalaa</td>\n",
              "      <td>302</td>\n",
              "      <td>True</td>\n",
              "      <td>False</td>\n",
              "      <td>NaN</td>\n",
              "      <td>NaN</td>\n",
              "      <td>False</td>\n",
              "      <td>[blackwidow, captainamerica]</td>\n",
              "      <td>2</td>\n",
              "      <td>[https://t.co/xcwkCMw18w]</td>\n",
              "    </tr>\n",
              "    <tr>\n",
              "      <th>2</th>\n",
              "      <td>3</td>\n",
              "      <td>saving these bingo cards for tomorrow \\r\\n\\r\\n...</td>\n",
              "      <td>False</td>\n",
              "      <td>0</td>\n",
              "      <td>NaN</td>\n",
              "      <td>2019-04-23 10:43:30</td>\n",
              "      <td>False</td>\n",
              "      <td>NaN</td>\n",
              "      <td>1120639324683292674</td>\n",
              "      <td>NaN</td>\n",
              "      <td>...</td>\n",
              "      <td>jijitsuu</td>\n",
              "      <td>0</td>\n",
              "      <td>False</td>\n",
              "      <td>False</td>\n",
              "      <td>NaN</td>\n",
              "      <td>NaN</td>\n",
              "      <td>False</td>\n",
              "      <td>[avengersendgame]</td>\n",
              "      <td>1</td>\n",
              "      <td>[https://t.co/d6For0jwRb]</td>\n",
              "    </tr>\n",
              "    <tr>\n",
              "      <th>3</th>\n",
              "      <td>4</td>\n",
              "      <td>RT @HelloBoon: Man these #AvengersEndgame ads ...</td>\n",
              "      <td>False</td>\n",
              "      <td>0</td>\n",
              "      <td>NaN</td>\n",
              "      <td>2019-04-23 10:43:29</td>\n",
              "      <td>False</td>\n",
              "      <td>NaN</td>\n",
              "      <td>1120639323328540672</td>\n",
              "      <td>NaN</td>\n",
              "      <td>...</td>\n",
              "      <td>SahapunB</td>\n",
              "      <td>23781</td>\n",
              "      <td>True</td>\n",
              "      <td>False</td>\n",
              "      <td>NaN</td>\n",
              "      <td>NaN</td>\n",
              "      <td>True</td>\n",
              "      <td>[avengersendgame]</td>\n",
              "      <td>1</td>\n",
              "      <td>[https://t.co/Q0lNf5eJsX]</td>\n",
              "    </tr>\n",
              "    <tr>\n",
              "      <th>4</th>\n",
              "      <td>5</td>\n",
              "      <td>RT @Marvel: We salute you, @ChrisEvans! #Capta...</td>\n",
              "      <td>False</td>\n",
              "      <td>0</td>\n",
              "      <td>NaN</td>\n",
              "      <td>2019-04-23 10:43:29</td>\n",
              "      <td>False</td>\n",
              "      <td>NaN</td>\n",
              "      <td>1120639321571074048</td>\n",
              "      <td>NaN</td>\n",
              "      <td>...</td>\n",
              "      <td>stella22_97</td>\n",
              "      <td>13067</td>\n",
              "      <td>True</td>\n",
              "      <td>False</td>\n",
              "      <td>NaN</td>\n",
              "      <td>NaN</td>\n",
              "      <td>True</td>\n",
              "      <td>[captainamerica, avengersendgame]</td>\n",
              "      <td>2</td>\n",
              "      <td>[https://t.co/VlPEpnXYgm]</td>\n",
              "    </tr>\n",
              "  </tbody>\n",
              "</table>\n",
              "<p>5 rows × 21 columns</p>\n",
              "</div>"
            ],
            "text/plain": [
              "   Unnamed: 0                                               text  favorited  \\\n",
              "0           1  RT @mrvelstan: literally nobody:\\r\\nme:\\r\\n\\r\\...      False   \n",
              "1           2  RT @agntecarter: im emotional, sorry!!\\r\\n\\r\\n...      False   \n",
              "2           3  saving these bingo cards for tomorrow \\r\\n\\r\\n...      False   \n",
              "3           4  RT @HelloBoon: Man these #AvengersEndgame ads ...      False   \n",
              "4           5  RT @Marvel: We salute you, @ChrisEvans! #Capta...      False   \n",
              "\n",
              "   favoriteCount replyToSN              created  truncated  replyToSID  \\\n",
              "0              0       NaN  2019-04-23 10:43:30      False         NaN   \n",
              "1              0       NaN  2019-04-23 10:43:30      False         NaN   \n",
              "2              0       NaN  2019-04-23 10:43:30      False         NaN   \n",
              "3              0       NaN  2019-04-23 10:43:29      False         NaN   \n",
              "4              0       NaN  2019-04-23 10:43:29      False         NaN   \n",
              "\n",
              "                    id  replyToUID  ...   screenName retweetCount  isRetweet  \\\n",
              "0  1120639328034676737         NaN  ...    DavidAc96          637       True   \n",
              "1  1120639325199196160         NaN  ...      NRmalaa          302       True   \n",
              "2  1120639324683292674         NaN  ...     jijitsuu            0      False   \n",
              "3  1120639323328540672         NaN  ...     SahapunB        23781       True   \n",
              "4  1120639321571074048         NaN  ...  stella22_97        13067       True   \n",
              "\n",
              "   retweeted  longitude  latitude  Target                               tags  \\\n",
              "0      False        NaN       NaN   False                  [avengersendgame]   \n",
              "1      False        NaN       NaN   False       [blackwidow, captainamerica]   \n",
              "2      False        NaN       NaN   False                  [avengersendgame]   \n",
              "3      False        NaN       NaN    True                  [avengersendgame]   \n",
              "4      False        NaN       NaN    True  [captainamerica, avengersendgame]   \n",
              "\n",
              "  numTags                       urls  \n",
              "0       1  [https://t.co/LR9kFwfD5c]  \n",
              "1       2  [https://t.co/xcwkCMw18w]  \n",
              "2       1  [https://t.co/d6For0jwRb]  \n",
              "3       1  [https://t.co/Q0lNf5eJsX]  \n",
              "4       2  [https://t.co/VlPEpnXYgm]  \n",
              "\n",
              "[5 rows x 21 columns]"
            ]
          },
          "execution_count": 409,
          "metadata": {},
          "output_type": "execute_result"
        }
      ],
      "source": [
        "def get_urls(text):\n",
        "    urls = re.findall(r'(https?://\\S+)', text)\n",
        "    return urls\n",
        "\n",
        "avengers_df[\"urls\"] = avengers_df[\"text\"].apply(get_urls)\n",
        "avengers_df.head()"
      ]
    },
    {
      "cell_type": "code",
      "execution_count": 442,
      "metadata": {},
      "outputs": [
        {
          "data": {
            "image/jpeg": "[encoded data removed]",
            "text/plain": [
              "<IPython.core.display.Image object>"
            ]
          },
          "metadata": {},
          "output_type": "display_data"
        },
        {
          "name": "stdout",
          "output_type": "stream",
          "text": [
            "4 face(s) detected\n",
            "https://avatars.githubusercontent.com/u/9287?s=64&v=4\n"
          ]
        },
        {
          "data": {
            "text/html": [
              "<img src=\"https://avatars.githubusercontent.com/u/9287?s=64&v=4\"/>"
            ],
            "text/plain": [
              "<IPython.core.display.Image object>"
            ]
          },
          "metadata": {},
          "output_type": "display_data"
        },
        {
          "name": "stdout",
          "output_type": "stream",
          "text": [
            "0 face(s) detected\n",
            "https://avatars.githubusercontent.com/u/9287?s=64&v=4\n"
          ]
        },
        {
          "data": {
            "text/html": [
              "<img src=\"https://avatars.githubusercontent.com/u/9287?s=64&v=4\"/>"
            ],
            "text/plain": [
              "<IPython.core.display.Image object>"
            ]
          },
          "metadata": {},
          "output_type": "display_data"
        },
        {
          "name": "stdout",
          "output_type": "stream",
          "text": [
            "0 face(s) detected\n",
            "https://avatars.githubusercontent.com/u/9287?v=4\n"
          ]
        },
        {
          "data": {
            "text/html": [
              "<img src=\"https://avatars.githubusercontent.com/u/9287?v=4\"/>"
            ],
            "text/plain": [
              "<IPython.core.display.Image object>"
            ]
          },
          "metadata": {},
          "output_type": "display_data"
        },
        {
          "name": "stdout",
          "output_type": "stream",
          "text": [
            "1 face(s) detected\n",
            "https://avatars.githubusercontent.com/u/9661903?s=70&v=4\n"
          ]
        },
        {
          "data": {
            "text/html": [
              "<img src=\"https://avatars.githubusercontent.com/u/9661903?s=70&v=4\"/>"
            ],
            "text/plain": [
              "<IPython.core.display.Image object>"
            ]
          },
          "metadata": {},
          "output_type": "display_data"
        },
        {
          "name": "stdout",
          "output_type": "stream",
          "text": [
            "0 face(s) detected\n",
            "https://avatars.githubusercontent.com/u/64696233?s=70&v=4\n"
          ]
        },
        {
          "data": {
            "text/html": [
              "<img src=\"https://avatars.githubusercontent.com/u/64696233?s=70&v=4\"/>"
            ],
            "text/plain": [
              "<IPython.core.display.Image object>"
            ]
          },
          "metadata": {},
          "output_type": "display_data"
        },
        {
          "name": "stdout",
          "output_type": "stream",
          "text": [
            "0 face(s) detected\n",
            "https://avatars.githubusercontent.com/u/1197222?s=70&v=4\n"
          ]
        },
        {
          "data": {
            "text/html": [
              "<img src=\"https://avatars.githubusercontent.com/u/1197222?s=70&v=4\"/>"
            ],
            "text/plain": [
              "<IPython.core.display.Image object>"
            ]
          },
          "metadata": {},
          "output_type": "display_data"
        },
        {
          "name": "stdout",
          "output_type": "stream",
          "text": [
            "0 face(s) detected\n",
            "https://avatars.githubusercontent.com/u/1948848?s=70&v=4\n"
          ]
        },
        {
          "data": {
            "text/html": [
              "<img src=\"https://avatars.githubusercontent.com/u/1948848?s=70&v=4\"/>"
            ],
            "text/plain": [
              "<IPython.core.display.Image object>"
            ]
          },
          "metadata": {},
          "output_type": "display_data"
        },
        {
          "name": "stdout",
          "output_type": "stream",
          "text": [
            "1 face(s) detected\n",
            "https://avatars.githubusercontent.com/u/779993?s=70&v=4\n"
          ]
        },
        {
          "data": {
            "text/html": [
              "<img src=\"https://avatars.githubusercontent.com/u/779993?s=70&v=4\"/>"
            ],
            "text/plain": [
              "<IPython.core.display.Image object>"
            ]
          },
          "metadata": {},
          "output_type": "display_data"
        },
        {
          "name": "stdout",
          "output_type": "stream",
          "text": [
            "0 face(s) detected\n",
            "https://avatars.githubusercontent.com/u/23441982?s=70&v=4\n"
          ]
        },
        {
          "data": {
            "text/html": [
              "<img src=\"https://avatars.githubusercontent.com/u/23441982?s=70&v=4\"/>"
            ],
            "text/plain": [
              "<IPython.core.display.Image object>"
            ]
          },
          "metadata": {},
          "output_type": "display_data"
        },
        {
          "name": "stdout",
          "output_type": "stream",
          "text": [
            "0 face(s) detected\n",
            "https://avatars.githubusercontent.com/u/630230?s=70&v=4\n"
          ]
        },
        {
          "data": {
            "text/html": [
              "<img src=\"https://avatars.githubusercontent.com/u/630230?s=70&v=4\"/>"
            ],
            "text/plain": [
              "<IPython.core.display.Image object>"
            ]
          },
          "metadata": {},
          "output_type": "display_data"
        },
        {
          "name": "stdout",
          "output_type": "stream",
          "text": [
            "0 face(s) detected\n",
            "https://avatars.githubusercontent.com/u/112274566?s=70&v=4\n"
          ]
        },
        {
          "data": {
            "text/html": [
              "<img src=\"https://avatars.githubusercontent.com/u/112274566?s=70&v=4\"/>"
            ],
            "text/plain": [
              "<IPython.core.display.Image object>"
            ]
          },
          "metadata": {},
          "output_type": "display_data"
        },
        {
          "name": "stdout",
          "output_type": "stream",
          "text": [
            "0 face(s) detected\n",
            "https://avatars.githubusercontent.com/u/1064602?s=70&v=4\n"
          ]
        },
        {
          "data": {
            "text/html": [
              "<img src=\"https://avatars.githubusercontent.com/u/1064602?s=70&v=4\"/>"
            ],
            "text/plain": [
              "<IPython.core.display.Image object>"
            ]
          },
          "metadata": {},
          "output_type": "display_data"
        },
        {
          "name": "stdout",
          "output_type": "stream",
          "text": [
            "0 face(s) detected\n",
            "https://avatars.githubusercontent.com/u/87181630?s=70&v=4\n"
          ]
        },
        {
          "data": {
            "text/html": [
              "<img src=\"https://avatars.githubusercontent.com/u/87181630?s=70&v=4\"/>"
            ],
            "text/plain": [
              "<IPython.core.display.Image object>"
            ]
          },
          "metadata": {},
          "output_type": "display_data"
        },
        {
          "name": "stdout",
          "output_type": "stream",
          "text": [
            "0 face(s) detected\n",
            "https://avatars.githubusercontent.com/u/49182129?s=70&v=4\n"
          ]
        },
        {
          "data": {
            "text/html": [
              "<img src=\"https://avatars.githubusercontent.com/u/49182129?s=70&v=4\"/>"
            ],
            "text/plain": [
              "<IPython.core.display.Image object>"
            ]
          },
          "metadata": {},
          "output_type": "display_data"
        },
        {
          "name": "stdout",
          "output_type": "stream",
          "text": [
            "0 face(s) detected\n",
            "https://avatars.githubusercontent.com/u/12138062?s=70&v=4\n"
          ]
        },
        {
          "data": {
            "text/html": [
              "<img src=\"https://avatars.githubusercontent.com/u/12138062?s=70&v=4\"/>"
            ],
            "text/plain": [
              "<IPython.core.display.Image object>"
            ]
          },
          "metadata": {},
          "output_type": "display_data"
        },
        {
          "name": "stdout",
          "output_type": "stream",
          "text": [
            "0 face(s) detected\n",
            "https://avatars.githubusercontent.com/u/1205860?s=70&v=4\n"
          ]
        },
        {
          "data": {
            "text/html": [
              "<img src=\"https://avatars.githubusercontent.com/u/1205860?s=70&v=4\"/>"
            ],
            "text/plain": [
              "<IPython.core.display.Image object>"
            ]
          },
          "metadata": {},
          "output_type": "display_data"
        },
        {
          "name": "stdout",
          "output_type": "stream",
          "text": [
            "0 face(s) detected\n",
            "https://github.githubassets.com/images/modules/profile/achievements/pair-extraordinaire-default.png\n"
          ]
        },
        {
          "data": {
            "text/html": [
              "<img src=\"https://github.githubassets.com/images/modules/profile/achievements/pair-extraordinaire-default.png\"/>"
            ],
            "text/plain": [
              "<IPython.core.display.Image object>"
            ]
          },
          "metadata": {},
          "output_type": "display_data"
        },
        {
          "name": "stdout",
          "output_type": "stream",
          "text": [
            "0 face(s) detected\n",
            "https://github.githubassets.com/images/modules/profile/achievements/yolo-default.png\n"
          ]
        },
        {
          "data": {
            "text/html": [
              "<img src=\"https://github.githubassets.com/images/modules/profile/achievements/yolo-default.png\"/>"
            ],
            "text/plain": [
              "<IPython.core.display.Image object>"
            ]
          },
          "metadata": {},
          "output_type": "display_data"
        },
        {
          "name": "stdout",
          "output_type": "stream",
          "text": [
            "0 face(s) detected\n",
            "https://github.githubassets.com/images/modules/profile/achievements/quickdraw-default.png\n"
          ]
        },
        {
          "data": {
            "text/html": [
              "<img src=\"https://github.githubassets.com/images/modules/profile/achievements/quickdraw-default.png\"/>"
            ],
            "text/plain": [
              "<IPython.core.display.Image object>"
            ]
          },
          "metadata": {},
          "output_type": "display_data"
        },
        {
          "name": "stdout",
          "output_type": "stream",
          "text": [
            "0 face(s) detected\n",
            "https://github.githubassets.com/images/modules/profile/achievements/galaxy-brain-default.png\n"
          ]
        },
        {
          "data": {
            "text/html": [
              "<img src=\"https://github.githubassets.com/images/modules/profile/achievements/galaxy-brain-default.png\"/>"
            ],
            "text/plain": [
              "<IPython.core.display.Image object>"
            ]
          },
          "metadata": {},
          "output_type": "display_data"
        },
        {
          "name": "stdout",
          "output_type": "stream",
          "text": [
            "0 face(s) detected\n",
            "https://github.githubassets.com/images/modules/profile/achievements/arctic-code-vault-contributor-default.png\n"
          ]
        },
        {
          "data": {
            "text/html": [
              "<img src=\"https://github.githubassets.com/images/modules/profile/achievements/arctic-code-vault-contributor-default.png\"/>"
            ],
            "text/plain": [
              "<IPython.core.display.Image object>"
            ]
          },
          "metadata": {},
          "output_type": "display_data"
        },
        {
          "name": "stdout",
          "output_type": "stream",
          "text": [
            "0 face(s) detected\n",
            "https://github.githubassets.com/images/modules/profile/achievements/starstruck-default.png\n"
          ]
        },
        {
          "data": {
            "text/html": [
              "<img src=\"https://github.githubassets.com/images/modules/profile/achievements/starstruck-default.png\"/>"
            ],
            "text/plain": [
              "<IPython.core.display.Image object>"
            ]
          },
          "metadata": {},
          "output_type": "display_data"
        },
        {
          "name": "stdout",
          "output_type": "stream",
          "text": [
            "0 face(s) detected\n",
            "https://github.githubassets.com/images/modules/profile/achievements/pull-shark-default.png\n"
          ]
        },
        {
          "data": {
            "text/html": [
              "<img src=\"https://github.githubassets.com/images/modules/profile/achievements/pull-shark-default.png\"/>"
            ],
            "text/plain": [
              "<IPython.core.display.Image object>"
            ]
          },
          "metadata": {},
          "output_type": "display_data"
        },
        {
          "name": "stdout",
          "output_type": "stream",
          "text": [
            "0 face(s) detected\n",
            "https://github.githubassets.com/images/modules/profile/achievements/pair-extraordinaire-default.png\n"
          ]
        },
        {
          "data": {
            "text/html": [
              "<img src=\"https://github.githubassets.com/images/modules/profile/achievements/pair-extraordinaire-default.png\"/>"
            ],
            "text/plain": [
              "<IPython.core.display.Image object>"
            ]
          },
          "metadata": {},
          "output_type": "display_data"
        },
        {
          "name": "stdout",
          "output_type": "stream",
          "text": [
            "0 face(s) detected\n",
            "https://github.githubassets.com/images/modules/profile/achievements/yolo-default.png\n"
          ]
        },
        {
          "data": {
            "text/html": [
              "<img src=\"https://github.githubassets.com/images/modules/profile/achievements/yolo-default.png\"/>"
            ],
            "text/plain": [
              "<IPython.core.display.Image object>"
            ]
          },
          "metadata": {},
          "output_type": "display_data"
        },
        {
          "name": "stdout",
          "output_type": "stream",
          "text": [
            "0 face(s) detected\n",
            "https://github.githubassets.com/images/modules/profile/achievements/quickdraw-default.png\n"
          ]
        },
        {
          "data": {
            "text/html": [
              "<img src=\"https://github.githubassets.com/images/modules/profile/achievements/quickdraw-default.png\"/>"
            ],
            "text/plain": [
              "<IPython.core.display.Image object>"
            ]
          },
          "metadata": {},
          "output_type": "display_data"
        },
        {
          "name": "stdout",
          "output_type": "stream",
          "text": [
            "0 face(s) detected\n",
            "https://github.githubassets.com/images/modules/profile/achievements/galaxy-brain-default.png\n"
          ]
        },
        {
          "data": {
            "text/html": [
              "<img src=\"https://github.githubassets.com/images/modules/profile/achievements/galaxy-brain-default.png\"/>"
            ],
            "text/plain": [
              "<IPython.core.display.Image object>"
            ]
          },
          "metadata": {},
          "output_type": "display_data"
        },
        {
          "name": "stdout",
          "output_type": "stream",
          "text": [
            "0 face(s) detected\n",
            "https://github.githubassets.com/images/modules/profile/achievements/arctic-code-vault-contributor-default.png\n"
          ]
        },
        {
          "data": {
            "text/html": [
              "<img src=\"https://github.githubassets.com/images/modules/profile/achievements/arctic-code-vault-contributor-default.png\"/>"
            ],
            "text/plain": [
              "<IPython.core.display.Image object>"
            ]
          },
          "metadata": {},
          "output_type": "display_data"
        },
        {
          "name": "stdout",
          "output_type": "stream",
          "text": [
            "0 face(s) detected\n",
            "https://github.githubassets.com/images/modules/profile/achievements/starstruck-default.png\n"
          ]
        },
        {
          "data": {
            "text/html": [
              "<img src=\"https://github.githubassets.com/images/modules/profile/achievements/starstruck-default.png\"/>"
            ],
            "text/plain": [
              "<IPython.core.display.Image object>"
            ]
          },
          "metadata": {},
          "output_type": "display_data"
        },
        {
          "name": "stdout",
          "output_type": "stream",
          "text": [
            "0 face(s) detected\n",
            "https://github.githubassets.com/images/modules/profile/achievements/pull-shark-default.png\n"
          ]
        },
        {
          "data": {
            "text/html": [
              "<img src=\"https://github.githubassets.com/images/modules/profile/achievements/pull-shark-default.png\"/>"
            ],
            "text/plain": [
              "<IPython.core.display.Image object>"
            ]
          },
          "metadata": {},
          "output_type": "display_data"
        },
        {
          "name": "stdout",
          "output_type": "stream",
          "text": [
            "0 face(s) detected\n",
            "https://avatars.githubusercontent.com/u/16528145?s=64&v=4\n"
          ]
        },
        {
          "data": {
            "text/html": [
              "<img src=\"https://avatars.githubusercontent.com/u/16528145?s=64&v=4\"/>"
            ],
            "text/plain": [
              "<IPython.core.display.Image object>"
            ]
          },
          "metadata": {},
          "output_type": "display_data"
        },
        {
          "name": "stdout",
          "output_type": "stream",
          "text": [
            "0 face(s) detected\n",
            "https://avatars.githubusercontent.com/u/16528145?s=40&v=4\n"
          ]
        },
        {
          "data": {
            "text/html": [
              "<img src=\"https://avatars.githubusercontent.com/u/16528145?s=40&v=4\"/>"
            ],
            "text/plain": [
              "<IPython.core.display.Image object>"
            ]
          },
          "metadata": {},
          "output_type": "display_data"
        },
        {
          "name": "stdout",
          "output_type": "stream",
          "text": [
            "0 face(s) detected\n",
            "https://avatars.githubusercontent.com/u/13523395?s=40&v=4\n"
          ]
        },
        {
          "data": {
            "text/html": [
              "<img src=\"https://avatars.githubusercontent.com/u/13523395?s=40&v=4\"/>"
            ],
            "text/plain": [
              "<IPython.core.display.Image object>"
            ]
          },
          "metadata": {},
          "output_type": "display_data"
        },
        {
          "name": "stdout",
          "output_type": "stream",
          "text": [
            "0 face(s) detected\n",
            "https://avatars.githubusercontent.com/u/9950313?s=40&v=4\n"
          ]
        },
        {
          "data": {
            "text/html": [
              "<img src=\"https://avatars.githubusercontent.com/u/9950313?s=40&v=4\"/>"
            ],
            "text/plain": [
              "<IPython.core.display.Image object>"
            ]
          },
          "metadata": {},
          "output_type": "display_data"
        },
        {
          "name": "stdout",
          "output_type": "stream",
          "text": [
            "0 face(s) detected\n",
            "https://avatars.githubusercontent.com/u/108309249?s=40&v=4\n"
          ]
        },
        {
          "data": {
            "text/html": [
              "<img src=\"https://avatars.githubusercontent.com/u/108309249?s=40&v=4\"/>"
            ],
            "text/plain": [
              "<IPython.core.display.Image object>"
            ]
          },
          "metadata": {},
          "output_type": "display_data"
        },
        {
          "name": "stdout",
          "output_type": "stream",
          "text": [
            "0 face(s) detected\n",
            "https://avatars.githubusercontent.com/u/1836552?s=40&v=4\n"
          ]
        },
        {
          "data": {
            "text/html": [
              "<img src=\"https://avatars.githubusercontent.com/u/1836552?s=40&v=4\"/>"
            ],
            "text/plain": [
              "<IPython.core.display.Image object>"
            ]
          },
          "metadata": {},
          "output_type": "display_data"
        },
        {
          "name": "stdout",
          "output_type": "stream",
          "text": [
            "0 face(s) detected\n",
            "https://avatars.githubusercontent.com/u/2034458?s=40&v=4\n"
          ]
        },
        {
          "data": {
            "text/html": [
              "<img src=\"https://avatars.githubusercontent.com/u/2034458?s=40&v=4\"/>"
            ],
            "text/plain": [
              "<IPython.core.display.Image object>"
            ]
          },
          "metadata": {},
          "output_type": "display_data"
        },
        {
          "name": "stdout",
          "output_type": "stream",
          "text": [
            "0 face(s) detected\n",
            "https://avatars.githubusercontent.com/u/3637556?s=40&v=4\n"
          ]
        },
        {
          "data": {
            "text/html": [
              "<img src=\"https://avatars.githubusercontent.com/u/3637556?s=40&v=4\"/>"
            ],
            "text/plain": [
              "<IPython.core.display.Image object>"
            ]
          },
          "metadata": {},
          "output_type": "display_data"
        },
        {
          "name": "stdout",
          "output_type": "stream",
          "text": [
            "0 face(s) detected\n",
            "https://avatars.githubusercontent.com/u/6078720?s=40&v=4\n"
          ]
        },
        {
          "data": {
            "text/html": [
              "<img src=\"https://avatars.githubusercontent.com/u/6078720?s=40&v=4\"/>"
            ],
            "text/plain": [
              "<IPython.core.display.Image object>"
            ]
          },
          "metadata": {},
          "output_type": "display_data"
        },
        {
          "name": "stdout",
          "output_type": "stream",
          "text": [
            "0 face(s) detected\n",
            "https://avatars.githubusercontent.com/u/6154722?s=40&v=4\n"
          ]
        },
        {
          "data": {
            "text/html": [
              "<img src=\"https://avatars.githubusercontent.com/u/6154722?s=40&v=4\"/>"
            ],
            "text/plain": [
              "<IPython.core.display.Image object>"
            ]
          },
          "metadata": {},
          "output_type": "display_data"
        },
        {
          "name": "stdout",
          "output_type": "stream",
          "text": [
            "0 face(s) detected\n",
            "https://avatars.githubusercontent.com/u/6320506?s=40&v=4\n"
          ]
        },
        {
          "data": {
            "text/html": [
              "<img src=\"https://avatars.githubusercontent.com/u/6320506?s=40&v=4\"/>"
            ],
            "text/plain": [
              "<IPython.core.display.Image object>"
            ]
          },
          "metadata": {},
          "output_type": "display_data"
        },
        {
          "name": "stdout",
          "output_type": "stream",
          "text": [
            "0 face(s) detected\n",
            "https://avatars.githubusercontent.com/u/6709903?s=40&v=4\n"
          ]
        },
        {
          "data": {
            "text/html": [
              "<img src=\"https://avatars.githubusercontent.com/u/6709903?s=40&v=4\"/>"
            ],
            "text/plain": [
              "<IPython.core.display.Image object>"
            ]
          },
          "metadata": {},
          "output_type": "display_data"
        },
        {
          "name": "stdout",
          "output_type": "stream",
          "text": [
            "0 face(s) detected\n",
            "https://avatars.githubusercontent.com/u/6759814?s=40&v=4\n"
          ]
        },
        {
          "data": {
            "text/html": [
              "<img src=\"https://avatars.githubusercontent.com/u/6759814?s=40&v=4\"/>"
            ],
            "text/plain": [
              "<IPython.core.display.Image object>"
            ]
          },
          "metadata": {},
          "output_type": "display_data"
        },
        {
          "name": "stdout",
          "output_type": "stream",
          "text": [
            "0 face(s) detected\n",
            "https://avatars.githubusercontent.com/u/9812707?s=40&v=4\n"
          ]
        },
        {
          "data": {
            "text/html": [
              "<img src=\"https://avatars.githubusercontent.com/u/9812707?s=40&v=4\"/>"
            ],
            "text/plain": [
              "<IPython.core.display.Image object>"
            ]
          },
          "metadata": {},
          "output_type": "display_data"
        },
        {
          "name": "stdout",
          "output_type": "stream",
          "text": [
            "0 face(s) detected\n",
            "https://avatars.githubusercontent.com/u/13409222?s=40&v=4\n"
          ]
        },
        {
          "data": {
            "text/html": [
              "<img src=\"https://avatars.githubusercontent.com/u/13409222?s=40&v=4\"/>"
            ],
            "text/plain": [
              "<IPython.core.display.Image object>"
            ]
          },
          "metadata": {},
          "output_type": "display_data"
        },
        {
          "name": "stdout",
          "output_type": "stream",
          "text": [
            "0 face(s) detected\n",
            "https://avatars.githubusercontent.com/u/13693804?s=40&v=4\n"
          ]
        },
        {
          "data": {
            "text/html": [
              "<img src=\"https://avatars.githubusercontent.com/u/13693804?s=40&v=4\"/>"
            ],
            "text/plain": [
              "<IPython.core.display.Image object>"
            ]
          },
          "metadata": {},
          "output_type": "display_data"
        },
        {
          "name": "stdout",
          "output_type": "stream",
          "text": [
            "0 face(s) detected\n",
            "https://avatars.githubusercontent.com/u/16504989?s=40&v=4\n"
          ]
        },
        {
          "data": {
            "text/html": [
              "<img src=\"https://avatars.githubusercontent.com/u/16504989?s=40&v=4\"/>"
            ],
            "text/plain": [
              "<IPython.core.display.Image object>"
            ]
          },
          "metadata": {},
          "output_type": "display_data"
        },
        {
          "name": "stdout",
          "output_type": "stream",
          "text": [
            "0 face(s) detected\n",
            "https://avatars.githubusercontent.com/u/17219288?s=40&v=4\n"
          ]
        },
        {
          "data": {
            "text/html": [
              "<img src=\"https://avatars.githubusercontent.com/u/17219288?s=40&v=4\"/>"
            ],
            "text/plain": [
              "<IPython.core.display.Image object>"
            ]
          },
          "metadata": {},
          "output_type": "display_data"
        },
        {
          "name": "stdout",
          "output_type": "stream",
          "text": [
            "0 face(s) detected\n",
            "https://avatars.githubusercontent.com/u/26715726?s=40&v=4\n"
          ]
        },
        {
          "data": {
            "text/html": [
              "<img src=\"https://avatars.githubusercontent.com/u/26715726?s=40&v=4\"/>"
            ],
            "text/plain": [
              "<IPython.core.display.Image object>"
            ]
          },
          "metadata": {},
          "output_type": "display_data"
        },
        {
          "name": "stdout",
          "output_type": "stream",
          "text": [
            "0 face(s) detected\n",
            "https://avatars.githubusercontent.com/u/59502381?s=40&v=4\n"
          ]
        },
        {
          "data": {
            "text/html": [
              "<img src=\"https://avatars.githubusercontent.com/u/59502381?s=40&v=4\"/>"
            ],
            "text/plain": [
              "<IPython.core.display.Image object>"
            ]
          },
          "metadata": {},
          "output_type": "display_data"
        },
        {
          "name": "stdout",
          "output_type": "stream",
          "text": [
            "0 face(s) detected\n",
            "https://avatars.githubusercontent.com/u/64235328?s=40&v=4\n"
          ]
        },
        {
          "data": {
            "text/html": [
              "<img src=\"https://avatars.githubusercontent.com/u/64235328?s=40&v=4\"/>"
            ],
            "text/plain": [
              "<IPython.core.display.Image object>"
            ]
          },
          "metadata": {},
          "output_type": "display_data"
        },
        {
          "name": "stdout",
          "output_type": "stream",
          "text": [
            "0 face(s) detected\n",
            "https://abs.twimg.com/errors/logo46x38.png\n"
          ]
        },
        {
          "data": {
            "text/html": [
              "<img src=\"https://abs.twimg.com/errors/logo46x38.png\"/>"
            ],
            "text/plain": [
              "<IPython.core.display.Image object>"
            ]
          },
          "metadata": {},
          "output_type": "display_data"
        },
        {
          "name": "stdout",
          "output_type": "stream",
          "text": [
            "0 face(s) detected\n",
            "https://abs.twimg.com/errors/logo46x38.png\n"
          ]
        },
        {
          "data": {
            "text/html": [
              "<img src=\"https://abs.twimg.com/errors/logo46x38.png\"/>"
            ],
            "text/plain": [
              "<IPython.core.display.Image object>"
            ]
          },
          "metadata": {},
          "output_type": "display_data"
        },
        {
          "name": "stdout",
          "output_type": "stream",
          "text": [
            "0 face(s) detected\n",
            "https://abs.twimg.com/errors/logo46x38.png\n"
          ]
        },
        {
          "data": {
            "text/html": [
              "<img src=\"https://abs.twimg.com/errors/logo46x38.png\"/>"
            ],
            "text/plain": [
              "<IPython.core.display.Image object>"
            ]
          },
          "metadata": {},
          "output_type": "display_data"
        },
        {
          "name": "stdout",
          "output_type": "stream",
          "text": [
            "0 face(s) detected\n",
            "https://abs.twimg.com/errors/logo46x38.png\n"
          ]
        },
        {
          "data": {
            "text/html": [
              "<img src=\"https://abs.twimg.com/errors/logo46x38.png\"/>"
            ],
            "text/plain": [
              "<IPython.core.display.Image object>"
            ]
          },
          "metadata": {},
          "output_type": "display_data"
        },
        {
          "name": "stdout",
          "output_type": "stream",
          "text": [
            "0 face(s) detected\n",
            "https://abs.twimg.com/errors/logo46x38.png\n"
          ]
        },
        {
          "data": {
            "text/html": [
              "<img src=\"https://abs.twimg.com/errors/logo46x38.png\"/>"
            ],
            "text/plain": [
              "<IPython.core.display.Image object>"
            ]
          },
          "metadata": {},
          "output_type": "display_data"
        },
        {
          "name": "stdout",
          "output_type": "stream",
          "text": [
            "0 face(s) detected\n",
            "https://abs.twimg.com/errors/logo46x38.png\n"
          ]
        },
        {
          "data": {
            "text/html": [
              "<img src=\"https://abs.twimg.com/errors/logo46x38.png\"/>"
            ],
            "text/plain": [
              "<IPython.core.display.Image object>"
            ]
          },
          "metadata": {},
          "output_type": "display_data"
        },
        {
          "name": "stdout",
          "output_type": "stream",
          "text": [
            "0 face(s) detected\n",
            "//s1.wp.com/wp-content/themes/h4/i/logo-h-rgb.png\n"
          ]
        },
        {
          "data": {
            "text/html": [
              "<img src=\"//s1.wp.com/wp-content/themes/h4/i/logo-h-rgb.png\"/>"
            ],
            "text/plain": [
              "<IPython.core.display.Image object>"
            ]
          },
          "metadata": {},
          "output_type": "display_data"
        },
        {
          "name": "stdout",
          "output_type": "stream",
          "text": [
            "https://abs.twimg.com/errors/logo46x38.png\n"
          ]
        },
        {
          "data": {
            "text/html": [
              "<img src=\"https://abs.twimg.com/errors/logo46x38.png\"/>"
            ],
            "text/plain": [
              "<IPython.core.display.Image object>"
            ]
          },
          "metadata": {},
          "output_type": "display_data"
        },
        {
          "name": "stdout",
          "output_type": "stream",
          "text": [
            "0 face(s) detected\n",
            "https://abs.twimg.com/errors/logo46x38.png\n"
          ]
        },
        {
          "data": {
            "text/html": [
              "<img src=\"https://abs.twimg.com/errors/logo46x38.png\"/>"
            ],
            "text/plain": [
              "<IPython.core.display.Image object>"
            ]
          },
          "metadata": {},
          "output_type": "display_data"
        },
        {
          "name": "stdout",
          "output_type": "stream",
          "text": [
            "0 face(s) detected\n",
            "https://abs.twimg.com/errors/logo46x38.png\n"
          ]
        },
        {
          "data": {
            "text/html": [
              "<img src=\"https://abs.twimg.com/errors/logo46x38.png\"/>"
            ],
            "text/plain": [
              "<IPython.core.display.Image object>"
            ]
          },
          "metadata": {},
          "output_type": "display_data"
        },
        {
          "name": "stdout",
          "output_type": "stream",
          "text": [
            "0 face(s) detected\n",
            "https://abs.twimg.com/errors/logo46x38.png\n"
          ]
        },
        {
          "data": {
            "text/html": [
              "<img src=\"https://abs.twimg.com/errors/logo46x38.png\"/>"
            ],
            "text/plain": [
              "<IPython.core.display.Image object>"
            ]
          },
          "metadata": {},
          "output_type": "display_data"
        },
        {
          "name": "stdout",
          "output_type": "stream",
          "text": [
            "0 face(s) detected\n",
            "https://abs.twimg.com/errors/logo46x38.png\n"
          ]
        },
        {
          "data": {
            "text/html": [
              "<img src=\"https://abs.twimg.com/errors/logo46x38.png\"/>"
            ],
            "text/plain": [
              "<IPython.core.display.Image object>"
            ]
          },
          "metadata": {},
          "output_type": "display_data"
        },
        {
          "name": "stdout",
          "output_type": "stream",
          "text": [
            "0 face(s) detected\n",
            "https://abs.twimg.com/errors/logo46x38.png\n"
          ]
        },
        {
          "data": {
            "text/html": [
              "<img src=\"https://abs.twimg.com/errors/logo46x38.png\"/>"
            ],
            "text/plain": [
              "<IPython.core.display.Image object>"
            ]
          },
          "metadata": {},
          "output_type": "display_data"
        },
        {
          "name": "stdout",
          "output_type": "stream",
          "text": [
            "0 face(s) detected\n",
            "https://abs.twimg.com/errors/logo46x38.png\n"
          ]
        },
        {
          "data": {
            "text/html": [
              "<img src=\"https://abs.twimg.com/errors/logo46x38.png\"/>"
            ],
            "text/plain": [
              "<IPython.core.display.Image object>"
            ]
          },
          "metadata": {},
          "output_type": "display_data"
        },
        {
          "name": "stdout",
          "output_type": "stream",
          "text": [
            "0 face(s) detected\n",
            "https://abs.twimg.com/errors/logo46x38.png\n"
          ]
        },
        {
          "data": {
            "text/html": [
              "<img src=\"https://abs.twimg.com/errors/logo46x38.png\"/>"
            ],
            "text/plain": [
              "<IPython.core.display.Image object>"
            ]
          },
          "metadata": {},
          "output_type": "display_data"
        },
        {
          "name": "stdout",
          "output_type": "stream",
          "text": [
            "0 face(s) detected\n"
          ]
        }
      ],
      "source": [
        "import cv2\n",
        "import requests\n",
        "import numpy as np\n",
        "from bs4 import BeautifulSoup\n",
        "from IPython.display import Image\n",
        "\n",
        "def get_image_urls(url):\n",
        "    response = requests.get(url)\n",
        "    soup = BeautifulSoup(response.text, 'html.parser')\n",
        "    img_tags = soup.find_all('img')\n",
        "    img_links = [img['src'] for img in img_tags if 'src' in img.attrs and not img['src'].startswith('data:image')]\n",
        "    return img_links\n",
        "\n",
        "def read_image_from_url(url):\n",
        "    response = requests.get(url)\n",
        "    image = np.asarray(bytearray(response.content), dtype=\"uint8\")\n",
        "    image = cv2.imdecode(image, cv2.IMREAD_COLOR)\n",
        "    return image\n",
        "\n",
        "def count_faces(image):\n",
        "    gray = cv2.cvtColor(image, cv2.COLOR_BGR2GRAY)\n",
        "    face_cascade = cv2.CascadeClassifier(cv2.data.haarcascades + \"haarcascade_frontalface_default.xml\")\n",
        "    faces = face_cascade.detectMultiScale(gray, 1.3, 5)\n",
        "    return len(faces)\n",
        "\n",
        "# initial test\n",
        "ml_folks_image = cv2.imread(\"data/exp_hw10/ML_folks.jpg\")\n",
        "display(Image(filename=\"data/exp_hw10/ML_folks.jpg\"))\n",
        "print(count_faces(ml_folks_image), \"face(s) detected\")\n",
        "\n",
        "# All twitter images were blocked so I used a custom url to confirm that the code works\n",
        "for url in [[\"https://github.com/isaacs\"]] + list(avengers_df[\"urls\"][:20]):\n",
        "    if len(url) == 0: continue\n",
        "    url = url[0]\n",
        "    try:\n",
        "        for image_url in get_image_urls(url):\n",
        "            print(image_url)\n",
        "            display(Image(url=image_url))\n",
        "            image = read_image_from_url(image_url)\n",
        "            print(count_faces(image), \"face(s) detected\")\n",
        "    except Exception as e:\n",
        "        pass\n"
      ]
    },
    {
      "cell_type": "markdown",
      "metadata": {
        "id": "oR-z4PGeKVFV"
      },
      "source": [
        "#### HW 11: Add new features to all PCA output on HW 6, train classifiers, test quality and store results in proper .yaml files"
      ]
    },
    {
      "cell_type": "code",
      "execution_count": null,
      "metadata": {},
      "outputs": [],
      "source": []
    },
    {
      "cell_type": "markdown",
      "metadata": {
        "id": "Bx56ahDiKVFW"
      },
      "source": [
        "#### HW 12*: Perform topic modelings on text feature, add it to PCA features from HW 6, train classifiers, test quality and store results in proper .yaml files"
      ]
    },
    {
      "cell_type": "code",
      "execution_count": null,
      "metadata": {},
      "outputs": [],
      "source": []
    },
    {
      "cell_type": "markdown",
      "metadata": {
        "id": "t23JCuXmKVFW"
      },
      "source": [
        "#### HW 13: Combine all combinations of features from HW6, measure the results of improvement of classifier"
      ]
    },
    {
      "cell_type": "code",
      "execution_count": null,
      "metadata": {},
      "outputs": [],
      "source": []
    },
    {
      "cell_type": "markdown",
      "metadata": {
        "id": "gf6uIqDBKVFW"
      },
      "source": [
        "#### HW 14*: For 5 best of prevous experiments, change LinearRegression to XGBClassifier. Try several XGB configurations, store results and parameters in .yaml files"
      ]
    },
    {
      "cell_type": "code",
      "execution_count": null,
      "metadata": {},
      "outputs": [],
      "source": []
    },
    {
      "cell_type": "code",
      "execution_count": 378,
      "metadata": {},
      "outputs": [],
      "source": [
        "# Ignore this cell, it is for reloading modules\n",
        "\n",
        "import importlib\n",
        "importlib.reload(experiments.exp_hw5.unigram)\n",
        "importlib.reload(experiments.exp_hw5.bigram)\n",
        "importlib.reload(experiments.exp_hw5.noun_phrase)\n",
        "importlib.reload(experiments.exp_hw5.proper_noun)\n",
        "importlib.reload(experiments.exp_hw5.polynomial)\n",
        "importlib.reload(experiments.exp_hw6.unigram)\n",
        "importlib.reload(experiments.exp_hw6.bigram)\n",
        "importlib.reload(experiments.exp_hw6.noun_phrase)\n",
        "importlib.reload(experiments.exp_hw6.proper_noun)\n",
        "importlib.reload(experiments.exp_hw6.polynomial)\n",
        "\n",
        "from experiments.exp_hw5.unigram import UnigramTransformer\n",
        "from experiments.exp_hw5.noun_phrase import NounPhraseTransformer\n",
        "from experiments.exp_hw5.proper_noun import ProperNounTransformer\n",
        "from experiments.exp_hw5.bigram import BigramTransformer\n",
        "from experiments.exp_hw5.polynomial import PolynomialTransformer\n",
        "\n",
        "from experiments.exp_hw6.unigram import UnigramClassifierPipeline\n",
        "from experiments.exp_hw6.noun_phrase import NounPhraseClassifierPipeline\n",
        "from experiments.exp_hw6.proper_noun import ProperNounClassifierPipeline\n",
        "from experiments.exp_hw6.bigram import BigramClassifierPipeline\n",
        "from experiments.exp_hw6.polynomial import PolynomialClassifierPipeline"
      ]
    }
  ],
  "metadata": {
    "colab": {
      "include_colab_link": true,
      "provenance": []
    },
    "kernelspec": {
      "display_name": "Python 3",
      "language": "python",
      "name": "python3"
    },
    "language_info": {
      "codemirror_mode": {
        "name": "ipython",
        "version": 3
      },
      "file_extension": ".py",
      "mimetype": "text/x-python",
      "name": "python",
      "nbconvert_exporter": "python",
      "pygments_lexer": "ipython3",
      "version": "3.11.5"
    }
  },
  "nbformat": 4,
  "nbformat_minor": 0
}
