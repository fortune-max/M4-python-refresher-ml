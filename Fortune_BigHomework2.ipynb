{
  "cells": [
    {
      "cell_type": "markdown",
      "metadata": {
        "id": "view-in-github",
        "colab_type": "text"
      },
      "source": [
        "<a href=\"https://colab.research.google.com/github/fortune-max/M4-python-refresher-ml/blob/main/Fortune_BigHomework2.ipynb\" target=\"_parent\"><img src=\"https://colab.research.google.com/assets/colab-badge.svg\" alt=\"Open In Colab\"/></a>"
      ]
    },
    {
      "cell_type": "markdown",
      "metadata": {
        "id": "yYI3fzugjeLv"
      },
      "source": [
        "#### HW 1: Download the dataset"
      ]
    },
    {
      "cell_type": "markdown",
      "metadata": {
        "id": "B1pcuK5bKVFR"
      },
      "source": [
        "https://www.kaggle.com/kavita5/twitter-dataset-avengersendgame/download"
      ]
    },
    {
      "cell_type": "markdown",
      "metadata": {
        "id": "GhuPusbaKVFS"
      },
      "source": [
        "#### HW 2: Create Target column from retweetCount >np.median[retweetCount] create dataset in .csv file with new features along with .yaml file with it's descritpion, median[retweetCount] value stored in retweetCount_median variable, preferably store data in data folder"
      ]
    },
    {
      "cell_type": "markdown",
      "metadata": {
        "id": "Xehyn36dKVFS"
      },
      "source": [
        "#### HW 3: Сreate a folder with experiments, make it a python package, organize all transformers and classifiers wih python modules and .yaml files."
      ]
    },
    {
      "cell_type": "markdown",
      "metadata": {
        "id": "Q2S0J_4ZKVFT"
      },
      "source": [
        "#### HW 4: Extract names of avengers endgame characters from text\n",
        "\n",
        "Examples of tags in quetion:\n",
        "#Thanos\n",
        "#WinterSoldier\n",
        "#CaptainAmerica\n",
        "#blackwidow\n",
        "#CaptainMarvel\n",
        "#Mantis\n",
        "\n",
        "store the resulting dataset in data folder with .yaml description, preferable naming for variable names is lowercase name of the tag"
      ]
    },
    {
      "cell_type": "markdown",
      "metadata": {
        "id": "FBMtIHiiKVFT"
      },
      "source": [
        "#### HW 5: Create set of classifiers for linear regression with different features for feature generation.\n",
        "use the following methods of feature generation\n",
        "\n",
        " - word tokenization with 1-gram, f\n",
        " - pos tokenization with extraction of all NP\n",
        " - pos tokenization with 2-gram bag of tokens for all NNP\n",
        " - 2-gram bag of characters for screenName features\n",
        " - polynomial features for presence of avenger character names\n",
        "\n",
        "Organize classes of transformers in various .py files"
      ]
    },
    {
      "cell_type": "markdown",
      "metadata": {
        "id": "gE-NT52DKVFT"
      },
      "source": [
        "#### HW 6: Apply PCA dimensionality reduction and LogisticRegression to predict Target, construct pipelines for all transformers from HW 5 (so it will be 5 various pipeline, name them exp_hw6_1, ... exp_hw6_5) implement them as custom classifiers."
      ]
    },
    {
      "cell_type": "markdown",
      "metadata": {
        "id": "7qNn8vkBKVFU"
      },
      "source": [
        "#### HW 7: Split dataset to train and test (it is up to you which features you will include in it) and store it data folder along with .yaml description"
      ]
    },
    {
      "cell_type": "markdown",
      "metadata": {
        "id": "a7vDCZz8KVFU"
      },
      "source": [
        "#### HW 8: Add intialization from .yaml descriptions of classifiers to implementations of classifiers at HW 6."
      ]
    },
    {
      "cell_type": "markdown",
      "metadata": {
        "id": "r3VPXJzHKVFU"
      },
      "source": [
        "#### HW 9: Train classifiers with various PCA dimensionality, bag of words and polynomial paramters paramteres on train, test them on test and store in .yaml files for every experiment with resulting metrics\n",
        "\n",
        "- accuracy\n",
        "- precision\n",
        "- recall\n",
        "- adjusted_mutual_information"
      ]
    },
    {
      "cell_type": "markdown",
      "metadata": {
        "id": "sItXwf71KVFV"
      },
      "source": [
        "#### HW 10*: Read urls on dataset follow them with the following example, download attached images and count people on them with cv features"
      ]
    },
    {
      "cell_type": "markdown",
      "metadata": {
        "id": "oR-z4PGeKVFV"
      },
      "source": [
        "#### HW 11: Add new features to all PCA output on HW 6, train classifiers, test quality and store results in proper .yaml files"
      ]
    },
    {
      "cell_type": "markdown",
      "metadata": {
        "id": "Bx56ahDiKVFW"
      },
      "source": [
        "#### HW 12*: Perform topic modelings on text feature, add it to PCA features from HW 6, train classifiers, test quality and store results in proper .yaml files"
      ]
    },
    {
      "cell_type": "markdown",
      "metadata": {
        "id": "t23JCuXmKVFW"
      },
      "source": [
        "#### HW 13: Combine all combinations of features from HW6, measure the results of improvement of classifier"
      ]
    },
    {
      "cell_type": "markdown",
      "metadata": {
        "id": "gf6uIqDBKVFW"
      },
      "source": [
        "#### HW 14*: For 5 best of prevous experiments, change LinearRegression to XGBClassifier. Try several XGB configurations, store results and parameters in .yaml files"
      ]
    },
    {
      "cell_type": "markdown",
      "metadata": {
        "id": "2Fz9BRrUKVFO"
      },
      "source": [
        "#### HW 1: Download the dataset"
      ]
    }
  ],
  "metadata": {
    "kernelspec": {
      "display_name": "Python 3",
      "language": "python",
      "name": "python3"
    },
    "language_info": {
      "codemirror_mode": {
        "name": "ipython",
        "version": 3
      },
      "file_extension": ".py",
      "mimetype": "text/x-python",
      "name": "python",
      "nbconvert_exporter": "python",
      "pygments_lexer": "ipython3",
      "version": "3.6.8"
    },
    "colab": {
      "provenance": [],
      "include_colab_link": true
    }
  },
  "nbformat": 4,
  "nbformat_minor": 0
}