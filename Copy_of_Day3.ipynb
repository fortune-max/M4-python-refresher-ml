{
  "nbformat": 4,
  "nbformat_minor": 0,
  "metadata": {
    "colab": {
      "provenance": [],
      "include_colab_link": true
    },
    "kernelspec": {
      "name": "python3",
      "display_name": "Python 3"
    },
    "language_info": {
      "name": "python"
    }
  },
  "cells": [
    {
      "cell_type": "markdown",
      "metadata": {
        "id": "view-in-github",
        "colab_type": "text"
      },
      "source": [
        "<a href=\"https://colab.research.google.com/github/fortune-max/M4-python-refresher-ml/blob/main/Copy_of_Day3.ipynb\" target=\"_parent\"><img src=\"https://colab.research.google.com/assets/colab-badge.svg\" alt=\"Open In Colab\"/></a>"
      ]
    },
    {
      "cell_type": "code",
      "execution_count": null,
      "metadata": {
        "colab": {
          "base_uri": "https://localhost:8080/"
        },
        "id": "6BOH-q9-7CGn",
        "outputId": "d4deb698-da29-4575-e11c-c62d706bbe43"
      },
      "outputs": [
        {
          "output_type": "stream",
          "name": "stdout",
          "text": [
            "Mounted at /content/gdrive\n"
          ]
        }
      ],
      "source": [
        "from google.colab import drive\n",
        "\n",
        "drive.mount('/content/gdrive', force_remount=True)"
      ]
    },
    {
      "cell_type": "code",
      "source": [
        "!cp gdrive/MyDrive/DS404/DS404_Classwork/Day_3_Materials/Pokemon_m.csv ."
      ],
      "metadata": {
        "id": "ybidDgRQSFMa"
      },
      "execution_count": null,
      "outputs": []
    },
    {
      "cell_type": "code",
      "execution_count": null,
      "metadata": {
        "id": "1-kG3BHa6ng1",
        "colab": {
          "base_uri": "https://localhost:8080/"
        },
        "outputId": "9787b480-7395-4785-a10e-5c444e5c6475"
      },
      "outputs": [
        {
          "output_type": "stream",
          "name": "stdout",
          "text": [
            "-r-------- 1 root root 7997 Nov 29 09:00 Pokemon_m.csv\n"
          ]
        }
      ],
      "source": [
        "!ls -l Pokemon_m.csv"
      ]
    },
    {
      "cell_type": "markdown",
      "metadata": {
        "id": "H6jOhIpL6ng4"
      },
      "source": [
        "#### Excercise 1: Perfom all imports"
      ]
    },
    {
      "cell_type": "code",
      "source": [
        "!pip install bokeh==2.4.0"
      ],
      "metadata": {
        "id": "j6bX9MD3UjJU",
        "outputId": "367a3b24-0477-4788-dadd-9950085549d5",
        "colab": {
          "base_uri": "https://localhost:8080/"
        }
      },
      "execution_count": null,
      "outputs": [
        {
          "output_type": "stream",
          "name": "stdout",
          "text": [
            "Collecting bokeh==2.4.0\n",
            "  Downloading bokeh-2.4.0-py3-none-any.whl (18.4 MB)\n",
            "\u001b[2K     \u001b[90m━━━━━━━━━━━━━━━━━━━━━━━━━━━━━━━━━━━━━━━━\u001b[0m \u001b[32m18.4/18.4 MB\u001b[0m \u001b[31m34.9 MB/s\u001b[0m eta \u001b[36m0:00:00\u001b[0m\n",
            "\u001b[?25hRequirement already satisfied: Jinja2>=2.9 in /usr/local/lib/python3.10/dist-packages (from bokeh==2.4.0) (3.1.2)\n",
            "Requirement already satisfied: numpy>=1.11.3 in /usr/local/lib/python3.10/dist-packages (from bokeh==2.4.0) (1.23.5)\n",
            "Requirement already satisfied: packaging>=16.8 in /usr/local/lib/python3.10/dist-packages (from bokeh==2.4.0) (23.2)\n",
            "Requirement already satisfied: pillow>=7.1.0 in /usr/local/lib/python3.10/dist-packages (from bokeh==2.4.0) (9.4.0)\n",
            "Requirement already satisfied: PyYAML>=3.10 in /usr/local/lib/python3.10/dist-packages (from bokeh==2.4.0) (6.0.1)\n",
            "Requirement already satisfied: tornado>=5.1 in /usr/local/lib/python3.10/dist-packages (from bokeh==2.4.0) (6.3.2)\n",
            "Requirement already satisfied: typing-extensions>=3.10.0 in /usr/local/lib/python3.10/dist-packages (from bokeh==2.4.0) (4.5.0)\n",
            "Requirement already satisfied: MarkupSafe>=2.0 in /usr/local/lib/python3.10/dist-packages (from Jinja2>=2.9->bokeh==2.4.0) (2.1.3)\n",
            "Installing collected packages: bokeh\n",
            "  Attempting uninstall: bokeh\n",
            "    Found existing installation: bokeh 3.3.1\n",
            "    Uninstalling bokeh-3.3.1:\n",
            "      Successfully uninstalled bokeh-3.3.1\n",
            "\u001b[31mERROR: pip's dependency resolver does not currently take into account all the packages that are installed. This behaviour is the source of the following dependency conflicts.\n",
            "panel 1.3.1 requires bokeh<3.4.0,>=3.2.0, but you have bokeh 2.4.0 which is incompatible.\u001b[0m\u001b[31m\n",
            "\u001b[0mSuccessfully installed bokeh-2.4.0\n"
          ]
        }
      ]
    },
    {
      "cell_type": "code",
      "execution_count": null,
      "metadata": {
        "id": "O8Wcl4jn6ng6"
      },
      "outputs": [],
      "source": [
        "import matplotlib.pyplot as plt"
      ]
    },
    {
      "cell_type": "code",
      "execution_count": null,
      "metadata": {
        "id": "KZbIGFCA6ng6"
      },
      "outputs": [],
      "source": [
        "import seaborn as sns"
      ]
    },
    {
      "cell_type": "code",
      "execution_count": null,
      "metadata": {
        "id": "1LrKSKk56ng7"
      },
      "outputs": [],
      "source": [
        "from bokeh.io import output_file, output_notebook\n",
        "from bokeh.plotting import figure, show\n",
        "from bokeh.models import ColumnDataSource\n",
        "from bokeh.layouts import row, column, gridplot\n",
        "from bokeh.models.widgets import Tabs, Panel"
      ]
    },
    {
      "cell_type": "markdown",
      "metadata": {
        "id": "gIEkBRRL6ng7"
      },
      "source": [
        "#### Excercise 2: Read Pokemon_m"
      ]
    },
    {
      "cell_type": "code",
      "execution_count": null,
      "metadata": {
        "id": "qarMTnS96ng8",
        "scrolled": true
      },
      "outputs": [],
      "source": []
    },
    {
      "cell_type": "code",
      "execution_count": null,
      "metadata": {
        "id": "F7b3G65c6ng-"
      },
      "outputs": [],
      "source": []
    },
    {
      "cell_type": "markdown",
      "metadata": {
        "id": "4dEmCHmR6ng-"
      },
      "source": [
        "#### Excercise 2: Draw scatterplots"
      ]
    },
    {
      "cell_type": "code",
      "execution_count": null,
      "metadata": {
        "id": "D-hZUetF6ng_"
      },
      "outputs": [],
      "source": [
        "# x = 'Attack',\n",
        "# y = 'Defense'\n",
        "# df"
      ]
    },
    {
      "cell_type": "code",
      "execution_count": null,
      "metadata": {
        "id": "irl7a6Dr6ng_"
      },
      "outputs": [],
      "source": [
        "# x = 'Attack',\n",
        "# y = 'Defense'\n",
        "#scatter"
      ]
    },
    {
      "cell_type": "code",
      "execution_count": null,
      "metadata": {
        "colab": {
          "base_uri": "https://localhost:8080/",
          "height": 296
        },
        "id": "TS6oWIC16nhA",
        "outputId": "e3f3eeb8-955f-4a52-bb8c-833d844cf308"
      },
      "outputs": [
        {
          "data": {
            "text/plain": [
              "<matplotlib.axes._subplots.AxesSubplot at 0x7f0623177b90>"
            ]
          },
          "execution_count": 8,
          "metadata": {},
          "output_type": "execute_result"
        },
        {
          "data": {
            "image/png": "[encoded data removed]",
            "text/plain": [
              "<Figure size 432x288 with 1 Axes>"
            ]
          },
          "metadata": {},
          "output_type": "display_data"
        }
      ],
      "source": [
        "# x = 'Attack',\n",
        "# y = 'Defense'\n",
        "# sns"
      ]
    },
    {
      "cell_type": "code",
      "execution_count": null,
      "metadata": {
        "id": "0RinS0z86nhA"
      },
      "outputs": [],
      "source": [
        "#sns.lmplot"
      ]
    },
    {
      "cell_type": "code",
      "execution_count": null,
      "metadata": {
        "id": "71qXH71Jo_w8"
      },
      "outputs": [],
      "source": []
    },
    {
      "cell_type": "markdown",
      "metadata": {
        "id": "pWnTSDec6nhA"
      },
      "source": [
        "#### Excercise 3: Draw a scatterplots for  Sp_Atk vs Sp_Def in matplotlib, sns"
      ]
    },
    {
      "cell_type": "code",
      "execution_count": null,
      "metadata": {
        "id": "xX6VEscM6nhB"
      },
      "outputs": [],
      "source": []
    },
    {
      "cell_type": "code",
      "execution_count": null,
      "metadata": {
        "id": "HbyGMuMi6nhB"
      },
      "outputs": [],
      "source": []
    },
    {
      "cell_type": "code",
      "execution_count": null,
      "metadata": {
        "id": "Tuaj5hkO6nhB"
      },
      "outputs": [],
      "source": []
    },
    {
      "cell_type": "code",
      "execution_count": null,
      "metadata": {
        "id": "0bsusj4DphLV"
      },
      "outputs": [],
      "source": []
    },
    {
      "cell_type": "markdown",
      "metadata": {
        "id": "qA3No6XG6nhB"
      },
      "source": [
        "#### Excercise 4: Compute agregated statistics file and draw histograms (Type_1)"
      ]
    },
    {
      "cell_type": "code",
      "execution_count": null,
      "metadata": {
        "id": "6Vt-xIih6nhC"
      },
      "outputs": [],
      "source": []
    },
    {
      "cell_type": "code",
      "execution_count": null,
      "metadata": {
        "id": "Fk4dOquO6nhC"
      },
      "outputs": [],
      "source": [
        "#hist"
      ]
    },
    {
      "cell_type": "code",
      "execution_count": null,
      "metadata": {
        "id": "8N82c8La6nhC",
        "scrolled": true
      },
      "outputs": [],
      "source": [
        "#hist"
      ]
    },
    {
      "cell_type": "code",
      "execution_count": null,
      "metadata": {
        "id": "SKwDQvz1rM4c"
      },
      "outputs": [],
      "source": []
    },
    {
      "cell_type": "markdown",
      "metadata": {
        "id": "cQMe8egL6nhC"
      },
      "source": [
        "#### Excercise 5: Draw a histogram for unaggregated pokemon df HP in matplotlib, sns"
      ]
    },
    {
      "cell_type": "code",
      "execution_count": null,
      "metadata": {
        "id": "iztCIxo86nhC",
        "scrolled": true
      },
      "outputs": [],
      "source": [
        "#hist"
      ]
    },
    {
      "cell_type": "code",
      "execution_count": null,
      "metadata": {
        "id": "qa7gQ28r6nhD",
        "scrolled": true
      },
      "outputs": [],
      "source": [
        "#hist"
      ]
    },
    {
      "cell_type": "code",
      "execution_count": null,
      "metadata": {
        "id": "PLwkmtoH6nhD"
      },
      "outputs": [],
      "source": [
        "#sns hist"
      ]
    },
    {
      "cell_type": "code",
      "execution_count": null,
      "metadata": {
        "id": "R_VIPa6gqXBA"
      },
      "outputs": [],
      "source": []
    },
    {
      "cell_type": "markdown",
      "metadata": {
        "id": "VZf_kiKa6nhD"
      },
      "source": [
        "#### Excercise 6: Draw line plot"
      ]
    },
    {
      "cell_type": "code",
      "execution_count": null,
      "metadata": {
        "id": "PQuXU9rf6nhD"
      },
      "outputs": [],
      "source": [
        "# plot df"
      ]
    },
    {
      "cell_type": "code",
      "execution_count": null,
      "metadata": {
        "id": "R-c8QNZarw18"
      },
      "outputs": [],
      "source": []
    },
    {
      "cell_type": "code",
      "execution_count": null,
      "metadata": {
        "id": "1dQCJzmbs-Cf"
      },
      "outputs": [],
      "source": []
    },
    {
      "cell_type": "code",
      "execution_count": null,
      "metadata": {
        "id": "51EE5AxrtXhb"
      },
      "outputs": [],
      "source": []
    },
    {
      "cell_type": "markdown",
      "metadata": {
        "id": "q-YDUdmW6nhD"
      },
      "source": [
        "#### Excercise 7: Draw a line plot for Attack, Defense in matplotlib, sns"
      ]
    },
    {
      "cell_type": "code",
      "execution_count": null,
      "metadata": {
        "id": "wa8Uqgao6nhE",
        "scrolled": true
      },
      "outputs": [],
      "source": []
    },
    {
      "cell_type": "code",
      "execution_count": null,
      "metadata": {
        "id": "2nzJKeiu6nhE",
        "scrolled": true
      },
      "outputs": [],
      "source": []
    },
    {
      "cell_type": "code",
      "execution_count": null,
      "metadata": {
        "id": "szJcurXM6nhE"
      },
      "outputs": [],
      "source": []
    },
    {
      "cell_type": "markdown",
      "metadata": {
        "id": "TZdhIEaP6nhE"
      },
      "source": [
        "#### Excercise 8: Draw box plot"
      ]
    },
    {
      "cell_type": "code",
      "execution_count": null,
      "metadata": {
        "id": "TiL0L69-6nhE",
        "scrolled": true
      },
      "outputs": [],
      "source": []
    },
    {
      "cell_type": "code",
      "execution_count": null,
      "metadata": {
        "colab": {
          "base_uri": "https://localhost:8080/"
        },
        "id": "A4mVD3SivWiS",
        "outputId": "ed685874-7e6a-4373-a671-ab943ffae8f4"
      },
      "outputs": [
        {
          "data": {
            "text/plain": [
              "407.0794701986755"
            ]
          },
          "execution_count": 40,
          "metadata": {},
          "output_type": "execute_result"
        }
      ],
      "source": [
        "pokemon_df['Total'].mean()"
      ]
    },
    {
      "cell_type": "code",
      "execution_count": null,
      "metadata": {
        "colab": {
          "base_uri": "https://localhost:8080/"
        },
        "id": "7lWe4JbRvfMR",
        "outputId": "b9047fab-3e65-45b9-dde4-2505d6294655"
      },
      "outputs": [
        {
          "data": {
            "text/plain": [
              "405.0"
            ]
          },
          "execution_count": 41,
          "metadata": {},
          "output_type": "execute_result"
        }
      ],
      "source": [
        "pokemon_df['Total'].median()"
      ]
    },
    {
      "cell_type": "code",
      "execution_count": null,
      "metadata": {
        "id": "cbPDStaE6nhE"
      },
      "outputs": [],
      "source": []
    },
    {
      "cell_type": "code",
      "execution_count": null,
      "metadata": {
        "id": "_hDBGBmSw9y8"
      },
      "outputs": [],
      "source": []
    },
    {
      "cell_type": "markdown",
      "metadata": {
        "id": "iNGEJvnt6nhE"
      },
      "source": [
        "#### Excercise 9: Draw a box plot for Attack, Defense in matplotlib and sns"
      ]
    },
    {
      "cell_type": "code",
      "execution_count": null,
      "metadata": {
        "id": "oVnpsg2W6nhE"
      },
      "outputs": [],
      "source": []
    },
    {
      "cell_type": "code",
      "execution_count": null,
      "metadata": {
        "id": "oZJRcR136nhF",
        "scrolled": true
      },
      "outputs": [],
      "source": []
    },
    {
      "cell_type": "markdown",
      "metadata": {
        "id": "gX-9dn9B6nhF"
      },
      "source": [
        "#### Excercise 10: Draw distribution plots"
      ]
    },
    {
      "cell_type": "markdown",
      "metadata": {
        "id": "TUJ5YPKIzBDX"
      },
      "source": [
        "### Exercise 10.2 * Draw three stage pokemon distributions of Total with only dataframe manipulation"
      ]
    },
    {
      "cell_type": "markdown",
      "metadata": {
        "id": "nQezj_kF6nhF"
      },
      "source": [
        "#### Excercise 11: Draw a distribution plot for Attack and Defense in matplotlib and sns"
      ]
    },
    {
      "cell_type": "markdown",
      "metadata": {
        "id": "_bsW-Kbs6nhG"
      },
      "source": [
        "#### Excercise 12: Draw axis and legend control plots"
      ]
    },
    {
      "cell_type": "markdown",
      "metadata": {
        "id": "cGe72zbM6nhH"
      },
      "source": [
        "#### Excercise 13: Draw a plot for Attack and Sp_Def in matplotlib with both working methods and sns\n",
        "\n",
        "\n"
      ]
    },
    {
      "cell_type": "markdown",
      "metadata": {
        "id": "1ZMyodBi6nhH"
      },
      "source": [
        "#### Excercise 14: Draw text control plots"
      ]
    },
    {
      "cell_type": "markdown",
      "metadata": {
        "id": "v25irnir6nhH"
      },
      "source": [
        "#### Excercise 15: Draw a text for Sp_Atk and Sp_Def scatterplot in matplotlib"
      ]
    },
    {
      "cell_type": "markdown",
      "metadata": {
        "id": "KsquMta96nhI"
      },
      "source": [
        "#### Excercise 16: Draw palette control plots"
      ]
    },
    {
      "cell_type": "markdown",
      "metadata": {
        "id": "5IRGWVCc6nhI"
      },
      "source": [
        "#### Excercise 17: Draw a controleed palette for Sp_Atk and Sp_Def scatterplot in matplotlib"
      ]
    },
    {
      "cell_type": "markdown",
      "metadata": {
        "id": "p4Mr-Pus6nhJ"
      },
      "source": [
        "#### Excercise 18: Draw a plot layuout\n"
      ]
    },
    {
      "cell_type": "markdown",
      "metadata": {
        "id": "cfCN8T3V6nhJ"
      },
      "source": [
        "#### Excercise 19: Draw all distributions for all features"
      ]
    },
    {
      "cell_type": "markdown",
      "metadata": {
        "id": "9IzmMtWd6nhJ"
      },
      "source": [
        "#### Excercise 20: Draw all HP distibutions for all pokemon Types 1 and 2"
      ]
    },
    {
      "cell_type": "markdown",
      "metadata": {
        "id": "LYXHQI03ByON"
      },
      "source": [
        "### Exercise 20.1 Analyze Atacking pokemons and Healthy pokemons\n",
        "\n",
        "Atacking pokemon is a pockemon with more attack than defense\n",
        "Attack type 1 -- Attack < 0.33 of defense\n",
        "Attack type 3 -- Attack >= 0.66 of degense\n",
        "Attack type 2 -- everything else\n",
        "\n",
        "Healthy pokemons are pokemos having twice as many health as attack\n",
        "\n",
        "You to draw a set of scatterpolots between Sp Attack and Special defense for all types of Atacking pockemons and Healthy pockemons"
      ]
    },
    {
      "cell_type": "markdown",
      "metadata": {
        "id": "lBZYjk6E6nhK"
      },
      "source": [
        "#### Excercise 21: Write result of the drawing to image in the following example"
      ]
    },
    {
      "cell_type": "markdown",
      "metadata": {
        "id": "jOUPqoOS6nhK"
      },
      "source": [
        "![](matplotlib_test.png 'Pokemon stats')"
      ]
    },
    {
      "cell_type": "markdown",
      "metadata": {
        "id": "WuUUtcRG6nhK"
      },
      "source": [
        "#### Excercise 22: Draw all histograms for all parameters on one plot and save them to image [sns|plt]_histograms.png"
      ]
    },
    {
      "cell_type": "markdown",
      "metadata": {
        "id": "GawaTO7VNYSb"
      },
      "source": [
        "### Exercise 22.2 Output to image results on Attacking type pokemons and Healthy pokemons"
      ]
    },
    {
      "cell_type": "markdown",
      "metadata": {
        "id": "Iq82vgkM6nhK"
      },
      "source": [
        "#### Excercise 23: Perform hoover image"
      ]
    },
    {
      "cell_type": "markdown",
      "metadata": {
        "id": "GGWNGgjE6nhL"
      },
      "source": [
        "#### Excercise 24: Create hoover image for Sp_Atk, Sp_Def pair and Stage, HP parameters"
      ]
    },
    {
      "cell_type": "markdown",
      "metadata": {
        "id": "CYwaojYn6nhL"
      },
      "source": [
        "#### Excercise 25: Perform selection trick"
      ]
    },
    {
      "cell_type": "code",
      "execution_count": null,
      "metadata": {
        "id": "lM7WhIZO6nhL"
      },
      "outputs": [],
      "source": [
        "%%html\n",
        "<iframe src=\"Bokeh_Pokemon.html\" height=500 width=800></iframe>"
      ]
    },
    {
      "cell_type": "markdown",
      "metadata": {
        "id": "DQmn2bSL6nhL"
      },
      "source": [
        "#### Excercise 26: Create selection effect for Sp_Atk, Sp_Def pair and Stage, HP parameters"
      ]
    },
    {
      "cell_type": "markdown",
      "metadata": {
        "id": "wwYZtuCh6nhL"
      },
      "source": [
        "#### Excercise 27: Perform double selection trick"
      ]
    },
    {
      "cell_type": "markdown",
      "metadata": {
        "id": "QKhZA3N19F15"
      },
      "source": [
        "### Exercise 28. Pandas profiling\n",
        "\n",
        "https://pandas-profiling.ydata.ai/docs/master/index.html\n",
        "\n",
        "\n",
        "https://pandas-profiling.ydata.ai/docs/master/pages/getting_started/examples.html"
      ]
    },
    {
      "cell_type": "markdown",
      "metadata": {
        "id": "4Rck1hnpLaaI"
      },
      "source": [
        "### Exercise 29. Plotly example (that works in colab)"
      ]
    },
    {
      "cell_type": "markdown",
      "metadata": {
        "id": "Pc4Zav4wLmo9"
      },
      "source": [
        "### Awesome examples of visualization with matplotlib\n",
        "\n",
        "https://www.machinelearningplus.com/plots/top-50-matplotlib-visualizations-the-master-plots-python/"
      ]
    },
    {
      "cell_type": "code",
      "execution_count": null,
      "metadata": {
        "id": "C_KcsxLoLxdV"
      },
      "outputs": [],
      "source": []
    }
  ]
}