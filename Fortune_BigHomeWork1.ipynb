{
  "nbformat": 4,
  "nbformat_minor": 0,
  "metadata": {
    "colab": {
      "provenance": [],
      "collapsed_sections": [
        "KlcouHeqYZDn",
        "wCobAo3iYZDy"
      ],
      "include_colab_link": true
    },
    "kernelspec": {
      "name": "python3",
      "display_name": "Python 3"
    },
    "language_info": {
      "name": "python"
    }
  },
  "cells": [
    {
      "cell_type": "markdown",
      "metadata": {
        "id": "view-in-github",
        "colab_type": "text"
      },
      "source": [
        "<a href=\"https://colab.research.google.com/github/fortune-max/M4-python-refresher-ml/blob/main/Fortune_BigHomeWork1.ipynb\" target=\"_parent\"><img src=\"https://colab.research.google.com/assets/colab-badge.svg\" alt=\"Open In Colab\"/></a>"
      ]
    },
    {
      "cell_type": "markdown",
      "source": [
        "# Basic operations"
      ],
      "metadata": {
        "id": "BfF3iR5BWAvq"
      }
    },
    {
      "cell_type": "markdown",
      "source": [
        "## Mount"
      ],
      "metadata": {
        "id": "Y6ehtv2tV7k8"
      }
    },
    {
      "cell_type": "markdown",
      "source": [
        "#### Exercise 1.0:  Mount to gdrive and copy FOLDER data to the current directory"
      ],
      "metadata": {
        "id": "hIUvCdFuQsbF"
      }
    },
    {
      "cell_type": "code",
      "source": [
        "# write your code here\n",
        "from google.colab import drive\n",
        "drive.mount('/content/gdrive', force_remount=True)\n",
        "!cp /content/gdrive/MyDrive/DS404/DS404_Classwork/BHW/* ."
      ],
      "metadata": {
        "id": "8SsMfnUxRO5a",
        "outputId": "040f7c09-4b81-466d-c909-e0fb26e72172",
        "colab": {
          "base_uri": "https://localhost:8080/"
        }
      },
      "execution_count": 2,
      "outputs": [
        {
          "output_type": "stream",
          "name": "stdout",
          "text": [
            "Mounted at /content/gdrive\n"
          ]
        }
      ]
    },
    {
      "cell_type": "markdown",
      "source": [
        "#### Exercise 1.1:  Display a list of all hidden files in the current directory"
      ],
      "metadata": {
        "id": "2CAJnkxUQ7zI"
      }
    },
    {
      "cell_type": "code",
      "source": [
        "# write your code here\n",
        "!ls -d .*\n",
        "# explain the result\n",
        "'''\n",
        "This prints all files in the current directory which match the regex pattern supplied to the ls command.\n",
        "In this case this is all files starting with a dot.\n",
        "The -d argument means that if the entry is a directory, its contents should not be ouptut.\n",
        "The results are:\n",
        ". (current directory)\n",
        ".. (previous directory)\n",
        ".config (a hidden file)\n",
        "'''"
      ],
      "metadata": {
        "id": "YgcS6qmiRlsX",
        "outputId": "a17703c4-96b1-4e38-f332-e3685baf8388",
        "colab": {
          "base_uri": "https://localhost:8080/"
        }
      },
      "execution_count": 20,
      "outputs": [
        {
          "output_type": "stream",
          "name": "stdout",
          "text": [
            ".  ..  .config\n"
          ]
        }
      ]
    },
    {
      "cell_type": "markdown",
      "source": [
        "## Alice dataset"
      ],
      "metadata": {
        "id": "XW6IAHbiMLU0"
      }
    },
    {
      "cell_type": "markdown",
      "metadata": {
        "id": "Q5AcOAWnYZCZ"
      },
      "source": [
        "#### Exercise 2.1: Read files with Alice quotes to dict: key = filename, value = text"
      ]
    },
    {
      "cell_type": "code",
      "source": [
        "# write your code here\n"
      ],
      "metadata": {
        "id": "I7OYquVwQEaw"
      },
      "execution_count": null,
      "outputs": []
    },
    {
      "cell_type": "markdown",
      "metadata": {
        "id": "ZkhOFANDYZCk"
      },
      "source": [
        "#### Exercise 2.2: Modify the code so only non single line citations will be prenet"
      ]
    },
    {
      "cell_type": "code",
      "source": [
        "# write your code here\n"
      ],
      "metadata": {
        "id": "G0Qo6WYUQE8X"
      },
      "execution_count": null,
      "outputs": []
    },
    {
      "cell_type": "markdown",
      "metadata": {
        "id": "EyomeQv_YZCn"
      },
      "source": [
        "#### Exercise 2.3. Use grep console function select only lines with Alice string present"
      ]
    },
    {
      "cell_type": "code",
      "metadata": {
        "scrolled": true,
        "id": "cmOFcYruYZCo"
      },
      "source": [
        "# write your code here\n"
      ],
      "execution_count": null,
      "outputs": []
    },
    {
      "cell_type": "markdown",
      "metadata": {
        "id": "MsbeaRWPYZCq"
      },
      "source": [
        "## Working with datasets"
      ]
    },
    {
      "cell_type": "markdown",
      "source": [
        "### Titanic"
      ],
      "metadata": {
        "id": "p10F0OayYD9L"
      }
    },
    {
      "cell_type": "markdown",
      "metadata": {
        "id": "CM-fdZQpYZCr"
      },
      "source": [
        "#### Exercise 3.1 import pandas"
      ]
    },
    {
      "cell_type": "code",
      "metadata": {
        "collapsed": true,
        "id": "x9_WSx3aYZCr"
      },
      "source": [
        "# write your code here\n"
      ],
      "execution_count": null,
      "outputs": []
    },
    {
      "cell_type": "markdown",
      "metadata": {
        "id": "W7-xAXvpYZCu"
      },
      "source": [
        "#### Exercise 3.2 read dataset with pandas"
      ]
    },
    {
      "cell_type": "code",
      "metadata": {
        "scrolled": true,
        "id": "6j9NrxVWYZCu"
      },
      "source": [
        "# write your code here\n"
      ],
      "execution_count": null,
      "outputs": []
    },
    {
      "cell_type": "markdown",
      "metadata": {
        "id": "TDa7LaNTYZCx"
      },
      "source": [
        "#### Exercise 3.3 get overall infromation from dataset via pandas"
      ]
    },
    {
      "cell_type": "code",
      "source": [
        "# write your code here (at least 2 methods)\n",
        "\n",
        "# what are the difference?\n"
      ],
      "metadata": {
        "id": "PaafRjnvRtOy"
      },
      "execution_count": null,
      "outputs": []
    },
    {
      "cell_type": "markdown",
      "metadata": {
        "id": "Ll926N8fajtO"
      },
      "source": [
        "#### Exercise 3.4: Extract last digit from PassengerId and put it to PassengerIdChunk variable"
      ]
    },
    {
      "cell_type": "code",
      "source": [
        "# write your code here\n"
      ],
      "metadata": {
        "id": "NKWbkpB9YHVY"
      },
      "execution_count": null,
      "outputs": []
    },
    {
      "cell_type": "markdown",
      "metadata": {
        "id": "2xr6J0oHajtP"
      },
      "source": [
        "#### Exercise 3.5: Extract last digit from index and put it to IndexChunk variable"
      ]
    },
    {
      "cell_type": "code",
      "source": [
        "# write your code here\n"
      ],
      "metadata": {
        "id": "j2bEadtoYJDg"
      },
      "execution_count": null,
      "outputs": []
    },
    {
      "cell_type": "markdown",
      "metadata": {
        "id": "1zoVTAsKajtP"
      },
      "source": [
        "#### Exercise 3.6: For all passengers with IndexChunk == 6 add string with Age to passsenger name"
      ]
    },
    {
      "cell_type": "code",
      "source": [
        "# write your code here\n"
      ],
      "metadata": {
        "id": "82cirYiYYJlN"
      },
      "execution_count": null,
      "outputs": []
    },
    {
      "cell_type": "markdown",
      "metadata": {
        "id": "_fa5yEOIajtQ"
      },
      "source": [
        "#### Exercise 3.7:  Agregate passengers on PassegnerIdChunk, compute string join of all ticket names for given chunk"
      ]
    },
    {
      "cell_type": "code",
      "source": [
        "# write your code here\n"
      ],
      "metadata": {
        "id": "RTAjnbUFYKFY"
      },
      "execution_count": null,
      "outputs": []
    },
    {
      "cell_type": "code",
      "source": [],
      "metadata": {
        "id": "rS4fQIxrOtqY"
      },
      "execution_count": null,
      "outputs": []
    },
    {
      "cell_type": "markdown",
      "source": [
        "### University data\n"
      ],
      "metadata": {
        "id": "b_NH0WN4ar26"
      }
    },
    {
      "cell_type": "markdown",
      "metadata": {
        "id": "ShzIg6QUV_u9"
      },
      "source": [
        "#### Exercise 3.8: Download and load university.data dataset\n",
        "- link: https://archive.ics.uci.edu/ml/machine-learning-databases/university/university.data"
      ]
    },
    {
      "cell_type": "code",
      "execution_count": null,
      "metadata": {
        "id": "vUAzt1QOV_u9"
      },
      "outputs": [],
      "source": [
        "# write your code here\n"
      ]
    },
    {
      "cell_type": "markdown",
      "metadata": {
        "id": "SpsfedgLV_u_"
      },
      "source": [
        "#### Exercise 3.9: Extract parent objects from the dataset"
      ]
    },
    {
      "cell_type": "code",
      "execution_count": null,
      "metadata": {
        "id": "jaoefv-kV_u_"
      },
      "outputs": [],
      "source": [
        "# write your code here\n"
      ]
    },
    {
      "cell_type": "markdown",
      "metadata": {
        "id": "9Np1hwLYV_vA"
      },
      "source": [
        "#### Exercise 3.10: Extract lisp data from it\n"
      ]
    },
    {
      "cell_type": "markdown",
      "source": [
        "it should look like this:\n",
        "![image.png](data:image/png;base64,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)"
      ],
      "metadata": {
        "id": "M78h4IyDLkf5"
      }
    },
    {
      "cell_type": "code",
      "execution_count": null,
      "metadata": {
        "id": "at4-CDJQV_vA"
      },
      "outputs": [],
      "source": [
        "# write your code here\n"
      ]
    },
    {
      "cell_type": "markdown",
      "metadata": {
        "id": "Ese-z-BLV_vB"
      },
      "source": [
        "#### Exercise 3.11: Extract subdatasets for the universities"
      ]
    },
    {
      "cell_type": "code",
      "execution_count": null,
      "metadata": {
        "id": "UNGTeb4UV_vB"
      },
      "outputs": [],
      "source": [
        "# write your code here\n"
      ]
    },
    {
      "cell_type": "markdown",
      "metadata": {
        "id": "q3qmmS-KV_vB"
      },
      "source": [
        "#### Exercise 3.12*: Merge dataset for all universities"
      ]
    },
    {
      "cell_type": "code",
      "execution_count": null,
      "metadata": {
        "id": "1PrgWD8lV_vB"
      },
      "outputs": [],
      "source": [
        "cumulative_bringed = pd.DataFrame(columns = uni_data_df['lisp_A'].unique())\n",
        "# write your code here\n"
      ]
    },
    {
      "cell_type": "markdown",
      "source": [
        "## Pokemon"
      ],
      "metadata": {
        "id": "QRPkVN8WO4vY"
      }
    },
    {
      "cell_type": "markdown",
      "source": [
        "#### Read pokemon_m dataset"
      ],
      "metadata": {
        "id": "DcAvmvSiedjr"
      }
    },
    {
      "cell_type": "markdown",
      "source": [
        "#### Exercise 3.13: Visualize pairwise distributions for all pairs of numeric parameters"
      ],
      "metadata": {
        "id": "dtoQge43fQS0"
      }
    },
    {
      "cell_type": "code",
      "source": [
        "# write your code here\n"
      ],
      "metadata": {
        "id": "E-mriGIQPAFb"
      },
      "execution_count": null,
      "outputs": []
    },
    {
      "cell_type": "markdown",
      "source": [
        "#### Exercise 3.14: Output results of visualization to .png"
      ],
      "metadata": {
        "id": "wuFfy8nhfnts"
      }
    },
    {
      "cell_type": "code",
      "source": [
        "# write your code here\n"
      ],
      "metadata": {
        "id": "WIbI7bYjPFZ0"
      },
      "execution_count": null,
      "outputs": []
    },
    {
      "cell_type": "markdown",
      "source": [
        "#### Exercise 3.15: For all pairs of features compute histograms, distributions and pairwise scatter, output it to set of files with names of pairs of column names"
      ],
      "metadata": {
        "id": "XZRCETgOgP5_"
      }
    },
    {
      "cell_type": "markdown",
      "source": [
        "#### Excercise 3.16: Draw  two subplots for Attack and Sp_Def in matplotlib and sns"
      ],
      "metadata": {
        "id": "26L7hvW4QTWI"
      }
    },
    {
      "cell_type": "code",
      "source": [
        "# write your code here\n"
      ],
      "metadata": {
        "id": "SvrE0yO1PFvw"
      },
      "execution_count": null,
      "outputs": []
    },
    {
      "cell_type": "markdown",
      "source": [
        "#### Excercise 3.17*: Draw two subplots with customized size of plots, shared \"y\" axes and grid for Attack and Sp_Def in matplotlib and sns. Write down all names: axes, title, legend. For every Type_2 use a unique color."
      ],
      "metadata": {
        "id": "art3n3FRQmyb"
      }
    },
    {
      "cell_type": "code",
      "source": [
        "# write your code here\n"
      ],
      "metadata": {
        "id": "m9UmSBZsQmyr"
      },
      "execution_count": null,
      "outputs": []
    },
    {
      "cell_type": "markdown",
      "source": [
        "## Iris"
      ],
      "metadata": {
        "id": "Vn1Q7at9Rj_X"
      }
    },
    {
      "cell_type": "markdown",
      "metadata": {
        "id": "Awgyhj7Mflyl"
      },
      "source": [
        "#### Exercise 3.18: Import iris datasets from sklearn"
      ]
    },
    {
      "cell_type": "code",
      "execution_count": null,
      "metadata": {
        "id": "E1fVhknAflym"
      },
      "outputs": [],
      "source": [
        "# write your code here\n"
      ]
    },
    {
      "cell_type": "markdown",
      "source": [
        "#### Exersice 3.19:\n",
        "- get data and target\n",
        "- check types\n",
        "- concatenate iris data and target\n",
        "- print target names and description of the dataset"
      ],
      "metadata": {
        "id": "i8ddHsR-SB1H"
      }
    },
    {
      "cell_type": "code",
      "source": [
        "# write your code here\n"
      ],
      "metadata": {
        "id": "D5XlIE8MSpHV"
      },
      "execution_count": null,
      "outputs": []
    },
    {
      "cell_type": "markdown",
      "source": [
        "#### Exersice 3.20: Create a DataFrame and name colums how they are named in the dataset"
      ],
      "metadata": {
        "id": "NEB6oSpWSssb"
      }
    },
    {
      "cell_type": "code",
      "source": [
        "# write your code here\n"
      ],
      "metadata": {
        "id": "tckZ9DeqSrmt"
      },
      "execution_count": null,
      "outputs": []
    },
    {
      "cell_type": "markdown",
      "source": [
        "#### Exersice 3.21:  Do classification using linear regression\n",
        "- split data to train/test\n",
        "- create Pipeline\n",
        "- do prediction\n",
        "- compare with answers\n"
      ],
      "metadata": {
        "id": "YEjUsCR-TF7i"
      }
    },
    {
      "cell_type": "code",
      "source": [
        "# write your code here\n"
      ],
      "metadata": {
        "id": "A3e_y5CUUyzY"
      },
      "execution_count": null,
      "outputs": []
    },
    {
      "cell_type": "markdown",
      "source": [
        "#### Exersice 3.22*:  Do classification using KNN\n",
        "- split data to train/test\n",
        "- create Pipeline\n",
        "- do prediction (find what you can classify in the dataset)\n",
        "- use [metrics](https://scikit-learn.org/stable/modules/model_evaluation.html) to check your result\n",
        "- try to make a better prediction"
      ],
      "metadata": {
        "id": "78L1C8WnU6fl"
      }
    },
    {
      "cell_type": "code",
      "source": [
        "# write your code here\n"
      ],
      "metadata": {
        "id": "bEEMVGHnU6f4"
      },
      "execution_count": null,
      "outputs": []
    },
    {
      "cell_type": "markdown",
      "metadata": {
        "id": "pdDHBrdUYZC2"
      },
      "source": [
        "## Jupyter magic commands"
      ]
    },
    {
      "cell_type": "markdown",
      "metadata": {
        "id": "Caz_QfifYZC2"
      },
      "source": [
        "#### Execrcise 4.1: Measure time requered for the following operaton"
      ]
    },
    {
      "cell_type": "code",
      "metadata": {
        "id": "4HXF-zdjYZC5"
      },
      "source": [
        "# write your code here\n",
        "\n",
        "dir_array = []\n",
        "dir_list = os.listdir(\"../\")\n",
        "for filename in dir_list:\n",
        "    if os.path.isdir( os.path.join(\"..\", filename) ):\n",
        "        dir_array.append(filename)\n"
      ],
      "execution_count": null,
      "outputs": []
    },
    {
      "cell_type": "markdown",
      "metadata": {
        "id": "RBVKzTjGYZC7"
      },
      "source": [
        "#### Execrcise 4.2: Measure average time requered for the following operaton"
      ]
    },
    {
      "cell_type": "code",
      "metadata": {
        "id": "TmCbLadQYZC8"
      },
      "source": [
        "# write your code here\n",
        "\n",
        "dir_array = []\n",
        "dir_list = os.listdir(\"../\")\n",
        "for filename in dir_list:\n",
        "    if os.path.isdir( os.path.join(\"..\", filename) ):\n",
        "        dir_array.append(filename)\n"
      ],
      "execution_count": null,
      "outputs": []
    },
    {
      "cell_type": "markdown",
      "metadata": {
        "id": "ytfrTPj_YZC_"
      },
      "source": [
        "#### Exercise 4.3: Extract array of system pathes from environment variable PATH"
      ]
    },
    {
      "cell_type": "code",
      "metadata": {
        "id": "8WJAHYcUYZC_"
      },
      "source": [
        "# write your code here\n",
        "# PATH_string =\n",
        "\n",
        "PATH_string.split(\":\")"
      ],
      "execution_count": null,
      "outputs": []
    },
    {
      "cell_type": "markdown",
      "metadata": {
        "id": "Bklk-kH8YZDD"
      },
      "source": [
        "#### Exercise 4.4: Put your canvas login to environment variable MY_CANVAS_ID"
      ]
    },
    {
      "cell_type": "code",
      "metadata": {
        "id": "zi0cI06QYZDD"
      },
      "source": [
        "# write your code here\n"
      ],
      "execution_count": null,
      "outputs": []
    },
    {
      "cell_type": "markdown",
      "metadata": {
        "id": "jESxaK0eYZDX"
      },
      "source": [
        "#### Exercise 4.5: Create file imports.py with writefile"
      ]
    },
    {
      "cell_type": "code",
      "metadata": {
        "id": "DlRm1ojyYZDX"
      },
      "source": [
        "# write your code here\n"
      ],
      "execution_count": null,
      "outputs": []
    },
    {
      "cell_type": "markdown",
      "metadata": {
        "id": "5LO-g-WFYZDe"
      },
      "source": [
        "#### Exercise 4.6: Apend a line to file imports.py"
      ]
    },
    {
      "cell_type": "code",
      "source": [
        "# write your code here\n"
      ],
      "metadata": {
        "id": "kMsRZMD9TRmg"
      },
      "execution_count": null,
      "outputs": []
    },
    {
      "cell_type": "markdown",
      "metadata": {
        "id": "YUx5W9exYZDh"
      },
      "source": [
        "#### Exercise 4.7: Load saved file imports.py to notebook cell"
      ]
    },
    {
      "cell_type": "code",
      "source": [
        "# write your code here\n"
      ],
      "metadata": {
        "id": "gWu0eDqpTdop"
      },
      "execution_count": null,
      "outputs": []
    },
    {
      "cell_type": "markdown",
      "metadata": {
        "id": "GUuKLM_vYZDk"
      },
      "source": [
        "#### Exercise 4.8: Run saved file imports.py without loading it"
      ]
    },
    {
      "cell_type": "code",
      "metadata": {
        "id": "BuRHwz9tYZDl"
      },
      "source": [
        "# write your code here\n"
      ],
      "execution_count": null,
      "outputs": []
    },
    {
      "cell_type": "markdown",
      "source": [
        "#### Exercise 4.9*: What is the difference between load and run magic command?"
      ],
      "metadata": {
        "id": "SOXL4NSD0rt9"
      }
    },
    {
      "cell_type": "code",
      "source": [
        "# write your explanation here\n"
      ],
      "metadata": {
        "id": "rtkZWssYTrqd"
      },
      "execution_count": null,
      "outputs": []
    },
    {
      "cell_type": "markdown",
      "metadata": {
        "id": "KlcouHeqYZDn"
      },
      "source": [
        "## HTML and JavaScript"
      ]
    },
    {
      "cell_type": "markdown",
      "metadata": {
        "id": "xjq5ifxAYZDn"
      },
      "source": [
        "#### Exercise 5.1: Modify following HTML execution by adding html table"
      ]
    },
    {
      "cell_type": "code",
      "metadata": {
        "scrolled": true,
        "id": "IQSxF_hzYZDo"
      },
      "source": [
        "%%HTML\n",
        "<b> Hello world!</b>\n",
        "<br>\n",
        "<a href='http://www.yandex.ru' target=\"_tab\"> <font color='red'>Y</font><font color='black'>andex.ru</font></a>\n",
        "# write your code here\n"
      ],
      "execution_count": null,
      "outputs": []
    },
    {
      "cell_type": "markdown",
      "metadata": {
        "id": "d0AEC-SsYZDr"
      },
      "source": [
        "#### Exercise 5.2: Add several iframes to the following HTML code"
      ]
    },
    {
      "cell_type": "code",
      "metadata": {
        "scrolled": true,
        "id": "MIT2p03GYZDs"
      },
      "source": [
        "%%HTML\n",
        "\n",
        "<iframe width=\"560\" height=\"315\" src=\"https://www.youtube.com/embed/zLRifWZihag\" title=\"YouTube video player\" frameborder=\"0\" allow=\"accelerometer; autoplay; clipboard-write; encrypted-media; gyroscope; picture-in-picture\" allowfullscreen></iframe>\n",
        "# write your code here\n"
      ],
      "execution_count": null,
      "outputs": []
    },
    {
      "cell_type": "markdown",
      "metadata": {
        "id": "wCobAo3iYZDy"
      },
      "source": [
        "## Markdowns"
      ]
    },
    {
      "cell_type": "markdown",
      "metadata": {
        "id": "ppD_kgJnYZDy"
      },
      "source": [
        "#### Exercise 6.1: Add image through markdown syntax"
      ]
    },
    {
      "cell_type": "markdown",
      "metadata": {
        "id": "9bF33-9bYZD0"
      },
      "source": []
    },
    {
      "cell_type": "markdown",
      "metadata": {
        "id": "kCEoAGZqYZD0"
      },
      "source": [
        "#### Exercise 6.2: Add table 2x3 through markdown syntax"
      ]
    },
    {
      "cell_type": "markdown",
      "metadata": {
        "id": "TfdsXypEYZD1"
      },
      "source": []
    },
    {
      "cell_type": "markdown",
      "metadata": {
        "id": "sDxb49J6YZD1"
      },
      "source": [
        "#### Exercise 6.3: Write a mean() formula usying TeX"
      ]
    },
    {
      "cell_type": "markdown",
      "metadata": {
        "id": "xFcEYf5xYZD2"
      },
      "source": []
    },
    {
      "cell_type": "markdown",
      "metadata": {
        "id": "kViv9pFEYZEC"
      },
      "source": [
        "## Debugging"
      ]
    },
    {
      "cell_type": "markdown",
      "metadata": {
        "id": "n7hvMkHDYZEC"
      },
      "source": [
        "#### Exercise 7.1 switch debug mode on"
      ]
    },
    {
      "cell_type": "code",
      "metadata": {
        "id": "sMJiJAiQYZEC"
      },
      "source": [
        "# write your code here\n"
      ],
      "execution_count": null,
      "outputs": []
    },
    {
      "cell_type": "markdown",
      "source": [
        "\n",
        "d -- go down 1 level\n",
        "\n",
        "u -- go up 1 level\n",
        "\n",
        "l 17,23 -- list lines 17,23 of current file\n"
      ],
      "metadata": {
        "id": "_6ETDathEJcx"
      }
    },
    {
      "cell_type": "markdown",
      "metadata": {
        "id": "ciP3QJSXYZEE"
      },
      "source": [
        "#### Exercise 7.2 debug the following code and write listing to the following cell"
      ]
    },
    {
      "cell_type": "code",
      "metadata": {
        "id": "knSlbSMQYZEE"
      },
      "source": [
        "cumulative_array = []\n",
        "\n",
        "def process_i(i):\n",
        "    j = i*i\n",
        "    assert i<50\n",
        "    return j\n",
        "\n",
        "for i in range(100):\n",
        "    cumulative_array.append(process_i(i))\n"
      ],
      "execution_count": null,
      "outputs": []
    },
    {
      "cell_type": "code",
      "metadata": {
        "id": "74NUYzI3YZEG"
      },
      "source": [
        "#write output here\n"
      ],
      "execution_count": null,
      "outputs": []
    },
    {
      "cell_type": "markdown",
      "source": [
        "## Working with images"
      ],
      "metadata": {
        "id": "8HDBQEAkOUAU"
      }
    },
    {
      "cell_type": "markdown",
      "source": [
        "#### Exercise 8.1: Open an apple.png picture and show it"
      ],
      "metadata": {
        "id": "Um5B-AhxNVq4"
      }
    },
    {
      "cell_type": "code",
      "source": [
        "# write your code here\n"
      ],
      "metadata": {
        "id": "WWk7CqVOOnZu"
      },
      "execution_count": null,
      "outputs": []
    },
    {
      "cell_type": "markdown",
      "source": [
        "#### Exercise 8.2* Draw the segmentation map for apple"
      ],
      "metadata": {
        "id": "xjoSPPlmccne"
      }
    },
    {
      "cell_type": "code",
      "source": [
        "# write your code here\n"
      ],
      "metadata": {
        "id": "2yYD55ZIOnB-"
      },
      "execution_count": null,
      "outputs": []
    },
    {
      "cell_type": "markdown",
      "source": [
        "#### Exercise 8.3*: Create a simple detector of apple image seminar using numpy, that outputs most probable coordinates of apple on the image. Try using only native to numpy methods."
      ],
      "metadata": {
        "id": "ZcOgwwOLcaoD"
      }
    },
    {
      "cell_type": "code",
      "source": [
        "# write your code here\n"
      ],
      "metadata": {
        "id": "v4ZrRBRXOguo"
      },
      "execution_count": null,
      "outputs": []
    },
    {
      "cell_type": "markdown",
      "source": [
        "## Numpy operations"
      ],
      "metadata": {
        "id": "jsnXY2dSV6sn"
      }
    },
    {
      "cell_type": "markdown",
      "source": [
        "####  Exercise 9.1: Create a 3D array of shape (4, 5, 6) with random integers. Extract all elements at odd indices along each axis and reshape the resulting array into a 1D array."
      ],
      "metadata": {
        "id": "0h-N7TJqV8uf"
      }
    },
    {
      "cell_type": "code",
      "source": [],
      "metadata": {
        "id": "SpRPPpn8WqQw"
      },
      "execution_count": null,
      "outputs": []
    },
    {
      "cell_type": "markdown",
      "source": [
        "\n",
        "#### Exercise 9.2. Write a NumPy program to create a 5x5 array with random values and replace the maximum value with 0.\n"
      ],
      "metadata": {
        "id": "c6SaGq_CWwY7"
      }
    },
    {
      "cell_type": "code",
      "source": [],
      "metadata": {
        "id": "eijRS_LEW0kK"
      },
      "execution_count": null,
      "outputs": []
    },
    {
      "cell_type": "markdown",
      "source": [
        "#### Exercise 9.3: Create a 3x3 matrix with values 1, 2, 3 on the diagonal and zeros elsewhere."
      ],
      "metadata": {
        "id": "K3DCFREPW5Oh"
      }
    },
    {
      "cell_type": "code",
      "source": [],
      "metadata": {
        "id": "Hf62bJmBW8I_"
      },
      "execution_count": null,
      "outputs": []
    },
    {
      "cell_type": "markdown",
      "source": [
        "#### Exercise 9.4*: Create a 2D array matrix1 of shape (3, 4) and a 1D array array2 of shape (5,). Concatenate them along axis 0 to form a new 2D array. Be mindful of the axis and shape compatibility."
      ],
      "metadata": {
        "id": "4BAVFuE6XTyu"
      }
    },
    {
      "cell_type": "code",
      "source": [],
      "metadata": {
        "id": "vH7MV9i4XXN7"
      },
      "execution_count": null,
      "outputs": []
    }
  ]
}