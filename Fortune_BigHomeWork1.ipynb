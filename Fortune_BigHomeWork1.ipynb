{
  "cells": [
    {
      "cell_type": "markdown",
      "metadata": {
        "colab_type": "text",
        "id": "view-in-github"
      },
      "source": [
        "<a href=\"https://colab.research.google.com/github/fortune-max/M4-python-refresher-ml/blob/main/Fortune_BigHomeWork1.ipynb\" target=\"_parent\"><img src=\"https://colab.research.google.com/assets/colab-badge.svg\" alt=\"Open In Colab\"/></a>"
      ]
    },
    {
      "cell_type": "markdown",
      "metadata": {
        "id": "BfF3iR5BWAvq"
      },
      "source": [
        "# Basic operations"
      ]
    },
    {
      "cell_type": "markdown",
      "metadata": {
        "id": "Y6ehtv2tV7k8"
      },
      "source": [
        "## Mount"
      ]
    },
    {
      "cell_type": "markdown",
      "metadata": {
        "id": "hIUvCdFuQsbF"
      },
      "source": [
        "#### Exercise 1.0:  Mount to gdrive and copy FOLDER data to the current directory"
      ]
    },
    {
      "cell_type": "code",
      "execution_count": 2,
      "metadata": {
        "colab": {
          "base_uri": "https://localhost:8080/"
        },
        "id": "8SsMfnUxRO5a",
        "outputId": "040f7c09-4b81-466d-c909-e0fb26e72172"
      },
      "outputs": [
        {
          "name": "stdout",
          "output_type": "stream",
          "text": [
            "Mounted at /content/gdrive\n"
          ]
        }
      ],
      "source": [
        "# write your code here\n",
        "from google.colab import drive\n",
        "drive.mount('/content/gdrive', force_remount=True)\n",
        "!cp /content/gdrive/MyDrive/DS404/DS404_Classwork/BHW/* BHW1_files/"
      ]
    },
    {
      "cell_type": "code",
      "execution_count": 5,
      "metadata": {},
      "outputs": [
        {
          "name": "stdout",
          "output_type": "stream",
          "text": [
            "/Users/fortune/code/personal/DS/M4/BHW1_files\n",
            "total 3248\n",
            "-rw-rw-r--@ 1 fortune  staff     7997 Dec  1 09:28 Pokemon_m.csv\n",
            "-rw-rw-r--@ 1 fortune  staff       92 Dec  1 04:28 alice_00.txt\n",
            "-rw-rw-r--@ 1 fortune  staff      123 Dec  1 04:28 alice_01.txt\n",
            "-rw-rw-r--@ 1 fortune  staff      247 Dec  1 04:28 alice_02.txt\n",
            "-rw-rw-r--@ 1 fortune  staff      202 Dec  1 04:28 alice_03.txt\n",
            "-rw-rw-r--@ 1 fortune  staff      155 Dec  1 04:28 alice_04.txt\n",
            "-rw-rw-r--@ 1 fortune  staff      135 Dec  1 04:28 alice_05.txt\n",
            "-rw-rw-r--@ 1 fortune  staff      281 Dec  1 04:28 alice_06.txt\n",
            "-rw-rw-r--@ 1 fortune  staff      483 Dec  1 04:28 alice_07.txt\n",
            "-rw-rw-r--@ 1 fortune  staff      405 Dec  1 04:28 alice_08.txt\n",
            "-rw-rw-r--@ 1 fortune  staff  1389208 Dec  1 09:27 apple.png\n",
            "-rw-rw-r--@ 1 fortune  staff    61194 Dec  1 04:28 titanic.csv\n",
            "-rw-rw-r--@ 1 fortune  staff   160443 Dec  1 09:27 university.data\n"
          ]
        },
        {
          "name": "stderr",
          "output_type": "stream",
          "text": [
            "/Users/fortune/code/personal/DS/M4/.venv/lib/python3.11/site-packages/IPython/core/magics/osm.py:417: UserWarning: using dhist requires you to install the `pickleshare` library.\n",
            "  self.shell.db['dhist'] = compress_dhist(dhist)[-100:]\n"
          ]
        }
      ],
      "source": [
        "%cd BHW1_files/\n",
        "!ls -l"
      ]
    },
    {
      "cell_type": "markdown",
      "metadata": {
        "id": "2CAJnkxUQ7zI"
      },
      "source": [
        "#### Exercise 1.1:  Display a list of all hidden files in the current directory"
      ]
    },
    {
      "cell_type": "code",
      "execution_count": 11,
      "metadata": {
        "colab": {
          "base_uri": "https://localhost:8080/"
        },
        "id": "YgcS6qmiRlsX",
        "outputId": "a17703c4-96b1-4e38-f332-e3685baf8388"
      },
      "outputs": [
        {
          "name": "stdout",
          "output_type": "stream",
          "text": [
            ".notes.txt\n"
          ]
        }
      ],
      "source": [
        "# write your code here\n",
        "!ls -a .*\n",
        "\n",
        "# explain the result\n",
        "\n",
        "# This prints all files in the current directory which match the regex pattern supplied to the ls command.\n",
        "# In this case this is all files starting with a dot.\n",
        "# The -a argument means that hidden files are also included in the output.\n",
        "# The results are:\n",
        "# .notes.txt (a hidden file)\n"
      ]
    },
    {
      "cell_type": "markdown",
      "metadata": {
        "id": "XW6IAHbiMLU0"
      },
      "source": [
        "## Alice dataset"
      ]
    },
    {
      "cell_type": "markdown",
      "metadata": {
        "id": "Q5AcOAWnYZCZ"
      },
      "source": [
        "#### Exercise 2.1: Read files with Alice quotes to dict: key = filename, value = text"
      ]
    },
    {
      "cell_type": "code",
      "execution_count": 19,
      "metadata": {
        "id": "I7OYquVwQEaw"
      },
      "outputs": [
        {
          "name": "stdout",
          "output_type": "stream",
          "text": [
            "['./alice_00.txt', './alice_02.txt', './alice_03.txt', './alice_04.txt', './alice_05.txt', './alice_06.txt', './alice_07.txt', './alice_08.txt']\n"
          ]
        },
        {
          "name": "stdout",
          "output_type": "stream",
          "text": [
            "{'./alice_00.txt': ['“And what is the use of a book,” thought Alice, “without pictures or conversations?”'], './alice_02.txt': ['“Oh, how I wish I could shut up like a telescope! I think I could, if only I knew how to begin.” For, you see, so many out-of-the-way things had happened lately, that Alice had begun to think that very few things indeed were really impossible.'], './alice_03.txt': ['It was all very well to say “Drink me,” but the wise little Alice was not going to do that in a hurry. “No, I’ll look first,” she said, “and see whether it’s marked ‘poison’ or not.”'], './alice_04.txt': ['“But it’s no use now,” thought poor Alice, “to pretend to be two people! Why, there’s hardly enough of me left to make one respectable person!”'], './alice_05.txt': ['“Curiouser and curiouser!” cried Alice (she was so much surprised, that for the moment she quite forgot how to speak good English).'], './alice_06.txt': ['“How do you like the Queen?” said the Cat in a low voice.', '“Not at all,” said Alice: “she’s so extremely—” Just then she noticed that the Queen was close behind her, listening: so she went on “—likely to win, that it’s hardly worth while finishing the game.”'], './alice_07.txt': ['“Who are you?” said the Caterpillar.', 'This was not an encouraging opening for a conversation. Alice replied, rather shyly, “I—I hardly know, Sir, just at present—at least I know who I was when I got up this morning, but I think I must have been changed several times since then.”', '“What do you mean by that?” said the Caterpillar, sternly. “Explain yourself!”', '“I ca’n’t explain myself, I’m afraid, Sir,” said Alice, “because I am not myself, you see.”'], './alice_08.txt': ['“Would you tell me, please, which way I ought to go from here?”', '“That depends a good deal on where you want to get to,” said the Cat.', '“I don’t much care where—” said Alice.', '“Then it doesn’t matter which way you go,” said the Cat.', '“—so long as I get somewhere,” Alice added as an explanation.', '“Oh, you’re sure to do that,” said the Cat, “if you only walk long enough.”']}\n"
          ]
        }
      ],
      "source": [
        "# write your code here\n",
        "# get list of files containing alice in the content\n",
        "file_list = !grep -il  \"alice\" ./alice_0*\n",
        "print(file_list)\n",
        "\n",
        "file_dict = {}\n",
        "for file_name in file_list:\n",
        "  file_content = !cat $file_name\n",
        "  file_dict[file_name] = file_content\n",
        "  \n",
        "print(file_dict)\n"
      ]
    },
    {
      "cell_type": "markdown",
      "metadata": {
        "id": "ZkhOFANDYZCk"
      },
      "source": [
        "#### Exercise 2.2: Modify the code so only non single line citations will be prenet"
      ]
    },
    {
      "cell_type": "code",
      "execution_count": 20,
      "metadata": {
        "id": "G0Qo6WYUQE8X"
      },
      "outputs": [
        {
          "name": "stdout",
          "output_type": "stream",
          "text": [
            "['./alice_00.txt', './alice_02.txt', './alice_03.txt', './alice_04.txt', './alice_05.txt', './alice_06.txt', './alice_07.txt', './alice_08.txt']\n",
            "dict_keys(['./alice_06.txt', './alice_07.txt', './alice_08.txt'])\n",
            "{'./alice_06.txt': ['“How do you like the Queen?” said the Cat in a low voice.', '“Not at all,” said Alice: “she’s so extremely—” Just then she noticed that the Queen was close behind her, listening: so she went on “—likely to win, that it’s hardly worth while finishing the game.”'], './alice_07.txt': ['“Who are you?” said the Caterpillar.', 'This was not an encouraging opening for a conversation. Alice replied, rather shyly, “I—I hardly know, Sir, just at present—at least I know who I was when I got up this morning, but I think I must have been changed several times since then.”', '“What do you mean by that?” said the Caterpillar, sternly. “Explain yourself!”', '“I ca’n’t explain myself, I’m afraid, Sir,” said Alice, “because I am not myself, you see.”'], './alice_08.txt': ['“Would you tell me, please, which way I ought to go from here?”', '“That depends a good deal on where you want to get to,” said the Cat.', '“I don’t much care where—” said Alice.', '“Then it doesn’t matter which way you go,” said the Cat.', '“—so long as I get somewhere,” Alice added as an explanation.', '“Oh, you’re sure to do that,” said the Cat, “if you only walk long enough.”']}\n"
          ]
        }
      ],
      "source": [
        "# write your code here\n",
        "# get list of files containing alice in the content\n",
        "file_list = !grep -il  \"alice\" ./alice_0*\n",
        "print(file_list)\n",
        "\n",
        "file_dict = {}\n",
        "for file_name in file_list:\n",
        "  file_content = !cat $file_name\n",
        "  if len(file_content) > 1:\n",
        "    file_dict[file_name] = file_content\n",
        "  \n",
        "print(file_dict.keys())\n",
        "print(file_dict)"
      ]
    },
    {
      "cell_type": "markdown",
      "metadata": {
        "id": "EyomeQv_YZCn"
      },
      "source": [
        "#### Exercise 2.3. Use grep console function select only lines with Alice string present"
      ]
    },
    {
      "cell_type": "code",
      "execution_count": 21,
      "metadata": {
        "id": "cmOFcYruYZCo",
        "scrolled": true
      },
      "outputs": [
        {
          "name": "stdout",
          "output_type": "stream",
          "text": [
            "alice_00.txt:“And what is the use of a book,” thought Alice, “without pictures or conversations?”\n",
            "alice_02.txt:“Oh, how I wish I could shut up like a telescope! I think I could, if only I knew how to begin.” For, you see, so many out-of-the-way things had happened lately, that Alice had begun to think that very few things indeed were really impossible.\n",
            "alice_03.txt:It was all very well to say “Drink me,” but the wise little Alice was not going to do that in a hurry. “No, I’ll look first,” she said, “and see whether it’s marked ‘poison’ or not.”\n",
            "alice_04.txt:“But it’s no use now,” thought poor Alice, “to pretend to be two people! Why, there’s hardly enough of me left to make one respectable person!”\n",
            "alice_05.txt:“Curiouser and curiouser!” cried Alice (she was so much surprised, that for the moment she quite forgot how to speak good English).\n",
            "alice_06.txt:“Not at all,” said Alice: “she’s so extremely—” Just then she noticed that the Queen was close behind her, listening: so she went on “—likely to win, that it’s hardly worth while finishing the game.”\n",
            "alice_07.txt:This was not an encouraging opening for a conversation. Alice replied, rather shyly, “I—I hardly know, Sir, just at present—at least I know who I was when I got up this morning, but I think I must have been changed several times since then.”\n",
            "alice_07.txt:“I ca’n’t explain myself, I’m afraid, Sir,” said Alice, “because I am not myself, you see.”\n",
            "alice_08.txt:“I don’t much care where—” said Alice.\n",
            "alice_08.txt:“—so long as I get somewhere,” Alice added as an explanation.\n"
          ]
        }
      ],
      "source": [
        "# write your code here\n",
        "!grep \"Alice\" alice*.txt"
      ]
    },
    {
      "cell_type": "markdown",
      "metadata": {
        "id": "MsbeaRWPYZCq"
      },
      "source": [
        "## Working with datasets"
      ]
    },
    {
      "cell_type": "markdown",
      "metadata": {
        "id": "p10F0OayYD9L"
      },
      "source": [
        "### Titanic"
      ]
    },
    {
      "cell_type": "markdown",
      "metadata": {
        "id": "CM-fdZQpYZCr"
      },
      "source": [
        "#### Exercise 3.1 import pandas"
      ]
    },
    {
      "cell_type": "code",
      "execution_count": 2,
      "metadata": {
        "collapsed": true,
        "id": "x9_WSx3aYZCr"
      },
      "outputs": [],
      "source": [
        "# write your code here\n",
        "import pandas as pd"
      ]
    },
    {
      "cell_type": "markdown",
      "metadata": {
        "id": "W7-xAXvpYZCu"
      },
      "source": [
        "#### Exercise 3.2 read dataset with pandas"
      ]
    },
    {
      "cell_type": "code",
      "execution_count": 6,
      "metadata": {
        "id": "6j9NrxVWYZCu",
        "scrolled": true
      },
      "outputs": [
        {
          "data": {
            "text/html": [
              "<div>\n",
              "<style scoped>\n",
              "    .dataframe tbody tr th:only-of-type {\n",
              "        vertical-align: middle;\n",
              "    }\n",
              "\n",
              "    .dataframe tbody tr th {\n",
              "        vertical-align: top;\n",
              "    }\n",
              "\n",
              "    .dataframe thead th {\n",
              "        text-align: right;\n",
              "    }\n",
              "</style>\n",
              "<table border=\"1\" class=\"dataframe\">\n",
              "  <thead>\n",
              "    <tr style=\"text-align: right;\">\n",
              "      <th></th>\n",
              "      <th>PassengerId</th>\n",
              "      <th>Survived</th>\n",
              "      <th>Pclass</th>\n",
              "      <th>Name</th>\n",
              "      <th>Sex</th>\n",
              "      <th>Age</th>\n",
              "      <th>SibSp</th>\n",
              "      <th>Parch</th>\n",
              "      <th>Ticket</th>\n",
              "      <th>Fare</th>\n",
              "      <th>Cabin</th>\n",
              "      <th>Embarked</th>\n",
              "    </tr>\n",
              "  </thead>\n",
              "  <tbody>\n",
              "    <tr>\n",
              "      <th>0</th>\n",
              "      <td>1</td>\n",
              "      <td>0</td>\n",
              "      <td>3</td>\n",
              "      <td>Braund, Mr. Owen Harris</td>\n",
              "      <td>male</td>\n",
              "      <td>22.0</td>\n",
              "      <td>1</td>\n",
              "      <td>0</td>\n",
              "      <td>A/5 21171</td>\n",
              "      <td>7.2500</td>\n",
              "      <td>NaN</td>\n",
              "      <td>S</td>\n",
              "    </tr>\n",
              "    <tr>\n",
              "      <th>1</th>\n",
              "      <td>2</td>\n",
              "      <td>1</td>\n",
              "      <td>1</td>\n",
              "      <td>Cumings, Mrs. John Bradley (Florence Briggs Th...</td>\n",
              "      <td>female</td>\n",
              "      <td>38.0</td>\n",
              "      <td>1</td>\n",
              "      <td>0</td>\n",
              "      <td>PC 17599</td>\n",
              "      <td>71.2833</td>\n",
              "      <td>C85</td>\n",
              "      <td>C</td>\n",
              "    </tr>\n",
              "    <tr>\n",
              "      <th>2</th>\n",
              "      <td>3</td>\n",
              "      <td>1</td>\n",
              "      <td>3</td>\n",
              "      <td>Heikkinen, Miss. Laina</td>\n",
              "      <td>female</td>\n",
              "      <td>26.0</td>\n",
              "      <td>0</td>\n",
              "      <td>0</td>\n",
              "      <td>STON/O2. 3101282</td>\n",
              "      <td>7.9250</td>\n",
              "      <td>NaN</td>\n",
              "      <td>S</td>\n",
              "    </tr>\n",
              "    <tr>\n",
              "      <th>3</th>\n",
              "      <td>4</td>\n",
              "      <td>1</td>\n",
              "      <td>1</td>\n",
              "      <td>Futrelle, Mrs. Jacques Heath (Lily May Peel)</td>\n",
              "      <td>female</td>\n",
              "      <td>35.0</td>\n",
              "      <td>1</td>\n",
              "      <td>0</td>\n",
              "      <td>113803</td>\n",
              "      <td>53.1000</td>\n",
              "      <td>C123</td>\n",
              "      <td>S</td>\n",
              "    </tr>\n",
              "    <tr>\n",
              "      <th>4</th>\n",
              "      <td>5</td>\n",
              "      <td>0</td>\n",
              "      <td>3</td>\n",
              "      <td>Allen, Mr. William Henry</td>\n",
              "      <td>male</td>\n",
              "      <td>35.0</td>\n",
              "      <td>0</td>\n",
              "      <td>0</td>\n",
              "      <td>373450</td>\n",
              "      <td>8.0500</td>\n",
              "      <td>NaN</td>\n",
              "      <td>S</td>\n",
              "    </tr>\n",
              "    <tr>\n",
              "      <th>...</th>\n",
              "      <td>...</td>\n",
              "      <td>...</td>\n",
              "      <td>...</td>\n",
              "      <td>...</td>\n",
              "      <td>...</td>\n",
              "      <td>...</td>\n",
              "      <td>...</td>\n",
              "      <td>...</td>\n",
              "      <td>...</td>\n",
              "      <td>...</td>\n",
              "      <td>...</td>\n",
              "      <td>...</td>\n",
              "    </tr>\n",
              "    <tr>\n",
              "      <th>886</th>\n",
              "      <td>887</td>\n",
              "      <td>0</td>\n",
              "      <td>2</td>\n",
              "      <td>Montvila, Rev. Juozas</td>\n",
              "      <td>male</td>\n",
              "      <td>27.0</td>\n",
              "      <td>0</td>\n",
              "      <td>0</td>\n",
              "      <td>211536</td>\n",
              "      <td>13.0000</td>\n",
              "      <td>NaN</td>\n",
              "      <td>S</td>\n",
              "    </tr>\n",
              "    <tr>\n",
              "      <th>887</th>\n",
              "      <td>888</td>\n",
              "      <td>1</td>\n",
              "      <td>1</td>\n",
              "      <td>Graham, Miss. Margaret Edith</td>\n",
              "      <td>female</td>\n",
              "      <td>19.0</td>\n",
              "      <td>0</td>\n",
              "      <td>0</td>\n",
              "      <td>112053</td>\n",
              "      <td>30.0000</td>\n",
              "      <td>B42</td>\n",
              "      <td>S</td>\n",
              "    </tr>\n",
              "    <tr>\n",
              "      <th>888</th>\n",
              "      <td>889</td>\n",
              "      <td>0</td>\n",
              "      <td>3</td>\n",
              "      <td>Johnston, Miss. Catherine Helen \"Carrie\"</td>\n",
              "      <td>female</td>\n",
              "      <td>NaN</td>\n",
              "      <td>1</td>\n",
              "      <td>2</td>\n",
              "      <td>W./C. 6607</td>\n",
              "      <td>23.4500</td>\n",
              "      <td>NaN</td>\n",
              "      <td>S</td>\n",
              "    </tr>\n",
              "    <tr>\n",
              "      <th>889</th>\n",
              "      <td>890</td>\n",
              "      <td>1</td>\n",
              "      <td>1</td>\n",
              "      <td>Behr, Mr. Karl Howell</td>\n",
              "      <td>male</td>\n",
              "      <td>26.0</td>\n",
              "      <td>0</td>\n",
              "      <td>0</td>\n",
              "      <td>111369</td>\n",
              "      <td>30.0000</td>\n",
              "      <td>C148</td>\n",
              "      <td>C</td>\n",
              "    </tr>\n",
              "    <tr>\n",
              "      <th>890</th>\n",
              "      <td>891</td>\n",
              "      <td>0</td>\n",
              "      <td>3</td>\n",
              "      <td>Dooley, Mr. Patrick</td>\n",
              "      <td>male</td>\n",
              "      <td>32.0</td>\n",
              "      <td>0</td>\n",
              "      <td>0</td>\n",
              "      <td>370376</td>\n",
              "      <td>7.7500</td>\n",
              "      <td>NaN</td>\n",
              "      <td>Q</td>\n",
              "    </tr>\n",
              "  </tbody>\n",
              "</table>\n",
              "<p>891 rows × 12 columns</p>\n",
              "</div>"
            ],
            "text/plain": [
              "     PassengerId  Survived  Pclass  \\\n",
              "0              1         0       3   \n",
              "1              2         1       1   \n",
              "2              3         1       3   \n",
              "3              4         1       1   \n",
              "4              5         0       3   \n",
              "..           ...       ...     ...   \n",
              "886          887         0       2   \n",
              "887          888         1       1   \n",
              "888          889         0       3   \n",
              "889          890         1       1   \n",
              "890          891         0       3   \n",
              "\n",
              "                                                  Name     Sex   Age  SibSp  \\\n",
              "0                              Braund, Mr. Owen Harris    male  22.0      1   \n",
              "1    Cumings, Mrs. John Bradley (Florence Briggs Th...  female  38.0      1   \n",
              "2                               Heikkinen, Miss. Laina  female  26.0      0   \n",
              "3         Futrelle, Mrs. Jacques Heath (Lily May Peel)  female  35.0      1   \n",
              "4                             Allen, Mr. William Henry    male  35.0      0   \n",
              "..                                                 ...     ...   ...    ...   \n",
              "886                              Montvila, Rev. Juozas    male  27.0      0   \n",
              "887                       Graham, Miss. Margaret Edith  female  19.0      0   \n",
              "888           Johnston, Miss. Catherine Helen \"Carrie\"  female   NaN      1   \n",
              "889                              Behr, Mr. Karl Howell    male  26.0      0   \n",
              "890                                Dooley, Mr. Patrick    male  32.0      0   \n",
              "\n",
              "     Parch            Ticket     Fare Cabin Embarked  \n",
              "0        0         A/5 21171   7.2500   NaN        S  \n",
              "1        0          PC 17599  71.2833   C85        C  \n",
              "2        0  STON/O2. 3101282   7.9250   NaN        S  \n",
              "3        0            113803  53.1000  C123        S  \n",
              "4        0            373450   8.0500   NaN        S  \n",
              "..     ...               ...      ...   ...      ...  \n",
              "886      0            211536  13.0000   NaN        S  \n",
              "887      0            112053  30.0000   B42        S  \n",
              "888      2        W./C. 6607  23.4500   NaN        S  \n",
              "889      0            111369  30.0000  C148        C  \n",
              "890      0            370376   7.7500   NaN        Q  \n",
              "\n",
              "[891 rows x 12 columns]"
            ]
          },
          "execution_count": 6,
          "metadata": {},
          "output_type": "execute_result"
        }
      ],
      "source": [
        "# write your code here\n",
        "titanic_data_frame = pd.read_csv(\"titanic.csv\")\n",
        "titanic_data_frame"
      ]
    },
    {
      "cell_type": "markdown",
      "metadata": {
        "id": "TDa7LaNTYZCx"
      },
      "source": [
        "#### Exercise 3.3 get overall infromation from dataset via pandas"
      ]
    },
    {
      "cell_type": "code",
      "execution_count": 25,
      "metadata": {
        "id": "PaafRjnvRtOy"
      },
      "outputs": [
        {
          "name": "stdout",
          "output_type": "stream",
          "text": [
            "Info\n",
            "<class 'pandas.core.frame.DataFrame'>\n",
            "RangeIndex: 891 entries, 0 to 890\n",
            "Data columns (total 12 columns):\n",
            " #   Column       Non-Null Count  Dtype  \n",
            "---  ------       --------------  -----  \n",
            " 0   PassengerId  891 non-null    int64  \n",
            " 1   Survived     891 non-null    int64  \n",
            " 2   Pclass       891 non-null    int64  \n",
            " 3   Name         891 non-null    object \n",
            " 4   Sex          891 non-null    object \n",
            " 5   Age          714 non-null    float64\n",
            " 6   SibSp        891 non-null    int64  \n",
            " 7   Parch        891 non-null    int64  \n",
            " 8   Ticket       891 non-null    object \n",
            " 9   Fare         891 non-null    float64\n",
            " 10  Cabin        204 non-null    object \n",
            " 11  Embarked     889 non-null    object \n",
            "dtypes: float64(2), int64(5), object(5)\n",
            "memory usage: 83.7+ KB\n",
            "None\n",
            "Describe\n",
            "       PassengerId    Survived      Pclass         Age       SibSp  \\\n",
            "count   891.000000  891.000000  891.000000  714.000000  891.000000   \n",
            "mean    446.000000    0.383838    2.308642   29.699118    0.523008   \n",
            "std     257.353842    0.486592    0.836071   14.526497    1.102743   \n",
            "min       1.000000    0.000000    1.000000    0.420000    0.000000   \n",
            "25%     223.500000    0.000000    2.000000   20.125000    0.000000   \n",
            "50%     446.000000    0.000000    3.000000   28.000000    0.000000   \n",
            "75%     668.500000    1.000000    3.000000   38.000000    1.000000   \n",
            "max     891.000000    1.000000    3.000000   80.000000    8.000000   \n",
            "\n",
            "            Parch        Fare  \n",
            "count  891.000000  891.000000  \n",
            "mean     0.381594   32.204208  \n",
            "std      0.806057   49.693429  \n",
            "min      0.000000    0.000000  \n",
            "25%      0.000000    7.910400  \n",
            "50%      0.000000   14.454200  \n",
            "75%      0.000000   31.000000  \n",
            "max      6.000000  512.329200  \n"
          ]
        }
      ],
      "source": [
        "# write your code here (at least 2 methods)\n",
        "print(\"Info\")\n",
        "print(titanic_data_frame.info())\n",
        "print(\"Describe\")\n",
        "print(titanic_data_frame.describe())\n",
        "# what are the difference?\n",
        "# Info gives details about the data frame, such as dimensions, column names, column types, and number of non-null values.\n",
        "# Describe gives statistical information about the data frame, such as mean, standard deviation, min, max, and quartiles."
      ]
    },
    {
      "cell_type": "markdown",
      "metadata": {
        "id": "Ll926N8fajtO"
      },
      "source": [
        "#### Exercise 3.4: Extract last digit from PassengerId and put it to PassengerIdChunk variable"
      ]
    },
    {
      "cell_type": "code",
      "execution_count": 7,
      "metadata": {
        "id": "NKWbkpB9YHVY"
      },
      "outputs": [],
      "source": [
        "# write your code here\n",
        "titanic_data_frame['PassengerIdChunk'] = titanic_data_frame['PassengerId'] % 10"
      ]
    },
    {
      "cell_type": "markdown",
      "metadata": {
        "id": "2xr6J0oHajtP"
      },
      "source": [
        "#### Exercise 3.5: Extract last digit from index and put it to IndexChunk variable"
      ]
    },
    {
      "cell_type": "code",
      "execution_count": 10,
      "metadata": {
        "id": "j2bEadtoYJDg"
      },
      "outputs": [],
      "source": [
        "# write your code here\n",
        "titanic_data_frame[\"IndexChunk\"] = titanic_data_frame.index % 10"
      ]
    },
    {
      "cell_type": "markdown",
      "metadata": {
        "id": "1zoVTAsKajtP"
      },
      "source": [
        "#### Exercise 3.6: For all passengers with IndexChunk == 6 add string with Age to passsenger name"
      ]
    },
    {
      "cell_type": "code",
      "execution_count": 35,
      "metadata": {
        "id": "82cirYiYYJlN"
      },
      "outputs": [
        {
          "name": "stdout",
          "output_type": "stream",
          "text": [
            "6                         McCarthy, Mr. Timothy J 54.0\n",
            "16                            Rice, Master. Eugene 2.0\n",
            "26                         Emir, Mr. Farred Chehab nan\n",
            "36                                Mamee, Mr. Hanna nan\n",
            "46                               Lennon, Mr. Denis nan\n",
            "                            ...                       \n",
            "846                       Sage, Mr. Douglas Bullen nan\n",
            "856    Wick, Mrs. George Dennick (Mary Hitchcock) 45.0\n",
            "866                  Duran y More, Miss. Asuncion 27.0\n",
            "876                 Gustafsson, Mr. Alfred Ossian 20.0\n",
            "886                         Montvila, Rev. Juozas 27.0\n",
            "Name: Name, Length: 89, dtype: object\n"
          ]
        }
      ],
      "source": [
        "# write your code here\n",
        "passengers_with_idx_6 = titanic_data_frame[\"IndexChunk\"] == 6\n",
        "titanic_data_frame.loc[passengers_with_idx_6, \"Name\"] += ' ' + titanic_data_frame[passengers_with_idx_6][\"Age\"].astype(str)\n",
        "print(titanic_data_frame[passengers_with_idx_6][\"Name\"])"
      ]
    },
    {
      "cell_type": "code",
      "execution_count": 45,
      "metadata": {},
      "outputs": [
        {
          "name": "stdout",
          "output_type": "stream",
          "text": [
            "0                               Braund, Mr. Owen Harris\n",
            "1     Cumings, Mrs. John Bradley (Florence Briggs Th...\n",
            "2                                Heikkinen, Miss. Laina\n",
            "3          Futrelle, Mrs. Jacques Heath (Lily May Peel)\n",
            "4                              Allen, Mr. William Henry\n",
            "5                                      Moran, Mr. James\n",
            "6                          McCarthy, Mr. Timothy J 54.0\n",
            "7                        Palsson, Master. Gosta Leonard\n",
            "8     Johnson, Mrs. Oscar W (Elisabeth Vilhelmina Berg)\n",
            "9                   Nasser, Mrs. Nicholas (Adele Achem)\n",
            "10                      Sandstrom, Miss. Marguerite Rut\n",
            "11                             Bonnell, Miss. Elizabeth\n",
            "12                       Saundercock, Mr. William Henry\n",
            "13                          Andersson, Mr. Anders Johan\n",
            "14                 Vestrom, Miss. Hulda Amanda Adolfina\n",
            "15                     Hewlett, Mrs. (Mary D Kingcome) \n",
            "16                             Rice, Master. Eugene 2.0\n",
            "17                         Williams, Mr. Charles Eugene\n",
            "18    Vander Planke, Mrs. Julius (Emelia Maria Vande...\n",
            "19                              Masselmani, Mrs. Fatima\n",
            "Name: Name, dtype: object\n"
          ]
        }
      ],
      "source": [
        "print(titanic_data_frame[\"Name\"].head(20))"
      ]
    },
    {
      "cell_type": "markdown",
      "metadata": {
        "id": "_fa5yEOIajtQ"
      },
      "source": [
        "#### Exercise 3.7:  Agregate passengers on PassegnerIdChunk, compute string join of all ticket names for given chunk"
      ]
    },
    {
      "cell_type": "code",
      "execution_count": 69,
      "metadata": {
        "id": "RTAjnbUFYKFY"
      },
      "outputs": [],
      "source": [
        "# write your code here\n",
        "id_chunk_name_join = {}\n",
        "passenger_id_chunk_grp = titanic_data_frame.groupby(\"PassengerIdChunk\")\n",
        "for passenger_id_chunk, grp in passenger_id_chunk_grp:\n",
        "  id_chunk_name_join[passenger_id_chunk] = \"; \".join(grp[\"Name\"])"
      ]
    },
    {
      "cell_type": "code",
      "execution_count": 70,
      "metadata": {
        "id": "rS4fQIxrOtqY"
      },
      "outputs": [
        {
          "name": "stdout",
          "output_type": "stream",
          "text": [
            "{0: 'Nasser, Mrs. Nicholas (Adele Achem); Masselmani, Mrs. Fatima; Todoroff, Mr. Lalio; Nicola-Yarred, Miss. Jamila; Arnold-Franchi, Mrs. Josef (Josefine Franchi); Goodwin, Master. William Frederick; Kink, Mr. Vincenz; Dowdell, Miss. Elizabeth; Celotti, Mr. Francesco; Kantor, Mr. Sinai; Moran, Miss. Bertha; Andersson, Miss. Ellis Anna Maria; Ekstrom, Mr. Johan; Giglio, Mr. Victor; Byles, Rev. Thomas Roussel Davids; Sage, Master. Thomas Henry; Ling, Mr. Lee; Leonard, Mr. Lionel; Turcin, Mr. Stjepan; Yrois, Miss. Henriette (\"Mrs Harbeck\"); Blank, Mr. Henry; Harris, Mr. Walter; Lefebre, Miss. Mathilde; Hunt, Mr. George Henry; Carter, Rev. Ernest Courtenay; Parrish, Mrs. (Lutie Davis); Bissette, Miss. Amelia; Abbott, Mrs. Stanton (Rosa Hunt); Connolly, Miss. Kate; Baxter, Mrs. James (Helene DeLaudeniere Chaput); Francatelli, Miss. Laura Mabel; Spedden, Mrs. Frederic Oakley (Margaretta Corning Stone); Hippach, Miss. Jean Gertrude; Blackwell, Mr. Stephen Weart; Dimic, Mr. Jovan; Mockler, Miss. Helen Mary \"Ellie\"; Aubart, Mme. Leontine Pauline; Gustafsson, Mr. Karl Gideon; Lehmann, Miss. Bertha; Trout, Mrs. William H (Jessie L); Lefebre, Miss. Ida; Van Impe, Miss. Catharina; Pickard, Mr. Berk (Berk Trembisky); Kvillner, Mr. Johan Henrik Johannesson; Peuchen, Major. Arthur Godfrey; O\\'Connor, Mr. Maurice; Baclini, Miss. Helene Barbara; Hirvonen, Miss. Hildur E; Coutts, Master. Eden Leslie \"Neville\"; Svensson, Mr. Olof; Lang, Mr. Fang; Pavlovic, Mr. Stefo; Hocking, Mr. Richard George; Frolicher, Miss. Hedwig Margaritha; Davies, Master. John Morgan Jr; de Messemaeker, Mrs. Guillaume Joseph (Emma); Jonsson, Mr. Carl; Jussila, Mr. Eiriik; Murdlin, Mr. Joseph; Duff Gordon, Sir. Cosmo Edmund (\"Mr Morgan\"); Shutes, Miss. Elizabeth W; Gavey, Mr. Lawrence; O\\'Connell, Mr. Patrick D; Thorneycroft, Mr. Percival; Stanley, Miss. Amy Zillah Elsie; Newell, Mr. Arthur Webster; Taylor, Mrs. Elmer Zebley (Juliet Cummins Wright); Cardeza, Mr. Thomas Drake Martinez; Madill, Miss. Georgette Alexandra; Humblen, Mr. Adolf Mathias Nicolai Olsen; Moubarek, Master. Halim Gonios (\"William George\"); Johnson, Mr. Malkolm Joackim; Ilmakangas, Miss. Pieta Sofia; Nankoff, Mr. Minko; Connaghton, Mr. Michael; Rothes, the Countess. of (Lucy Noel Martha Dyer-Edwards); Gronnestad, Mr. Daniel Danielsen; Robert, Mrs. Edward Scott (Elisabeth Walton McMillan); Guggenheim, Mr. Benjamin; Van Impe, Mrs. Jean Baptiste (Rosalie Paula Govaert); Chambers, Mrs. Norman Campbell (Bertha Griggs); Skoog, Master. Karl Thorsten; Stone, Mrs. George Nelson (Martha Evelyn); Marechal, Mr. Pierre; Goldenberg, Mrs. Samuel L (Edwiga Grabowska); Razi, Mr. Raihed; Johnson, Master. Harold Theodor; Potter, Mrs. Thomas Jr (Lily Alexenia Wilson); Behr, Mr. Karl Howell', 1: 'Braund, Mr. Owen Harris; Sandstrom, Miss. Marguerite Rut; Fynney, Mr. Joseph J; Uruchurtu, Don. Manuel E; Ahlin, Mrs. Johan (Johanna Persdotter Larsson); Panula, Master. Juha Niilo; Sirayanian, Mr. Orsen; Jenkin, Mr. Stephen Curnow; Waelens, Mr. Achille; Christmann, Mr. Emil; Petranec, Miss. Matilda; Porter, Mr. Walter Chamberlain; Hickman, Mr. Stanley George; Drazenoic, Mr. Jozef; Boulos, Mrs. Joseph (Sultana); Bateman, Rev. Robert James; Cribb, Mr. John Hatfield; Van der hoef, Mr. Wyckoff; Sage, Miss. Constance Gladys; Pinsky, Mrs. (Rosa); Vande Walle, Mr. Nestor Cyriel; Ali, Mr. Ahmed; Sunderland, Mr. Victor Francis; Harris, Mrs. Henry Birkhardt (Irene Wallach); Zabour, Miss. Thamine; Reed, Mr. James George; Smith, Mr. Thomas; Cairns, Mr. Alexander; Duane, Mr. Frank; Barber, Miss. Ellen \"Nellie\"; Kelly, Miss. Anna Katherine \"Annie Kate\"; Hays, Miss. Margaret Bechstein; Dennis, Mr. Samuel; McCoy, Miss. Agnes; Navratil, Master. Edmond Roger; Odahl, Mr. Nils Martin; Skoog, Mr. Wilhelm; Harder, Mr. George Achilles; Bidois, Miss. Rosalie; Carter, Mr. William Ernest; Niskanen, Mr. Juha; Sdycoff, Mr. Todor; Gheorgheff, Mr. Stanio; Bjornstrom-Steffansson, Mr. Mauritz Hakan; Hart, Mrs. Benjamin (Esther Ada Bloomfield); West, Mr. Edwy Arthur; Anderson, Mr. Harry; Keefe, Mr. Arthur; Goodwin, Master. Harold Victor; Hagland, Mr. Konrad Mathias Reiersen; Calic, Mr. Petar; Daly, Mr. Eugene Patrick; Perreault, Miss. Anne; Quick, Miss. Phyllis May; Crosby, Miss. Harriet R; Thayer, Mr. John Borland Jr; Morrow, Mr. Thomas Rowan; Harris, Mr. George; Christy, Miss. Julie Rachel; Rintamaki, Mr. Matti; Jacobsohn, Mrs. Sidney Samuel (Amy Frances Christy); Andersson, Mrs. Anders Johan (Alfrida Konstantia Brogren); Yasbeck, Mr. Antoni; Barkworth, Mr. Algernon Henry Wilson; Jensen, Mr. Hans Peder; Mitkoff, Mr. Mito; Frauenthal, Dr. Henry William; Brown, Mrs. Thomas William Solomon (Elizabeth Catherine Ford); Peters, Miss. Katie; Dick, Mr. Albert Adrian; Astor, Mrs. John Jacob (Madeleine Talmadge Force); Mayne, Mlle. Berthe Antonine (\"Mrs de Villiers\"); Harper, Miss. Annie Jessie \"Nina\"; Allen, Miss. Elisabeth Walton; Hawksford, Mr. Walter James; Wells, Miss. Joan; Garfirth, Mr. John; Lievens, Mr. Rene Aime; Ayoub, Miss. Banoura; Keane, Mr. Andrew \"Andy\"; Ponesell, Mr. Martin; Alexander, Mr. William; Hays, Mrs. Charles Melville (Clara Jennings Gregg); Yasbeck, Mrs. Antoni (Selini Alexander); Alhomaki, Mr. Ilmari Rudolf; Andersson, Master. Sigvard Harald Elias; Hansen, Mr. Claus Peter; Balkic, Mr. Cerin; Shelley, Mrs. William (Imanita Parrish Hall); Dooley, Mr. Patrick', 2: 'Cumings, Mrs. John Bradley (Florence Briggs Thayer); Bonnell, Miss. Elizabeth; Beesley, Mr. Lawrence; Spencer, Mrs. William Augustus (Marie Eugenie); Turpin, Mrs. William John Robert (Dorothy Ann Wonnacott); Nosworthy, Mr. Richard Cater; Icard, Miss. Amelie; Goodwin, Miss. Lillian Amy; Sheerlinck, Mr. Jan Baptist; Andreasson, Mr. Paul Edvin; Petroff, Mr. Pastcho (\"Pentcho\"); Zabour, Miss. Hileni; Moore, Mr. Leonard Charles; Coelho, Mr. Domingos Fernandeo; Nysten, Miss. Anna Sofia; Pears, Mrs. Thomas (Edith Wearne); Watt, Mrs. James (Elizabeth \"Bessie\" Inglis Milne); Rice, Master. Arthur; Pernot, Mr. Rene; Carbines, Mr. William; Sage, Mr. Frederick; Cameron, Miss. Clear Annie; Bracken, Mr. James H; Larsson, Mr. Bengt Edvin; Murphy, Miss. Katherine \"Kate\"; Strom, Mrs. Wilhelm (Elna Matilda Persson); Asplund, Master. Edvin Rojj Felix; Tornquist, Mr. William Henry; Olsson, Mr. Nils Johan Goransson; Bishop, Mrs. Dickinson H (Helen Walton); McCoy, Mr. Bernard; Ryerson, Miss. Emily Borie; Danoff, Mr. Yoto; Partner, Mr. Austen; Fortune, Miss. Alice Elizabeth; Williams-Lambert, Mr. Fletcher Fellows; del Carlo, Mr. Sebastiano; Wiklund, Mr. Jakob Alfred; Nakid, Miss. Maria (\"Mary\"); Jansson, Mr. Carl Olof; Adams, Mr. John; Hart, Mr. Henry; Charters, Mr. David; Thorneycroft, Mrs. Percival (Florence Kate White); Hampe, Mr. Leon; Hagland, Mr. Ingvald Olai Olsen; Morley, Mr. William; Cacic, Mr. Luka; Frost, Mr. Anthony Wood \"Archie\"; Windelov, Mr. Einar; Canavan, Miss. Mary; Webber, Mr. James; Vovk, Mr. Janko; Toufik, Mr. Nakli; Andersson, Miss. Ingeborg Constanzia; Sharp, Mr. Percival James R; Sivic, Mr. Husein; Appleton, Mrs. Edward Dale (Charlotte Lamson); Thayer, Mrs. John Borland (Marian Longstreth Morris); Stephenson, Mrs. Walter Bertram (Martha Eustis); Slabenoff, Mr. Petco; Jardin, Mr. Jose Neto; Kimball, Mr. Edwin Nelson Jr; Lundahl, Mr. Johan Svensson; Sagesser, Mlle. Emma; Doling, Miss. Elsie; Badt, Mr. Mohamed; Davidson, Mr. Thornton; Hassab, Mr. Hammad; Karun, Miss. Manca; Silverthorne, Mr. Spencer Victor; Klaber, Mr. Herman; Jensen, Mr. Svend Lauritz; Hassan, Mr. Houssein G N; Cavendish, Mr. Tyrell William; Moor, Master. Meier; Nirva, Mr. Iisakki Antino Aijo; Jensen, Mr. Niels Peder; Dick, Mrs. Albert Adrian (Vera Gillespie); Gaskell, Mr. Alfred; Collyer, Mrs. Harvey (Charlotte Annie Tate); Lester, Mr. James; Lulic, Mr. Nikola; Richards, Master. George Sibley; Mudd, Mr. Thomas Charles; Svensson, Mr. Johan; Giles, Mr. Frederick Edward; Beckwith, Mrs. Richard Leonard (Sallie Monypeny); Markun, Mr. Johann', 3: 'Heikkinen, Miss. Laina; Saundercock, Mr. William Henry; McGowan, Miss. Anna \"Annie\"; Glynn, Miss. Mary Agatha; Kraeff, Mr. Theodor; Harper, Mrs. Henry Sleeper (Myna Haxtun); Harris, Mr. Henry Birkhardt; Hood, Mr. Ambrose Jr; McDermott, Miss. Brigdet Delia; Chaffee, Mr. Herbert Fuller; White, Mr. Richard Frasar; Barton, Mr. David John; Nasser, Mr. Nicholas; Robins, Mrs. Alexander A (Grace Charity Laury); Hakkarainen, Mrs. Pekka Pietari (Elin Matilda Dolck); Meo, Mr. Alfonzo; Bengtsson, Mr. John Viktor; Johnson, Miss. Eleanor Ileen; Asplund, Master. Clarence Gustaf Hugo; Andersen-Jensen, Miss. Carla Christine Nielsine; Johanson, Mr. Jakob Alfred; Perkin, Mr. John Henry; Green, Mr. George Henry; Sjostedt, Mr. Ernst Adolf; Coleridge, Mr. Reginald Charles; Stead, Mr. William Thomas; Taussig, Mr. Emil; Mellinger, Mrs. (Elizabeth Anne Maidment); de Pelsmaeker, Mr. Alfons; Levy, Mr. Rene Jacques; Johnson, Mr. William Cahoone Jr; Lahtinen, Mrs. William (Anna Sylfven); Slayter, Miss. Hilda Mary; Graham, Mr. George Edward; Collander, Mr. Erik Gustaf; Elias, Mr. Tannous; Barbara, Mrs. (Catherine David); Beavan, Mr. William Thomas; Tikkanen, Mr. Juho; Gustafsson, Mr. Johan Birger; Jussila, Miss. Mari Aina; Minahan, Miss. Daisy E; Zimmerman, Mr. Leo; Louch, Mrs. Charles Alexander (Alice Adelaide Slow); Petterson, Mr. Johan Emil; Foreman, Mr. Benjamin Laventall; Gee, Mr. Arthur H; West, Mrs. Edwy Arthur (Ada Mary Worth); Rouse, Mr. Richard Henry; Molson, Mr. Harry Markland; O\\'Sullivan, Miss. Bridget Mary; McGough, Mr. James Robert; Lahoud, Mr. Sarkis; Elias, Mr. Joseph Jr; Andersson, Miss. Sigrid Elisabeth; O\\'Brien, Mr. Timothy; Norman, Mr. Robert Douglas; Flynn, Mr. John Irwin (\"Irving\"); Downton, Mr. William James; Elsbury, Mr. William James; Harrington, Mr. Charles H; Murphy, Miss. Margaret Jane; Nakid, Mr. Sahid; Stahelin-Maeglin, Dr. Max; Skoog, Miss. Margit Elizabeth; Kalvik, Mr. Johannes Halvorsen; Colley, Mr. Edward Pomeroy; Mitchell, Mr. Henry Michael; Olsvigen, Mr. Thor Anderson; Lam, Mr. Ali; Barbara, Miss. Saiide; Taylor, Mr. Elmer Zebley; Gillespie, Mr. William Henry; Knight, Mr. Robert J; Ryerson, Miss. Susan Parker \"Suzette\"; Vande Velde, Mr. Johannes Joseph; Barah, Mr. Hanna Assi; Mack, Mrs. (Mary); Long, Mr. Milton Clyde; Sage, Miss. Stella Anna; Carter, Master. William Thornton II; Slemen, Mr. Richard James; Reuchlin, Jonkheer. John George; Saad, Mr. Amin; Serepeca, Miss. Augusta; Boulos, Miss. Nourelain; Swift, Mrs. Frederick Joel (Margaret Welles Barron); Carlsson, Mr. Frans Olof; Dahlberg, Miss. Gerda Ulrika', 4: 'Futrelle, Mrs. Jacques Heath (Lily May Peel); Andersson, Mr. Anders Johan; Sloper, Mr. William Thompson; Wheadon, Mr. Edward H; Laroche, Miss. Simonne Marie Anne Andree; Faunthorpe, Mrs. Lizzie (Elizabeth Anne Wilkinson); Skoog, Master. Harald; Chronopoulos, Mr. Apostolos; Carrau, Mr. Francisco M; Dean, Mr. Bertram Frank; Johansson, Mr. Gustaf Joel; Jussila, Miss. Katriina; Webber, Miss. Susan; Weisz, Mrs. Leopold (Mathilde Francoise Pede); Burke, Mr. Jeremiah; van Billiard, Mr. Austin Blyler; Calic, Mr. Jovo; Sivola, Mr. Antti Wilhelm; Becker, Master. Richard F; Navratil, Master. Michel M; Youseff, Mr. Gerious; Givard, Mr. Hans Kristensen; Nenkoff, Mr. Christo; Asplund, Miss. Lillian Gertrud; Maenpaa, Mr. Matti Alexanteri; Lobb, Mr. William Arthur; Harrison, Mr. William; Natsch, Mr. Charles H; Dorking, Mr. Edward Arthur; Haas, Miss. Aloisia; Keane, Miss. Nora A; Hendekovic, Mr. Ignjac; Caldwell, Mrs. Albert Francis (Sylvia Mae Harbaugh); Vander Planke, Mr. Leo Edmondus; Sedgwick, Mr. Charles Frederick Waddington; Arnold-Franchi, Mr. Josef; Asim, Mr. Adola; Ringhini, Mr. Sante; Holverson, Mrs. Alexander Oskar (Mary Aline Towner); Newell, Miss. Marjorie; Hakkarainen, Mr. Pekka Pietari; Cunningham, Mr. Alfred Fleming; Danbom, Mrs. Ernst Gilbert (Anna Sigrid Maria Brogren); Kallio, Mr. Nikolai Erland; Reynaldo, Ms. Encarnacion; Goldenberg, Mr. Samuel L; Milling, Mr. Jacob Christian; Jerwan, Mrs. Amin S (Marie Marthe Thuillard); Turkula, Mrs. (Hedwig); Artagaveytia, Mr. Ramon; Laitinen, Miss. Kristina Sofia; Rothschild, Mrs. Martin (Elizabeth L. Barrett); Hippach, Mrs. Louis Albert (Ida Sophia Fischer); Peter, Mrs. Catherine (Catherine Rizk); Beane, Mr. Edward; Leeni, Mr. Fahim (\"Philip Zenni\"); Simmons, Mr. John; Kelly, Miss. Mary; Ross, Mr. John Hugo; Bourke, Miss. Mary; Torber, Mr. Ernst William; Horgan, Mr. John; Hansen, Mr. Henry Damsgaard; Parr, Mr. William Henry Marsh; Foo, Mr. Choong; O\\'Leary, Miss. Hanora \"Norah\"; Coleff, Mr. Peju; Wilhelms, Mr. Charles; Goodwin, Mr. Charles Edward; Saad, Mr. Khalil; Gallagher, Mr. Martin; Larsson, Mr. August Viktor; Hodges, Mr. Henry Price; Berriman, Mr. William John; McNamee, Mr. Neal; Jonkoff, Mr. Lalio; Carter, Mrs. William Ernest (Lucile Polk); Elias, Mr. Dibo; Johnston, Mr. Andrew G; Hoyt, Mr. William Fisher; Thomas, Master. Assad Alexander; Andersson, Miss. Ebba Iris Alfrida; Moor, Mrs. (Beila); Augustsson, Mr. Albert; Lemberopolous, Mr. Peter L; Lines, Miss. Mary Conover; Sage, Miss. Dorothy Edith \"Dolly\"; Vander Cruyssen, Mr. Victor; Banfield, Mr. Frederick James', 5: 'Allen, Mr. William Henry; Vestrom, Miss. Hulda Amanda Adolfina; Palsson, Miss. Torborg Danira; Meyer, Mr. Edgar Joseph; Devaney, Miss. Margaret Delia; Ostby, Mr. Engelhart Cornelius; Stewart, Mr. Albert A; Bing, Mr. Lee; Ilett, Miss. Bertha; Coxon, Mr. Daniel; Gustafsson, Mr. Anders Vilhelm; Attalah, Miss. Malake; White, Mr. Percival Wayland; Sobey, Mr. Samuel James Hayden; Andrew, Mr. Edgardo Samuel; Olsen, Mr. Ole Martin; Panula, Master. Eino Viljami; Smith, Mr. James Clinch; Kink-Heilmann, Miss. Luise Gretchen; Brown, Mrs. James Joseph (Margaret Tobin); Cohen, Mr. Gurshon \"Gus\"; Kiernan, Mr. Philip; Hoyt, Mr. Frederick Maxfield; Leyson, Mr. Robert William Norman; Attalah, Mr. Sleiman; Rosblom, Mrs. Viktor (Helena Wilhelmina); Henry, Miss. Delia; Healy, Miss. Hanora \"Nora\"; Smith, Mr. Richard William; Mineff, Mr. Ivan; Williams, Mr. Howard Hugh \"Harry\"; Hart, Mr. Benjamin; Sage, Mr. George John Jr; Frauenthal, Mrs. Henry William (Clara Heinsheimer); Fox, Mr. Stanley Hubert; Yousif, Mr. Wazli; O\\'Brien, Mr. Thomas; Palsson, Miss. Stina Viola; Plotcharsky, Mr. Vasil; Sandstrom, Mrs. Hjalmar (Agnes Charlotta Bengtsson); Oreskovic, Miss. Marija; Sundman, Mr. Johan Julian; Rosblom, Mr. Viktor Richard; Silvey, Mr. William Baird; Johannesen-Bratthammer, Mr. Bernt; Peduzzi, Mr. Joseph; Maisner, Mr. Simon; Strandberg, Miss. Ida Sofia; Bishop, Mr. Dickinson H; Stanley, Mr. Edward Roland; Maioni, Miss. Roberta; Coleff, Mr. Satio; Kassem, Mr. Fared; Cacic, Miss. Marija; Douglas, Mr. Walter Donald; Ohman, Miss. Velin; Meanwell, Miss. (Marion Ogden); Rush, Mr. Alfred George John; Paulner, Mr. Uscher; Chapman, Mr. John Henry; Homer, Mr. Harry (\"Mr E Haven\"); Brocklebank, Mr. William Alfred; Bowen, Mr. David John \"Dai\"; Skoog, Miss. Mabel; Baclini, Miss. Eugenie; Hegarty, Miss. Hanora \"Nora\"; Lindqvist, Mr. Eino William; Watson, Mr. Ennis Hastings; Brown, Mr. Thomas William Solomon; Weir, Col. John; Hansen, Mr. Henrik Juul; Greenberg, Mr. Samuel; Chambers, Mr. Norman Campbell; Troupiansky, Mr. Moses Aaron; Stranden, Mr. Juho; Herman, Mrs. Samuel (Jane Laver); Eklund, Mr. Hans Linus; Hocking, Mrs. Elizabeth (Eliza Needs); Ali, Mr. William; Dantcheff, Mr. Ristiu; Hedman, Mr. Oskar Arvid; Tomlin, Mr. Ernest Portage; Panula, Master. Urho Abraham; Allum, Mr. Owen George; Culumovic, Mr. Jeso; Carter, Mrs. Ernest Courtenay (Lilian Hughes); Gill, Mr. John William; Abelson, Mrs. Samuel (Hannah Wizosky); Sutehall, Mr. Henry Jr', 6: 'Moran, Mr. James; Hewlett, Mrs. (Mary D Kingcome) ; Asplund, Mrs. Carl Oscar (Selma Augusta Emilia Johansson); Holverson, Mr. Alexander Oskar; Rogers, Mr. William John; Woolner, Mr. Hugh; Moubarek, Master. Gerios; Moen, Mr. Sigurd Hansen; Backstrom, Mrs. Karl Alfred (Maria Mathilda Gustafsson); Shorney, Mr. Charles Joseph; Mionoff, Mr. Stoytcho; Pekoniemi, Mr. Edvard; Nicola-Yarred, Master. Elias; Richard, Mr. Emile; Nicholls, Mr. Joseph Charles; Williams, Mr. Charles Duane; Goldsmith, Master. Frank John William \"Frankie\"; Klasen, Mr. Klas Albin; Rood, Mr. Hugh Roscoe; Lurette, Miss. Elise; Strom, Miss. Telma Matilda; Newell, Miss. Madeleine; Berglund, Mr. Karl Ivar Sven; Harknett, Miss. Alice Phoebe; Minahan, Dr. William Edward; Touma, Mrs. Darwis (Hanne Youssef Razi); Reeves, Mr. David; Andrews, Miss. Kornelia Theodosia; Stankovic, Mr. Ivan; Lewy, Mr. Ervin G; Allison, Master. Hudson Trevor; Nilsson, Miss. Helmina Josefina; Young, Miss. Marie Grice; Denkoff, Mr. Mitto; Brown, Miss. Amelia \"Mildred\"; Vanden Steen, Mr. Leo Peter; Adahl, Mr. Mauritz Nils Martin; Meyer, Mrs. Edgar Joseph (Leila Saks); Davies, Mr. Charles Henry; Johansson, Mr. Erik; Gale, Mr. Shadrach; Meek, Mrs. Thomas (Annie Louise Rowley); Wiseman, Mr. Phillippe; Carter, Miss. Lucile Polk; Dodge, Master. Washington; Jalsevac, Mr. Ivan; Goncalves, Mr. Manuel Estanslas; Clifford, Mr. George Quincy; Lefebre, Miss. Jeannie; Yousseff, Mr. Gerious; Penasco y Castellana, Mr. Victor de Satode; Walker, Mr. William Anderson; Farrell, Mr. James; Hart, Miss. Eva Miriam; Nicholson, Mr. Arthur Ernest; Wright, Mr. George; Davies, Mr. Alfred J; Patchett, Mr. George; Taussig, Miss. Ruth; Van Impe, Mr. Jean Baptiste; Lindell, Mr. Edvard Bengtsson; Herman, Miss. Alice; Sutton, Mr. Frederick; Davis, Miss. Mary; Harper, Mr. Henry Sleeper; Hickman, Mr. Leonard Mark; Hickman, Mr. Lewis; Edvardsson, Mr. Gustaf Hjalmar; Laroche, Mr. Joseph Philippe Lemercier; Chapman, Mr. Charles Henry; Morley, Mr. Henry Samuel (\"Mr Henry Marshall\"); Soholt, Mr. Peter Andreas Lauritz Andersen; Oreskovic, Mr. Luka; Williams, Mr. Leslie; Crosby, Capt. Edward Gifford; Hamalainen, Master. Viljo; Hogeboom, Mrs. John C (Anna Andrews); Myhrman, Mr. Pehr Fabian Oliver Malkolm; Harmer, Mr. Abraham (David Lishin); Otter, Mr. Richard; Johansson, Mr. Karl Johan; Fry, Mr. Richard; Flynn, Mr. John; Compton, Miss. Sara Rebecca; Abbing, Mr. Anthony; Aks, Mrs. Sam (Leah Rosen); Bystrom, Mrs. (Karolina); Najib, Miss. Adele Kiamie \"Jane\"; Rice, Mrs. William (Margaret Norton)', 7: 'McCarthy, Mr. Timothy J 54.0; Rice, Master. Eugene 2.0; Emir, Mr. Farred Chehab nan; Mamee, Mr. Hanna nan; Lennon, Mr. Denis nan; Rugg, Miss. Emily 21.0; Nye, Mrs. (Elizabeth Ramell) 29.0; Staneff, Mr. Ivan nan; Ford, Mr. William Neal 16.0; Goldschmidt, Mr. George B 71.0; Salkjelsvik, Miss. Anna Kristine 21.0; Connors, Mr. Patrick 70.5; McMahon, Mr. Martin nan; Newsom, Miss. Helen Monypeny 19.0; Andersson, Mr. August Edvard (\"Wennerstrom\") 27.0; Gilnagh, Miss. Katherine \"Katie\" 16.0; Chibnall, Mrs. (Edith Martha Bowerman) nan; Lefebre, Master. Henry Forbes nan; O\\'Brien, Mrs. Thomas (Johanna \"Hannah\" Godfrey) nan; Mernagh, Mr. Robert nan; Backstrom, Mr. Karl Alfred 32.0; Honkanen, Miss. Eliina 27.0; Mellors, Mr. William John 19.0; Hold, Mr. Stephen 44.0; Lindahl, Miss. Agda Thorilda Viktoria 25.0; Thorne, Mrs. Gertrude Maybelle nan; Panula, Mr. Ernesti Arvid 16.0; Lindblom, Miss. Augusta Charlotta 45.0; de Mulder, Mr. Theodore 30.0; Hanna, Mr. Mansour 23.5; Fleming, Miss. Margaret nan; Kantor, Mrs. Sinai (Miriam Sternin) 24.0; Nysveen, Mr. Johan Hansen 61.0; Pears, Mr. Thomas Clinton 29.0; Smith, Miss. Marion Elsie 40.0; Bowerman, Miss. Elsie Edith 22.0; Warren, Mrs. Frank Manley (Anna Sophia Atkinson) 60.0; Landergren, Miss. Aurora Adelia 22.0; Goodwin, Master. Sidney Leonard 1.0; Olsson, Miss. Elina 31.0; Widegren, Mr. Carl/Charles Peter 51.0; Drew, Mrs. James Vivian (Lulu Thorne Christian) 34.0; Clarke, Mrs. Charles V (Ada Maria Winfield) 28.0; Ford, Miss. Doolina Margaret \"Daisy\" 21.0; Mellinger, Miss. Madeleine Violet 13.0; Millet, Mr. Francis Davis 65.0; Campbell, Mr. William nan; Renouf, Mr. Peter Henry 34.0; Hoyt, Mrs. Frederick Maxfield (Jane Anne Forby) 35.0; Eustis, Miss. Elizabeth Mussey 54.0; Quick, Mrs. Frederick Charles (Jane Richards) 33.0; Lemore, Mrs. (Amelia Milley) 34.0; Ridsdale, Miss. Lucy 50.0; Butt, Major. Archibald Willingham 45.0; Beane, Mrs. Edward (Ethel Clarke) 19.0; Duff Gordon, Lady. (Lucille Christiana Sutherland) (\"Mrs Morgan\") 48.0; Stoytcheff, Mr. Ilia 19.0; Garside, Miss. Ethel 34.0; Jarvis, Mr. John Denzil 47.0; Leitch, Miss. Jessie Wills nan; Karaic, Mr. Milan 30.0; Danbom, Mr. Ernst Gilbert 34.0; Kirkland, Rev. Charles Leonard 57.0; Leinonen, Mr. Antti Gustaf 32.0; Cor, Mr. Liudevit 19.0; Radeff, Mr. Alexander nan; Butler, Mr. Reginald Fenton 25.0; Sawyer, Mr. Frederick Charles 24.5; Panula, Mr. Jaako Arnold 14.0; Kelly, Mr. James 44.0; Kelly, Mrs. Florence \"Fannie\" 45.0; Endres, Miss. Caroline Louise 38.0; Renouf, Mrs. Peter Henry (Lillian Jefferys) 30.0; Ford, Mrs. Edward (Margaret Ann Watson) 48.0; Abbott, Mr. Rossmore Edward 16.0; Carlsson, Mr. August Sigfrid 28.0; Brewe, Dr. Arthur Jackson nan; Tobin, Mr. Roger nan; Sjoblom, Miss. Anna Sofia 18.0; Leader, Dr. Alice (Farnham) 49.0; Andrews, Mr. Thomas Jr 39.0; Heininen, Miss. Wendla Maria 23.0; Lam, Mr. Len nan; Pasic, Mr. Jakob 21.0; Sage, Mr. Douglas Bullen nan; Wick, Mrs. George Dennick (Mary Hitchcock) 45.0; Duran y More, Miss. Asuncion 27.0; Gustafsson, Mr. Alfred Ossian 20.0; Montvila, Rev. Juozas 27.0', 8: 'Palsson, Master. Gosta Leonard; Williams, Mr. Charles Eugene; Fortune, Mr. Charles Alexander; Cann, Mr. Ernest Charles; O\\'Driscoll, Miss. Bridget; Novel, Mr. Mansouer; Crease, Mr. Ernest James; Moutal, Mr. Rahamin Haim; Slocovski, Mr. Selman Francis; Greenfield, Mr. William Bertram; Moss, Mr. Albert Johan; Turpin, Mr. William John Robert; Madsen, Mr. Fridtjof Arne; Futrelle, Mr. Jacques Heath; Ford, Miss. Robina Maggie \"Ruby\"; Corn, Mr. Harry; Skoog, Mrs. William (Anna Bernhardina Karlsson); Isham, Miss. Ann Elizabeth; Romaine, Mr. Charles Hallace (\"Mr C Rolmane\"); Olsen, Mr. Karl Siegwart Andreas; Albimona, Mr. Nassef Cassem; Jacobsohn, Mr. Sidney Samuel; Lovell, Mr. John Hall (\"Henry\"); Collyer, Miss. Marjorie \"Lottie\"; Hamalainen, Mrs. William (Anna); Cherry, Miss. Gladys; Persson, Mr. Ernst Ulrik; Parkes, Mr. Francis \"Frank\"; Naidenoff, Mr. Penko; Allison, Miss. Helen Loraine; Penasco y Castellana, Mrs. Victor de Satode (Maria Josefa Perez de Soto y Vallejo); Moraweck, Dr. Ernest; Ball, Mrs. (Ada E Hall); Burns, Miss. Elizabeth Margaret; Davison, Mrs. Thomas Henry (Mary E Finck); Funk, Miss. Annie Clemmer; Moussa, Mrs. (Mantoura Boulos); Widener, Mr. Harry Elkins; Buss, Miss. Kate; McKane, Mr. Peter David; Richards, Master. William Rowe; Silven, Miss. Lyyli Karoliina; Phillips, Miss. Kate Florence (\"Mrs Kate Louise Phillips Marshall\"); Richards, Mrs. Sidney (Emily Hocking); Seward, Mr. Frederic Kimber; Kenyon, Mrs. Frederick R (Marion); Smart, Mr. John Montgomery; Braund, Mr. Lewis Richard; Kent, Mr. Edward Austin; Shellard, Mr. Frederick William; Bradley, Mr. George (\"George Arthur Brayton\"); Ryan, Mr. Patrick; Farthing, Mr. John; LeRoy, Miss. Bertha; Padro y Manent, Mr. Julian; Robbins, Mr. Victor; Palsson, Mrs. Nils (Alma Cornelia Berglund); Silvey, Mrs. William Baird (Alice Munger); Frolicher-Stehli, Mr. Maxmillian; Johnson, Mr. Alfred; Daniel, Mr. Robert Williams; Lobb, Mrs. William Arthur (Cordelia K Stanlick); Longley, Miss. Gretchen Fiske; Collyer, Mr. Harvey; Simonius-Blumer, Col. Oberst Alfons; Bourke, Mrs. John (Catherine); Rommetvedt, Mr. Knud Paust; Turja, Miss. Anna Sofia; Dakic, Mr. Branko; Mullens, Miss. Katherine \"Katie\"; Calderhead, Mr. Edward Pennington; Troutt, Miss. Edwina Celia \"Winnie\"; Mannion, Miss. Margareth; Lesurer, Mr. Gustave J; Sinkkonen, Miss. Anna; Bailey, Mr. Percy Andrew; Mangan, Miss. Mary; Emanuel, Miss. Virginia Ethel; Rice, Master. George Hugh; Osman, Mrs. Mara; Pettersson, Miss. Ellen Natalia; Mallet, Mr. Albert; Mallet, Master. Andre; Sirota, Mr. Maurice; Markoff, Mr. Marin; Daly, Mr. Peter Denis ; Roebling, Mr. Washington Augustus II; Petroff, Mr. Nedelio; Graham, Miss. Margaret Edith', 9: 'Johnson, Mrs. Oscar W (Elisabeth Vilhelmina Berg); Vander Planke, Mrs. Julius (Emelia Maria Vandemoortele); O\\'Dwyer, Miss. Ellen \"Nellie\"; Vander Planke, Miss. Augusta Maria; Samaan, Mr. Youssef; West, Miss. Constance Mirium; Andersson, Miss. Erna Alexandra; Caldwell, Master. Alden Gates; Fortune, Miss. Mabel Helen; Doling, Mrs. John T (Ada Julia Bone); Rekic, Mr. Tido; Baxter, Mr. Quigg Edmond; Peter, Miss. Anna; Osen, Mr. Olaf Elon; Navratil, Mr. Michel (\"Louis M Hoffman\"); Smiljanic, Mr. Mile; Baumann, Mr. John D; Hale, Mr. Reginald; Bourke, Mr. John; Madigan, Miss. Margaret \"Maggie\"; Carr, Miss. Helen \"Ellen\"; Bazzani, Miss. Albina; Fahlstrom, Mr. Arne Jonas; Pengelly, Mr. Frederick William; Beckwith, Mr. Richard Leonard; Ward, Miss. Anna; Graham, Mrs. William Thompson (Edith Junkins); Rice, Master. Eric; Hosono, Mr. Masabumi; Saalfeld, Mr. Adolphe; Abelson, Mr. Samuel; Wick, Miss. Mary Natalie; Goldsmith, Mrs. Frank John (Emily Alice Brown); Dahl, Mr. Karl Edwart; Coutts, Master. William Loch \"William\"; McGovern, Miss. Mary; Jermyn, Miss. Annie; Betros, Mr. Tannous; Sadlier, Mr. Matthew; Pain, Dr. Alfred; Birkeland, Mr. Hans Martin Monsen; Matthews, Mr. William John; Flynn, Mr. James; Fortune, Mr. Mark; Baclini, Miss. Marie Catherine; Toomey, Miss. Ellen; Scanlan, Mr. James; Karlsson, Mr. Nils August; Somerton, Mr. Francis William; Allison, Mrs. Hudson J C (Bessie Waldo Daniels); Olsen, Mr. Henry Margido; Angle, Mrs. William A (Florence \"Mary\" Agnes Hughes); Salonen, Mr. Johan Werner; Risien, Mr. Samuel Beard; Goldsmith, Mr. Frank John; Taussig, Mrs. Emil (Tillie Mandelbaum); Doharr, Mr. Tannous; Caram, Mrs. Joseph (Maria Elias); Gilinski, Mr. Eliezer; Boulos, Mr. Hanna; Laroche, Mrs. Joseph (Juliette Marie Louise Lafargue); Becker, Miss. Marion Louise; Bostandyeff, Mr. Guentcho; Panula, Mrs. Juha (Maria Emilia Ojala); Willey, Mr. Edward; Eitemiller, Mr. George Floyd; Cook, Mr. Jacob; Goodwin, Mrs. Frederick (Augusta Tyler); Fischer, Mr. Eberhard Thelander; Thayer, Mr. John Borland; Cleaver, Miss. Alice; McEvoy, Mr. Michael; Bryhl, Mr. Kurt Arnold Gottfrid; Ivanoff, Mr. Kanio; Marvin, Mr. Daniel Warner; Theobald, Mr. Thomas Leonard; Moran, Mr. Daniel J; Kilgannon, Mr. Thomas J; Dean, Master. Bertram Vere; Ibrahim Shawah, Mr. Yousseff; Meyer, Mr. August; Holm, Mr. John Fredrik Alexander; McCormack, Mr. Thomas Joseph; Chip, Mr. Chang; Harper, Rev. John; Baclini, Mrs. Solomon (Latifa Qurban); van Melkebeke, Mr. Philemon; Laleff, Mr. Kristo; Johnston, Miss. Catherine Helen \"Carrie\"'}\n"
          ]
        }
      ],
      "source": [
        "print(id_chunk_name_join)"
      ]
    },
    {
      "cell_type": "markdown",
      "metadata": {
        "id": "b_NH0WN4ar26"
      },
      "source": [
        "### University data\n"
      ]
    },
    {
      "cell_type": "markdown",
      "metadata": {
        "id": "ShzIg6QUV_u9"
      },
      "source": [
        "#### Exercise 3.8: Download and load university.data dataset\n",
        "- link: https://archive.ics.uci.edu/ml/machine-learning-databases/university/university.data"
      ]
    },
    {
      "cell_type": "code",
      "execution_count": 72,
      "metadata": {
        "id": "vUAzt1QOV_u9"
      },
      "outputs": [],
      "source": [
        "# write your code here\n",
        "uni_data_df = pd.read_csv('university.data', on_bad_lines='skip', header=None, names=['raw'])"
      ]
    },
    {
      "cell_type": "markdown",
      "metadata": {
        "id": "SpsfedgLV_u_"
      },
      "source": [
        "#### Exercise 3.9: Extract parent objects from the dataset"
      ]
    },
    {
      "cell_type": "code",
      "execution_count": 73,
      "metadata": {
        "id": "jaoefv-kV_u_"
      },
      "outputs": [
        {
          "data": {
            "text/html": [
              "<div>\n",
              "<style scoped>\n",
              "    .dataframe tbody tr th:only-of-type {\n",
              "        vertical-align: middle;\n",
              "    }\n",
              "\n",
              "    .dataframe tbody tr th {\n",
              "        vertical-align: top;\n",
              "    }\n",
              "\n",
              "    .dataframe thead th {\n",
              "        text-align: right;\n",
              "    }\n",
              "</style>\n",
              "<table border=\"1\" class=\"dataframe\">\n",
              "  <thead>\n",
              "    <tr style=\"text-align: right;\">\n",
              "      <th></th>\n",
              "      <th>raw</th>\n",
              "      <th>parent_object_raw</th>\n",
              "    </tr>\n",
              "  </thead>\n",
              "  <tbody>\n",
              "    <tr>\n",
              "      <th>0</th>\n",
              "      <td>(def-instance Adelphi</td>\n",
              "      <td>(def-instance Adelphi</td>\n",
              "    </tr>\n",
              "    <tr>\n",
              "      <th>1</th>\n",
              "      <td>(state newyork)</td>\n",
              "      <td>(def-instance Adelphi</td>\n",
              "    </tr>\n",
              "    <tr>\n",
              "      <th>2</th>\n",
              "      <td>(control private)</td>\n",
              "      <td>(def-instance Adelphi</td>\n",
              "    </tr>\n",
              "    <tr>\n",
              "      <th>3</th>\n",
              "      <td>(no-of-students thous:5-10)</td>\n",
              "      <td>(def-instance Adelphi</td>\n",
              "    </tr>\n",
              "    <tr>\n",
              "      <th>4</th>\n",
              "      <td>(male:female ratio:30:70)</td>\n",
              "      <td>(def-instance Adelphi</td>\n",
              "    </tr>\n",
              "    <tr>\n",
              "      <th>5</th>\n",
              "      <td>(student:faculty ratio:15:1)</td>\n",
              "      <td>(def-instance Adelphi</td>\n",
              "    </tr>\n",
              "    <tr>\n",
              "      <th>6</th>\n",
              "      <td>(sat verbal 500)</td>\n",
              "      <td>(def-instance Adelphi</td>\n",
              "    </tr>\n",
              "    <tr>\n",
              "      <th>7</th>\n",
              "      <td>(sat math 475)</td>\n",
              "      <td>(def-instance Adelphi</td>\n",
              "    </tr>\n",
              "    <tr>\n",
              "      <th>8</th>\n",
              "      <td>(expenses thous$:7-10)</td>\n",
              "      <td>(def-instance Adelphi</td>\n",
              "    </tr>\n",
              "    <tr>\n",
              "      <th>9</th>\n",
              "      <td>(percent-financial-aid 60)</td>\n",
              "      <td>(def-instance Adelphi</td>\n",
              "    </tr>\n",
              "    <tr>\n",
              "      <th>10</th>\n",
              "      <td>(no-applicants thous:4-7)</td>\n",
              "      <td>(def-instance Adelphi</td>\n",
              "    </tr>\n",
              "    <tr>\n",
              "      <th>11</th>\n",
              "      <td>(percent-admittance 70)</td>\n",
              "      <td>(def-instance Adelphi</td>\n",
              "    </tr>\n",
              "    <tr>\n",
              "      <th>12</th>\n",
              "      <td>(percent-enrolled 40)</td>\n",
              "      <td>(def-instance Adelphi</td>\n",
              "    </tr>\n",
              "    <tr>\n",
              "      <th>13</th>\n",
              "      <td>(academics scale:1-5 2)</td>\n",
              "      <td>(def-instance Adelphi</td>\n",
              "    </tr>\n",
              "    <tr>\n",
              "      <th>14</th>\n",
              "      <td>(social scale:1-5 2)</td>\n",
              "      <td>(def-instance Adelphi</td>\n",
              "    </tr>\n",
              "    <tr>\n",
              "      <th>15</th>\n",
              "      <td>(quality-of-life scale:1-5 2)</td>\n",
              "      <td>(def-instance Adelphi</td>\n",
              "    </tr>\n",
              "    <tr>\n",
              "      <th>16</th>\n",
              "      <td>(academic-emphasis business-administration)</td>\n",
              "      <td>(def-instance Adelphi</td>\n",
              "    </tr>\n",
              "    <tr>\n",
              "      <th>17</th>\n",
              "      <td>(academic-emphasis biology))</td>\n",
              "      <td>(def-instance Adelphi</td>\n",
              "    </tr>\n",
              "    <tr>\n",
              "      <th>18</th>\n",
              "      <td>(def-instance Arizona-State</td>\n",
              "      <td>(def-instance Arizona-State</td>\n",
              "    </tr>\n",
              "    <tr>\n",
              "      <th>19</th>\n",
              "      <td>(state arizona)</td>\n",
              "      <td>(def-instance Arizona-State</td>\n",
              "    </tr>\n",
              "  </tbody>\n",
              "</table>\n",
              "</div>"
            ],
            "text/plain": [
              "                                               raw  \\\n",
              "0                            (def-instance Adelphi   \n",
              "1                                  (state newyork)   \n",
              "2                                (control private)   \n",
              "3                      (no-of-students thous:5-10)   \n",
              "4                        (male:female ratio:30:70)   \n",
              "5                     (student:faculty ratio:15:1)   \n",
              "6                                 (sat verbal 500)   \n",
              "7                                   (sat math 475)   \n",
              "8                           (expenses thous$:7-10)   \n",
              "9                       (percent-financial-aid 60)   \n",
              "10                       (no-applicants thous:4-7)   \n",
              "11                         (percent-admittance 70)   \n",
              "12                           (percent-enrolled 40)   \n",
              "13                         (academics scale:1-5 2)   \n",
              "14                            (social scale:1-5 2)   \n",
              "15                   (quality-of-life scale:1-5 2)   \n",
              "16     (academic-emphasis business-administration)   \n",
              "17                    (academic-emphasis biology))   \n",
              "18                     (def-instance Arizona-State   \n",
              "19                                 (state arizona)   \n",
              "\n",
              "              parent_object_raw  \n",
              "0         (def-instance Adelphi  \n",
              "1         (def-instance Adelphi  \n",
              "2         (def-instance Adelphi  \n",
              "3         (def-instance Adelphi  \n",
              "4         (def-instance Adelphi  \n",
              "5         (def-instance Adelphi  \n",
              "6         (def-instance Adelphi  \n",
              "7         (def-instance Adelphi  \n",
              "8         (def-instance Adelphi  \n",
              "9         (def-instance Adelphi  \n",
              "10        (def-instance Adelphi  \n",
              "11        (def-instance Adelphi  \n",
              "12        (def-instance Adelphi  \n",
              "13        (def-instance Adelphi  \n",
              "14        (def-instance Adelphi  \n",
              "15        (def-instance Adelphi  \n",
              "16        (def-instance Adelphi  \n",
              "17        (def-instance Adelphi  \n",
              "18  (def-instance Arizona-State  \n",
              "19  (def-instance Arizona-State  "
            ]
          },
          "execution_count": 73,
          "metadata": {},
          "output_type": "execute_result"
        }
      ],
      "source": [
        "# write your code here\n",
        "last_object = None\n",
        "def get_last_object(x):\n",
        "  global last_object\n",
        "  if not x.endswith(\")\"):\n",
        "    last_object = x\n",
        "  return last_object\n",
        "\n",
        "uni_data_df[\"parent_object_raw\"] = uni_data_df[\"raw\"].apply(get_last_object)\n",
        "uni_data_df.head(20)"
      ]
    },
    {
      "cell_type": "markdown",
      "metadata": {
        "id": "9Np1hwLYV_vA"
      },
      "source": [
        "#### Exercise 3.10: Extract lisp data from it\n"
      ]
    },
    {
      "cell_type": "markdown",
      "metadata": {
        "id": "M78h4IyDLkf5"
      },
      "source": [
        "it should look like this:\n",
        "![image.png](data:image/png;base64,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)"
      ]
    },
    {
      "cell_type": "code",
      "execution_count": 74,
      "metadata": {
        "id": "at4-CDJQV_vA"
      },
      "outputs": [
        {
          "data": {
            "text/html": [
              "<div>\n",
              "<style scoped>\n",
              "    .dataframe tbody tr th:only-of-type {\n",
              "        vertical-align: middle;\n",
              "    }\n",
              "\n",
              "    .dataframe tbody tr th {\n",
              "        vertical-align: top;\n",
              "    }\n",
              "\n",
              "    .dataframe thead th {\n",
              "        text-align: right;\n",
              "    }\n",
              "</style>\n",
              "<table border=\"1\" class=\"dataframe\">\n",
              "  <thead>\n",
              "    <tr style=\"text-align: right;\">\n",
              "      <th></th>\n",
              "      <th>raw</th>\n",
              "      <th>parent_object_raw</th>\n",
              "      <th>lisp_A</th>\n",
              "      <th>lisp_B</th>\n",
              "    </tr>\n",
              "  </thead>\n",
              "  <tbody>\n",
              "    <tr>\n",
              "      <th>0</th>\n",
              "      <td>(def-instance Adelphi</td>\n",
              "      <td>(def-instance Adelphi</td>\n",
              "      <td>def-instance</td>\n",
              "      <td>Adelphi</td>\n",
              "    </tr>\n",
              "    <tr>\n",
              "      <th>1</th>\n",
              "      <td>(state newyork)</td>\n",
              "      <td>(def-instance Adelphi</td>\n",
              "      <td>state</td>\n",
              "      <td>newyork</td>\n",
              "    </tr>\n",
              "    <tr>\n",
              "      <th>2</th>\n",
              "      <td>(control private)</td>\n",
              "      <td>(def-instance Adelphi</td>\n",
              "      <td>control</td>\n",
              "      <td>private</td>\n",
              "    </tr>\n",
              "    <tr>\n",
              "      <th>3</th>\n",
              "      <td>(no-of-students thous:5-10)</td>\n",
              "      <td>(def-instance Adelphi</td>\n",
              "      <td>no-of-students</td>\n",
              "      <td>thous:5-10</td>\n",
              "    </tr>\n",
              "    <tr>\n",
              "      <th>4</th>\n",
              "      <td>(male:female ratio:30:70)</td>\n",
              "      <td>(def-instance Adelphi</td>\n",
              "      <td>male:female</td>\n",
              "      <td>ratio:30:70</td>\n",
              "    </tr>\n",
              "    <tr>\n",
              "      <th>5</th>\n",
              "      <td>(student:faculty ratio:15:1)</td>\n",
              "      <td>(def-instance Adelphi</td>\n",
              "      <td>student:faculty</td>\n",
              "      <td>ratio:15:1</td>\n",
              "    </tr>\n",
              "    <tr>\n",
              "      <th>6</th>\n",
              "      <td>(sat verbal 500)</td>\n",
              "      <td>(def-instance Adelphi</td>\n",
              "      <td>sat</td>\n",
              "      <td>verbal 500</td>\n",
              "    </tr>\n",
              "    <tr>\n",
              "      <th>7</th>\n",
              "      <td>(sat math 475)</td>\n",
              "      <td>(def-instance Adelphi</td>\n",
              "      <td>sat</td>\n",
              "      <td>math 475</td>\n",
              "    </tr>\n",
              "    <tr>\n",
              "      <th>8</th>\n",
              "      <td>(expenses thous$:7-10)</td>\n",
              "      <td>(def-instance Adelphi</td>\n",
              "      <td>expenses</td>\n",
              "      <td>thous$:7-10</td>\n",
              "    </tr>\n",
              "    <tr>\n",
              "      <th>9</th>\n",
              "      <td>(percent-financial-aid 60)</td>\n",
              "      <td>(def-instance Adelphi</td>\n",
              "      <td>percent-financial-aid</td>\n",
              "      <td>60</td>\n",
              "    </tr>\n",
              "    <tr>\n",
              "      <th>10</th>\n",
              "      <td>(no-applicants thous:4-7)</td>\n",
              "      <td>(def-instance Adelphi</td>\n",
              "      <td>no-applicants</td>\n",
              "      <td>thous:4-7</td>\n",
              "    </tr>\n",
              "    <tr>\n",
              "      <th>11</th>\n",
              "      <td>(percent-admittance 70)</td>\n",
              "      <td>(def-instance Adelphi</td>\n",
              "      <td>percent-admittance</td>\n",
              "      <td>70</td>\n",
              "    </tr>\n",
              "    <tr>\n",
              "      <th>12</th>\n",
              "      <td>(percent-enrolled 40)</td>\n",
              "      <td>(def-instance Adelphi</td>\n",
              "      <td>percent-enrolled</td>\n",
              "      <td>40</td>\n",
              "    </tr>\n",
              "    <tr>\n",
              "      <th>13</th>\n",
              "      <td>(academics scale:1-5 2)</td>\n",
              "      <td>(def-instance Adelphi</td>\n",
              "      <td>academics</td>\n",
              "      <td>scale:1-5 2</td>\n",
              "    </tr>\n",
              "    <tr>\n",
              "      <th>14</th>\n",
              "      <td>(social scale:1-5 2)</td>\n",
              "      <td>(def-instance Adelphi</td>\n",
              "      <td>social</td>\n",
              "      <td>scale:1-5 2</td>\n",
              "    </tr>\n",
              "    <tr>\n",
              "      <th>15</th>\n",
              "      <td>(quality-of-life scale:1-5 2)</td>\n",
              "      <td>(def-instance Adelphi</td>\n",
              "      <td>quality-of-life</td>\n",
              "      <td>scale:1-5 2</td>\n",
              "    </tr>\n",
              "    <tr>\n",
              "      <th>16</th>\n",
              "      <td>(academic-emphasis business-administration)</td>\n",
              "      <td>(def-instance Adelphi</td>\n",
              "      <td>academic-emphasis</td>\n",
              "      <td>business-administration</td>\n",
              "    </tr>\n",
              "    <tr>\n",
              "      <th>17</th>\n",
              "      <td>(academic-emphasis biology))</td>\n",
              "      <td>(def-instance Adelphi</td>\n",
              "      <td>academic-emphasis</td>\n",
              "      <td>biology</td>\n",
              "    </tr>\n",
              "    <tr>\n",
              "      <th>18</th>\n",
              "      <td>(def-instance Arizona-State</td>\n",
              "      <td>(def-instance Arizona-State</td>\n",
              "      <td>def-instance</td>\n",
              "      <td>Arizona-State</td>\n",
              "    </tr>\n",
              "    <tr>\n",
              "      <th>19</th>\n",
              "      <td>(state arizona)</td>\n",
              "      <td>(def-instance Arizona-State</td>\n",
              "      <td>state</td>\n",
              "      <td>arizona</td>\n",
              "    </tr>\n",
              "  </tbody>\n",
              "</table>\n",
              "</div>"
            ],
            "text/plain": [
              "                                               raw  \\\n",
              "0                            (def-instance Adelphi   \n",
              "1                                  (state newyork)   \n",
              "2                                (control private)   \n",
              "3                      (no-of-students thous:5-10)   \n",
              "4                        (male:female ratio:30:70)   \n",
              "5                     (student:faculty ratio:15:1)   \n",
              "6                                 (sat verbal 500)   \n",
              "7                                   (sat math 475)   \n",
              "8                           (expenses thous$:7-10)   \n",
              "9                       (percent-financial-aid 60)   \n",
              "10                       (no-applicants thous:4-7)   \n",
              "11                         (percent-admittance 70)   \n",
              "12                           (percent-enrolled 40)   \n",
              "13                         (academics scale:1-5 2)   \n",
              "14                            (social scale:1-5 2)   \n",
              "15                   (quality-of-life scale:1-5 2)   \n",
              "16     (academic-emphasis business-administration)   \n",
              "17                    (academic-emphasis biology))   \n",
              "18                     (def-instance Arizona-State   \n",
              "19                                 (state arizona)   \n",
              "\n",
              "              parent_object_raw                 lisp_A  \\\n",
              "0         (def-instance Adelphi           def-instance   \n",
              "1         (def-instance Adelphi                  state   \n",
              "2         (def-instance Adelphi                control   \n",
              "3         (def-instance Adelphi         no-of-students   \n",
              "4         (def-instance Adelphi            male:female   \n",
              "5         (def-instance Adelphi        student:faculty   \n",
              "6         (def-instance Adelphi                    sat   \n",
              "7         (def-instance Adelphi                    sat   \n",
              "8         (def-instance Adelphi               expenses   \n",
              "9         (def-instance Adelphi  percent-financial-aid   \n",
              "10        (def-instance Adelphi          no-applicants   \n",
              "11        (def-instance Adelphi     percent-admittance   \n",
              "12        (def-instance Adelphi       percent-enrolled   \n",
              "13        (def-instance Adelphi              academics   \n",
              "14        (def-instance Adelphi                 social   \n",
              "15        (def-instance Adelphi        quality-of-life   \n",
              "16        (def-instance Adelphi      academic-emphasis   \n",
              "17        (def-instance Adelphi      academic-emphasis   \n",
              "18  (def-instance Arizona-State           def-instance   \n",
              "19  (def-instance Arizona-State                  state   \n",
              "\n",
              "                     lisp_B  \n",
              "0                   Adelphi  \n",
              "1                   newyork  \n",
              "2                   private  \n",
              "3                thous:5-10  \n",
              "4               ratio:30:70  \n",
              "5                ratio:15:1  \n",
              "6                verbal 500  \n",
              "7                  math 475  \n",
              "8               thous$:7-10  \n",
              "9                        60  \n",
              "10                thous:4-7  \n",
              "11                       70  \n",
              "12                       40  \n",
              "13              scale:1-5 2  \n",
              "14              scale:1-5 2  \n",
              "15              scale:1-5 2  \n",
              "16  business-administration  \n",
              "17                  biology  \n",
              "18            Arizona-State  \n",
              "19                  arizona  "
            ]
          },
          "execution_count": 74,
          "metadata": {},
          "output_type": "execute_result"
        }
      ],
      "source": [
        "# write your code here\n",
        "def getA(x):\n",
        "  return x.strip().split(\" \")[0].replace('(', '')\n",
        "\n",
        "def getB(x):\n",
        "  return \" \".join(x.strip().split(' ')[1:]).replace(')', '')\n",
        "\n",
        "uni_data_df['lisp_A'] = uni_data_df['raw'].apply(getA)\n",
        "uni_data_df['lisp_B'] = uni_data_df['raw'].apply(getB)\n",
        "uni_data_df.head(20)"
      ]
    },
    {
      "cell_type": "markdown",
      "metadata": {
        "id": "Ese-z-BLV_vB"
      },
      "source": [
        "#### Exercise 3.11: Extract subdatasets for the universities"
      ]
    },
    {
      "cell_type": "code",
      "execution_count": 75,
      "metadata": {
        "id": "UNGTeb4UV_vB"
      },
      "outputs": [],
      "source": [
        "# write your code here\n",
        "subdatasets = {}\n",
        "for parent_uni_def in uni_data_df.query(\"lisp_A == 'def-instance'\")['parent_object_raw'].unique():\n",
        "  subdatasets[parent_uni_def] = uni_data_df.query(f\"parent_object_raw == '{parent_uni_def}'\")"
      ]
    },
    {
      "cell_type": "code",
      "execution_count": 85,
      "metadata": {},
      "outputs": [
        {
          "name": "stdout",
          "output_type": "stream",
          "text": [
            "dict_keys(['(def-instance Adelphi', '(def-instance Arizona-State', '(def-instance Boston-College', '(def-instance Boston-University', '(def-instance Brown', '(def-instance Cal-Tech', '(def-instance Carnegie-Mellon', '(def-instance Case-Western', '(def-instance CCNY', '(def-instance Colgate', '(def-instance Columbia', '(def-instance Cooper-Union', '(def-instance Cornell', '(def-instance Dartmouth', '(def-instance Florida-Tech', '(def-instance Florida-state', '(def-instance Georgia-Tech', '(def-instance Harvard', '(def-instance Hofstra', '(def-instance Illinois-Tech', '(def-instance Johns-Hopkins', '(def-instance MIT', '(def-instance University-of-Montana', '(def-instance Morgan-state', '(def-instance New-Jersey-Tech', '(def-instance NYU', '(def-instance Pratt', '(def-instance Princeton', '(def-instance Rensselaer', '(def-instance Rochester-Tech', '(def-instance Stanford', '(def-instance Stevens', '(def-instance Temple', '(def-instance Texas-A&M', '(def-instance University-of-California-Berkely', '(def-instance University-of-California-Davis', '(def-instance UCLA', '(def-instance University-of-California-San-Diego', '(def-instance University-of-California-Santa-Cruz', '(def-instance University-of-Maine', '(def-instance University-of-Oklahoma', '(def-instance University-of-Penn', '(def-instance University-of-San-Francisco', '(def-instance USC', '(def-instance Worcester', '(def-instance Yale'])\n",
            "                   lisp_A                   lisp_B\n",
            "0            def-instance                  Adelphi\n",
            "1                   state                  newyork\n",
            "2                 control                  private\n",
            "3          no-of-students               thous:5-10\n",
            "4             male:female              ratio:30:70\n",
            "5         student:faculty               ratio:15:1\n",
            "6                     sat               verbal 500\n",
            "7                     sat                 math 475\n",
            "8                expenses              thous$:7-10\n",
            "9   percent-financial-aid                       60\n",
            "10          no-applicants                thous:4-7\n",
            "11     percent-admittance                       70\n",
            "12       percent-enrolled                       40\n",
            "13              academics              scale:1-5 2\n",
            "14                 social              scale:1-5 2\n",
            "15        quality-of-life              scale:1-5 2\n",
            "16      academic-emphasis  business-administration\n",
            "17      academic-emphasis                  biology\n"
          ]
        }
      ],
      "source": [
        "print(subdatasets.keys())\n",
        "print(subdatasets['(def-instance Adelphi'][['lisp_A', 'lisp_B']])"
      ]
    },
    {
      "cell_type": "markdown",
      "metadata": {
        "id": "q3qmmS-KV_vB"
      },
      "source": [
        "#### Exercise 3.12*: Merge dataset for all universities"
      ]
    },
    {
      "cell_type": "code",
      "execution_count": 87,
      "metadata": {
        "id": "1PrgWD8lV_vB"
      },
      "outputs": [
        {
          "name": "stdout",
          "output_type": "stream",
          "text": [
            "Empty DataFrame\n",
            "Columns: [def-instance, state, control, no-of-students, male:female, student:faculty, sat, expenses, percent-financial-aid, no-applicants, percent-admittance, percent-enrolled, academics, social, quality-of-life, academic-emphasis, location, DEF-INSTANCE, STATE, LOCATION, CONTROL, NO-OF-STUDENTS, MALE:FEMALE, STUDENT:FACULTY, %, EXPENSES, PERCENT-FINANCIAL-AID, NO-APPLICANTS, PERCENT-ADMITTANCE, PERCENT-ENROLLED, ACADEMICS, SOCIAL, QUALITY-OF-LIFE, ACADEMIC-EMPHASIS, ), DEFPROP, SAT, COLORS, -------, From, Received:, 88, 1.2/Ultrix2.0-B), Message-Id:, Date:, From:, To:, Subject:, Resent-Date:, Resent-From:, Resent-To:, Resent-Message-Id:, Status:, Message, souders%meridian@ADS.ARPA:, ------------, In-Reply-To:, Message-ID:, MASCOT, SETQ, GEORGETOWN, UNIVERSITY-OF-ROCHESTER, BRANDEIS, SUNY-ALBANY, UNIVERSITY-OF-MASSACHUSETTS-AMHERST, POLYTECHNIC-INSTITUTE-OF-NEWYORK, SUNY-STONEWYORK-BROOK, BRYN-MAWR, UNIVERSITY-OF-TULSA0, RELIGIOUS-BACKING, ===================================================, dfx, tlet, cond, msg, t, push, :=, tfor, when, \"must, consp, \"name, and, \"role, save, make:feature, instance)))), set-if, dex, not, run-instance, ~, nil), stop)))]\n",
            "Index: []\n",
            "\n",
            "[0 rows x 95 columns]\n"
          ]
        }
      ],
      "source": [
        "cumulative_bringed = pd.DataFrame(columns = uni_data_df['lisp_A'].unique())\n",
        "# write your code here\n",
        "print(cumulative_bringed)"
      ]
    },
    {
      "cell_type": "markdown",
      "metadata": {
        "id": "QRPkVN8WO4vY"
      },
      "source": [
        "## Pokemon"
      ]
    },
    {
      "cell_type": "markdown",
      "metadata": {
        "id": "DcAvmvSiedjr"
      },
      "source": [
        "#### Read pokemon_m dataset"
      ]
    },
    {
      "cell_type": "code",
      "execution_count": 89,
      "metadata": {},
      "outputs": [],
      "source": [
        "pokemon_df = pd.read_csv(\"Pokemon_m.csv\")"
      ]
    },
    {
      "cell_type": "markdown",
      "metadata": {
        "id": "dtoQge43fQS0"
      },
      "source": [
        "#### Exercise 3.13: Visualize pairwise distributions for all pairs of numeric parameters"
      ]
    },
    {
      "cell_type": "code",
      "execution_count": 92,
      "metadata": {
        "id": "E-mriGIQPAFb"
      },
      "outputs": [
        {
          "data": {
            "image/png": "[encoded data removed]",
            "text/plain": [
              "<Figure size 1500x1500 with 42 Axes>"
            ]
          },
          "metadata": {},
          "output_type": "display_data"
        }
      ],
      "source": [
        "# write your code here\n",
        "import seaborn as sns\n",
        "plot = sns.pairplot(pokemon_df[['HP', 'Attack', 'Defense', 'Sp_Atk', 'Sp_Def', 'Speed']])"
      ]
    },
    {
      "cell_type": "markdown",
      "metadata": {
        "id": "wuFfy8nhfnts"
      },
      "source": [
        "#### Exercise 3.14: Output results of visualization to .png"
      ]
    },
    {
      "cell_type": "code",
      "execution_count": 95,
      "metadata": {
        "id": "WIbI7bYjPFZ0"
      },
      "outputs": [],
      "source": [
        "# write your code here\n",
        "plot.savefig(\"pokemon_pairplot.png\")"
      ]
    },
    {
      "cell_type": "markdown",
      "metadata": {
        "id": "XZRCETgOgP5_"
      },
      "source": [
        "#### Exercise 3.15: For all pairs of features compute histograms, distributions and pairwise scatter, output it to set of files with names of pairs of column names"
      ]
    },
    {
      "cell_type": "code",
      "execution_count": 129,
      "metadata": {},
      "outputs": [
        {
          "name": "stdout",
          "output_type": "stream",
          "text": [
            "HP Attack\n",
            "HP Defense\n",
            "HP Sp_Atk\n",
            "HP Sp_Def\n",
            "HP Speed\n",
            "Attack Defense\n",
            "Attack Sp_Atk\n",
            "Attack Sp_Def\n",
            "Attack Speed\n",
            "Defense Sp_Atk\n",
            "Defense Sp_Def\n",
            "Defense Speed\n",
            "Sp_Atk Sp_Def\n",
            "Sp_Atk Speed\n",
            "Sp_Def Speed\n"
          ]
        },
        {
          "data": {
            "text/plain": [
              "<Figure size 640x480 with 0 Axes>"
            ]
          },
          "metadata": {},
          "output_type": "display_data"
        },
        {
          "data": {
            "text/plain": [
              "<Figure size 594.625x500 with 0 Axes>"
            ]
          },
          "metadata": {},
          "output_type": "display_data"
        },
        {
          "data": {
            "text/plain": [
              "<Figure size 607.125x500 with 0 Axes>"
            ]
          },
          "metadata": {},
          "output_type": "display_data"
        },
        {
          "data": {
            "text/plain": [
              "<Figure size 597.5x500 with 0 Axes>"
            ]
          },
          "metadata": {},
          "output_type": "display_data"
        },
        {
          "data": {
            "text/plain": [
              "<Figure size 598.875x500 with 0 Axes>"
            ]
          },
          "metadata": {},
          "output_type": "display_data"
        },
        {
          "data": {
            "text/plain": [
              "<Figure size 593.5x500 with 0 Axes>"
            ]
          },
          "metadata": {},
          "output_type": "display_data"
        },
        {
          "data": {
            "text/plain": [
              "<Figure size 607.125x500 with 0 Axes>"
            ]
          },
          "metadata": {},
          "output_type": "display_data"
        },
        {
          "data": {
            "text/plain": [
              "<Figure size 597.5x500 with 0 Axes>"
            ]
          },
          "metadata": {},
          "output_type": "display_data"
        },
        {
          "data": {
            "text/plain": [
              "<Figure size 598.875x500 with 0 Axes>"
            ]
          },
          "metadata": {},
          "output_type": "display_data"
        },
        {
          "data": {
            "text/plain": [
              "<Figure size 594.625x500 with 0 Axes>"
            ]
          },
          "metadata": {},
          "output_type": "display_data"
        },
        {
          "data": {
            "text/plain": [
              "<Figure size 607.125x500 with 0 Axes>"
            ]
          },
          "metadata": {},
          "output_type": "display_data"
        },
        {
          "data": {
            "text/plain": [
              "<Figure size 607.125x500 with 0 Axes>"
            ]
          },
          "metadata": {},
          "output_type": "display_data"
        },
        {
          "data": {
            "text/plain": [
              "<Figure size 607.125x500 with 0 Axes>"
            ]
          },
          "metadata": {},
          "output_type": "display_data"
        },
        {
          "data": {
            "text/plain": [
              "<Figure size 598.875x500 with 0 Axes>"
            ]
          },
          "metadata": {},
          "output_type": "display_data"
        },
        {
          "data": {
            "text/plain": [
              "<Figure size 597.5x500 with 0 Axes>"
            ]
          },
          "metadata": {},
          "output_type": "display_data"
        },
        {
          "data": {
            "text/plain": [
              "<Figure size 598.875x500 with 0 Axes>"
            ]
          },
          "metadata": {},
          "output_type": "display_data"
        }
      ],
      "source": [
        "features = ['HP', 'Attack', 'Defense', 'Sp_Atk', 'Sp_Def', 'Speed']\n",
        "\n",
        "for i, feature_1 in enumerate(features):\n",
        "  for feature_2 in features[i+1:]:\n",
        "    print(feature_1, feature_2)\n",
        "    # Scatter plot\n",
        "    plot = sns.scatterplot(data=pokemon_df, x=feature_1, y=feature_2)\n",
        "    plot.figure.savefig(f\"plots/pokemon_scatter_{feature_1}_{feature_2}.png\")\n",
        "    plot.figure.clf()\n",
        "    # Histogram\n",
        "    plot = sns.displot(data=pokemon_df[[feature_1, feature_2]])\n",
        "    plot.figure.savefig(f\"plots/pokemon_hist_{feature_1}_{feature_2}.png\")\n",
        "    plot.figure.clf()\n",
        "    # Distribution plot\n",
        "    plot = sns.kdeplot(data=pokemon_df, x=feature_1, label=feature_1)\n",
        "    sns.kdeplot(data=pokemon_df, x=feature_2, ax=plot, label=feature_2)\n",
        "    plot.legend()\n",
        "    plot.figure.savefig(f\"plots/pokemon_density_{feature_1}_{feature_2}.png\")\n",
        "    plot.figure.clf()"
      ]
    },
    {
      "cell_type": "markdown",
      "metadata": {
        "id": "26L7hvW4QTWI"
      },
      "source": [
        "#### Excercise 3.16: Draw  two subplots for Attack and Sp_Def in matplotlib and sns"
      ]
    },
    {
      "cell_type": "code",
      "execution_count": null,
      "metadata": {
        "id": "SvrE0yO1PFvw"
      },
      "outputs": [],
      "source": [
        "# write your code here\n",
        "    "
      ]
    },
    {
      "cell_type": "markdown",
      "metadata": {
        "id": "art3n3FRQmyb"
      },
      "source": [
        "#### Excercise 3.17*: Draw two subplots with customized size of plots, shared \"y\" axes and grid for Attack and Sp_Def in matplotlib and sns. Write down all names: axes, title, legend. For every Type_2 use a unique color."
      ]
    },
    {
      "cell_type": "code",
      "execution_count": null,
      "metadata": {
        "id": "m9UmSBZsQmyr"
      },
      "outputs": [],
      "source": [
        "# write your code here\n"
      ]
    },
    {
      "cell_type": "markdown",
      "metadata": {
        "id": "Vn1Q7at9Rj_X"
      },
      "source": [
        "## Iris"
      ]
    },
    {
      "cell_type": "markdown",
      "metadata": {
        "id": "Awgyhj7Mflyl"
      },
      "source": [
        "#### Exercise 3.18: Import iris datasets from sklearn"
      ]
    },
    {
      "cell_type": "code",
      "execution_count": null,
      "metadata": {
        "id": "E1fVhknAflym"
      },
      "outputs": [],
      "source": [
        "# write your code here\n"
      ]
    },
    {
      "cell_type": "markdown",
      "metadata": {
        "id": "i8ddHsR-SB1H"
      },
      "source": [
        "#### Exersice 3.19:\n",
        "- get data and target\n",
        "- check types\n",
        "- concatenate iris data and target\n",
        "- print target names and description of the dataset"
      ]
    },
    {
      "cell_type": "code",
      "execution_count": null,
      "metadata": {
        "id": "D5XlIE8MSpHV"
      },
      "outputs": [],
      "source": [
        "# write your code here\n"
      ]
    },
    {
      "cell_type": "markdown",
      "metadata": {
        "id": "NEB6oSpWSssb"
      },
      "source": [
        "#### Exersice 3.20: Create a DataFrame and name colums how they are named in the dataset"
      ]
    },
    {
      "cell_type": "code",
      "execution_count": null,
      "metadata": {
        "id": "tckZ9DeqSrmt"
      },
      "outputs": [],
      "source": [
        "# write your code here\n"
      ]
    },
    {
      "cell_type": "markdown",
      "metadata": {
        "id": "YEjUsCR-TF7i"
      },
      "source": [
        "#### Exersice 3.21:  Do classification using linear regression\n",
        "- split data to train/test\n",
        "- create Pipeline\n",
        "- do prediction\n",
        "- compare with answers\n"
      ]
    },
    {
      "cell_type": "code",
      "execution_count": null,
      "metadata": {
        "id": "A3e_y5CUUyzY"
      },
      "outputs": [],
      "source": [
        "# write your code here\n"
      ]
    },
    {
      "cell_type": "markdown",
      "metadata": {
        "id": "78L1C8WnU6fl"
      },
      "source": [
        "#### Exersice 3.22*:  Do classification using KNN\n",
        "- split data to train/test\n",
        "- create Pipeline\n",
        "- do prediction (find what you can classify in the dataset)\n",
        "- use [metrics](https://scikit-learn.org/stable/modules/model_evaluation.html) to check your result\n",
        "- try to make a better prediction"
      ]
    },
    {
      "cell_type": "code",
      "execution_count": null,
      "metadata": {
        "id": "bEEMVGHnU6f4"
      },
      "outputs": [],
      "source": [
        "# write your code here\n"
      ]
    },
    {
      "cell_type": "markdown",
      "metadata": {
        "id": "pdDHBrdUYZC2"
      },
      "source": [
        "## Jupyter magic commands"
      ]
    },
    {
      "cell_type": "markdown",
      "metadata": {
        "id": "Caz_QfifYZC2"
      },
      "source": [
        "#### Execrcise 4.1: Measure time requered for the following operaton"
      ]
    },
    {
      "cell_type": "code",
      "execution_count": 160,
      "metadata": {
        "id": "4HXF-zdjYZC5"
      },
      "outputs": [
        {
          "name": "stdout",
          "output_type": "stream",
          "text": [
            "CPU times: user 1.13 ms, sys: 1.72 ms, total: 2.84 ms\n",
            "Wall time: 1.54 ms\n"
          ]
        }
      ],
      "source": [
        "%%time\n",
        "\n",
        "dir_array = []\n",
        "dir_list = os.listdir(\"../\")\n",
        "for filename in dir_list:\n",
        "    if os.path.isdir( os.path.join(\"..\", filename) ):\n",
        "        dir_array.append(filename)"
      ]
    },
    {
      "cell_type": "markdown",
      "metadata": {
        "id": "RBVKzTjGYZC7"
      },
      "source": [
        "#### Execrcise 4.2: Measure average time requered for the following operaton"
      ]
    },
    {
      "cell_type": "code",
      "execution_count": 161,
      "metadata": {
        "id": "TmCbLadQYZC8"
      },
      "outputs": [
        {
          "name": "stdout",
          "output_type": "stream",
          "text": [
            "195 µs ± 42.2 µs per loop (mean ± std. dev. of 7 runs, 1,000 loops each)\n"
          ]
        }
      ],
      "source": [
        "%%timeit\n",
        "\n",
        "dir_array = []\n",
        "dir_list = os.listdir(\"../\")\n",
        "for filename in dir_list:\n",
        "    if os.path.isdir( os.path.join(\"..\", filename) ):\n",
        "        dir_array.append(filename)\n"
      ]
    },
    {
      "cell_type": "markdown",
      "metadata": {
        "id": "ytfrTPj_YZC_"
      },
      "source": [
        "#### Exercise 4.3: Extract array of system pathes from environment variable PATH"
      ]
    },
    {
      "cell_type": "code",
      "execution_count": 132,
      "metadata": {
        "id": "8WJAHYcUYZC_"
      },
      "outputs": [
        {
          "data": {
            "text/plain": [
              "['/Users/fortune/code/personal/DS/M4/.venv/bin',\n",
              " '/Users/fortune/.nvm/versions/node/v16.13.2/bin',\n",
              " '/usr/local/bin',\n",
              " '/System/Cryptexes/App/usr/bin',\n",
              " '/usr/bin',\n",
              " '/bin',\n",
              " '/usr/sbin',\n",
              " '/sbin',\n",
              " '/var/run/com.apple.security.cryptexd/codex.system/bootstrap/usr/local/bin',\n",
              " '/var/run/com.apple.security.cryptexd/codex.system/bootstrap/usr/bin',\n",
              " '/var/run/com.apple.security.cryptexd/codex.system/bootstrap/usr/appleinternal/bin']"
            ]
          },
          "execution_count": 132,
          "metadata": {},
          "output_type": "execute_result"
        }
      ],
      "source": [
        "# write your code here\n",
        "PATH_string = !echo $PATH\n",
        "\n",
        "PATH_string[0].split(\":\")"
      ]
    },
    {
      "cell_type": "markdown",
      "metadata": {
        "id": "Bklk-kH8YZDD"
      },
      "source": [
        "#### Exercise 4.4: Put your canvas login to environment variable MY_CANVAS_ID"
      ]
    },
    {
      "cell_type": "code",
      "execution_count": 141,
      "metadata": {
        "id": "zi0cI06QYZDD"
      },
      "outputs": [
        {
          "name": "stdout",
          "output_type": "stream",
          "text": [
            "env: MY_CANVAS_ID=12345678\n",
            "12345678\n"
          ]
        }
      ],
      "source": [
        "# write your code here\n",
        "%env MY_CANVAS_ID=12345678\n",
        "!echo $MY_CANVAS_ID"
      ]
    },
    {
      "cell_type": "markdown",
      "metadata": {
        "id": "jESxaK0eYZDX"
      },
      "source": [
        "#### Exercise 4.5: Create file imports.py with writefile"
      ]
    },
    {
      "cell_type": "code",
      "execution_count": 145,
      "metadata": {
        "id": "DlRm1ojyYZDX"
      },
      "outputs": [
        {
          "name": "stdout",
          "output_type": "stream",
          "text": [
            "Writing imports.py\n"
          ]
        }
      ],
      "source": [
        "%%writefile imports.py\n",
        "\n",
        "import os\n",
        "import pandas as pd\n",
        "import numpy as np"
      ]
    },
    {
      "cell_type": "markdown",
      "metadata": {
        "id": "5LO-g-WFYZDe"
      },
      "source": [
        "#### Exercise 4.6: Apend a line to file imports.py"
      ]
    },
    {
      "cell_type": "code",
      "execution_count": 146,
      "metadata": {
        "id": "kMsRZMD9TRmg"
      },
      "outputs": [
        {
          "name": "stdout",
          "output_type": "stream",
          "text": [
            "Appending to imports.py\n"
          ]
        }
      ],
      "source": [
        "%%writefile -a imports.py\n",
        "import sklearn"
      ]
    },
    {
      "cell_type": "markdown",
      "metadata": {
        "id": "YUx5W9exYZDh"
      },
      "source": [
        "#### Exercise 4.7: Load saved file imports.py to notebook cell"
      ]
    },
    {
      "cell_type": "code",
      "execution_count": 149,
      "metadata": {
        "id": "gWu0eDqpTdop"
      },
      "outputs": [],
      "source": [
        "# %load imports.py\n",
        "\n",
        "import os\n",
        "import pandas as pd\n",
        "import numpy as np\n",
        "import sklearn\n"
      ]
    },
    {
      "cell_type": "markdown",
      "metadata": {
        "id": "GUuKLM_vYZDk"
      },
      "source": [
        "#### Exercise 4.8: Run saved file imports.py without loading it"
      ]
    },
    {
      "cell_type": "code",
      "execution_count": 151,
      "metadata": {
        "id": "BuRHwz9tYZDl"
      },
      "outputs": [],
      "source": [
        "%run imports.py"
      ]
    },
    {
      "cell_type": "markdown",
      "metadata": {
        "id": "SOXL4NSD0rt9"
      },
      "source": [
        "#### Exercise 4.9*: What is the difference between load and run magic command?"
      ]
    },
    {
      "cell_type": "code",
      "execution_count": null,
      "metadata": {
        "id": "rtkZWssYTrqd"
      },
      "outputs": [],
      "source": [
        "# write your explanation here\n",
        "# load reads a file's contents and ouputs it into the cell without running it\n",
        "# meanwhile run executes the file within the context of the notebook"
      ]
    },
    {
      "cell_type": "markdown",
      "metadata": {
        "id": "KlcouHeqYZDn"
      },
      "source": [
        "## HTML and JavaScript"
      ]
    },
    {
      "cell_type": "markdown",
      "metadata": {
        "id": "xjq5ifxAYZDn"
      },
      "source": [
        "#### Exercise 5.1: Modify following HTML execution by adding html table"
      ]
    },
    {
      "cell_type": "code",
      "execution_count": 166,
      "metadata": {
        "id": "IQSxF_hzYZDo",
        "scrolled": true
      },
      "outputs": [
        {
          "data": {
            "text/html": [
              "<b> Hello world!</b>\n",
              "<br>\n",
              "<a href='http://www.yandex.ru' target=\"_tab\"> <font color='red'>Y</font><font color='black'>andex.ru</font></a>\n",
              "# write your code here\n",
              "<table>\n",
              "    <tbody>\n",
              "        <tr>\n",
              "            <th>Word 1</th>\n",
              "            <th>Word 2</th>\n",
              "        </tr>\n",
              "        <tr>\n",
              "            <td>Hello</td>\n",
              "            <td>Bye</td>\n",
              "        </tr>\n",
              "        <tr>\n",
              "            <td>Peas</td>\n",
              "            <td>Chicken</td>\n",
              "        </tr>\n",
              "    </tbody>\n",
              "</table>\n"
            ],
            "text/plain": [
              "<IPython.core.display.HTML object>"
            ]
          },
          "metadata": {},
          "output_type": "display_data"
        }
      ],
      "source": [
        "%%HTML\n",
        "<b> Hello world!</b>\n",
        "<br>\n",
        "<a href='http://www.yandex.ru' target=\"_tab\"> <font color='red'>Y</font><font color='black'>andex.ru</font></a>\n",
        "# write your code here\n",
        "<table>\n",
        "    <tbody>\n",
        "        <tr>\n",
        "            <th>Word 1</th>\n",
        "            <th>Word 2</th>\n",
        "        </tr>\n",
        "        <tr>\n",
        "            <td>Hello</td>\n",
        "            <td>Bye</td>\n",
        "        </tr>\n",
        "        <tr>\n",
        "            <td>Peas</td>\n",
        "            <td>Chicken</td>\n",
        "        </tr>\n",
        "    </tbody>\n",
        "</table>\n"
      ]
    },
    {
      "cell_type": "markdown",
      "metadata": {
        "id": "d0AEC-SsYZDr"
      },
      "source": [
        "#### Exercise 5.2: Add several iframes to the following HTML code"
      ]
    },
    {
      "cell_type": "code",
      "execution_count": 170,
      "metadata": {
        "id": "MIT2p03GYZDs",
        "scrolled": true
      },
      "outputs": [
        {
          "data": {
            "text/html": [
              "\n",
              "<iframe width=\"560\" height=\"315\" src=\"https://www.youtube.com/embed/zLRifWZihag\" title=\"YouTube video player\" frameborder=\"0\" allow=\"accelerometer; autoplay; clipboard-write; encrypted-media; gyroscope; picture-in-picture\" allowfullscreen></iframe>\n",
              "# write your code here\n",
              "<iframe src=\"https://www.google.com\" name=\"iframe_a\" height=\"300px\" width=\"100%\" title=\"Iframe Example\"></iframe>\n"
            ],
            "text/plain": [
              "<IPython.core.display.HTML object>"
            ]
          },
          "metadata": {},
          "output_type": "display_data"
        }
      ],
      "source": [
        "%%HTML\n",
        "\n",
        "<iframe width=\"560\" height=\"315\" src=\"https://www.youtube.com/embed/zLRifWZihag\" title=\"YouTube video player\" frameborder=\"0\" allow=\"accelerometer; autoplay; clipboard-write; encrypted-media; gyroscope; picture-in-picture\" allowfullscreen></iframe>\n",
        "# write your code here\n",
        "<iframe width=\"560\" height=\"315\" src=\"https://www.youtube.com/embed/zLRifWZihag\" title=\"YouTube video player\" frameborder=\"0\" allow=\"accelerometer; autoplay; clipboard-write; encrypted-media; gyroscope; picture-in-picture\" allowfullscreen></iframe>\n",
        "<iframe width=\"560\" height=\"315\" src=\"https://www.youtube.com/embed/zLRifWZihag\" title=\"YouTube video player\" frameborder=\"0\" allow=\"accelerometer; autoplay; clipboard-write; encrypted-media; gyroscope; picture-in-picture\" allowfullscreen></iframe>\n",
        "<iframe width=\"560\" height=\"315\" src=\"https://www.youtube.com/embed/zLRifWZihag\" title=\"YouTube video player\" frameborder=\"0\" allow=\"accelerometer; autoplay; clipboard-write; encrypted-media; gyroscope; picture-in-picture\" allowfullscreen></iframe>\n"
      ]
    },
    {
      "cell_type": "markdown",
      "metadata": {
        "id": "wCobAo3iYZDy"
      },
      "source": [
        "## Markdowns"
      ]
    },
    {
      "cell_type": "markdown",
      "metadata": {
        "id": "ppD_kgJnYZDy"
      },
      "source": [
        "#### Exercise 6.1: Add image through markdown syntax"
      ]
    },
    {
      "cell_type": "markdown",
      "metadata": {},
      "source": [
        "![Image Description](https://picsum.photos/200/300)\n"
      ]
    },
    {
      "cell_type": "markdown",
      "metadata": {
        "id": "kCEoAGZqYZD0"
      },
      "source": [
        "#### Exercise 6.2: Add table 2x3 through markdown syntax"
      ]
    },
    {
      "cell_type": "markdown",
      "metadata": {
        "id": "TfdsXypEYZD1"
      },
      "source": [
        "| Pokemon  | Owner    | Legenedary |\n",
        "|----------|----------|------------|\n",
        "| Gyarados | None     | No         |\n",
        "| Pikachu  | Ash      | No         |"
      ]
    },
    {
      "cell_type": "markdown",
      "metadata": {
        "id": "sDxb49J6YZD1"
      },
      "source": [
        "#### Exercise 6.3: Write a mean() formula usying TeX"
      ]
    },
    {
      "cell_type": "markdown",
      "metadata": {
        "id": "xFcEYf5xYZD2"
      },
      "source": [
        "The formula for the mean is:\n",
        "\n",
        "$$ \\bar{X} = \\frac{1}{n} \\sum_{i=1}^{n} x_i $$\n",
        "\n",
        "where:\n",
        "- $\\bar{X}$ is the sample mean,\n",
        "- $n$ is the size of the sample, and\n",
        "- $x_i$ are the sample observations."
      ]
    },
    {
      "cell_type": "markdown",
      "metadata": {
        "id": "kViv9pFEYZEC"
      },
      "source": [
        "## Debugging"
      ]
    },
    {
      "cell_type": "markdown",
      "metadata": {
        "id": "n7hvMkHDYZEC"
      },
      "source": [
        "#### Exercise 7.1 switch debug mode on"
      ]
    },
    {
      "cell_type": "code",
      "execution_count": 175,
      "metadata": {
        "id": "sMJiJAiQYZEC"
      },
      "outputs": [
        {
          "name": "stdout",
          "output_type": "stream",
          "text": [
            "> \u001b[0;32m/var/folders/zg/95x_7ysx1vx7x6tt_gpw6dp00000gn/T/ipykernel_15574/3767890205.py\u001b[0m(5)\u001b[0;36mprocess_i\u001b[0;34m()\u001b[0m\n",
            "\u001b[0;32m      3 \u001b[0;31m\u001b[0;32mdef\u001b[0m \u001b[0mprocess_i\u001b[0m\u001b[0;34m(\u001b[0m\u001b[0mi\u001b[0m\u001b[0;34m)\u001b[0m\u001b[0;34m:\u001b[0m\u001b[0;34m\u001b[0m\u001b[0;34m\u001b[0m\u001b[0m\n",
            "\u001b[0m\u001b[0;32m      4 \u001b[0;31m    \u001b[0mj\u001b[0m \u001b[0;34m=\u001b[0m \u001b[0mi\u001b[0m\u001b[0;34m*\u001b[0m\u001b[0mi\u001b[0m\u001b[0;34m\u001b[0m\u001b[0;34m\u001b[0m\u001b[0m\n",
            "\u001b[0m\u001b[0;32m----> 5 \u001b[0;31m    \u001b[0;32massert\u001b[0m \u001b[0mi\u001b[0m\u001b[0;34m<\u001b[0m\u001b[0;36m50\u001b[0m\u001b[0;34m\u001b[0m\u001b[0;34m\u001b[0m\u001b[0m\n",
            "\u001b[0m\u001b[0;32m      6 \u001b[0;31m    \u001b[0;32mreturn\u001b[0m \u001b[0mj\u001b[0m\u001b[0;34m\u001b[0m\u001b[0;34m\u001b[0m\u001b[0m\n",
            "\u001b[0m\u001b[0;32m      7 \u001b[0;31m\u001b[0;34m\u001b[0m\u001b[0m\n",
            "\u001b[0m\n",
            "\u001b[1;32m      1 \u001b[0m\u001b[0mcumulative_array\u001b[0m \u001b[0;34m=\u001b[0m \u001b[0;34m[\u001b[0m\u001b[0;34m]\u001b[0m\u001b[0;34m\u001b[0m\u001b[0;34m\u001b[0m\u001b[0m\n",
            "\u001b[1;32m      2 \u001b[0m\u001b[0;34m\u001b[0m\u001b[0m\n",
            "\u001b[1;32m      3 \u001b[0m\u001b[0;32mdef\u001b[0m \u001b[0mprocess_i\u001b[0m\u001b[0;34m(\u001b[0m\u001b[0mi\u001b[0m\u001b[0;34m)\u001b[0m\u001b[0;34m:\u001b[0m\u001b[0;34m\u001b[0m\u001b[0;34m\u001b[0m\u001b[0m\n",
            "\u001b[1;32m      4 \u001b[0m    \u001b[0mj\u001b[0m \u001b[0;34m=\u001b[0m \u001b[0mi\u001b[0m\u001b[0;34m*\u001b[0m\u001b[0mi\u001b[0m\u001b[0;34m\u001b[0m\u001b[0;34m\u001b[0m\u001b[0m\n",
            "\n",
            "*** Newest frame\n",
            "> \u001b[0;32m/var/folders/zg/95x_7ysx1vx7x6tt_gpw6dp00000gn/T/ipykernel_15574/3767890205.py\u001b[0m(9)\u001b[0;36m<module>\u001b[0;34m()\u001b[0m\n",
            "\u001b[0;32m      5 \u001b[0;31m    \u001b[0;32massert\u001b[0m \u001b[0mi\u001b[0m\u001b[0;34m<\u001b[0m\u001b[0;36m50\u001b[0m\u001b[0;34m\u001b[0m\u001b[0;34m\u001b[0m\u001b[0m\n",
            "\u001b[0m\u001b[0;32m      6 \u001b[0;31m    \u001b[0;32mreturn\u001b[0m \u001b[0mj\u001b[0m\u001b[0;34m\u001b[0m\u001b[0;34m\u001b[0m\u001b[0m\n",
            "\u001b[0m\u001b[0;32m      7 \u001b[0;31m\u001b[0;34m\u001b[0m\u001b[0m\n",
            "\u001b[0m\u001b[0;32m      8 \u001b[0;31m\u001b[0;32mfor\u001b[0m \u001b[0mi\u001b[0m \u001b[0;32min\u001b[0m \u001b[0mrange\u001b[0m\u001b[0;34m(\u001b[0m\u001b[0;36m100\u001b[0m\u001b[0;34m)\u001b[0m\u001b[0;34m:\u001b[0m\u001b[0;34m\u001b[0m\u001b[0;34m\u001b[0m\u001b[0m\n",
            "\u001b[0m\u001b[0;32m----> 9 \u001b[0;31m    \u001b[0mcumulative_array\u001b[0m\u001b[0;34m.\u001b[0m\u001b[0mappend\u001b[0m\u001b[0;34m(\u001b[0m\u001b[0mprocess_i\u001b[0m\u001b[0;34m(\u001b[0m\u001b[0mi\u001b[0m\u001b[0;34m)\u001b[0m\u001b[0;34m)\u001b[0m\u001b[0;34m\u001b[0m\u001b[0;34m\u001b[0m\u001b[0m\n",
            "\u001b[0m\n"
          ]
        }
      ],
      "source": [
        "# write your code here\n",
        "%debug"
      ]
    },
    {
      "cell_type": "markdown",
      "metadata": {
        "id": "_6ETDathEJcx"
      },
      "source": [
        "\n",
        "d -- go down 1 level\n",
        "\n",
        "u -- go up 1 level\n",
        "\n",
        "l 17,23 -- list lines 17,23 of current file\n"
      ]
    },
    {
      "cell_type": "markdown",
      "metadata": {
        "id": "ciP3QJSXYZEE"
      },
      "source": [
        "#### Exercise 7.2 debug the following code and write listing to the following cell"
      ]
    },
    {
      "cell_type": "code",
      "execution_count": 174,
      "metadata": {
        "id": "knSlbSMQYZEE"
      },
      "outputs": [
        {
          "ename": "AssertionError",
          "evalue": "",
          "output_type": "error",
          "traceback": [
            "\u001b[0;31m---------------------------------------------------------------------------\u001b[0m",
            "\u001b[0;31mAssertionError\u001b[0m                            Traceback (most recent call last)",
            "\u001b[1;32m/Users/fortune/code/personal/DS/M4/Fortune_BigHomeWork1.ipynb Cell 107\u001b[0m line \u001b[0;36m9\n\u001b[1;32m      <a href='vscode-notebook-cell:/Users/fortune/code/personal/DS/M4/Fortune_BigHomeWork1.ipynb#Y203sZmlsZQ%3D%3D?line=5'>6</a>\u001b[0m     \u001b[39mreturn\u001b[39;00m j\n\u001b[1;32m      <a href='vscode-notebook-cell:/Users/fortune/code/personal/DS/M4/Fortune_BigHomeWork1.ipynb#Y203sZmlsZQ%3D%3D?line=7'>8</a>\u001b[0m \u001b[39mfor\u001b[39;00m i \u001b[39min\u001b[39;00m \u001b[39mrange\u001b[39m(\u001b[39m100\u001b[39m):\n\u001b[0;32m----> <a href='vscode-notebook-cell:/Users/fortune/code/personal/DS/M4/Fortune_BigHomeWork1.ipynb#Y203sZmlsZQ%3D%3D?line=8'>9</a>\u001b[0m     cumulative_array\u001b[39m.\u001b[39mappend(process_i(i))\n",
            "\u001b[1;32m/Users/fortune/code/personal/DS/M4/Fortune_BigHomeWork1.ipynb Cell 107\u001b[0m line \u001b[0;36m5\n\u001b[1;32m      <a href='vscode-notebook-cell:/Users/fortune/code/personal/DS/M4/Fortune_BigHomeWork1.ipynb#Y203sZmlsZQ%3D%3D?line=2'>3</a>\u001b[0m \u001b[39mdef\u001b[39;00m \u001b[39mprocess_i\u001b[39m(i):\n\u001b[1;32m      <a href='vscode-notebook-cell:/Users/fortune/code/personal/DS/M4/Fortune_BigHomeWork1.ipynb#Y203sZmlsZQ%3D%3D?line=3'>4</a>\u001b[0m     j \u001b[39m=\u001b[39m i\u001b[39m*\u001b[39mi\n\u001b[0;32m----> <a href='vscode-notebook-cell:/Users/fortune/code/personal/DS/M4/Fortune_BigHomeWork1.ipynb#Y203sZmlsZQ%3D%3D?line=4'>5</a>\u001b[0m     \u001b[39massert\u001b[39;00m i\u001b[39m<\u001b[39m\u001b[39m50\u001b[39m\n\u001b[1;32m      <a href='vscode-notebook-cell:/Users/fortune/code/personal/DS/M4/Fortune_BigHomeWork1.ipynb#Y203sZmlsZQ%3D%3D?line=5'>6</a>\u001b[0m     \u001b[39mreturn\u001b[39;00m j\n",
            "\u001b[0;31mAssertionError\u001b[0m: "
          ]
        }
      ],
      "source": [
        "cumulative_array = []\n",
        "\n",
        "def process_i(i):\n",
        "    j = i*i\n",
        "    assert i<50\n",
        "    return j\n",
        "\n",
        "for i in range(100):\n",
        "    cumulative_array.append(process_i(i))\n"
      ]
    },
    {
      "cell_type": "code",
      "execution_count": 173,
      "metadata": {
        "id": "74NUYzI3YZEG"
      },
      "outputs": [],
      "source": [
        "#write output here\n",
        "cumulative_array = []\n",
        "\n",
        "def process_i(i):\n",
        "    j = i*i\n",
        "    assert i<50\n",
        "    return j\n",
        "\n",
        "for i in range(7):\n",
        "    cumulative_array.append(process_i(i))\n"
      ]
    },
    {
      "cell_type": "markdown",
      "metadata": {
        "id": "8HDBQEAkOUAU"
      },
      "source": [
        "## Working with images"
      ]
    },
    {
      "cell_type": "markdown",
      "metadata": {
        "id": "Um5B-AhxNVq4"
      },
      "source": [
        "#### Exercise 8.1: Open an apple.png picture and show it"
      ]
    },
    {
      "cell_type": "code",
      "execution_count": 162,
      "metadata": {
        "id": "WWk7CqVOOnZu"
      },
      "outputs": [],
      "source": [
        "# write your code here\n",
        "from PIL import Image\n",
        "\n",
        "apple = Image.open(\"apple.png\")\n",
        "apple.show()"
      ]
    },
    {
      "cell_type": "markdown",
      "metadata": {
        "id": "xjoSPPlmccne"
      },
      "source": [
        "#### Exercise 8.2* Draw the segmentation map for apple"
      ]
    },
    {
      "cell_type": "code",
      "execution_count": null,
      "metadata": {
        "id": "2yYD55ZIOnB-"
      },
      "outputs": [],
      "source": [
        "# write your code here\n"
      ]
    },
    {
      "cell_type": "markdown",
      "metadata": {
        "id": "ZcOgwwOLcaoD"
      },
      "source": [
        "#### Exercise 8.3*: Create a simple detector of apple image seminar using numpy, that outputs most probable coordinates of apple on the image. Try using only native to numpy methods."
      ]
    },
    {
      "cell_type": "code",
      "execution_count": null,
      "metadata": {
        "id": "v4ZrRBRXOguo"
      },
      "outputs": [],
      "source": [
        "# write your code here\n"
      ]
    },
    {
      "cell_type": "markdown",
      "metadata": {
        "id": "jsnXY2dSV6sn"
      },
      "source": [
        "## Numpy operations"
      ]
    },
    {
      "cell_type": "markdown",
      "metadata": {
        "id": "0h-N7TJqV8uf"
      },
      "source": [
        "####  Exercise 9.1: Create a 3D array of shape (4, 5, 6) with random integers. Extract all elements at odd indices along each axis and reshape the resulting array into a 1D array."
      ]
    },
    {
      "cell_type": "code",
      "execution_count": 27,
      "metadata": {},
      "outputs": [],
      "source": [
        "import numpy as np"
      ]
    },
    {
      "cell_type": "code",
      "execution_count": 28,
      "metadata": {
        "id": "SpRPPpn8WqQw"
      },
      "outputs": [
        {
          "name": "stdout",
          "output_type": "stream",
          "text": [
            "[[[2 4 9 4 5 5]\n",
            "  [9 2 4 2 8 2]\n",
            "  [6 1 3 3 2 4]\n",
            "  [5 9 3 9 3 9]\n",
            "  [2 8 8 9 1 9]]\n",
            "\n",
            " [[4 5 1 7 7 1]\n",
            "  [4 2 3 4 7 6]\n",
            "  [7 3 5 2 7 1]\n",
            "  [9 3 6 6 8 1]\n",
            "  [1 1 6 1 4 3]]\n",
            "\n",
            " [[6 7 6 1 2 1]\n",
            "  [1 2 9 6 8 1]\n",
            "  [5 5 5 2 6 1]\n",
            "  [3 1 8 8 1 2]\n",
            "  [3 1 3 1 5 7]]\n",
            "\n",
            " [[3 6 4 5 4 2]\n",
            "  [8 6 9 9 4 5]\n",
            "  [8 1 7 2 9 3]\n",
            "  [5 9 1 5 3 4]\n",
            "  [2 4 8 7 2 1]]]\n"
          ]
        }
      ],
      "source": [
        "array_1 = np.random.randint(1, 10, (4,5,6))\n",
        "print(array_1)"
      ]
    },
    {
      "cell_type": "markdown",
      "metadata": {
        "id": "c6SaGq_CWwY7"
      },
      "source": [
        "\n",
        "#### Exercise 9.2. Write a NumPy program to create a 5x5 array with random values and replace the maximum value with 0.\n"
      ]
    },
    {
      "cell_type": "code",
      "execution_count": 33,
      "metadata": {
        "id": "eijRS_LEW0kK"
      },
      "outputs": [
        {
          "name": "stdout",
          "output_type": "stream",
          "text": [
            "[[ 2 19  6  7  5]\n",
            " [17  2  5  3  5]\n",
            " [11  4 13 10  8]\n",
            " [ 7 15  6 19  3]\n",
            " [ 9 14 14  8  6]]\n",
            "max val 19\n",
            "[[ 2  0  6  7  5]\n",
            " [17  2  5  3  5]\n",
            " [11  4 13 10  8]\n",
            " [ 7 15  6  0  3]\n",
            " [ 9 14 14  8  6]]\n"
          ]
        }
      ],
      "source": [
        "arr_2 = np.random.randint(1, 20, (5, 5))\n",
        "print(arr_2)\n",
        "max_val = arr_2.max()\n",
        "print(\"max val\", max_val)\n",
        "max_rows, max_cols = np.where(arr_2 == max_val)\n",
        "arr_2[max_rows, max_cols] = 0\n",
        "print(arr_2)\n"
      ]
    },
    {
      "cell_type": "markdown",
      "metadata": {
        "id": "K3DCFREPW5Oh"
      },
      "source": [
        "#### Exercise 9.3: Create a 3x3 matrix with values 1, 2, 3 on the diagonal and zeros elsewhere."
      ]
    },
    {
      "cell_type": "code",
      "execution_count": 34,
      "metadata": {
        "id": "Hf62bJmBW8I_"
      },
      "outputs": [
        {
          "name": "stdout",
          "output_type": "stream",
          "text": [
            "[[1 0 0]\n",
            " [0 2 0]\n",
            " [0 0 3]]\n"
          ]
        }
      ],
      "source": [
        "arr_3 = np.diag([1, 2, 3])\n",
        "print(arr_3)"
      ]
    },
    {
      "cell_type": "markdown",
      "metadata": {
        "id": "4BAVFuE6XTyu"
      },
      "source": [
        "#### Exercise 9.4*: Create a 2D array matrix1 of shape (3, 4) and a 1D array array2 of shape (5,). Concatenate them along axis 0 to form a new 2D array. Be mindful of the axis and shape compatibility."
      ]
    },
    {
      "cell_type": "code",
      "execution_count": 40,
      "metadata": {
        "id": "vH7MV9i4XXN7"
      },
      "outputs": [
        {
          "name": "stdout",
          "output_type": "stream",
          "text": [
            "[[5 7 5 8]\n",
            " [1 4 8 9]\n",
            " [1 3 2 8]]\n",
            "[9 5 5 8 3]\n"
          ]
        },
        {
          "ename": "ValueError",
          "evalue": "cannot reshape array of size 5 into shape (4,newaxis,0)",
          "output_type": "error",
          "traceback": [
            "\u001b[0;31m---------------------------------------------------------------------------\u001b[0m",
            "\u001b[0;31mValueError\u001b[0m                                Traceback (most recent call last)",
            "\u001b[1;32m/Users/fortune/code/personal/DS/M4/Fortune_BigHomeWork1.ipynb Cell 121\u001b[0m line \u001b[0;36m5\n\u001b[1;32m      <a href='vscode-notebook-cell:/Users/fortune/code/personal/DS/M4/Fortune_BigHomeWork1.ipynb#Y226sZmlsZQ%3D%3D?line=2'>3</a>\u001b[0m arr_4_1d \u001b[39m=\u001b[39m np\u001b[39m.\u001b[39mrandom\u001b[39m.\u001b[39mrandint(\u001b[39m1\u001b[39m, \u001b[39m10\u001b[39m, (\u001b[39m5\u001b[39m,))\n\u001b[1;32m      <a href='vscode-notebook-cell:/Users/fortune/code/personal/DS/M4/Fortune_BigHomeWork1.ipynb#Y226sZmlsZQ%3D%3D?line=3'>4</a>\u001b[0m \u001b[39mprint\u001b[39m(arr_4_1d)\n\u001b[0;32m----> <a href='vscode-notebook-cell:/Users/fortune/code/personal/DS/M4/Fortune_BigHomeWork1.ipynb#Y226sZmlsZQ%3D%3D?line=4'>5</a>\u001b[0m arr_4_1d_r \u001b[39m=\u001b[39m arr_4_1d\u001b[39m.\u001b[39;49mreshape(\u001b[39m4\u001b[39;49m,\u001b[39m-\u001b[39;49m\u001b[39m1\u001b[39;49m,\u001b[39m0\u001b[39;49m)\n\u001b[1;32m      <a href='vscode-notebook-cell:/Users/fortune/code/personal/DS/M4/Fortune_BigHomeWork1.ipynb#Y226sZmlsZQ%3D%3D?line=5'>6</a>\u001b[0m \u001b[39mprint\u001b[39m(arr_4_1d_r)\n\u001b[1;32m      <a href='vscode-notebook-cell:/Users/fortune/code/personal/DS/M4/Fortune_BigHomeWork1.ipynb#Y226sZmlsZQ%3D%3D?line=6'>7</a>\u001b[0m \u001b[39m# concatenating along the first axis\u001b[39;00m\n",
            "\u001b[0;31mValueError\u001b[0m: cannot reshape array of size 5 into shape (4,newaxis,0)"
          ]
        }
      ],
      "source": [
        "arr_4_2d = np.random.randint(1, 10, (3,4))\n",
        "print(arr_4_2d)\n",
        "arr_4_1d = np.random.randint(1, 10, (5,))\n",
        "print(arr_4_1d)\n",
        "arr_4_1d_r = arr_4_1d.reshape(4,-1)\n",
        "print(arr_4_1d_r)\n",
        "# concatenating along the first axis\n",
        "arr_4 = np.concatenate((arr_4_2d, arr_4_1d_r), axis=0)\n",
        "print(arr_4)\n",
        "\n",
        "# This fails due to incompatible dimensions of the arrays.\n",
        "# To concatenate along axis, the array dimensions have to match"
      ]
    }
  ],
  "metadata": {
    "colab": {
      "collapsed_sections": [
        "KlcouHeqYZDn",
        "wCobAo3iYZDy"
      ],
      "include_colab_link": true,
      "provenance": []
    },
    "kernelspec": {
      "display_name": "Python 3",
      "name": "python3"
    },
    "language_info": {
      "name": "python"
    }
  },
  "nbformat": 4,
  "nbformat_minor": 0
}
