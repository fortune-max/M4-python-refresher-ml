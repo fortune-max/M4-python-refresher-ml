{
  "nbformat": 4,
  "nbformat_minor": 0,
  "metadata": {
    "colab": {
      "provenance": [],
      "include_colab_link": true
    },
    "kernelspec": {
      "name": "python3",
      "display_name": "Python 3"
    },
    "language_info": {
      "name": "python"
    }
  },
  "cells": [
    {
      "cell_type": "markdown",
      "metadata": {
        "id": "view-in-github",
        "colab_type": "text"
      },
      "source": [
        "<a href=\"https://colab.research.google.com/github/fortune-max/M4-python-refresher-ml/blob/main/Day6.ipynb\" target=\"_parent\"><img src=\"https://colab.research.google.com/assets/colab-badge.svg\" alt=\"Open In Colab\"/></a>"
      ]
    },
    {
      "cell_type": "code",
      "execution_count": null,
      "metadata": {
        "id": "FcK7uSUfj63A"
      },
      "outputs": [],
      "source": []
    },
    {
      "cell_type": "code",
      "source": [
        "from google.colab import drive\n",
        "\n",
        "drive.mount('/content/gdrive')\n",
        "\n",
        "!cp gdrive/MyDrive/DS404/Day_6_materials/* .\n",
        "!ls"
      ],
      "metadata": {
        "id": "79ZAMItrJTOr",
        "colab": {
          "base_uri": "https://localhost:8080/"
        },
        "outputId": "d1ab163d-943a-47a5-ff5e-d6c12245eb76"
      },
      "execution_count": null,
      "outputs": [
        {
          "output_type": "stream",
          "name": "stdout",
          "text": [
            "Mounted at /content/gdrive\n",
            "gdrive\tPokemon_m.csv  sample_data\n"
          ]
        }
      ]
    },
    {
      "cell_type": "code",
      "execution_count": null,
      "metadata": {
        "id": "3xv_GOLoKW3N"
      },
      "outputs": [],
      "source": [
        "import pandas as pd"
      ]
    },
    {
      "cell_type": "markdown",
      "metadata": {
        "id": "vMSoCW5uKW3Q"
      },
      "source": [
        "#### Exercise 1: Read pokemon dataset and create HighStagen('Stage' >= 2)"
      ]
    },
    {
      "cell_type": "code",
      "execution_count": null,
      "metadata": {
        "id": "tI1TWLcGKW3R"
      },
      "outputs": [],
      "source": []
    },
    {
      "cell_type": "markdown",
      "metadata": {
        "id": "7x0-xEtTKW3S"
      },
      "source": [
        "#### Exercise 2: Save modified dataset as new_data_pokemon_classification.csv"
      ]
    },
    {
      "cell_type": "code",
      "execution_count": null,
      "metadata": {
        "id": "0G7GZHjlKW3S"
      },
      "outputs": [],
      "source": []
    },
    {
      "cell_type": "markdown",
      "metadata": {
        "id": "bsNAP17eKW3S"
      },
      "source": [
        "#### Exercise 3: Store at new_data_pokemon_classification.191021.exp.1.yaml parameters of train/test splitting:\n",
        "test_size = 0.2,\n",
        "random_state = 2019"
      ]
    },
    {
      "cell_type": "code",
      "execution_count": null,
      "metadata": {
        "id": "K0Gfj-I1KW3T"
      },
      "outputs": [],
      "source": []
    },
    {
      "cell_type": "markdown",
      "metadata": {
        "id": "b7_HpPZnKW3T"
      },
      "source": [
        "#### Exercise 4: Read data from new_data_pokemon_classification.191021.exp.1.yaml"
      ]
    },
    {
      "cell_type": "code",
      "execution_count": null,
      "metadata": {
        "id": "ymiSlZfTKW3U"
      },
      "outputs": [],
      "source": []
    },
    {
      "cell_type": "markdown",
      "metadata": {
        "id": "30IVjoOLKW3U"
      },
      "source": [
        "#### Exercise 5:  Split sample into train and test"
      ]
    },
    {
      "cell_type": "code",
      "execution_count": null,
      "metadata": {
        "id": "j2zpIrxHKW3V"
      },
      "outputs": [],
      "source": [
        "from sklearn import model_selection"
      ]
    },
    {
      "cell_type": "code",
      "execution_count": null,
      "metadata": {
        "id": "O3caS_YYKW3V"
      },
      "outputs": [],
      "source": []
    },
    {
      "cell_type": "code",
      "execution_count": null,
      "metadata": {
        "scrolled": false,
        "id": "n9Uv1YHoKW3V"
      },
      "outputs": [],
      "source": []
    },
    {
      "cell_type": "markdown",
      "metadata": {
        "id": "0YXt_k6yKW3V"
      },
      "source": [
        "#### Exercise 6: perform polynomial feature generation from lection"
      ]
    },
    {
      "cell_type": "code",
      "execution_count": null,
      "metadata": {
        "id": "OpiQp6RqKW3V"
      },
      "outputs": [],
      "source": []
    },
    {
      "cell_type": "code",
      "execution_count": null,
      "metadata": {
        "id": "3Bciih-sKW3W"
      },
      "outputs": [],
      "source": []
    },
    {
      "cell_type": "code",
      "execution_count": null,
      "metadata": {
        "id": "jTNRtBTzKW3W"
      },
      "outputs": [],
      "source": []
    },
    {
      "cell_type": "markdown",
      "metadata": {
        "id": "6xRpZSVEKW3W"
      },
      "source": [
        "#### Exercise 7: Create directory for experiment 1 and make it a package"
      ]
    },
    {
      "cell_type": "code",
      "execution_count": null,
      "metadata": {
        "id": "nSob1r_SKW3W"
      },
      "outputs": [],
      "source": []
    },
    {
      "cell_type": "code",
      "execution_count": null,
      "metadata": {
        "id": "kzx2M8DnKW3W"
      },
      "outputs": [],
      "source": []
    },
    {
      "cell_type": "markdown",
      "metadata": {
        "id": "Q-6AJdHyKW3X"
      },
      "source": [
        "#### Exercise 8: Create module based experiment 1_1 from lection"
      ]
    },
    {
      "cell_type": "code",
      "execution_count": null,
      "metadata": {
        "id": "W8jdDHp0KW3X"
      },
      "outputs": [],
      "source": []
    },
    {
      "cell_type": "markdown",
      "metadata": {
        "id": "Pjfz7Pd9KW3X"
      },
      "source": [
        "#### Exercise 9: Import the exp_1_1"
      ]
    },
    {
      "cell_type": "code",
      "execution_count": null,
      "metadata": {
        "id": "pt5_RodcKW3X"
      },
      "outputs": [],
      "source": []
    },
    {
      "cell_type": "markdown",
      "metadata": {
        "id": "ROHeKRqOKW3X"
      },
      "source": [
        "#### Exercise 10: Use reload function to dynamically update changes in a class"
      ]
    },
    {
      "cell_type": "code",
      "execution_count": null,
      "metadata": {
        "id": "2Q5onqb_KW3X"
      },
      "outputs": [],
      "source": []
    },
    {
      "cell_type": "code",
      "execution_count": null,
      "metadata": {
        "id": "P4yDnmGSKW3Y"
      },
      "outputs": [],
      "source": []
    },
    {
      "cell_type": "markdown",
      "metadata": {
        "id": "s2nqlTGxKW3Y"
      },
      "source": [
        "#### Exercise 11: Modify experiment 1_1"
      ]
    },
    {
      "cell_type": "code",
      "execution_count": null,
      "metadata": {
        "id": "v317lX9LKW3Y"
      },
      "outputs": [],
      "source": []
    },
    {
      "cell_type": "code",
      "source": [],
      "metadata": {
        "id": "GDbk2Ytvy8zJ"
      },
      "execution_count": null,
      "outputs": []
    },
    {
      "cell_type": "code",
      "source": [],
      "metadata": {
        "id": "HPtVZxdPzaMo"
      },
      "execution_count": null,
      "outputs": []
    },
    {
      "cell_type": "code",
      "execution_count": null,
      "metadata": {
        "id": "-npIMVluKW3Y"
      },
      "outputs": [],
      "source": []
    },
    {
      "cell_type": "markdown",
      "metadata": {
        "id": "OwNI5vBHKW3Y"
      },
      "source": [
        "#### Exercise 12: Create and modify classifier via class structure"
      ]
    },
    {
      "cell_type": "code",
      "execution_count": null,
      "metadata": {
        "id": "WcItvwvFKW3Y"
      },
      "outputs": [],
      "source": []
    },
    {
      "cell_type": "markdown",
      "metadata": {
        "id": "2LIwaaSUKW3a"
      },
      "source": [
        "#### Exercise 13: Create and read YAML file"
      ]
    },
    {
      "cell_type": "code",
      "execution_count": null,
      "metadata": {
        "scrolled": true,
        "id": "-ytFNLk6KW3a"
      },
      "outputs": [],
      "source": []
    },
    {
      "cell_type": "markdown",
      "metadata": {
        "id": "k8Dle6L0KW3b"
      },
      "source": [
        "#### Exercise 14: Create modification for parametric experiment"
      ]
    },
    {
      "cell_type": "markdown",
      "metadata": {
        "id": "10gMSxu4KW3b"
      },
      "source": [
        "#### Exercise 15: Compute metrics for exp_1_1 -- exp_1_3 and store them in exp_1/[exp_id].report.yaml metrics"
      ]
    },
    {
      "cell_type": "markdown",
      "metadata": {
        "id": "eQCEjdYdKW3c"
      },
      "source": [
        "#### Exercise 16: Add method to classifiers for predicting probabilities (predict_proba in logistic regression)"
      ]
    },
    {
      "cell_type": "markdown",
      "metadata": {
        "id": "CeHGC5qBKW3c"
      },
      "source": [
        "#### Exercise 17: compute the following metics and update yaml repor files"
      ]
    },
    {
      "cell_type": "code",
      "source": [],
      "metadata": {
        "id": "MHphkKu0AiwG"
      },
      "execution_count": null,
      "outputs": []
    }
  ]
}